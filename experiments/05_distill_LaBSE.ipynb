{
 "cells": [
  {
   "cell_type": "markdown",
   "id": "a4c024bc",
   "metadata": {},
   "source": [
    "Here, we distill LaBSE for the Bashkir language. \n",
    "\n",
    "We completely update the vocabulary (because the original one doesn't contain Bashkir at all), and we make the model much shallower (only 3 layers instead of 12), but we preserve the dimensionality of LaBSE (768), so that it is easier to train the embedding in the same space. The model occupies 169MB on disk; most of this is the embedding layer. \n",
    "\n",
    "There are two training tasks: sentence embeddings (on a parallel corpus with Russian, with LaBSE as a teacher) and MLM (on a larger monolingual corpus). For MLM, multiple sentences are concatenated together into a sequence of 1024 tokens. \n",
    "\n",
    "The model relies on 3 sources of data:\n",
    "* `../data/joint-ba-ru.tsv` - this is used for evaluation only, and can be ignored when reproducing \n",
    "* `AigizK/bashkir-russian-parallel-corpora` - a corpus of parallel bak-rus sentences\n",
    "* `../../bashkort-spellchecker/data/clean_bk_sents.txt` - a corpus of sentences repacked from https://github.com/nevmenandr/bashkir-corpus\n",
    "\n",
    "The model is trained for 100K steps, which takes about 25 hours on a GPU with 4GB of memory. After that, it gets:\n",
    "\n",
    "* ROC AUC of 80%\n",
    "* Recall @ idealistic of 48%\n",
    "\n",
    "When training for 500k steps, it is slightly better:\n",
    "* 0.8128387185291898\n",
    "* recall@ ideal reject rate: 0.5658914728682171 th: 0.3692584551755409\n"
   ]
  },
  {
   "cell_type": "markdown",
   "id": "53e8843c",
   "metadata": {},
   "source": [
    "# Load the data"
   ]
  },
  {
   "cell_type": "code",
   "execution_count": 1,
   "id": "9677ad45",
   "metadata": {},
   "outputs": [],
   "source": [
    "import pandas as pd\n",
    "import numpy as np\n",
    "import torch"
   ]
  },
  {
   "cell_type": "code",
   "execution_count": 30,
   "id": "4225f748",
   "metadata": {},
   "outputs": [],
   "source": [
    "import gc\n",
    "import numpy as np\n",
    "import matplotlib.pyplot as plt\n",
    "\n",
    "def cleanup():\n",
    "    gc.collect()\n",
    "    torch.cuda.empty_cache()\n",
    "    \n",
    "cleanup()"
   ]
  },
  {
   "cell_type": "code",
   "execution_count": 37,
   "id": "52ffa828",
   "metadata": {},
   "outputs": [],
   "source": [
    "from transformers import BertForPreTraining, BertTokenizer, BertTokenizerFast, BertConfig, AutoModel, AutoTokenizer\n",
    "# from transformers import AlbertTokenizerFast, AlbertConfig, AlbertForPreTraining"
   ]
  },
  {
   "cell_type": "code",
   "execution_count": 3,
   "id": "1659a2d0",
   "metadata": {},
   "outputs": [],
   "source": [
    "from tqdm.auto import tqdm, trange\n",
    "import random"
   ]
  },
  {
   "cell_type": "code",
   "execution_count": 4,
   "id": "f4704629",
   "metadata": {},
   "outputs": [],
   "source": [
    "import datasets"
   ]
  },
  {
   "cell_type": "code",
   "execution_count": 7,
   "id": "0241c933",
   "metadata": {},
   "outputs": [
    {
     "data": {
      "text/plain": [
       "(176706, 5)"
      ]
     },
     "execution_count": 7,
     "metadata": {},
     "output_type": "execute_result"
    }
   ],
   "source": [
    "labelled_data = pd.read_csv('../data/joint-ba-ru.tsv', sep='\\t')\n",
    "labelled_data.shape"
   ]
  },
  {
   "cell_type": "code",
   "execution_count": 8,
   "id": "ec153038",
   "metadata": {},
   "outputs": [
    {
     "data": {
      "text/html": [
       "<div>\n",
       "<style scoped>\n",
       "    .dataframe tbody tr th:only-of-type {\n",
       "        vertical-align: middle;\n",
       "    }\n",
       "\n",
       "    .dataframe tbody tr th {\n",
       "        vertical-align: top;\n",
       "    }\n",
       "\n",
       "    .dataframe thead th {\n",
       "        text-align: right;\n",
       "    }\n",
       "</style>\n",
       "<table border=\"1\" class=\"dataframe\">\n",
       "  <thead>\n",
       "    <tr style=\"text-align: right;\">\n",
       "      <th></th>\n",
       "      <th>date</th>\n",
       "      <th>ba</th>\n",
       "      <th>ru</th>\n",
       "      <th>is_correct</th>\n",
       "      <th>data_split</th>\n",
       "    </tr>\n",
       "  </thead>\n",
       "  <tbody>\n",
       "    <tr>\n",
       "      <th>132046</th>\n",
       "      <td>11/02/2023 18:55:47</td>\n",
       "      <td>— Һуң, шулай булмайса.</td>\n",
       "      <td>— Ну, да.</td>\n",
       "      <td>1</td>\n",
       "      <td>dev</td>\n",
       "    </tr>\n",
       "    <tr>\n",
       "      <th>15284</th>\n",
       "      <td>04/10/2021 08:24:29</td>\n",
       "      <td>— Мәсьәлә хәҙер Сабирҙа тора, – тине апа, – ҡы...</td>\n",
       "      <td>— Теперь дело за Сабиром, – сказала апа, – есл...</td>\n",
       "      <td>1</td>\n",
       "      <td>train</td>\n",
       "    </tr>\n",
       "    <tr>\n",
       "      <th>28416</th>\n",
       "      <td>21/10/2021 05:17:19</td>\n",
       "      <td>Бигүк вайымһыҙлыҡҡа бирелмәһә лә, Алдарбайҙа б...</td>\n",
       "      <td>Не предаваясь чересчур беспечности, все же про...</td>\n",
       "      <td>1</td>\n",
       "      <td>train</td>\n",
       "    </tr>\n",
       "  </tbody>\n",
       "</table>\n",
       "</div>"
      ],
      "text/plain": [
       "                       date  \\\n",
       "132046  11/02/2023 18:55:47   \n",
       "15284   04/10/2021 08:24:29   \n",
       "28416   21/10/2021 05:17:19   \n",
       "\n",
       "                                                       ba  \\\n",
       "132046                             — Һуң, шулай булмайса.   \n",
       "15284   — Мәсьәлә хәҙер Сабирҙа тора, – тине апа, – ҡы...   \n",
       "28416   Бигүк вайымһыҙлыҡҡа бирелмәһә лә, Алдарбайҙа б...   \n",
       "\n",
       "                                                       ru  is_correct  \\\n",
       "132046                                          — Ну, да.           1   \n",
       "15284   — Теперь дело за Сабиром, – сказала апа, – есл...           1   \n",
       "28416   Не предаваясь чересчур беспечности, все же про...           1   \n",
       "\n",
       "       data_split  \n",
       "132046        dev  \n",
       "15284       train  \n",
       "28416       train  "
      ]
     },
     "execution_count": 8,
     "metadata": {},
     "output_type": "execute_result"
    }
   ],
   "source": [
    "labelled_data.sample(3)"
   ]
  },
  {
   "cell_type": "code",
   "execution_count": 9,
   "id": "5a86c75c",
   "metadata": {},
   "outputs": [
    {
     "name": "stdout",
     "output_type": "stream",
     "text": [
      "157105\n"
     ]
    }
   ],
   "source": [
    "labelled_sents = set(labelled_data.ba)\n",
    "print(len(labelled_sents))"
   ]
  },
  {
   "cell_type": "code",
   "execution_count": 10,
   "id": "fdeda9f7",
   "metadata": {},
   "outputs": [
    {
     "data": {
      "application/vnd.jupyter.widget-view+json": {
       "model_id": "09811b01343f46e98386030101b56520",
       "version_major": 2,
       "version_minor": 0
      },
      "text/plain": [
       "0it [00:00, ?it/s]"
      ]
     },
     "metadata": {},
     "output_type": "display_data"
    }
   ],
   "source": [
    "all_sents = []\n",
    "with open('../../bashkort-spellchecker/data/clean_bk_sents.txt', 'r') as f:\n",
    "    for line in tqdm(f):\n",
    "        text = line.strip()\n",
    "        if text not in labelled_sents:\n",
    "            all_sents.append(text)"
   ]
  },
  {
   "cell_type": "code",
   "execution_count": 11,
   "id": "3ade336b",
   "metadata": {},
   "outputs": [
    {
     "name": "stderr",
     "output_type": "stream",
     "text": [
      "Using custom data configuration AigizK--bashkir-russian-parallel-corpora-4908f7b0980c2b94\n",
      "Found cached dataset parquet (C:/Users/david/.cache/huggingface/datasets/AigizK___parquet/AigizK--bashkir-russian-parallel-corpora-4908f7b0980c2b94/0.0.0/2a3b91fbd88a2c90d1dbbb32b460cf621d31bd5b05b934492fdef7d8d6f236ec)\n"
     ]
    },
    {
     "data": {
      "application/vnd.jupyter.widget-view+json": {
       "model_id": "717ef3728d52445b9739c542a0e16135",
       "version_major": 2,
       "version_minor": 0
      },
      "text/plain": [
       "  0%|          | 0/1 [00:00<?, ?it/s]"
      ]
     },
     "metadata": {},
     "output_type": "display_data"
    }
   ],
   "source": [
    "larger_parallel = datasets.load_dataset('AigizK/bashkir-russian-parallel-corpora')"
   ]
  },
  {
   "cell_type": "code",
   "execution_count": 12,
   "id": "ade893cb",
   "metadata": {},
   "outputs": [
    {
     "data": {
      "text/plain": [
       "DatasetDict({\n",
       "    train: Dataset({\n",
       "        features: ['ba', 'ru', 'corpus'],\n",
       "        num_rows: 702100\n",
       "    })\n",
       "})"
      ]
     },
     "execution_count": 12,
     "metadata": {},
     "output_type": "execute_result"
    }
   ],
   "source": [
    "larger_parallel"
   ]
  },
  {
   "cell_type": "code",
   "execution_count": 13,
   "id": "6e51c7e7",
   "metadata": {},
   "outputs": [
    {
     "data": {
      "application/vnd.jupyter.widget-view+json": {
       "model_id": "3711b30d6fb448238d85e0e4a1d2e656",
       "version_major": 2,
       "version_minor": 0
      },
      "text/plain": [
       "  0%|          | 0/702100 [00:00<?, ?it/s]"
      ]
     },
     "metadata": {},
     "output_type": "display_data"
    },
    {
     "name": "stdout",
     "output_type": "stream",
     "text": [
      "2182945\n"
     ]
    }
   ],
   "source": [
    "for text in tqdm(larger_parallel['train']['ba']):\n",
    "    if text not in labelled_sents:\n",
    "        all_sents.append(text)\n",
    "print(len(all_sents))"
   ]
  },
  {
   "cell_type": "code",
   "execution_count": 33,
   "id": "369d463f",
   "metadata": {},
   "outputs": [
    {
     "data": {
      "application/vnd.jupyter.widget-view+json": {
       "model_id": "1246fd67b3c04ea9ad88dd8aa58fd17b",
       "version_major": 2,
       "version_minor": 0
      },
      "text/plain": [
       "  0%|          | 0/702100 [00:00<?, ?it/s]"
      ]
     },
     "metadata": {},
     "output_type": "display_data"
    },
    {
     "name": "stdout",
     "output_type": "stream",
     "text": [
      "580710\n"
     ]
    }
   ],
   "source": [
    "all_pairs = []\n",
    "for item in tqdm(larger_parallel['train']):\n",
    "    if item['ba'] not in labelled_sents:\n",
    "        all_pairs.append((item['ba'], item['ru']))\n",
    "print(len(all_pairs))"
   ]
  },
  {
   "cell_type": "markdown",
   "id": "17240753",
   "metadata": {},
   "source": [
    "# Initialize tokenizer"
   ]
  },
  {
   "cell_type": "code",
   "execution_count": 5,
   "id": "56d2a95c",
   "metadata": {},
   "outputs": [],
   "source": [
    "old_tokenizer = BertTokenizerFast.from_pretrained('bert-base-multilingual-cased')\n",
    "# old_tokenizer = AlbertTokenizerFast.from_pretrained('albert-base-v2')"
   ]
  },
  {
   "cell_type": "code",
   "execution_count": 6,
   "id": "72e32733",
   "metadata": {},
   "outputs": [
    {
     "data": {
      "text/plain": [
       "32768"
      ]
     },
     "execution_count": 6,
     "metadata": {},
     "output_type": "execute_result"
    }
   ],
   "source": [
    "2**15"
   ]
  },
  {
   "cell_type": "code",
   "execution_count": 14,
   "id": "56d77c6a",
   "metadata": {},
   "outputs": [],
   "source": [
    "def batch_iterator(batch_size=10000):\n",
    "    for i in tqdm(range(0, len(all_sents), batch_size)):\n",
    "        yield all_sents[i : i + batch_size]"
   ]
  },
  {
   "cell_type": "code",
   "execution_count": 15,
   "id": "b0e09681",
   "metadata": {},
   "outputs": [
    {
     "data": {
      "application/vnd.jupyter.widget-view+json": {
       "model_id": "edadac2c1ebc4df4841502d1228fd815",
       "version_major": 2,
       "version_minor": 0
      },
      "text/plain": [
       "  0%|          | 0/219 [00:00<?, ?it/s]"
      ]
     },
     "metadata": {},
     "output_type": "display_data"
    }
   ],
   "source": [
    "tokenizer = old_tokenizer.train_new_from_iterator(text_iterator=batch_iterator(), vocab_size=32768)"
   ]
  },
  {
   "cell_type": "code",
   "execution_count": 16,
   "id": "3a4e87fd",
   "metadata": {},
   "outputs": [
    {
     "data": {
      "text/plain": [
       "32768"
      ]
     },
     "execution_count": 16,
     "metadata": {},
     "output_type": "execute_result"
    }
   ],
   "source": [
    "len(tokenizer)"
   ]
  },
  {
   "cell_type": "code",
   "execution_count": 17,
   "id": "5af780af",
   "metadata": {},
   "outputs": [
    {
     "data": {
      "text/plain": [
       "BertTokenizerFast(name_or_path='bert-base-multilingual-cased', vocab_size=32768, model_max_length=512, is_fast=True, padding_side='right', truncation_side='right', special_tokens={'unk_token': '[UNK]', 'sep_token': '[SEP]', 'pad_token': '[PAD]', 'cls_token': '[CLS]', 'mask_token': '[MASK]'})"
      ]
     },
     "execution_count": 17,
     "metadata": {},
     "output_type": "execute_result"
    }
   ],
   "source": [
    "tokenizer"
   ]
  },
  {
   "cell_type": "code",
   "execution_count": 18,
   "id": "3e0006ee",
   "metadata": {},
   "outputs": [
    {
     "data": {
      "text/plain": [
       "{'input_ids': [2, 22407, 459, 19479, 91, 6608, 21473, 3], 'token_type_ids': [0, 0, 0, 0, 0, 0, 0, 0], 'attention_mask': [1, 1, 1, 1, 1, 1, 1, 1]}"
      ]
     },
     "execution_count": 18,
     "metadata": {},
     "output_type": "execute_result"
    }
   ],
   "source": [
    "tokenizer('hello world')"
   ]
  },
  {
   "cell_type": "code",
   "execution_count": 19,
   "id": "cc980462",
   "metadata": {},
   "outputs": [
    {
     "name": "stdout",
     "output_type": "stream",
     "text": [
      "['Бөгөнгө', 'иҡтисади', 'шарттарҙы', 'иҫәпкә', 'алып', ',', 'үҙебеҙҙең', 'илдә', 'етештерелгән', 'технологик', 'линия', '##ны', 'һатып', 'алыу', 'күҙ', 'уңында', 'тотола', '.']\n",
      "['Республика', 'башлығының', 'матбуғат', 'хеҙмәтенән', 'хәбәр', 'итеүҙәренсә', ',', 'Указға', 'ярашлы', ',', '2011', 'йылдың', '1', 'октябренән', 'мәктәпкәсә', 'йәштәге', 'балалар', 'менән', 'эшләгән', ',', 'төп', 'эш', 'урыны', 'буйынса', 'мәғариф', 'учреждениеларында', 'штат', '##та', 'торған', 'тәрбиәселәр', '##ҙең', ',', 'кесе', 'тәрбиәселәр', '##ҙең', ',', 'тәрбиәсе', 'ярҙамсылары', '##ның', ',', 'шулай', 'уҡ', 'мәктәпкәсә', 'йәштәге', 'балалар', 'менән', 'эшләгән', ',', 'төп', 'эш', 'урыны', 'буйынса', 'мәғариф', 'учреждениеларында', 'штат', '##та', 'торған', 'бер', 'һәм', 'ике', 'төркөм', '##лө', 'мәктәпкәсә', 'мәғариф', 'учреждениелары', 'мөдир', '##ҙәренең', 'эш', 'хаҡына', 'ай', 'һайын', 'түлә', '##не', '##үс', '##е', 'өҫтәмә', 'күләме', 'ике', 'тапҡырға', 'арттырылған', '.']\n",
      "['Әлбиттә', ',', 'бының', 'бөтәһе', 'лә', 'бер', 'нисек', 'тә', 'ста', '##г', '##на', '##цияларҙы', 'инҡар', 'итмәй', ',', 'әммә', 'иң', 'ҡыйын', 'ваҡытта', '##р', 'артта', 'ҡалды', 'тигән', 'фараз', 'йөрөтөргә', 'мөмкинлек', 'бирә', '.']\n",
      "['Күп', 'тә', 'үтмәй', ',', 'өлкән', 'улы', 'Мөхтәр', '##гә', 'лә', 'повест', '##ка', 'тоттор', '##алар', '.']\n",
      "['Ил', '##ай', '-', 'илай', 'сәстәре', '##ңде', 'һыйп', '##айым', ',', 'арҡа', '##ң', '##дан', 'һөйә', '##м', ',', 'үк', '##һе', '##й', '-', 'үк', '##һе', '##й', 'ҡосаҡлап', ',', 'нисек', 'миңә', 'ғәзиз', ',', 'ҡәҙерле', 'икәнлеге', '##ңде', 'аңлатырға', 'тырышам', '.', '.', '.']\n",
      "['Ҡулына', 'диплом', 'алғас', ',', 'Ғиззәт', 'Яман', '##таев', 'Ватан', 'алдындағы', 'изге', 'бурысын', 'үтәргә', 'китә', '.']\n",
      "['Ошо', 'ваҡыт', 'эсендә', 'унда', 'республиканың', 'төрлө', 'мөйөш', '##тәренән', 'меңдәрсә', 'йәш', 'талант', 'ҡатнашты', '.']\n",
      "['Киләсәктә', 'лә', 'ошо', 'изге', 'төйәк', '##тә', 'донъя', 'көтөүсе', '##ләрҙең', 'тормошта', '##ры', 'уң', 'килеп', ',', 'йәшәгән', 'урындары', 'асыҡ', 'музей', 'булараҡ', 'рухи', ',', 'мәҙәни', ',', 'дини', 'үҙәккә', 'әйләнер', '.']\n",
      "['Ер', 'аҫты', 'үткәү', '##еле', 'заманса', 'талаптарға', 'ярашлы', 'төҙөлгән', ',', 'уның', 'менән', 'физик', 'мөмкинлектәре', 'сикләнгән', 'кешеләр', 'ҙә', 'файҙалана', 'аласаҡ', '.']\n",
      "['Атаһының', 'салғы', '##һын', 'да', 'әҙерләп', 'ҡуйғайны', ',', 'улы', 'үҙенекен', 'алып', 'килгән', 'икән', '.']\n"
     ]
    }
   ],
   "source": [
    "for _ in range(10):\n",
    "    print(tokenizer.tokenize(random.choice(all_sents)))"
   ]
  },
  {
   "cell_type": "code",
   "execution_count": 88,
   "id": "fd0323c5",
   "metadata": {},
   "outputs": [
    {
     "data": {
      "application/vnd.jupyter.widget-view+json": {
       "model_id": "d24b61f0b5b643b7bbfae19d4e80f44e",
       "version_major": 2,
       "version_minor": 0
      },
      "text/plain": [
       "  0%|          | 0/10000 [00:00<?, ?it/s]"
      ]
     },
     "metadata": {},
     "output_type": "display_data"
    },
    {
     "data": {
      "text/plain": [
       "count    10000.000000\n",
       "mean         5.083908\n",
       "std          1.181635\n",
       "min          1.083333\n",
       "25%          4.300000\n",
       "50%          5.058824\n",
       "75%          5.833333\n",
       "max         11.000000\n",
       "dtype: float64"
      ]
     },
     "execution_count": 88,
     "metadata": {},
     "output_type": "execute_result"
    }
   ],
   "source": [
    "length_ratios = []\n",
    "lengths = []\n",
    "for _ in trange(10000):\n",
    "    s = random.choice(all_sents)\n",
    "    tl = len(tokenizer.tokenize(s))\n",
    "    length_ratios.append(len(s) / tl)\n",
    "    lengths.append(tl)\n",
    "    \n",
    "pd.Series(length_ratios).describe()"
   ]
  },
  {
   "cell_type": "code",
   "execution_count": 89,
   "id": "5b536761",
   "metadata": {},
   "outputs": [
    {
     "data": {
      "text/plain": [
       "count    10000.000000\n",
       "mean        19.417700\n",
       "std         15.216241\n",
       "min          1.000000\n",
       "25%         11.000000\n",
       "50%         16.000000\n",
       "75%         24.000000\n",
       "max        320.000000\n",
       "dtype: float64"
      ]
     },
     "execution_count": 89,
     "metadata": {},
     "output_type": "execute_result"
    }
   ],
   "source": [
    "pd.Series(lengths).describe()"
   ]
  },
  {
   "cell_type": "code",
   "execution_count": 90,
   "id": "913b2c15",
   "metadata": {},
   "outputs": [
    {
     "data": {
      "text/plain": [
       "0.900     34.000\n",
       "0.950     43.000\n",
       "0.990     71.000\n",
       "0.999    160.003\n",
       "dtype: float64"
      ]
     },
     "execution_count": 90,
     "metadata": {},
     "output_type": "execute_result"
    }
   ],
   "source": [
    "pd.Series(lengths).quantile([0.9, 0.95, 0.99, 0.999])"
   ]
  },
  {
   "cell_type": "code",
   "execution_count": 59,
   "id": "12db5e2b",
   "metadata": {},
   "outputs": [],
   "source": [
    "MEAN_TOKEN_LEN = 5"
   ]
  },
  {
   "cell_type": "markdown",
   "id": "4a33b0d8",
   "metadata": {},
   "source": [
    "# Initialize the model"
   ]
  },
  {
   "cell_type": "code",
   "execution_count": 20,
   "id": "68ef9ebc",
   "metadata": {},
   "outputs": [],
   "source": [
    "cfg = BertConfig(\n",
    "    vocab_size=len(tokenizer),\n",
    "    hidden_size=768,\n",
    "    num_hidden_layers=3,\n",
    "    num_attention_heads=12,\n",
    "    intermediate_size=768 * 2,\n",
    "    classifier_dropout=0.1,\n",
    "    max_position_embeddings=2048, # because why not\n",
    ")"
   ]
  },
  {
   "cell_type": "code",
   "execution_count": 21,
   "id": "19650610",
   "metadata": {},
   "outputs": [],
   "source": [
    "tokenizer.model_max_length = cfg.max_position_embeddings"
   ]
  },
  {
   "cell_type": "code",
   "execution_count": 22,
   "id": "c961bf27",
   "metadata": {},
   "outputs": [],
   "source": [
    "model = BertForPreTraining(cfg)"
   ]
  },
  {
   "cell_type": "code",
   "execution_count": 23,
   "id": "0131edfa",
   "metadata": {},
   "outputs": [],
   "source": [
    "MODEL_SAVE_PATH = '../models/LaBSE-distilled-bak'"
   ]
  },
  {
   "cell_type": "code",
   "execution_count": 24,
   "id": "eb2d920b",
   "metadata": {},
   "outputs": [
    {
     "data": {
      "text/plain": [
       "('../models/LaBSE-distilled-bak\\\\tokenizer_config.json',\n",
       " '../models/LaBSE-distilled-bak\\\\special_tokens_map.json',\n",
       " '../models/LaBSE-distilled-bak\\\\vocab.txt',\n",
       " '../models/LaBSE-distilled-bak\\\\added_tokens.json',\n",
       " '../models/LaBSE-distilled-bak\\\\tokenizer.json')"
      ]
     },
     "execution_count": 24,
     "metadata": {},
     "output_type": "execute_result"
    }
   ],
   "source": [
    "model.save_pretrained(MODEL_SAVE_PATH)\n",
    "tokenizer.save_pretrained(MODEL_SAVE_PATH)"
   ]
  },
  {
   "cell_type": "code",
   "execution_count": 25,
   "id": "d1aa6b1c",
   "metadata": {
    "scrolled": false
   },
   "outputs": [
    {
     "data": {
      "text/plain": [
       "BertForPreTraining(\n",
       "  (bert): BertModel(\n",
       "    (embeddings): BertEmbeddings(\n",
       "      (word_embeddings): Embedding(32768, 768, padding_idx=0)\n",
       "      (position_embeddings): Embedding(2048, 768)\n",
       "      (token_type_embeddings): Embedding(2, 768)\n",
       "      (LayerNorm): LayerNorm((768,), eps=1e-12, elementwise_affine=True)\n",
       "      (dropout): Dropout(p=0.1, inplace=False)\n",
       "    )\n",
       "    (encoder): BertEncoder(\n",
       "      (layer): ModuleList(\n",
       "        (0): BertLayer(\n",
       "          (attention): BertAttention(\n",
       "            (self): BertSelfAttention(\n",
       "              (query): Linear(in_features=768, out_features=768, bias=True)\n",
       "              (key): Linear(in_features=768, out_features=768, bias=True)\n",
       "              (value): Linear(in_features=768, out_features=768, bias=True)\n",
       "              (dropout): Dropout(p=0.1, inplace=False)\n",
       "            )\n",
       "            (output): BertSelfOutput(\n",
       "              (dense): Linear(in_features=768, out_features=768, bias=True)\n",
       "              (LayerNorm): LayerNorm((768,), eps=1e-12, elementwise_affine=True)\n",
       "              (dropout): Dropout(p=0.1, inplace=False)\n",
       "            )\n",
       "          )\n",
       "          (intermediate): BertIntermediate(\n",
       "            (dense): Linear(in_features=768, out_features=1536, bias=True)\n",
       "            (intermediate_act_fn): GELUActivation()\n",
       "          )\n",
       "          (output): BertOutput(\n",
       "            (dense): Linear(in_features=1536, out_features=768, bias=True)\n",
       "            (LayerNorm): LayerNorm((768,), eps=1e-12, elementwise_affine=True)\n",
       "            (dropout): Dropout(p=0.1, inplace=False)\n",
       "          )\n",
       "        )\n",
       "        (1): BertLayer(\n",
       "          (attention): BertAttention(\n",
       "            (self): BertSelfAttention(\n",
       "              (query): Linear(in_features=768, out_features=768, bias=True)\n",
       "              (key): Linear(in_features=768, out_features=768, bias=True)\n",
       "              (value): Linear(in_features=768, out_features=768, bias=True)\n",
       "              (dropout): Dropout(p=0.1, inplace=False)\n",
       "            )\n",
       "            (output): BertSelfOutput(\n",
       "              (dense): Linear(in_features=768, out_features=768, bias=True)\n",
       "              (LayerNorm): LayerNorm((768,), eps=1e-12, elementwise_affine=True)\n",
       "              (dropout): Dropout(p=0.1, inplace=False)\n",
       "            )\n",
       "          )\n",
       "          (intermediate): BertIntermediate(\n",
       "            (dense): Linear(in_features=768, out_features=1536, bias=True)\n",
       "            (intermediate_act_fn): GELUActivation()\n",
       "          )\n",
       "          (output): BertOutput(\n",
       "            (dense): Linear(in_features=1536, out_features=768, bias=True)\n",
       "            (LayerNorm): LayerNorm((768,), eps=1e-12, elementwise_affine=True)\n",
       "            (dropout): Dropout(p=0.1, inplace=False)\n",
       "          )\n",
       "        )\n",
       "        (2): BertLayer(\n",
       "          (attention): BertAttention(\n",
       "            (self): BertSelfAttention(\n",
       "              (query): Linear(in_features=768, out_features=768, bias=True)\n",
       "              (key): Linear(in_features=768, out_features=768, bias=True)\n",
       "              (value): Linear(in_features=768, out_features=768, bias=True)\n",
       "              (dropout): Dropout(p=0.1, inplace=False)\n",
       "            )\n",
       "            (output): BertSelfOutput(\n",
       "              (dense): Linear(in_features=768, out_features=768, bias=True)\n",
       "              (LayerNorm): LayerNorm((768,), eps=1e-12, elementwise_affine=True)\n",
       "              (dropout): Dropout(p=0.1, inplace=False)\n",
       "            )\n",
       "          )\n",
       "          (intermediate): BertIntermediate(\n",
       "            (dense): Linear(in_features=768, out_features=1536, bias=True)\n",
       "            (intermediate_act_fn): GELUActivation()\n",
       "          )\n",
       "          (output): BertOutput(\n",
       "            (dense): Linear(in_features=1536, out_features=768, bias=True)\n",
       "            (LayerNorm): LayerNorm((768,), eps=1e-12, elementwise_affine=True)\n",
       "            (dropout): Dropout(p=0.1, inplace=False)\n",
       "          )\n",
       "        )\n",
       "      )\n",
       "    )\n",
       "    (pooler): BertPooler(\n",
       "      (dense): Linear(in_features=768, out_features=768, bias=True)\n",
       "      (activation): Tanh()\n",
       "    )\n",
       "  )\n",
       "  (cls): BertPreTrainingHeads(\n",
       "    (predictions): BertLMPredictionHead(\n",
       "      (transform): BertPredictionHeadTransform(\n",
       "        (dense): Linear(in_features=768, out_features=768, bias=True)\n",
       "        (transform_act_fn): GELUActivation()\n",
       "        (LayerNorm): LayerNorm((768,), eps=1e-12, elementwise_affine=True)\n",
       "      )\n",
       "      (decoder): Linear(in_features=768, out_features=32768, bias=True)\n",
       "    )\n",
       "    (seq_relationship): Linear(in_features=768, out_features=2, bias=True)\n",
       "  )\n",
       ")"
      ]
     },
     "execution_count": 25,
     "metadata": {},
     "output_type": "execute_result"
    }
   ],
   "source": [
    "model"
   ]
  },
  {
   "cell_type": "markdown",
   "id": "dcd06945",
   "metadata": {},
   "source": [
    "# Prepare the distillation"
   ]
  },
  {
   "cell_type": "code",
   "execution_count": 127,
   "id": "962b03f5",
   "metadata": {},
   "outputs": [],
   "source": [
    "from transformers.optimization import Adafactor, AdamW\n",
    "from transformers import DataCollatorForWholeWordMask\n",
    "from transformers import get_linear_schedule_with_warmup, get_constant_schedule_with_warmup"
   ]
  },
  {
   "cell_type": "code",
   "execution_count": 34,
   "id": "bd86f791",
   "metadata": {},
   "outputs": [],
   "source": [
    "mname_teacher = 'cointegrated/LaBSE-en-ru'"
   ]
  },
  {
   "cell_type": "code",
   "execution_count": 38,
   "id": "bf3daeda",
   "metadata": {},
   "outputs": [
    {
     "data": {
      "application/vnd.jupyter.widget-view+json": {
       "model_id": "9e9d07e2e6204b14a37596175aa3c157",
       "version_major": 2,
       "version_minor": 0
      },
      "text/plain": [
       "Downloading:   0%|          | 0.00/516M [00:00<?, ?B/s]"
      ]
     },
     "metadata": {},
     "output_type": "display_data"
    },
    {
     "name": "stderr",
     "output_type": "stream",
     "text": [
      "Some weights of the model checkpoint at cointegrated/LaBSE-en-ru were not used when initializing BertModel: ['cls.predictions.transform.LayerNorm.bias', 'cls.predictions.transform.dense.weight', 'cls.seq_relationship.bias', 'cls.seq_relationship.weight', 'cls.predictions.bias', 'cls.predictions.decoder.bias', 'cls.predictions.transform.dense.bias', 'cls.predictions.decoder.weight', 'cls.predictions.transform.LayerNorm.weight']\n",
      "- This IS expected if you are initializing BertModel from the checkpoint of a model trained on another task or with another architecture (e.g. initializing a BertForSequenceClassification model from a BertForPreTraining model).\n",
      "- This IS NOT expected if you are initializing BertModel from the checkpoint of a model that you expect to be exactly identical (initializing a BertForSequenceClassification model from a BertForSequenceClassification model).\n"
     ]
    }
   ],
   "source": [
    "teacher_tokenizer = AutoTokenizer.from_pretrained(mname_teacher)\n",
    "teacher_model = AutoModel.from_pretrained(mname_teacher)"
   ]
  },
  {
   "cell_type": "code",
   "execution_count": 73,
   "id": "4dfa9a0c",
   "metadata": {},
   "outputs": [],
   "source": [
    "teacher_model.cuda()\n",
    "model.cuda();"
   ]
  },
  {
   "cell_type": "code",
   "execution_count": 74,
   "id": "1f7e6b2f",
   "metadata": {},
   "outputs": [],
   "source": [
    "collator = DataCollatorForWholeWordMask(tokenizer, mlm=True, mlm_probability=0.3)"
   ]
  },
  {
   "cell_type": "code",
   "execution_count": 75,
   "id": "1e998da1",
   "metadata": {},
   "outputs": [],
   "source": [
    "def get_acc2(e1, e2):\n",
    "    batch_size = e1.shape[0]\n",
    "    with torch.no_grad():\n",
    "        scores = torch.matmul(e1, e2.T).cpu().numpy()\n",
    "    a1 = (scores.argmax(1) == np.arange(batch_size)).mean()\n",
    "    a2 = (scores.argmax(0) == np.arange(batch_size)).mean()\n",
    "    return (a1 + a2) / 2"
   ]
  },
  {
   "cell_type": "code",
   "execution_count": 76,
   "id": "c596b69f",
   "metadata": {},
   "outputs": [],
   "source": [
    "# optimizer = Adafactor(\n",
    "#     [p for p in model.parameters() if p.requires_grad], \n",
    "#     scale_parameter=False, relative_step=False, \n",
    "#     lr=1e-5, # make it very slow, because we want to update too many parameters\n",
    "#     clip_threshold=1.0\n",
    "# )"
   ]
  },
  {
   "cell_type": "code",
   "execution_count": 149,
   "id": "468148bf",
   "metadata": {},
   "outputs": [],
   "source": [
    "optimizer = torch.optim.AdamW(\n",
    "    [p for p in model.parameters() if p.requires_grad],  \n",
    "    lr=1e-4,\n",
    "    weight_decay=1e-3,\n",
    ")"
   ]
  },
  {
   "cell_type": "code",
   "execution_count": 150,
   "id": "ec1a70be",
   "metadata": {},
   "outputs": [],
   "source": [
    "loss_fn = torch.nn.CrossEntropyLoss()"
   ]
  },
  {
   "cell_type": "code",
   "execution_count": 151,
   "id": "e8c8be44",
   "metadata": {},
   "outputs": [],
   "source": [
    "losses2 = []\n",
    "accuracies2 = []\n",
    "losses_mlm = []"
   ]
  },
  {
   "cell_type": "code",
   "execution_count": 222,
   "id": "4309ebe4",
   "metadata": {},
   "outputs": [],
   "source": [
    "# I added these two trackers later\n",
    "means_diag = []\n",
    "accs_mlm = []"
   ]
  },
  {
   "cell_type": "code",
   "execution_count": 165,
   "id": "a741c123",
   "metadata": {},
   "outputs": [],
   "source": [
    "batch_size = 32 # we can get even more, but training gets slow\n",
    "mlm_batch_size = 1\n",
    "margin = 0.3\n",
    "max_length = 128\n",
    "max_length_mlm = 1024 # 2048 gives an error\n",
    "training_steps = 100_000"
   ]
  },
  {
   "cell_type": "code",
   "execution_count": 153,
   "id": "25f32b91",
   "metadata": {},
   "outputs": [],
   "source": [
    "scheduler = get_linear_schedule_with_warmup(optimizer, num_warmup_steps=5_000, num_training_steps=training_steps)"
   ]
  },
  {
   "cell_type": "markdown",
   "id": "ce40f98d",
   "metadata": {},
   "source": [
    "# Training loop"
   ]
  },
  {
   "cell_type": "code",
   "execution_count": 154,
   "id": "37eebbd7",
   "metadata": {},
   "outputs": [],
   "source": [
    "def get_batch_pairs(batch_size):\n",
    "    return [list(p) for p in zip(*random.choices(all_pairs, k=batch_size))]\n",
    "\n",
    "def get_batch_mono(batch_size, length_up_to=None):\n",
    "    if not length_up_to:\n",
    "        return random.choices(all_sents, k=batch_size)\n",
    "    # concat multiple sentences to increase the length\n",
    "    res = []\n",
    "    while len(res) < batch_size:\n",
    "        tmp, tmp_len = [], 0\n",
    "        while tmp_len < length_up_to:\n",
    "            s = random.choice(all_sents)\n",
    "            tmp.append(s)\n",
    "            tmp_len += len(s)\n",
    "        res.append(' '.join(tmp))\n",
    "    return res"
   ]
  },
  {
   "cell_type": "code",
   "execution_count": 155,
   "id": "815c60bf",
   "metadata": {},
   "outputs": [
    {
     "data": {
      "text/plain": [
       "[['Ауылға 20 б. 40-сы йй. аҙағында пионер лагеры урынында ҡасаба булараҡ нигеҙһалына.',\n",
       "  'тупаҫ телле',\n",
       "  'Уның эше элекке горизонталь тирмәндәрҙән айырыла.'],\n",
       " ['Основано в конце 40-х гг. 20 в. на месте пионерского лагеря как посёлоколо',\n",
       "  'грубый',\n",
       "  'Работа в ней отличается от ранее установленных горизонтальных мельниц.']]"
      ]
     },
     "execution_count": 155,
     "metadata": {},
     "output_type": "execute_result"
    }
   ],
   "source": [
    "get_batch_pairs(3)"
   ]
  },
  {
   "cell_type": "code",
   "execution_count": 156,
   "id": "7c7362b3",
   "metadata": {},
   "outputs": [
    {
     "data": {
      "text/plain": [
       "['Республикала 2021 йылдың ноябрендә реаль иҫәпләнгән эш хаҡы 2020 йылдың ноябренә ҡарағанда 1,7 процентҡа артҡан. Ни сәбәптәндер ул юлы уға был награда бирелмәйсә ҡалды. Бындай күңелһеҙ хәлдәрҙе иҫкә төшөрөп торғо килмәй ҙә, тик тере хәтер ептәре өҙөлөп ҡалыу осрағы башҡаса юҡмы ни?',\n",
       " 'Уның конс\\xadтрукцияһына тартыу көсөн арттырыу\\xadсы, һаҡсыллыҡты һәм эшләү ва\\xadҡытын оҙайтыусы тех\\xadно\\xadлогиялар һа\\xadлынды. Шайба гел яурын өҫтөнән осоп үтә. Ике быуаттан ашыу ваҡыт элек милләтебеҙ ирке, ер-һыуыбыҙ именлеге өсөн аяуһыҙ көрәшкән, иҫәпһеҙ-һанһыҙ ғәскәр туплап, батшаларҙың ҡотон алған, халҡы йөрәгенә азатлыҡ дәрте һалған данлы ҡаһарман, сәсән-шағир Салауат Юлаевтың кемлеген республикабыҙҙа барыһы ла яҡшы беләлер, тип уйлай инем бығаса.']"
      ]
     },
     "execution_count": 156,
     "metadata": {},
     "output_type": "execute_result"
    }
   ],
   "source": [
    "get_batch_mono(2, 200)"
   ]
  },
  {
   "cell_type": "code",
   "execution_count": 260,
   "id": "eea17fce",
   "metadata": {},
   "outputs": [
    {
     "data": {
      "application/vnd.jupyter.widget-view+json": {
       "model_id": "911befd2066e49a2b03dfd382dd32c02",
       "version_major": 2,
       "version_minor": 0
      },
      "text/plain": [
       "  0%|          | 0/15873 [00:00<?, ?it/s]"
      ]
     },
     "metadata": {},
     "output_type": "display_data"
    },
    {
     "name": "stdout",
     "output_type": "stream",
     "text": [
      "85000 6.225845907688141 0.99734375 6.917153728485108\n",
      "86000 6.226040457248688 0.9974375 6.886059578418732\n",
      "87000 6.223472689151764 0.99753125 6.866378093242646\n",
      "88000 6.224348567008972 0.997546875 6.855117884635925\n",
      "89000 6.226028457164764 0.997234375 6.853971759319306\n",
      "90000 6.226158257484436 0.99765625 6.810354382038116\n",
      "91000 6.2230573973655705 0.997703125 6.816799409389496\n",
      "92000 6.223892151355743 0.997390625 6.809885332584381\n",
      "93000 6.22495785856247 0.997953125 6.798032874107361\n",
      "94000 6.224103188514709 0.99771875 6.776669689655304\n",
      "95000 6.223587003707886 0.9975 6.782656890392303\n",
      "96000 6.222969909191131 0.99746875 6.755901711940766\n",
      "97000 6.22453830909729 0.99775 6.760703609466553\n",
      "98000 6.223532780170441 0.99784375 6.745026287078858\n",
      "99000 6.225041968345642 0.997515625 6.741124024868012\n"
     ]
    }
   ],
   "source": [
    "model.train()\n",
    "\n",
    "tq = trange(len(losses2), training_steps)\n",
    "for i in tq:\n",
    "    xx, yy = get_batch_pairs(batch_size) #[list(p) for p in zip(*random.choices(all_pairs, k=batch_size))]\n",
    "    sents = get_batch_mono(mlm_batch_size, MEAN_TOKEN_LEN * max_length_mlm) #random.choices(all_sents, k=mlm_batch_size)\n",
    "    try:\n",
    "        # translation ranking step step\n",
    "        tm, tt = (teacher_model, teacher_tokenizer) # if random.random() < 0.8 else (model.bert, tokenizer)\n",
    "        yy_batch = tt(yy, return_tensors='pt', padding=True, truncation=True, max_length=max_length)\n",
    "        with torch.no_grad():\n",
    "            yy_emb = torch.nn.functional.normalize(tm(**yy_batch.to(teacher_model.device)).pooler_output)\n",
    "\n",
    "        xx_batch = tokenizer(xx, return_tensors='pt', padding=True, truncation=True, max_length=max_length)\n",
    "        xx_emb = torch.nn.functional.normalize(model.bert(**xx_batch.to(model.device)).pooler_output)\n",
    "        all_scores = torch.matmul(yy_emb, xx_emb.T) - torch.eye(batch_size, device=model.device) * margin\n",
    "        diag = torch.arange(batch_size, device=model.device)\n",
    "        loss = loss_fn(all_scores, diag) + loss_fn(all_scores.T, diag)\n",
    "        loss.backward()\n",
    "        losses2.append(loss.item())\n",
    "        accuracies2.append(get_acc2(xx_emb, yy_emb))\n",
    "        means_diag.append(all_scores.diag().mean().item())\n",
    "\n",
    "        # mlm step\n",
    "        xx_batch = {k: v.to(model.device) for k, v in collator([\n",
    "            tokenizer(s, truncation=True, max_length=max_length_mlm) \n",
    "            for s in sents\n",
    "        ]).items()}\n",
    "        mlm_logits = model(**xx_batch).prediction_logits.view(-1, model.config.vocab_size)\n",
    "        loss = loss_fn(mlm_logits, xx_batch['labels'].view(-1))\n",
    "        accs_mlm.append(\n",
    "            ((mlm_logits.argmax(1) == xx_batch['labels'].view(-1)).sum() / (xx_batch['labels'] != -100).sum()).item()\n",
    "        )\n",
    "        loss.backward()\n",
    "        losses_mlm.append(loss.item())\n",
    "\n",
    "        torch.nn.utils.clip_grad_norm_(model.parameters(), 1.0)\n",
    "        optimizer.step()\n",
    "        optimizer.zero_grad(set_to_none=True)\n",
    "        scheduler.step()\n",
    "\n",
    "    except RuntimeError:\n",
    "        optimizer.zero_grad(set_to_none=True)\n",
    "        batch, out, embeddings, all_scores, loss, xx_emb, yy_emb, mlm_logits = None, None, None, None, None, None, None, None\n",
    "        cleanup()\n",
    "        print('error', max(len(s) for s in xx + yy))\n",
    "        continue\n",
    "    if i % 1000 == 0:\n",
    "        print(i, np.mean(losses2[-1000:]), np.mean(accuracies2[-1000:]), np.mean(losses_mlm[-1000:]))\n",
    "    if i % 10000 == 0 and i > 0:\n",
    "        model.save_pretrained(MODEL_SAVE_PATH)\n",
    "        tokenizer.save_pretrained(MODEL_SAVE_PATH)"
   ]
  },
  {
   "cell_type": "code",
   "execution_count": null,
   "id": "bef35f48",
   "metadata": {},
   "outputs": [],
   "source": [
    "###### batch, out, embeddings, all_scores, loss, xx_emb, ru_emb, yy_emb, mlm_logits = None, None, None, None, None, None, None, None, None\n",
    "optimizer.zero_grad(set_to_none=True)\n",
    "cleanup()"
   ]
  },
  {
   "cell_type": "code",
   "execution_count": 1,
   "id": "bdf9d057",
   "metadata": {},
   "outputs": [
    {
     "data": {
      "text/plain": [
       "1"
      ]
     },
     "execution_count": 1,
     "metadata": {},
     "output_type": "execute_result"
    }
   ],
   "source": [
    "1"
   ]
  },
  {
   "cell_type": "code",
   "execution_count": 262,
   "id": "48db92d7",
   "metadata": {},
   "outputs": [
    {
     "name": "stdout",
     "output_type": "stream",
     "text": [
      "100000\n"
     ]
    },
    {
     "name": "stderr",
     "output_type": "stream",
     "text": [
      "c:\\users\\david\\appdata\\local\\programs\\python\\python39\\lib\\site-packages\\pandas\\plotting\\_matplotlib\\tools.py:331: MatplotlibDeprecationWarning: \n",
      "The is_first_col function was deprecated in Matplotlib 3.4 and will be removed two minor releases later. Use ax.get_subplotspec().is_first_col() instead.\n",
      "  if ax.is_first_col():\n",
      "c:\\users\\david\\appdata\\local\\programs\\python\\python39\\lib\\site-packages\\pandas\\plotting\\_matplotlib\\tools.py:331: MatplotlibDeprecationWarning: \n",
      "The is_first_col function was deprecated in Matplotlib 3.4 and will be removed two minor releases later. Use ax.get_subplotspec().is_first_col() instead.\n",
      "  if ax.is_first_col():\n"
     ]
    },
    {
     "data": {
      "image/png": "[encoded data removed]",
      "text/plain": [
       "<Figure size 1152x216 with 3 Axes>"
      ]
     },
     "metadata": {
      "needs_background": "light"
     },
     "output_type": "display_data"
    }
   ],
   "source": [
    "print(len(losses2))\n",
    "plt.figure(figsize=(16, 3))\n",
    "names = ['labse loss', 'labse in-batch accuracy', 'mlm loss']\n",
    "for i, s in enumerate([losses2, accuracies2, losses_mlm]):\n",
    "    plt.subplot(1, 3, i+1)\n",
    "    pd.Series(s).ewm(100).mean()[10:].plot(lw=1)\n",
    "    plt.title(names[i])"
   ]
  },
  {
   "cell_type": "code",
   "execution_count": 263,
   "id": "7c8f8649",
   "metadata": {},
   "outputs": [
    {
     "name": "stdout",
     "output_type": "stream",
     "text": [
      "100000\n"
     ]
    },
    {
     "name": "stderr",
     "output_type": "stream",
     "text": [
      "c:\\users\\david\\appdata\\local\\programs\\python\\python39\\lib\\site-packages\\pandas\\plotting\\_matplotlib\\tools.py:331: MatplotlibDeprecationWarning: \n",
      "The is_first_col function was deprecated in Matplotlib 3.4 and will be removed two minor releases later. Use ax.get_subplotspec().is_first_col() instead.\n",
      "  if ax.is_first_col():\n",
      "c:\\users\\david\\appdata\\local\\programs\\python\\python39\\lib\\site-packages\\pandas\\plotting\\_matplotlib\\tools.py:331: MatplotlibDeprecationWarning: \n",
      "The is_first_col function was deprecated in Matplotlib 3.4 and will be removed two minor releases later. Use ax.get_subplotspec().is_first_col() instead.\n",
      "  if ax.is_first_col():\n",
      "c:\\users\\david\\appdata\\local\\programs\\python\\python39\\lib\\site-packages\\pandas\\plotting\\_matplotlib\\tools.py:331: MatplotlibDeprecationWarning: \n",
      "The is_first_col function was deprecated in Matplotlib 3.4 and will be removed two minor releases later. Use ax.get_subplotspec().is_first_col() instead.\n",
      "  if ax.is_first_col():\n",
      "c:\\users\\david\\appdata\\local\\programs\\python\\python39\\lib\\site-packages\\pandas\\plotting\\_matplotlib\\tools.py:331: MatplotlibDeprecationWarning: \n",
      "The is_first_col function was deprecated in Matplotlib 3.4 and will be removed two minor releases later. Use ax.get_subplotspec().is_first_col() instead.\n",
      "  if ax.is_first_col():\n"
     ]
    },
    {
     "data": {
      "image/png": "[encoded data removed]",
      "text/plain": [
       "<Figure size 1152x432 with 5 Axes>"
      ]
     },
     "metadata": {
      "needs_background": "light"
     },
     "output_type": "display_data"
    }
   ],
   "source": [
    "print(len(losses2))\n",
    "plt.figure(figsize=(16, 6))\n",
    "names = ['labse loss', 'labse in-batch accuracy', 'labse mean diag', 'mlm loss', 'mlm accuracy']\n",
    "for i, s in enumerate([losses2, accuracies2, means_diag, losses_mlm, accs_mlm]):\n",
    "    plt.subplot(2, 3, i+1)\n",
    "    pd.Series(s).ewm(1300).mean()[-30000:].plot(lw=1)\n",
    "    plt.title(names[i])\n",
    "plt.tight_layout();"
   ]
  },
  {
   "cell_type": "code",
   "execution_count": 264,
   "id": "a23f5005",
   "metadata": {},
   "outputs": [
    {
     "data": {
      "image/png": "[encoded data removed]",
      "text/plain": [
       "<Figure size 432x288 with 1 Axes>"
      ]
     },
     "metadata": {
      "needs_background": "light"
     },
     "output_type": "display_data"
    }
   ],
   "source": [
    "plt.imshow(all_scores.detach().cpu().numpy());"
   ]
  },
  {
   "cell_type": "code",
   "execution_count": 265,
   "id": "97e6f1c0",
   "metadata": {},
   "outputs": [
    {
     "name": "stdout",
     "output_type": "stream",
     "text": [
      "0.40586135\n",
      "[0.36101454 0.4714688  0.43977684 0.4100088  0.25973785 0.44853455\n",
      " 0.3923145  0.3616308  0.44480777 0.42523402 0.45285666 0.42766446\n",
      " 0.38701135 0.3743363  0.31779623 0.32873493 0.4561234  0.38169736\n",
      " 0.41829443 0.42621112 0.3837273  0.31948555 0.37791324 0.38785273\n",
      " 0.48081756 0.4438067  0.47848004 0.43237364 0.4291737  0.41394752\n",
      " 0.40494847 0.4497822 ]\n"
     ]
    }
   ],
   "source": [
    "print(all_scores.diag().detach().cpu().numpy().mean())\n",
    "print(all_scores.diag().detach().cpu().numpy())"
   ]
  },
  {
   "cell_type": "code",
   "execution_count": 285,
   "id": "2148cf42",
   "metadata": {},
   "outputs": [
    {
     "data": {
      "text/plain": [
       "('../models/LaBSE-distilled-bak_100k\\\\tokenizer_config.json',\n",
       " '../models/LaBSE-distilled-bak_100k\\\\special_tokens_map.json',\n",
       " '../models/LaBSE-distilled-bak_100k\\\\vocab.txt',\n",
       " '../models/LaBSE-distilled-bak_100k\\\\added_tokens.json',\n",
       " '../models/LaBSE-distilled-bak_100k\\\\tokenizer.json')"
      ]
     },
     "execution_count": 285,
     "metadata": {},
     "output_type": "execute_result"
    }
   ],
   "source": [
    "model.save_pretrained(MODEL_SAVE_PATH + '_100k')\n",
    "tokenizer.save_pretrained(MODEL_SAVE_PATH + '_100k')"
   ]
  },
  {
   "cell_type": "markdown",
   "id": "be1719a4",
   "metadata": {},
   "source": [
    "# Evaluation"
   ]
  },
  {
   "cell_type": "code",
   "execution_count": 268,
   "id": "47e87943",
   "metadata": {},
   "outputs": [],
   "source": [
    "model.eval();"
   ]
  },
  {
   "cell_type": "code",
   "execution_count": 269,
   "id": "fe785bf5",
   "metadata": {},
   "outputs": [],
   "source": [
    "data_val = labelled_data[labelled_data.data_split=='val']"
   ]
  },
  {
   "cell_type": "code",
   "execution_count": 274,
   "id": "9311141e",
   "metadata": {},
   "outputs": [],
   "source": [
    "def embed(text, model, tokenizer, max_length=512):\n",
    "    b = tokenizer(text, return_tensors='pt', padding=True, truncation=True, max_length=max_length)\n",
    "    with torch.inference_mode():\n",
    "        return torch.nn.functional.normalize(model(**b.to(model.device)).pooler_output).cpu().numpy()"
   ]
  },
  {
   "cell_type": "code",
   "execution_count": 276,
   "id": "32f58097",
   "metadata": {},
   "outputs": [
    {
     "data": {
      "application/vnd.jupyter.widget-view+json": {
       "model_id": "1d6ee8c27b214a5885020bffd3173fb2",
       "version_major": 2,
       "version_minor": 0
      },
      "text/plain": [
       "  0%|          | 0/1743 [00:00<?, ?it/s]"
      ]
     },
     "metadata": {},
     "output_type": "display_data"
    }
   ],
   "source": [
    "embs_val_ru = np.concatenate([embed(t, teacher_model, teacher_tokenizer) for t in tqdm(data_val.ru)])"
   ]
  },
  {
   "cell_type": "code",
   "execution_count": 279,
   "id": "c33e574c",
   "metadata": {
    "scrolled": true
   },
   "outputs": [
    {
     "data": {
      "application/vnd.jupyter.widget-view+json": {
       "model_id": "a902254ced4e4d44a60fb4c97e0d603e",
       "version_major": 2,
       "version_minor": 0
      },
      "text/plain": [
       "  0%|          | 0/1743 [00:00<?, ?it/s]"
      ]
     },
     "metadata": {},
     "output_type": "display_data"
    }
   ],
   "source": [
    "embs_val_ba = np.concatenate([embed(t, model.bert, tokenizer) for t in tqdm(data_val.ba)])"
   ]
  },
  {
   "cell_type": "code",
   "execution_count": 280,
   "id": "214f1eeb",
   "metadata": {},
   "outputs": [
    {
     "data": {
      "text/plain": [
       "(1743,)"
      ]
     },
     "execution_count": 280,
     "metadata": {},
     "output_type": "execute_result"
    }
   ],
   "source": [
    "scores = (embs_val_ru * embs_val_ba).sum(1)\n",
    "scores.shape"
   ]
  },
  {
   "cell_type": "code",
   "execution_count": 281,
   "id": "149067df",
   "metadata": {},
   "outputs": [
    {
     "data": {
      "image/png": "[encoded data removed]",
      "text/plain": [
       "<Figure size 432x288 with 1 Axes>"
      ]
     },
     "metadata": {
      "needs_background": "light"
     },
     "output_type": "display_data"
    }
   ],
   "source": [
    "pd.Series(scores, index=data_val.index).groupby(data_val.is_correct).plot(\n",
    "    kind='kde', bw_method=0.1,\n",
    ");"
   ]
  },
  {
   "cell_type": "code",
   "execution_count": 283,
   "id": "26d2566f",
   "metadata": {},
   "outputs": [
    {
     "name": "stdout",
     "output_type": "stream",
     "text": [
      "0.798179018697644\n"
     ]
    }
   ],
   "source": [
    "from sklearn.metrics import roc_auc_score\n",
    "\n",
    "print(roc_auc_score(data_val.is_correct, scores))"
   ]
  },
  {
   "cell_type": "code",
   "execution_count": 284,
   "id": "fd956907",
   "metadata": {},
   "outputs": [
    {
     "name": "stdout",
     "output_type": "stream",
     "text": [
      "recall@ ideal reject rate: 0.5348837209302325 th: 0.33203200500926544\n"
     ]
    }
   ],
   "source": [
    "threshold = np.quantile(scores, 1-data_val.is_correct.mean())\n",
    "print('recall@ ideal reject rate:', (scores < threshold)[data_val.is_correct.values==0].mean(), 'th:', threshold)"
   ]
  },
  {
   "cell_type": "markdown",
   "id": "789aaccc",
   "metadata": {},
   "source": [
    "# Continue fine-tuning the model, because it is too cool to give up"
   ]
  },
  {
   "cell_type": "code",
   "execution_count": 286,
   "id": "ca28243c",
   "metadata": {},
   "outputs": [
    {
     "data": {
      "text/plain": [
       "1.368421052631579e-08"
      ]
     },
     "execution_count": 286,
     "metadata": {},
     "output_type": "execute_result"
    }
   ],
   "source": [
    "optimizer.param_groups[0]['lr']"
   ]
  },
  {
   "cell_type": "code",
   "execution_count": 292,
   "id": "79b0135d",
   "metadata": {},
   "outputs": [],
   "source": [
    "optimizer.param_groups[0]['lr'] = 1e-5"
   ]
  },
  {
   "cell_type": "code",
   "execution_count": 429,
   "id": "089e0f68",
   "metadata": {},
   "outputs": [],
   "source": [
    "longer_training_steps = 500_000"
   ]
  },
  {
   "cell_type": "code",
   "execution_count": 396,
   "id": "7ced9f0a",
   "metadata": {},
   "outputs": [],
   "source": [
    "LABSE_LOSS_WEIGHT = 1"
   ]
  },
  {
   "cell_type": "code",
   "execution_count": 482,
   "id": "0c8a76db",
   "metadata": {},
   "outputs": [
    {
     "data": {
      "application/vnd.jupyter.widget-view+json": {
       "model_id": "ff81ef7caf91455898faa864b002c405",
       "version_major": 2,
       "version_minor": 0
      },
      "text/plain": [
       "  0%|          | 0/18759 [00:00<?, ?it/s]"
      ]
     },
     "metadata": {},
     "output_type": "display_data"
    },
    {
     "name": "stdout",
     "output_type": "stream",
     "text": [
      "482000 6.187337444782257 0.997859375 4.157376163721085\n",
      "483000 6.187631000518799 0.998453125 4.151864949226379\n",
      "484000 6.1863699593544 0.998453125 4.161313694477081\n",
      "485000 6.1879832949638365 0.998453125 4.146268908262253\n",
      "486000 6.188048386096955 0.99828125 4.1679085085392\n",
      "487000 6.186364497184753 0.998578125 4.147880275249481\n",
      "488000 6.1880199403762814 0.998359375 4.137477972269059\n",
      "489000 6.186401232242584 0.99853125 4.135221461057663\n",
      "490000 6.187198195934296 0.998421875 4.150099236011505\n",
      "491000 6.185623805522919 0.998359375 4.134405615091324\n",
      "492000 6.18808181476593 0.998796875 4.150139624118805\n",
      "493000 6.185633585453034 0.99790625 4.13123006772995\n",
      "494000 6.185075880527497 0.998296875 4.147060918331146\n",
      "495000 6.186657132148743 0.9985 4.132001629590988\n",
      "496000 6.185762422084808 0.998703125 4.1418153645992275\n",
      "497000 6.18566955280304 0.998296875 4.107932206392288\n",
      "498000 6.185416979789734 0.9985625 4.134957439899445\n",
      "499000 6.187147036552429 0.99846875 4.130406265735626\n"
     ]
    }
   ],
   "source": [
    "model.train()\n",
    "\n",
    "tq = trange(len(losses2), longer_training_steps)\n",
    "for i in tq:\n",
    "    xx, yy = get_batch_pairs(batch_size) #[list(p) for p in zip(*random.choices(all_pairs, k=batch_size))]\n",
    "    sents = get_batch_mono(mlm_batch_size, MEAN_TOKEN_LEN * max_length_mlm) #random.choices(all_sents, k=mlm_batch_size)\n",
    "    \n",
    "    if len(losses2) >= 231892:\n",
    "        LABSE_LOSS_WEIGHT = 3.0\n",
    "    if len(losses2) >= 260292:\n",
    "        optimizer.param_groups[0]['lr'] = 3e-5\n",
    "    \n",
    "    try:\n",
    "        # translation ranking step step\n",
    "        tm, tt = (teacher_model, teacher_tokenizer) # if random.random() < 0.8 else (model.bert, tokenizer)\n",
    "        yy_batch = tt(yy, return_tensors='pt', padding=True, truncation=True, max_length=max_length)\n",
    "        with torch.no_grad():\n",
    "            yy_emb = torch.nn.functional.normalize(tm(**yy_batch.to(teacher_model.device)).pooler_output)\n",
    "\n",
    "        xx_batch = tokenizer(xx, return_tensors='pt', padding=True, truncation=True, max_length=max_length)\n",
    "        xx_emb = torch.nn.functional.normalize(model.bert(**xx_batch.to(model.device)).pooler_output)\n",
    "        all_scores = torch.matmul(yy_emb, xx_emb.T) - torch.eye(batch_size, device=model.device) * margin\n",
    "        diag = torch.arange(batch_size, device=model.device)\n",
    "        loss = loss_fn(all_scores, diag) + loss_fn(all_scores.T, diag)\n",
    "        (loss * LABSE_LOSS_WEIGHT).backward()\n",
    "        losses2.append(loss.item())\n",
    "        accuracies2.append(get_acc2(xx_emb, yy_emb))\n",
    "        means_diag.append(all_scores.diag().mean().item())\n",
    "\n",
    "        # mlm step\n",
    "        xx_batch = {k: v.to(model.device) for k, v in collator([\n",
    "            tokenizer(s, truncation=True, max_length=max_length_mlm) \n",
    "            for s in sents\n",
    "        ]).items()}\n",
    "        mlm_logits = model(**xx_batch).prediction_logits.view(-1, model.config.vocab_size)\n",
    "        loss = loss_fn(mlm_logits, xx_batch['labels'].view(-1))\n",
    "        accs_mlm.append(\n",
    "            ((mlm_logits.argmax(1) == xx_batch['labels'].view(-1)).sum() / (xx_batch['labels'] != -100).sum()).item()\n",
    "        )\n",
    "        loss.backward()\n",
    "        losses_mlm.append(loss.item())\n",
    "\n",
    "        torch.nn.utils.clip_grad_norm_(model.parameters(), 1.0)\n",
    "        optimizer.step()\n",
    "        optimizer.zero_grad(set_to_none=True)\n",
    "        # scheduler.step() # now, no more scheduler, just train longer\n",
    "\n",
    "    except RuntimeError:\n",
    "        optimizer.zero_grad(set_to_none=True)\n",
    "        batch, out, embeddings, all_scores, loss, xx_emb, yy_emb, mlm_logits = None, None, None, None, None, None, None, None\n",
    "        cleanup()\n",
    "        print('error', max(len(s) for s in xx + yy))\n",
    "        continue\n",
    "    if i % 1000 == 0:\n",
    "        print(i, np.mean(losses2[-1000:]), np.mean(accuracies2[-1000:]), np.mean(losses_mlm[-1000:]))\n",
    "    if i % 10000 == 0 and i > 0:\n",
    "        model.save_pretrained(MODEL_SAVE_PATH)\n",
    "        tokenizer.save_pretrained(MODEL_SAVE_PATH)"
   ]
  },
  {
   "cell_type": "markdown",
   "id": "eb2fb036",
   "metadata": {},
   "source": [
    "* At 231892 steps I got tired of LaBSE loss not falling and increased its weigth x3"
   ]
  },
  {
   "cell_type": "code",
   "execution_count": 483,
   "id": "d0382d16",
   "metadata": {},
   "outputs": [
    {
     "name": "stdout",
     "output_type": "stream",
     "text": [
      "500000\n"
     ]
    },
    {
     "name": "stderr",
     "output_type": "stream",
     "text": [
      "c:\\users\\david\\appdata\\local\\programs\\python\\python39\\lib\\site-packages\\pandas\\plotting\\_matplotlib\\tools.py:331: MatplotlibDeprecationWarning: \n",
      "The is_first_col function was deprecated in Matplotlib 3.4 and will be removed two minor releases later. Use ax.get_subplotspec().is_first_col() instead.\n",
      "  if ax.is_first_col():\n",
      "c:\\users\\david\\appdata\\local\\programs\\python\\python39\\lib\\site-packages\\pandas\\plotting\\_matplotlib\\tools.py:331: MatplotlibDeprecationWarning: \n",
      "The is_first_col function was deprecated in Matplotlib 3.4 and will be removed two minor releases later. Use ax.get_subplotspec().is_first_col() instead.\n",
      "  if ax.is_first_col():\n",
      "c:\\users\\david\\appdata\\local\\programs\\python\\python39\\lib\\site-packages\\pandas\\plotting\\_matplotlib\\tools.py:331: MatplotlibDeprecationWarning: \n",
      "The is_first_col function was deprecated in Matplotlib 3.4 and will be removed two minor releases later. Use ax.get_subplotspec().is_first_col() instead.\n",
      "  if ax.is_first_col():\n",
      "c:\\users\\david\\appdata\\local\\programs\\python\\python39\\lib\\site-packages\\pandas\\plotting\\_matplotlib\\tools.py:331: MatplotlibDeprecationWarning: \n",
      "The is_first_col function was deprecated in Matplotlib 3.4 and will be removed two minor releases later. Use ax.get_subplotspec().is_first_col() instead.\n",
      "  if ax.is_first_col():\n"
     ]
    },
    {
     "data": {
      "image/png": "[encoded data removed]",
      "text/plain": [
       "<Figure size 1152x432 with 5 Axes>"
      ]
     },
     "metadata": {
      "needs_background": "light"
     },
     "output_type": "display_data"
    }
   ],
   "source": [
    "print(len(losses2))\n",
    "plt.figure(figsize=(16, 6))\n",
    "names = ['labse loss', 'labse in-batch accuracy', 'labse mean diag', 'mlm loss', 'mlm accuracy']\n",
    "for i, s in enumerate([losses2, accuracies2, means_diag, losses_mlm, accs_mlm]):\n",
    "    plt.subplot(2, 3, i+1)\n",
    "    pd.Series(s).ewm(1000).mean()[-50_000:].plot(lw=1)\n",
    "    plt.title(names[i])\n",
    "plt.tight_layout();"
   ]
  },
  {
   "cell_type": "code",
   "execution_count": 484,
   "id": "bf80c090",
   "metadata": {},
   "outputs": [
    {
     "name": "stdout",
     "output_type": "stream",
     "text": [
      "500000\n"
     ]
    },
    {
     "name": "stderr",
     "output_type": "stream",
     "text": [
      "c:\\users\\david\\appdata\\local\\programs\\python\\python39\\lib\\site-packages\\pandas\\plotting\\_matplotlib\\tools.py:331: MatplotlibDeprecationWarning: \n",
      "The is_first_col function was deprecated in Matplotlib 3.4 and will be removed two minor releases later. Use ax.get_subplotspec().is_first_col() instead.\n",
      "  if ax.is_first_col():\n",
      "c:\\users\\david\\appdata\\local\\programs\\python\\python39\\lib\\site-packages\\pandas\\plotting\\_matplotlib\\tools.py:331: MatplotlibDeprecationWarning: \n",
      "The is_first_col function was deprecated in Matplotlib 3.4 and will be removed two minor releases later. Use ax.get_subplotspec().is_first_col() instead.\n",
      "  if ax.is_first_col():\n",
      "c:\\users\\david\\appdata\\local\\programs\\python\\python39\\lib\\site-packages\\pandas\\plotting\\_matplotlib\\tools.py:331: MatplotlibDeprecationWarning: \n",
      "The is_first_col function was deprecated in Matplotlib 3.4 and will be removed two minor releases later. Use ax.get_subplotspec().is_first_col() instead.\n",
      "  if ax.is_first_col():\n",
      "c:\\users\\david\\appdata\\local\\programs\\python\\python39\\lib\\site-packages\\pandas\\plotting\\_matplotlib\\tools.py:331: MatplotlibDeprecationWarning: \n",
      "The is_first_col function was deprecated in Matplotlib 3.4 and will be removed two minor releases later. Use ax.get_subplotspec().is_first_col() instead.\n",
      "  if ax.is_first_col():\n"
     ]
    },
    {
     "data": {
      "image/png": "[encoded data removed]",
      "text/plain": [
       "<Figure size 1152x432 with 5 Axes>"
      ]
     },
     "metadata": {
      "needs_background": "light"
     },
     "output_type": "display_data"
    }
   ],
   "source": [
    "print(len(losses2))\n",
    "plt.figure(figsize=(16, 6))\n",
    "names = ['labse loss', 'labse in-batch accuracy', 'labse mean diag', 'mlm loss', 'mlm accuracy']\n",
    "for i, s in enumerate([losses2, accuracies2, means_diag, losses_mlm, accs_mlm]):\n",
    "    plt.subplot(2, 3, i+1)\n",
    "    pd.Series(s).ewm(1000).mean()[-250_000:].plot(lw=1)\n",
    "    plt.title(names[i])\n",
    "plt.tight_layout();"
   ]
  },
  {
   "cell_type": "code",
   "execution_count": 485,
   "id": "188588da",
   "metadata": {},
   "outputs": [
    {
     "name": "stdout",
     "output_type": "stream",
     "text": [
      "500000\n"
     ]
    },
    {
     "name": "stderr",
     "output_type": "stream",
     "text": [
      "c:\\users\\david\\appdata\\local\\programs\\python\\python39\\lib\\site-packages\\pandas\\plotting\\_matplotlib\\tools.py:331: MatplotlibDeprecationWarning: \n",
      "The is_first_col function was deprecated in Matplotlib 3.4 and will be removed two minor releases later. Use ax.get_subplotspec().is_first_col() instead.\n",
      "  if ax.is_first_col():\n",
      "c:\\users\\david\\appdata\\local\\programs\\python\\python39\\lib\\site-packages\\pandas\\plotting\\_matplotlib\\tools.py:331: MatplotlibDeprecationWarning: \n",
      "The is_first_col function was deprecated in Matplotlib 3.4 and will be removed two minor releases later. Use ax.get_subplotspec().is_first_col() instead.\n",
      "  if ax.is_first_col():\n"
     ]
    },
    {
     "data": {
      "image/png": "[encoded data removed]",
      "text/plain": [
       "<Figure size 1152x216 with 3 Axes>"
      ]
     },
     "metadata": {
      "needs_background": "light"
     },
     "output_type": "display_data"
    }
   ],
   "source": [
    "print(len(losses2))\n",
    "plt.figure(figsize=(16, 3))\n",
    "names = ['labse loss', 'labse in-batch accuracy', 'mlm loss']\n",
    "for i, s in enumerate([losses2, accuracies2, losses_mlm]):\n",
    "    plt.subplot(1, 3, i+1)\n",
    "    pd.Series(s).ewm(100).mean()[10:].plot(lw=1)\n",
    "    plt.title(names[i])"
   ]
  },
  {
   "cell_type": "code",
   "execution_count": 486,
   "id": "ee640a41",
   "metadata": {},
   "outputs": [
    {
     "data": {
      "text/plain": [
       "3e-05"
      ]
     },
     "execution_count": 486,
     "metadata": {},
     "output_type": "execute_result"
    }
   ],
   "source": [
    "optimizer.param_groups[0]['lr']"
   ]
  },
  {
   "cell_type": "code",
   "execution_count": 487,
   "id": "9da98e84",
   "metadata": {},
   "outputs": [],
   "source": [
    "optimizer.zero_grad(set_to_none=True)\n",
    "batch, out, embeddings, all_scores, loss, xx_emb, yy_emb, mlm_logits, diag = None, None, None, None, None, None, None, None, None\n",
    "cleanup()"
   ]
  },
  {
   "cell_type": "code",
   "execution_count": 488,
   "id": "2cc39d4b",
   "metadata": {},
   "outputs": [
    {
     "name": "stdout",
     "output_type": "stream",
     "text": [
      "Sun Mar 12 15:06:34 2023       \n",
      "+-----------------------------------------------------------------------------+\n",
      "| NVIDIA-SMI 451.67       Driver Version: 451.67       CUDA Version: 11.0     |\n",
      "|-------------------------------+----------------------+----------------------+\n",
      "| GPU  Name            TCC/WDDM | Bus-Id        Disp.A | Volatile Uncorr. ECC |\n",
      "| Fan  Temp  Perf  Pwr:Usage/Cap|         Memory-Usage | GPU-Util  Compute M. |\n",
      "|===============================+======================+======================|\n",
      "|   0  GeForce GTX 1650   WDDM  | 00000000:01:00.0 Off |                  N/A |\n",
      "| N/A   77C    P0    19W /  N/A |   2055MiB /  4096MiB |      0%      Default |\n",
      "+-------------------------------+----------------------+----------------------+\n",
      "                                                                               \n",
      "+-----------------------------------------------------------------------------+\n",
      "| Processes:                                                                  |\n",
      "|  GPU   GI   CI        PID   Type   Process name                  GPU Memory |\n",
      "|        ID   ID                                                   Usage      |\n",
      "|=============================================================================|\n",
      "|    0   N/A  N/A     22588      C   ...ython\\Python39\\python.exe    N/A      |\n",
      "+-----------------------------------------------------------------------------+\n"
     ]
    }
   ],
   "source": [
    "!nvidia-smi"
   ]
  },
  {
   "cell_type": "code",
   "execution_count": 489,
   "id": "6a9221b6",
   "metadata": {},
   "outputs": [
    {
     "data": {
      "application/vnd.jupyter.widget-view+json": {
       "model_id": "7eb5b28166d84ecab6688a9ac59d8a50",
       "version_major": 2,
       "version_minor": 0
      },
      "text/plain": [
       "  0%|          | 0/1743 [00:00<?, ?it/s]"
      ]
     },
     "metadata": {},
     "output_type": "display_data"
    }
   ],
   "source": [
    "model.eval()\n",
    "with torch.inference_mode():\n",
    "    embs_val_ba = np.concatenate([embed(t, model.bert, tokenizer) for t in tqdm(data_val.ba)])"
   ]
  },
  {
   "cell_type": "code",
   "execution_count": 490,
   "id": "ef1a95d9",
   "metadata": {},
   "outputs": [
    {
     "name": "stdout",
     "output_type": "stream",
     "text": [
      "0.8128387185291898\n",
      "recall@ ideal reject rate: 0.5658914728682171 th: 0.3692584551755409\n"
     ]
    }
   ],
   "source": [
    "scores = (embs_val_ru * embs_val_ba).sum(1)\n",
    "print(roc_auc_score(data_val.is_correct, scores))\n",
    "threshold = np.quantile(scores, 1-data_val.is_correct.mean())\n",
    "print('recall@ ideal reject rate:', (scores < threshold)[data_val.is_correct.values==0].mean(), 'th:', threshold)"
   ]
  },
  {
   "cell_type": "code",
   "execution_count": 491,
   "id": "a1347ea5",
   "metadata": {},
   "outputs": [
    {
     "data": {
      "text/html": [
       "<div>\n",
       "<style scoped>\n",
       "    .dataframe tbody tr th:only-of-type {\n",
       "        vertical-align: middle;\n",
       "    }\n",
       "\n",
       "    .dataframe tbody tr th {\n",
       "        vertical-align: top;\n",
       "    }\n",
       "\n",
       "    .dataframe thead th {\n",
       "        text-align: right;\n",
       "    }\n",
       "</style>\n",
       "<table border=\"1\" class=\"dataframe\">\n",
       "  <thead>\n",
       "    <tr style=\"text-align: right;\">\n",
       "      <th></th>\n",
       "      <th>count</th>\n",
       "      <th>mean</th>\n",
       "      <th>std</th>\n",
       "      <th>min</th>\n",
       "      <th>25%</th>\n",
       "      <th>50%</th>\n",
       "      <th>75%</th>\n",
       "      <th>max</th>\n",
       "    </tr>\n",
       "    <tr>\n",
       "      <th>is_correct</th>\n",
       "      <th></th>\n",
       "      <th></th>\n",
       "      <th></th>\n",
       "      <th></th>\n",
       "      <th></th>\n",
       "      <th></th>\n",
       "      <th></th>\n",
       "      <th></th>\n",
       "    </tr>\n",
       "  </thead>\n",
       "  <tbody>\n",
       "    <tr>\n",
       "      <th>0</th>\n",
       "      <td>387.0</td>\n",
       "      <td>0.304949</td>\n",
       "      <td>0.209282</td>\n",
       "      <td>-0.183429</td>\n",
       "      <td>0.149433</td>\n",
       "      <td>0.327503</td>\n",
       "      <td>0.480308</td>\n",
       "      <td>0.712266</td>\n",
       "    </tr>\n",
       "    <tr>\n",
       "      <th>1</th>\n",
       "      <td>1356.0</td>\n",
       "      <td>0.528950</td>\n",
       "      <td>0.137435</td>\n",
       "      <td>-0.171754</td>\n",
       "      <td>0.455396</td>\n",
       "      <td>0.552306</td>\n",
       "      <td>0.631180</td>\n",
       "      <td>0.793831</td>\n",
       "    </tr>\n",
       "  </tbody>\n",
       "</table>\n",
       "</div>"
      ],
      "text/plain": [
       "             count      mean       std       min       25%       50%  \\\n",
       "is_correct                                                             \n",
       "0            387.0  0.304949  0.209282 -0.183429  0.149433  0.327503   \n",
       "1           1356.0  0.528950  0.137435 -0.171754  0.455396  0.552306   \n",
       "\n",
       "                 75%       max  \n",
       "is_correct                      \n",
       "0           0.480308  0.712266  \n",
       "1           0.631180  0.793831  "
      ]
     },
     "execution_count": 491,
     "metadata": {},
     "output_type": "execute_result"
    },
    {
     "data": {
      "image/png": "[encoded data removed]",
      "text/plain": [
       "<Figure size 432x288 with 1 Axes>"
      ]
     },
     "metadata": {
      "needs_background": "light"
     },
     "output_type": "display_data"
    }
   ],
   "source": [
    "pd.Series(scores, index=data_val.index).groupby(data_val.is_correct).plot(\n",
    "    kind='kde', bw_method=0.1,\n",
    ")\n",
    "pd.Series(scores, index=data_val.index).groupby(data_val.is_correct).describe()"
   ]
  },
  {
   "cell_type": "code",
   "execution_count": 492,
   "id": "22d8e99b",
   "metadata": {},
   "outputs": [],
   "source": [
    "for k, v in list(globals().items()):\n",
    "    if isinstance(v, torch.Tensor):\n",
    "        print(k, v.shape)"
   ]
  },
  {
   "cell_type": "code",
   "execution_count": 493,
   "id": "6820d24e",
   "metadata": {},
   "outputs": [
    {
     "data": {
      "text/plain": [
       "('../models/LaBSE-distilled-bak\\\\tokenizer_config.json',\n",
       " '../models/LaBSE-distilled-bak\\\\special_tokens_map.json',\n",
       " '../models/LaBSE-distilled-bak\\\\vocab.txt',\n",
       " '../models/LaBSE-distilled-bak\\\\added_tokens.json',\n",
       " '../models/LaBSE-distilled-bak\\\\tokenizer.json')"
      ]
     },
     "execution_count": 493,
     "metadata": {},
     "output_type": "execute_result"
    }
   ],
   "source": [
    "model.save_pretrained(MODEL_SAVE_PATH)\n",
    "tokenizer.save_pretrained(MODEL_SAVE_PATH)"
   ]
  }
 ],
 "metadata": {
  "kernelspec": {
   "display_name": "Python 3 (ipykernel)",
   "language": "python",
   "name": "python3"
  },
  "language_info": {
   "codemirror_mode": {
    "name": "ipython",
    "version": 3
   },
   "file_extension": ".py",
   "mimetype": "text/x-python",
   "name": "python",
   "nbconvert_exporter": "python",
   "pygments_lexer": "ipython3",
   "version": "3.9.6"
  }
 },
 "nbformat": 4,
 "nbformat_minor": 5
}
