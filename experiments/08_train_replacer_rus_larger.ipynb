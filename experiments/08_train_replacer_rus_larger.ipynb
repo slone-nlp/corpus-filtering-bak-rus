{
 "cells": [
  {
   "cell_type": "markdown",
   "id": "69acdc1f",
   "metadata": {},
   "source": [
    "What if we make the Russian model x2 deeper and x4 wider? Is its performance going to improve?\n",
    "\n",
    "In fact, with loss after 250K steps hanging around 6.5, it's not better than the tiny model, that had actually even smaller loss after the same number of steps (that it has also achieved faster). \n",
    "\n",
    "Maybe, the problem is that a deeper model just requires longer training, or smaller learning rate, I don't know. But if it's not better than the tiny one, I'll just use the tiny. "
   ]
  },
  {
   "cell_type": "markdown",
   "id": "6366578a",
   "metadata": {},
   "source": [
    "# Load data"
   ]
  },
  {
   "cell_type": "code",
   "execution_count": 1,
   "id": "6c5e5afa",
   "metadata": {},
   "outputs": [],
   "source": [
    "import pandas as pd"
   ]
  },
  {
   "cell_type": "code",
   "execution_count": 28,
   "id": "1ec84323",
   "metadata": {},
   "outputs": [],
   "source": [
    "from tqdm.auto import tqdm, trange\n",
    "import random\n",
    "import os\n",
    "import datasets"
   ]
  },
  {
   "cell_type": "code",
   "execution_count": 3,
   "id": "c11405a7",
   "metadata": {},
   "outputs": [
    {
     "data": {
      "application/vnd.jupyter.widget-view+json": {
       "model_id": "0b582e1da4864053b0cd290bd3344d83",
       "version_major": 2,
       "version_minor": 0
      },
      "text/plain": [
       "0it [00:00, ?it/s]"
      ]
     },
     "metadata": {},
     "output_type": "display_data"
    },
    {
     "data": {
      "application/vnd.jupyter.widget-view+json": {
       "model_id": "0ee05e66c5644d118b53728eecbe16dd",
       "version_major": 2,
       "version_minor": 0
      },
      "text/plain": [
       "0it [00:00, ?it/s]"
      ]
     },
     "metadata": {},
     "output_type": "display_data"
    },
    {
     "data": {
      "application/vnd.jupyter.widget-view+json": {
       "model_id": "38d821451720480b8d8eec6673aa7691",
       "version_major": 2,
       "version_minor": 0
      },
      "text/plain": [
       "0it [00:00, ?it/s]"
      ]
     },
     "metadata": {},
     "output_type": "display_data"
    }
   ],
   "source": [
    "all_sents = []\n",
    "folder = 'C:/Users/david/Documents/nlp/leipzig-corpora/'\n",
    "for fn in os.listdir(folder):\n",
    "    with open(folder + fn, 'r') as f:\n",
    "        for line in tqdm(f):\n",
    "            text = line.strip().split('\\t', 1)[1]\n",
    "            all_sents.append(text)"
   ]
  },
  {
   "cell_type": "code",
   "execution_count": 4,
   "id": "9913b5cb",
   "metadata": {},
   "outputs": [
    {
     "name": "stdout",
     "output_type": "stream",
     "text": [
      "3000000\n"
     ]
    }
   ],
   "source": [
    "print(len(all_sents))"
   ]
  },
  {
   "cell_type": "code",
   "execution_count": 29,
   "id": "435d5c05",
   "metadata": {},
   "outputs": [
    {
     "name": "stderr",
     "output_type": "stream",
     "text": [
      "Using custom data configuration AigizK--bashkir-russian-parallel-corpora-4908f7b0980c2b94\n",
      "Found cached dataset parquet (C:/Users/david/.cache/huggingface/datasets/AigizK___parquet/AigizK--bashkir-russian-parallel-corpora-4908f7b0980c2b94/0.0.0/2a3b91fbd88a2c90d1dbbb32b460cf621d31bd5b05b934492fdef7d8d6f236ec)\n"
     ]
    },
    {
     "data": {
      "application/vnd.jupyter.widget-view+json": {
       "model_id": "4414e4d7720e4cc1af2f5ead56d6f6f7",
       "version_major": 2,
       "version_minor": 0
      },
      "text/plain": [
       "  0%|          | 0/1 [00:00<?, ?it/s]"
      ]
     },
     "metadata": {},
     "output_type": "display_data"
    }
   ],
   "source": [
    "larger_parallel = datasets.load_dataset('AigizK/bashkir-russian-parallel-corpora')"
   ]
  },
  {
   "cell_type": "code",
   "execution_count": 32,
   "id": "fc711fac",
   "metadata": {},
   "outputs": [
    {
     "data": {
      "application/vnd.jupyter.widget-view+json": {
       "model_id": "4c7af8194d31493b95b3ca83c91d78ae",
       "version_major": 2,
       "version_minor": 0
      },
      "text/plain": [
       "  0%|          | 0/702100 [00:00<?, ?it/s]"
      ]
     },
     "metadata": {},
     "output_type": "display_data"
    },
    {
     "name": "stdout",
     "output_type": "stream",
     "text": [
      "3702100\n"
     ]
    }
   ],
   "source": [
    "for text in tqdm(larger_parallel['train']['ru']):\n",
    "    all_sents.append(text)\n",
    "print(len(all_sents))"
   ]
  },
  {
   "cell_type": "code",
   "execution_count": 34,
   "id": "6d5fed39",
   "metadata": {},
   "outputs": [
    {
     "name": "stdout",
     "output_type": "stream",
     "text": [
      "«Сэра» разрушен до основания – теперь она поет в квартире, как потом выяснится, съемной, но пока.\n",
      "И этому есть свои причины.\n",
      "В Башкортостане для празднования Нового года заготовят 143 тысячи елок\n",
      "Сегодня, обсуждая тему экономики, нельзя обойти стороной и вопрос вокруг банковского кризиса.\n",
      "Одновременно руководил оркестрами различных шведских воинских подразделений.\n"
     ]
    }
   ],
   "source": [
    "for _ in range(5):\n",
    "    print(random.choice(all_sents))"
   ]
  },
  {
   "cell_type": "markdown",
   "id": "1a0248a9",
   "metadata": {},
   "source": [
    "# Create a tokenizer"
   ]
  },
  {
   "cell_type": "code",
   "execution_count": 6,
   "id": "a9d6fca0",
   "metadata": {},
   "outputs": [],
   "source": [
    "from transformers import T5TokenizerFast, T5ForConditionalGeneration, T5Config"
   ]
  },
  {
   "cell_type": "code",
   "execution_count": 7,
   "id": "79a55d02",
   "metadata": {},
   "outputs": [],
   "source": [
    "import pandas as pd"
   ]
  },
  {
   "cell_type": "code",
   "execution_count": 8,
   "id": "41765c25",
   "metadata": {},
   "outputs": [],
   "source": [
    "tokenizer = T5TokenizerFast.from_pretrained('../models/t5-tiny-rus')"
   ]
  },
  {
   "cell_type": "markdown",
   "id": "d171a44c",
   "metadata": {},
   "source": [
    "# Initialize a model"
   ]
  },
  {
   "cell_type": "code",
   "execution_count": 9,
   "id": "199d9dd3",
   "metadata": {},
   "outputs": [],
   "source": [
    "cfg = T5Config(\n",
    "    vocab_size=len(tokenizer),\n",
    "    d_model=512,\n",
    "    num_layers=6,\n",
    "    num_heads=8,\n",
    "    d_kv=64,\n",
    "    d_ff=512,\n",
    "    #feed_forward_proj='gated-gelu',\n",
    "    decoder_start_token_id=tokenizer.pad_token_id,\n",
    ")"
   ]
  },
  {
   "cell_type": "code",
   "execution_count": 10,
   "id": "05ff321b",
   "metadata": {},
   "outputs": [
    {
     "data": {
      "text/plain": [
       "T5Config {\n",
       "  \"d_ff\": 512,\n",
       "  \"d_kv\": 64,\n",
       "  \"d_model\": 512,\n",
       "  \"decoder_start_token_id\": 0,\n",
       "  \"dense_act_fn\": \"relu\",\n",
       "  \"dropout_rate\": 0.1,\n",
       "  \"eos_token_id\": 1,\n",
       "  \"feed_forward_proj\": \"relu\",\n",
       "  \"initializer_factor\": 1.0,\n",
       "  \"is_encoder_decoder\": true,\n",
       "  \"is_gated_act\": false,\n",
       "  \"layer_norm_epsilon\": 1e-06,\n",
       "  \"model_type\": \"t5\",\n",
       "  \"num_decoder_layers\": 6,\n",
       "  \"num_heads\": 8,\n",
       "  \"num_layers\": 6,\n",
       "  \"pad_token_id\": 0,\n",
       "  \"relative_attention_max_distance\": 128,\n",
       "  \"relative_attention_num_buckets\": 32,\n",
       "  \"transformers_version\": \"4.26.1\",\n",
       "  \"use_cache\": true,\n",
       "  \"vocab_size\": 32768\n",
       "}"
      ]
     },
     "execution_count": 10,
     "metadata": {},
     "output_type": "execute_result"
    }
   ],
   "source": [
    "cfg"
   ]
  },
  {
   "cell_type": "code",
   "execution_count": 11,
   "id": "09a5e407",
   "metadata": {},
   "outputs": [],
   "source": [
    "model = T5ForConditionalGeneration(cfg)"
   ]
  },
  {
   "cell_type": "code",
   "execution_count": 12,
   "id": "e6032da9",
   "metadata": {},
   "outputs": [],
   "source": [
    "MODEL_SAVE_PATH = '../models/t5-small-rus'"
   ]
  },
  {
   "cell_type": "code",
   "execution_count": 13,
   "id": "bab7a24c",
   "metadata": {},
   "outputs": [
    {
     "data": {
      "text/plain": [
       "('../models/t5-small-rus\\\\tokenizer_config.json',\n",
       " '../models/t5-small-rus\\\\special_tokens_map.json',\n",
       " '../models/t5-small-rus\\\\tokenizer.json')"
      ]
     },
     "execution_count": 13,
     "metadata": {},
     "output_type": "execute_result"
    }
   ],
   "source": [
    "model.save_pretrained(MODEL_SAVE_PATH)\n",
    "tokenizer.save_pretrained(MODEL_SAVE_PATH)"
   ]
  },
  {
   "cell_type": "markdown",
   "id": "27d338fe",
   "metadata": {},
   "source": [
    "# Define the training task"
   ]
  },
  {
   "cell_type": "code",
   "execution_count": 14,
   "id": "6c6f9d4e",
   "metadata": {},
   "outputs": [
    {
     "data": {
      "text/plain": [
       "'После общественных обсуждений тарифы на ж/д грузоперевозки могут возрасти до 18-20 млрд в год.'"
      ]
     },
     "execution_count": 14,
     "metadata": {},
     "output_type": "execute_result"
    }
   ],
   "source": [
    "text = random.choice(all_sents)\n",
    "text"
   ]
  },
  {
   "cell_type": "code",
   "execution_count": 15,
   "id": "fcd4448b",
   "metadata": {},
   "outputs": [],
   "source": [
    "def fill_gap_task(text=None, min_sent_len=3, p_num_words=0.5, left_pad=0, right_pad=0, mask_token='<extra_id_0>'):\n",
    "    if text is None:\n",
    "        text = random.choice(all_sents)\n",
    "    words = text.split()\n",
    "    if len(words) < min_sent_len:\n",
    "        return fill_gap_task()\n",
    "    # to choose between all substrings uniformly, pick both ends uniformly and re-pick if the order is incorrect.\n",
    "    left_id, right_id = 1, -1\n",
    "    while left_id > right_id:\n",
    "        left_id, right_id = [random.randint(left_pad, len(words)-1-right_pad) for _ in range(2)]\n",
    "    #left_id = random.randint(left_pad, right_id)\n",
    "    if random.random() > p_num_words:\n",
    "        filler = [mask_token]\n",
    "    else:\n",
    "        filler = [mask_token.replace('0', str(right_id-left_id+1))]\n",
    "    lhs = ' '.join(words[:left_id] + filler + words[right_id+1:])\n",
    "    rhs = ' '.join(words[left_id:(right_id+1)])\n",
    "    return lhs, rhs"
   ]
  },
  {
   "cell_type": "code",
   "execution_count": 16,
   "id": "f29ab59d",
   "metadata": {},
   "outputs": [
    {
     "name": "stdout",
     "output_type": "stream",
     "text": [
      "('<extra_id_0>', 'После общественных обсуждений тарифы на ж/д грузоперевозки могут возрасти до 18-20 млрд в год.', 96)\n",
      "('<extra_id_0> 18-20 млрд в год.', 'После общественных обсуждений тарифы на ж/д грузоперевозки могут возрасти до', 95)\n",
      "('<extra_id_0> в год.', 'После общественных обсуждений тарифы на ж/д грузоперевозки могут возрасти до 18-20 млрд', 100)\n",
      "('<extra_id_0> возрасти до 18-20 млрд в год.', 'После общественных обсуждений тарифы на ж/д грузоперевозки могут', 118)\n",
      "('<extra_id_0> год.', 'После общественных обсуждений тарифы на ж/д грузоперевозки могут возрасти до 18-20 млрд в', 105)\n",
      "('<extra_id_0> грузоперевозки могут возрасти до 18-20 млрд в год.', 'После общественных обсуждений тарифы на ж/д', 88)\n",
      "('<extra_id_0> до 18-20 млрд в год.', 'После общественных обсуждений тарифы на ж/д грузоперевозки могут возрасти', 85)\n",
      "('<extra_id_0> ж/д грузоперевозки могут возрасти до 18-20 млрд в год.', 'После общественных обсуждений тарифы на', 97)\n",
      "('<extra_id_0> млрд в год.', 'После общественных обсуждений тарифы на ж/д грузоперевозки могут возрасти до 18-20', 104)\n",
      "('<extra_id_0> могут возрасти до 18-20 млрд в год.', 'После общественных обсуждений тарифы на ж/д грузоперевозки', 88)\n",
      "('<extra_id_0> на ж/д грузоперевозки могут возрасти до 18-20 млрд в год.', 'После общественных обсуждений тарифы', 76)\n",
      "('<extra_id_0> обсуждений тарифы на ж/д грузоперевозки могут возрасти до 18-20 млрд в год.', 'После общественных', 102)\n",
      "('<extra_id_0> общественных обсуждений тарифы на ж/д грузоперевозки могут возрасти до 18-20 млрд в год.', 'После', 104)\n",
      "('<extra_id_0> тарифы на ж/д грузоперевозки могут возрасти до 18-20 млрд в год.', 'После общественных обсуждений', 100)\n",
      "('После <extra_id_0>', 'общественных обсуждений тарифы на ж/д грузоперевозки могут возрасти до 18-20 млрд в год.', 91)\n",
      "('После <extra_id_0> 18-20 млрд в год.', 'общественных обсуждений тарифы на ж/д грузоперевозки могут возрасти до', 92)\n",
      "('После <extra_id_0> в год.', 'общественных обсуждений тарифы на ж/д грузоперевозки могут возрасти до 18-20 млрд', 91)\n",
      "('После <extra_id_0> возрасти до 18-20 млрд в год.', 'общественных обсуждений тарифы на ж/д грузоперевозки могут', 114)\n",
      "('После <extra_id_0> год.', 'общественных обсуждений тарифы на ж/д грузоперевозки могут возрасти до 18-20 млрд в', 90)\n",
      "('После <extra_id_0> грузоперевозки могут возрасти до 18-20 млрд в год.', 'общественных обсуждений тарифы на ж/д', 98)\n",
      "('После <extra_id_0> до 18-20 млрд в год.', 'общественных обсуждений тарифы на ж/д грузоперевозки могут возрасти', 107)\n",
      "('После <extra_id_0> ж/д грузоперевозки могут возрасти до 18-20 млрд в год.', 'общественных обсуждений тарифы на', 88)\n",
      "('После <extra_id_0> млрд в год.', 'общественных обсуждений тарифы на ж/д грузоперевозки могут возрасти до 18-20', 94)\n",
      "('После <extra_id_0> могут возрасти до 18-20 млрд в год.', 'общественных обсуждений тарифы на ж/д грузоперевозки', 115)\n",
      "('После <extra_id_0> на ж/д грузоперевозки могут возрасти до 18-20 млрд в год.', 'общественных обсуждений тарифы', 80)\n",
      "('После <extra_id_0> обсуждений тарифы на ж/д грузоперевозки могут возрасти до 18-20 млрд в год.', 'общественных', 100)\n",
      "('После <extra_id_0> тарифы на ж/д грузоперевозки могут возрасти до 18-20 млрд в год.', 'общественных обсуждений', 86)\n",
      "('После общественных <extra_id_0>', 'обсуждений тарифы на ж/д грузоперевозки могут возрасти до 18-20 млрд в год.', 88)\n",
      "('После общественных <extra_id_0> 18-20 млрд в год.', 'обсуждений тарифы на ж/д грузоперевозки могут возрасти до', 98)\n",
      "('После общественных <extra_id_0> в год.', 'обсуждений тарифы на ж/д грузоперевозки могут возрасти до 18-20 млрд', 105)\n",
      "('После общественных <extra_id_0> возрасти до 18-20 млрд в год.', 'обсуждений тарифы на ж/д грузоперевозки могут', 81)\n",
      "('После общественных <extra_id_0> год.', 'обсуждений тарифы на ж/д грузоперевозки могут возрасти до 18-20 млрд в', 98)\n",
      "('После общественных <extra_id_0> грузоперевозки могут возрасти до 18-20 млрд в год.', 'обсуждений тарифы на ж/д', 104)\n",
      "('После общественных <extra_id_0> до 18-20 млрд в год.', 'обсуждений тарифы на ж/д грузоперевозки могут возрасти', 99)\n",
      "('После общественных <extra_id_0> ж/д грузоперевозки могут возрасти до 18-20 млрд в год.', 'обсуждений тарифы на', 101)\n",
      "('После общественных <extra_id_0> млрд в год.', 'обсуждений тарифы на ж/д грузоперевозки могут возрасти до 18-20', 106)\n",
      "('После общественных <extra_id_0> могут возрасти до 18-20 млрд в год.', 'обсуждений тарифы на ж/д грузоперевозки', 104)\n",
      "('После общественных <extra_id_0> на ж/д грузоперевозки могут возрасти до 18-20 млрд в год.', 'обсуждений тарифы', 94)\n",
      "('После общественных <extra_id_0> тарифы на ж/д грузоперевозки могут возрасти до 18-20 млрд в год.', 'обсуждений', 91)\n",
      "('После общественных обсуждений <extra_id_0>', 'тарифы на ж/д грузоперевозки могут возрасти до 18-20 млрд в год.', 98)\n",
      "('После общественных обсуждений <extra_id_0> 18-20 млрд в год.', 'тарифы на ж/д грузоперевозки могут возрасти до', 84)\n",
      "('После общественных обсуждений <extra_id_0> в год.', 'тарифы на ж/д грузоперевозки могут возрасти до 18-20 млрд', 81)\n",
      "('После общественных обсуждений <extra_id_0> возрасти до 18-20 млрд в год.', 'тарифы на ж/д грузоперевозки могут', 76)\n",
      "('После общественных обсуждений <extra_id_0> год.', 'тарифы на ж/д грузоперевозки могут возрасти до 18-20 млрд в', 95)\n",
      "('После общественных обсуждений <extra_id_0> грузоперевозки могут возрасти до 18-20 млрд в год.', 'тарифы на ж/д', 86)\n",
      "('После общественных обсуждений <extra_id_0> до 18-20 млрд в год.', 'тарифы на ж/д грузоперевозки могут возрасти', 94)\n",
      "('После общественных обсуждений <extra_id_0> ж/д грузоперевозки могут возрасти до 18-20 млрд в год.', 'тарифы на', 97)\n",
      "('После общественных обсуждений <extra_id_0> млрд в год.', 'тарифы на ж/д грузоперевозки могут возрасти до 18-20', 89)\n",
      "('После общественных обсуждений <extra_id_0> могут возрасти до 18-20 млрд в год.', 'тарифы на ж/д грузоперевозки', 81)\n",
      "('После общественных обсуждений <extra_id_0> на ж/д грузоперевозки могут возрасти до 18-20 млрд в год.', 'тарифы', 79)\n",
      "('После общественных обсуждений тарифы <extra_id_0>', 'на ж/д грузоперевозки могут возрасти до 18-20 млрд в год.', 101)\n",
      "('После общественных обсуждений тарифы <extra_id_0> 18-20 млрд в год.', 'на ж/д грузоперевозки могут возрасти до', 92)\n",
      "('После общественных обсуждений тарифы <extra_id_0> в год.', 'на ж/д грузоперевозки могут возрасти до 18-20 млрд', 101)\n",
      "('После общественных обсуждений тарифы <extra_id_0> возрасти до 18-20 млрд в год.', 'на ж/д грузоперевозки могут', 86)\n",
      "('После общественных обсуждений тарифы <extra_id_0> год.', 'на ж/д грузоперевозки могут возрасти до 18-20 млрд в', 91)\n",
      "('После общественных обсуждений тарифы <extra_id_0> грузоперевозки могут возрасти до 18-20 млрд в год.', 'на ж/д', 88)\n",
      "('После общественных обсуждений тарифы <extra_id_0> до 18-20 млрд в год.', 'на ж/д грузоперевозки могут возрасти', 94)\n",
      "('После общественных обсуждений тарифы <extra_id_0> ж/д грузоперевозки могут возрасти до 18-20 млрд в год.', 'на', 78)\n",
      "('После общественных обсуждений тарифы <extra_id_0> млрд в год.', 'на ж/д грузоперевозки могут возрасти до 18-20', 82)\n",
      "('После общественных обсуждений тарифы <extra_id_0> могут возрасти до 18-20 млрд в год.', 'на ж/д грузоперевозки', 90)\n",
      "('После общественных обсуждений тарифы на <extra_id_0>', 'ж/д грузоперевозки могут возрасти до 18-20 млрд в год.', 99)\n",
      "('После общественных обсуждений тарифы на <extra_id_0> 18-20 млрд в год.', 'ж/д грузоперевозки могут возрасти до', 101)\n",
      "('После общественных обсуждений тарифы на <extra_id_0> в год.', 'ж/д грузоперевозки могут возрасти до 18-20 млрд', 88)\n",
      "('После общественных обсуждений тарифы на <extra_id_0> возрасти до 18-20 млрд в год.', 'ж/д грузоперевозки могут', 81)\n",
      "('После общественных обсуждений тарифы на <extra_id_0> год.', 'ж/д грузоперевозки могут возрасти до 18-20 млрд в', 104)\n",
      "('После общественных обсуждений тарифы на <extra_id_0> грузоперевозки могут возрасти до 18-20 млрд в год.', 'ж/д', 83)\n",
      "('После общественных обсуждений тарифы на <extra_id_0> до 18-20 млрд в год.', 'ж/д грузоперевозки могут возрасти', 100)\n",
      "('После общественных обсуждений тарифы на <extra_id_0> млрд в год.', 'ж/д грузоперевозки могут возрасти до 18-20', 111)\n",
      "('После общественных обсуждений тарифы на <extra_id_0> могут возрасти до 18-20 млрд в год.', 'ж/д грузоперевозки', 105)\n",
      "('После общественных обсуждений тарифы на ж/д <extra_id_0>', 'грузоперевозки могут возрасти до 18-20 млрд в год.', 93)\n",
      "('После общественных обсуждений тарифы на ж/д <extra_id_0> 18-20 млрд в год.', 'грузоперевозки могут возрасти до', 87)\n",
      "('После общественных обсуждений тарифы на ж/д <extra_id_0> в год.', 'грузоперевозки могут возрасти до 18-20 млрд', 94)\n",
      "('После общественных обсуждений тарифы на ж/д <extra_id_0> возрасти до 18-20 млрд в год.', 'грузоперевозки могут', 99)\n",
      "('После общественных обсуждений тарифы на ж/д <extra_id_0> год.', 'грузоперевозки могут возрасти до 18-20 млрд в', 101)\n",
      "('После общественных обсуждений тарифы на ж/д <extra_id_0> до 18-20 млрд в год.', 'грузоперевозки могут возрасти', 100)\n",
      "('После общественных обсуждений тарифы на ж/д <extra_id_0> млрд в год.', 'грузоперевозки могут возрасти до 18-20', 104)\n",
      "('После общественных обсуждений тарифы на ж/д <extra_id_0> могут возрасти до 18-20 млрд в год.', 'грузоперевозки', 95)\n",
      "('После общественных обсуждений тарифы на ж/д грузоперевозки <extra_id_0>', 'могут возрасти до 18-20 млрд в год.', 106)\n",
      "('После общественных обсуждений тарифы на ж/д грузоперевозки <extra_id_0> 18-20 млрд в год.', 'могут возрасти до', 91)\n",
      "('После общественных обсуждений тарифы на ж/д грузоперевозки <extra_id_0> в год.', 'могут возрасти до 18-20 млрд', 97)\n",
      "('После общественных обсуждений тарифы на ж/д грузоперевозки <extra_id_0> возрасти до 18-20 млрд в год.', 'могут', 90)\n",
      "('После общественных обсуждений тарифы на ж/д грузоперевозки <extra_id_0> год.', 'могут возрасти до 18-20 млрд в', 98)\n",
      "('После общественных обсуждений тарифы на ж/д грузоперевозки <extra_id_0> до 18-20 млрд в год.', 'могут возрасти', 93)\n",
      "('После общественных обсуждений тарифы на ж/д грузоперевозки <extra_id_0> млрд в год.', 'могут возрасти до 18-20', 102)\n",
      "('После общественных обсуждений тарифы на ж/д грузоперевозки могут <extra_id_0>', 'возрасти до 18-20 млрд в год.', 103)\n",
      "('После общественных обсуждений тарифы на ж/д грузоперевозки могут <extra_id_0> 18-20 млрд в год.', 'возрасти до', 93)\n",
      "('После общественных обсуждений тарифы на ж/д грузоперевозки могут <extra_id_0> в год.', 'возрасти до 18-20 млрд', 85)\n",
      "('После общественных обсуждений тарифы на ж/д грузоперевозки могут <extra_id_0> год.', 'возрасти до 18-20 млрд в', 100)\n",
      "('После общественных обсуждений тарифы на ж/д грузоперевозки могут <extra_id_0> до 18-20 млрд в год.', 'возрасти', 120)\n",
      "('После общественных обсуждений тарифы на ж/д грузоперевозки могут <extra_id_0> млрд в год.', 'возрасти до 18-20', 80)\n",
      "('После общественных обсуждений тарифы на ж/д грузоперевозки могут возрасти <extra_id_0>', 'до 18-20 млрд в год.', 92)\n",
      "('После общественных обсуждений тарифы на ж/д грузоперевозки могут возрасти <extra_id_0> 18-20 млрд в год.', 'до', 94)\n",
      "('После общественных обсуждений тарифы на ж/д грузоперевозки могут возрасти <extra_id_0> в год.', 'до 18-20 млрд', 97)\n",
      "('После общественных обсуждений тарифы на ж/д грузоперевозки могут возрасти <extra_id_0> год.', 'до 18-20 млрд в', 100)\n",
      "('После общественных обсуждений тарифы на ж/д грузоперевозки могут возрасти <extra_id_0> млрд в год.', 'до 18-20', 92)\n",
      "('После общественных обсуждений тарифы на ж/д грузоперевозки могут возрасти до 18-20 <extra_id_0>', 'млрд в год.', 96)\n",
      "('После общественных обсуждений тарифы на ж/д грузоперевозки могут возрасти до 18-20 <extra_id_0> в год.', 'млрд', 86)\n",
      "('После общественных обсуждений тарифы на ж/д грузоперевозки могут возрасти до 18-20 <extra_id_0> год.', 'млрд в', 92)\n",
      "('После общественных обсуждений тарифы на ж/д грузоперевозки могут возрасти до 18-20 млрд <extra_id_0>', 'в год.', 103)\n",
      "('После общественных обсуждений тарифы на ж/д грузоперевозки могут возрасти до 18-20 млрд <extra_id_0> год.', 'в', 86)\n",
      "('После общественных обсуждений тарифы на ж/д грузоперевозки могут возрасти до 18-20 млрд в <extra_id_0>', 'год.', 98)\n",
      "('После общественных обсуждений тарифы на ж/д грузоперевозки могут возрасти до <extra_id_0>', '18-20 млрд в год.', 95)\n",
      "('После общественных обсуждений тарифы на ж/д грузоперевозки могут возрасти до <extra_id_0> в год.', '18-20 млрд', 103)\n",
      "('После общественных обсуждений тарифы на ж/д грузоперевозки могут возрасти до <extra_id_0> год.', '18-20 млрд в', 101)\n",
      "('После общественных обсуждений тарифы на ж/д грузоперевозки могут возрасти до <extra_id_0> млрд в год.', '18-20', 126)\n"
     ]
    }
   ],
   "source": [
    "from collections import Counter\n",
    "\n",
    "for t in sorted([(x, y, c) for (x, y), c in Counter(fill_gap_task(text, p_num_words=0) for _ in range(10000)).most_common()]):\n",
    "    print(t)"
   ]
  },
  {
   "cell_type": "markdown",
   "id": "b66d82e2",
   "metadata": {},
   "source": [
    "# Training"
   ]
  },
  {
   "cell_type": "code",
   "execution_count": 17,
   "id": "79026a54",
   "metadata": {},
   "outputs": [],
   "source": [
    "import numpy as np\n",
    "import torch\n",
    "from tqdm.auto import tqdm, trange\n",
    "from transformers.optimization import Adafactor, AdamW\n",
    "from transformers import get_linear_schedule_with_warmup, get_constant_schedule_with_warmup\n",
    "\n",
    "import gc\n",
    "import numpy as np\n",
    "\n",
    "def cleanup():\n",
    "    gc.collect()\n",
    "    torch.cuda.empty_cache()\n",
    "    \n",
    "cleanup()"
   ]
  },
  {
   "cell_type": "code",
   "execution_count": 18,
   "id": "dd8d96f7",
   "metadata": {},
   "outputs": [],
   "source": [
    "model.cuda();"
   ]
  },
  {
   "cell_type": "code",
   "execution_count": 19,
   "id": "c9e11fc9",
   "metadata": {},
   "outputs": [],
   "source": [
    "optimizer = torch.optim.AdamW(\n",
    "    [p for p in model.parameters() if p.requires_grad],  \n",
    "    lr=1e-3,\n",
    "    weight_decay=1e-3,\n",
    ")"
   ]
  },
  {
   "cell_type": "code",
   "execution_count": 52,
   "id": "ed71a613",
   "metadata": {},
   "outputs": [],
   "source": [
    "batch_size = 16 # we can get even more, but training gets slow\n",
    "max_length = 64\n",
    "warmup_steps = 5_000\n",
    "training_steps = 500_000"
   ]
  },
  {
   "cell_type": "code",
   "execution_count": 21,
   "id": "e5e17aa2",
   "metadata": {},
   "outputs": [],
   "source": [
    "losses = []"
   ]
  },
  {
   "cell_type": "code",
   "execution_count": 22,
   "id": "393e0108",
   "metadata": {},
   "outputs": [],
   "source": [
    "scheduler = get_linear_schedule_with_warmup(optimizer, num_warmup_steps=warmup_steps, num_training_steps=training_steps)"
   ]
  },
  {
   "cell_type": "code",
   "execution_count": 23,
   "id": "baacf1f8",
   "metadata": {},
   "outputs": [],
   "source": [
    "def get_batch_pairs(batch_size, p=0.5):\n",
    "    xx, yy = [], []\n",
    "    for text in random.sample(all_sents, batch_size):\n",
    "        x, y = fill_gap_task(text, p_num_words=p)\n",
    "        xx.append(x)\n",
    "        yy.append(y)\n",
    "    return xx, yy"
   ]
  },
  {
   "cell_type": "code",
   "execution_count": 24,
   "id": "d54e88e5",
   "metadata": {},
   "outputs": [
    {
     "data": {
      "text/plain": [
       "(['По существу представляет попытку механизации обработки больших массивов <extra_id_0> работу с двумерными массивами.',\n",
       "  'Под его руководством в ИППИ получили дальнейшее развитие ряд новых направлений исследований, <extra_id_0> по помехоустойчивому кодированию и распознаванию образов.',\n",
       "  'В 1984 году состоялось освящение новой евангелизационной палатки, вмещающей 34 <extra_id_0> человек.'],\n",
       " ['данных,', 'в том числе', 'тысячи'])"
      ]
     },
     "execution_count": 24,
     "metadata": {},
     "output_type": "execute_result"
    }
   ],
   "source": [
    "get_batch_pairs(3)"
   ]
  },
  {
   "cell_type": "code",
   "execution_count": 25,
   "id": "221ff044",
   "metadata": {},
   "outputs": [],
   "source": [
    "# optimizer.param_groups[0]['lr'] = 1e-3  # did this at about 43k step\\s"
   ]
  },
  {
   "cell_type": "code",
   "execution_count": 117,
   "id": "2583a500",
   "metadata": {
    "scrolled": true
   },
   "outputs": [
    {
     "data": {
      "application/vnd.jupyter.widget-view+json": {
       "model_id": "b025493f9b6f47a2ae8c7d92a8dc627c",
       "version_major": 2,
       "version_minor": 0
      },
      "text/plain": [
       "  0%|          | 0/265118 [00:00<?, ?it/s]"
      ]
     },
     "metadata": {},
     "output_type": "display_data"
    },
    {
     "name": "stdout",
     "output_type": "stream",
     "text": [
      "235000 6.548920355319977\n",
      "236000 6.567369338035584\n",
      "237000 6.54807213640213\n",
      "238000 6.5500319790840145\n",
      "239000 6.533667087554932\n",
      "240000 6.556890660762787\n",
      "241000 6.556063564300537\n",
      "242000 6.541131260871887\n",
      "243000 6.537235252380371\n",
      "244000 6.551750202178955\n",
      "245000 6.525691481113434\n",
      "246000 6.527601932048798\n",
      "247000 6.531567666530609\n"
     ]
    },
    {
     "ename": "KeyboardInterrupt",
     "evalue": "",
     "output_type": "error",
     "traceback": [
      "\u001b[1;31m---------------------------------------------------------------------------\u001b[0m",
      "\u001b[1;31mKeyboardInterrupt\u001b[0m                         Traceback (most recent call last)",
      "\u001b[1;32m~\\AppData\\Local\\Temp/ipykernel_14704/1636250469.py\u001b[0m in \u001b[0;36m<module>\u001b[1;34m\u001b[0m\n\u001b[0;32m     11\u001b[0m         \u001b[0mloss\u001b[0m \u001b[1;33m=\u001b[0m \u001b[0mmodel\u001b[0m\u001b[1;33m(\u001b[0m\u001b[1;33m**\u001b[0m\u001b[0mx\u001b[0m\u001b[1;33m,\u001b[0m \u001b[0mlabels\u001b[0m\u001b[1;33m=\u001b[0m\u001b[0my\u001b[0m\u001b[1;33m.\u001b[0m\u001b[0minput_ids\u001b[0m\u001b[1;33m)\u001b[0m\u001b[1;33m.\u001b[0m\u001b[0mloss\u001b[0m\u001b[1;33m\u001b[0m\u001b[1;33m\u001b[0m\u001b[0m\n\u001b[0;32m     12\u001b[0m \u001b[1;33m\u001b[0m\u001b[0m\n\u001b[1;32m---> 13\u001b[1;33m         \u001b[0mloss\u001b[0m\u001b[1;33m.\u001b[0m\u001b[0mbackward\u001b[0m\u001b[1;33m(\u001b[0m\u001b[1;33m)\u001b[0m\u001b[1;33m\u001b[0m\u001b[1;33m\u001b[0m\u001b[0m\n\u001b[0m\u001b[0;32m     14\u001b[0m         \u001b[0mlosses\u001b[0m\u001b[1;33m.\u001b[0m\u001b[0mappend\u001b[0m\u001b[1;33m(\u001b[0m\u001b[0mloss\u001b[0m\u001b[1;33m.\u001b[0m\u001b[0mitem\u001b[0m\u001b[1;33m(\u001b[0m\u001b[1;33m)\u001b[0m\u001b[1;33m)\u001b[0m\u001b[1;33m\u001b[0m\u001b[1;33m\u001b[0m\u001b[0m\n\u001b[0;32m     15\u001b[0m \u001b[1;33m\u001b[0m\u001b[0m\n",
      "\u001b[1;32mc:\\users\\david\\appdata\\local\\programs\\python\\python39\\lib\\site-packages\\torch\\_tensor.py\u001b[0m in \u001b[0;36mbackward\u001b[1;34m(self, gradient, retain_graph, create_graph, inputs)\u001b[0m\n\u001b[0;32m    485\u001b[0m                 \u001b[0minputs\u001b[0m\u001b[1;33m=\u001b[0m\u001b[0minputs\u001b[0m\u001b[1;33m,\u001b[0m\u001b[1;33m\u001b[0m\u001b[1;33m\u001b[0m\u001b[0m\n\u001b[0;32m    486\u001b[0m             )\n\u001b[1;32m--> 487\u001b[1;33m         torch.autograd.backward(\n\u001b[0m\u001b[0;32m    488\u001b[0m             \u001b[0mself\u001b[0m\u001b[1;33m,\u001b[0m \u001b[0mgradient\u001b[0m\u001b[1;33m,\u001b[0m \u001b[0mretain_graph\u001b[0m\u001b[1;33m,\u001b[0m \u001b[0mcreate_graph\u001b[0m\u001b[1;33m,\u001b[0m \u001b[0minputs\u001b[0m\u001b[1;33m=\u001b[0m\u001b[0minputs\u001b[0m\u001b[1;33m\u001b[0m\u001b[1;33m\u001b[0m\u001b[0m\n\u001b[0;32m    489\u001b[0m         )\n",
      "\u001b[1;32mc:\\users\\david\\appdata\\local\\programs\\python\\python39\\lib\\site-packages\\torch\\autograd\\__init__.py\u001b[0m in \u001b[0;36mbackward\u001b[1;34m(tensors, grad_tensors, retain_graph, create_graph, grad_variables, inputs)\u001b[0m\n\u001b[0;32m    195\u001b[0m     \u001b[1;31m# some Python versions print out the first line of a multi-line function\u001b[0m\u001b[1;33m\u001b[0m\u001b[1;33m\u001b[0m\u001b[1;33m\u001b[0m\u001b[0m\n\u001b[0;32m    196\u001b[0m     \u001b[1;31m# calls in the traceback and some print out the last line\u001b[0m\u001b[1;33m\u001b[0m\u001b[1;33m\u001b[0m\u001b[1;33m\u001b[0m\u001b[0m\n\u001b[1;32m--> 197\u001b[1;33m     Variable._execution_engine.run_backward(  # Calls into the C++ engine to run the backward pass\n\u001b[0m\u001b[0;32m    198\u001b[0m         \u001b[0mtensors\u001b[0m\u001b[1;33m,\u001b[0m \u001b[0mgrad_tensors_\u001b[0m\u001b[1;33m,\u001b[0m \u001b[0mretain_graph\u001b[0m\u001b[1;33m,\u001b[0m \u001b[0mcreate_graph\u001b[0m\u001b[1;33m,\u001b[0m \u001b[0minputs\u001b[0m\u001b[1;33m,\u001b[0m\u001b[1;33m\u001b[0m\u001b[1;33m\u001b[0m\u001b[0m\n\u001b[0;32m    199\u001b[0m         allow_unreachable=True, accumulate_grad=True)  # Calls into the C++ engine to run the backward pass\n",
      "\u001b[1;31mKeyboardInterrupt\u001b[0m: "
     ]
    }
   ],
   "source": [
    "model.train()\n",
    "\n",
    "tq = trange(len(losses), training_steps)\n",
    "for i in tq:\n",
    "    xx, yy = get_batch_pairs(batch_size)\n",
    "    try:\n",
    "        x = tokenizer(xx, return_tensors='pt', padding=True, truncation=True, max_length=max_length).to(model.device)\n",
    "        y = tokenizer(yy, return_tensors='pt', padding=True, truncation=True, max_length=max_length).to(model.device)\n",
    "        y.input_ids[y.input_ids == 0] = -100\n",
    "        \n",
    "        loss = model(**x, labels=y.input_ids).loss\n",
    "\n",
    "        loss.backward()\n",
    "        losses.append(loss.item())\n",
    "\n",
    "        torch.nn.utils.clip_grad_norm_(model.parameters(), 1.0)\n",
    "        optimizer.step()\n",
    "        optimizer.zero_grad(set_to_none=True)\n",
    "        scheduler.step()\n",
    "\n",
    "    except RuntimeError:\n",
    "        optimizer.zero_grad(set_to_none=True)\n",
    "        x, y, loss = None, None, None\n",
    "        cleanup()\n",
    "        print('error', max(len(s) for s in xx + yy))\n",
    "        continue\n",
    "\n",
    "    if i % 1000 == 0:\n",
    "        print(i, np.mean(losses[-1000:]))\n",
    "\n",
    "    if i % 10000 == 0 and i > 0:\n",
    "        model.save_pretrained(MODEL_SAVE_PATH)\n",
    "        tokenizer.save_pretrained(MODEL_SAVE_PATH)"
   ]
  },
  {
   "cell_type": "code",
   "execution_count": 118,
   "id": "467244ce",
   "metadata": {},
   "outputs": [
    {
     "name": "stdout",
     "output_type": "stream",
     "text": [
      "247792\n"
     ]
    },
    {
     "data": {
      "image/png": "[encoded data removed]",
      "text/plain": [
       "<Figure size 432x288 with 1 Axes>"
      ]
     },
     "metadata": {
      "needs_background": "light"
     },
     "output_type": "display_data"
    }
   ],
   "source": [
    "print(len(losses))\n",
    "pd.Series(losses).ewm(300).mean()[10:].plot(lw=1);"
   ]
  },
  {
   "cell_type": "code",
   "execution_count": 119,
   "id": "d618a980",
   "metadata": {},
   "outputs": [
    {
     "data": {
      "image/png": "[encoded data removed]",
      "text/plain": [
       "<Figure size 432x288 with 1 Axes>"
      ]
     },
     "metadata": {
      "needs_background": "light"
     },
     "output_type": "display_data"
    }
   ],
   "source": [
    "pd.Series(losses).ewm(100).mean()[-30000:].plot(lw=1);"
   ]
  },
  {
   "cell_type": "code",
   "execution_count": 120,
   "id": "bc408448",
   "metadata": {},
   "outputs": [
    {
     "data": {
      "text/plain": [
       "'Сборная Белоруссии проиграла Великобритании на чемпионате мира по хоккею, который проходит в Риге.'"
      ]
     },
     "execution_count": 120,
     "metadata": {},
     "output_type": "execute_result"
    }
   ],
   "source": [
    "sent = random.choice(all_sents)\n",
    "sent"
   ]
  },
  {
   "cell_type": "code",
   "execution_count": 124,
   "id": "8ae01ed7",
   "metadata": {},
   "outputs": [
    {
     "name": "stdout",
     "output_type": "stream",
     "text": [
      "Сборная Белоруссии проиграла <extra_id_0> Риге.\n",
      "Великобритании на чемпионате мира по хоккею, который проходит в\n"
     ]
    }
   ],
   "source": [
    "xx, yy = fill_gap_task(sent, p_num_words=0.5)\n",
    "print(xx)\n",
    "print(yy)"
   ]
  },
  {
   "cell_type": "code",
   "execution_count": 125,
   "id": "159d8b69",
   "metadata": {},
   "outputs": [
    {
     "name": "stdout",
     "output_type": "stream",
     "text": [
      "<pad> Здесь о него</s>\n",
      "<pad> Ина,</s>\n",
      "<pad> о чём</s>\n",
      "<pad> –</s>\n",
      "<pad> Этот, поэтому, я</s>\n"
     ]
    }
   ],
   "source": [
    "model.eval();\n",
    "\n",
    "with torch.inference_mode():\n",
    "    x = tokenizer(xx, return_tensors='pt', padding=True, truncation=True, max_length=max_length).to(model.device)\n",
    "    for _ in range(5):\n",
    "        print(tokenizer.decode(model.generate(**x, num_beams=1, do_sample=True)[0]))"
   ]
  },
  {
   "cell_type": "code",
   "execution_count": 47,
   "id": "e844d24d",
   "metadata": {},
   "outputs": [
    {
     "name": "stdout",
     "output_type": "stream",
     "text": [
      "['▁Сам', '▁Да', 'кар', '▁был', '▁отдел', 'ен', '<extra_id_0>', '▁18', '87', '▁году', '.']\n"
     ]
    }
   ],
   "source": [
    "print(tokenizer.tokenize(xx))"
   ]
  },
  {
   "cell_type": "code",
   "execution_count": 49,
   "id": "b2de6148",
   "metadata": {},
   "outputs": [],
   "source": [
    "optimizer.zero_grad(set_to_none=True)\n",
    "x, y, loss = None, None, None\n",
    "cleanup()"
   ]
  },
  {
   "cell_type": "code",
   "execution_count": 50,
   "id": "ea377565",
   "metadata": {},
   "outputs": [],
   "source": [
    "for k, v in list(globals().items()):\n",
    "    if isinstance(v, torch.Tensor):\n",
    "        print(k, v.shape)"
   ]
  },
  {
   "cell_type": "code",
   "execution_count": null,
   "id": "6f9e5ff8",
   "metadata": {},
   "outputs": [],
   "source": []
  }
 ],
 "metadata": {
  "kernelspec": {
   "display_name": "Python 3 (ipykernel)",
   "language": "python",
   "name": "python3"
  },
  "language_info": {
   "codemirror_mode": {
    "name": "ipython",
    "version": 3
   },
   "file_extension": ".py",
   "mimetype": "text/x-python",
   "name": "python",
   "nbconvert_exporter": "python",
   "pygments_lexer": "ipython3",
   "version": "3.9.6"
  }
 },
 "nbformat": 4,
 "nbformat_minor": 5
}
