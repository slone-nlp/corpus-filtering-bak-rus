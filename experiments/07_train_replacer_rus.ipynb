{
 "cells": [
  {
   "cell_type": "markdown",
   "id": "6366578a",
   "metadata": {},
   "source": [
    "# Load data"
   ]
  },
  {
   "cell_type": "code",
   "execution_count": 1,
   "id": "6c5e5afa",
   "metadata": {},
   "outputs": [],
   "source": [
    "import pandas as pd"
   ]
  },
  {
   "cell_type": "code",
   "execution_count": 1,
   "id": "1ec84323",
   "metadata": {},
   "outputs": [],
   "source": [
    "from tqdm.auto import tqdm, trange\n",
    "import random\n",
    "import os"
   ]
  },
  {
   "cell_type": "code",
   "execution_count": 2,
   "id": "c11405a7",
   "metadata": {},
   "outputs": [
    {
     "data": {
      "application/vnd.jupyter.widget-view+json": {
       "model_id": "99cc65541fa14b358cf537f99f903633",
       "version_major": 2,
       "version_minor": 0
      },
      "text/plain": [
       "0it [00:00, ?it/s]"
      ]
     },
     "metadata": {},
     "output_type": "display_data"
    },
    {
     "data": {
      "application/vnd.jupyter.widget-view+json": {
       "model_id": "82c5490160ae4066a49566c67f62e67a",
       "version_major": 2,
       "version_minor": 0
      },
      "text/plain": [
       "0it [00:00, ?it/s]"
      ]
     },
     "metadata": {},
     "output_type": "display_data"
    },
    {
     "data": {
      "application/vnd.jupyter.widget-view+json": {
       "model_id": "6472237acd14463bb1699cf0fb5751aa",
       "version_major": 2,
       "version_minor": 0
      },
      "text/plain": [
       "0it [00:00, ?it/s]"
      ]
     },
     "metadata": {},
     "output_type": "display_data"
    }
   ],
   "source": [
    "all_sents = []\n",
    "folder = 'C:/Users/david/Documents/nlp/leipzig-corpora/'\n",
    "for fn in os.listdir(folder):\n",
    "    with open(folder + fn, 'r') as f:\n",
    "        for line in tqdm(f):\n",
    "            text = line.strip().split('\\t', 1)[1]\n",
    "            all_sents.append(text)"
   ]
  },
  {
   "cell_type": "code",
   "execution_count": 3,
   "id": "9913b5cb",
   "metadata": {},
   "outputs": [
    {
     "name": "stdout",
     "output_type": "stream",
     "text": [
      "3000000\n"
     ]
    }
   ],
   "source": [
    "print(len(all_sents))"
   ]
  },
  {
   "cell_type": "code",
   "execution_count": 4,
   "id": "952509a4",
   "metadata": {},
   "outputs": [
    {
     "name": "stdout",
     "output_type": "stream",
     "text": [
      "Валерий Жарков рассказал, что владельцы 10 из 12 домов могут уже сейчас воспользоваться компенсацией, приобрести новое жилье.\n",
      "С 31 мая для ремонта закрыто отделение связи 620027 (Екатеринбург, улица Мельковская, 2б).\n",
      "Мы доставляем дренажные трубы в конкуренцию ЖБИ, но обходятся.\n",
      "Он представлял граждан Ваилики и соседних городов Мауи.\n",
      "Для живого человека очень важна стабильность жизненного уклада, устоявшееся существование.\n"
     ]
    }
   ],
   "source": [
    "for _ in range(5):\n",
    "    print(random.choice(all_sents))"
   ]
  },
  {
   "cell_type": "markdown",
   "id": "1a0248a9",
   "metadata": {},
   "source": [
    "# Create a tokenizer"
   ]
  },
  {
   "cell_type": "code",
   "execution_count": 5,
   "id": "a9d6fca0",
   "metadata": {},
   "outputs": [],
   "source": [
    "# I don't like BART tokenizer, because it is byte-level\n",
    "# I don't like T5 tokenizer, because it uses crazy tokens\n",
    "# from transformers import BartTokenizerFast, BartForConditionalGeneration, BartConfig\n",
    "from transformers import T5TokenizerFast, T5ForConditionalGeneration, T5Config"
   ]
  },
  {
   "cell_type": "code",
   "execution_count": 6,
   "id": "8790858a",
   "metadata": {},
   "outputs": [],
   "source": [
    "old_tokenizer = T5TokenizerFast.from_pretrained('t5-small', model_max_length=512)"
   ]
  },
  {
   "cell_type": "code",
   "execution_count": 7,
   "id": "1b897dda",
   "metadata": {},
   "outputs": [
    {
     "data": {
      "text/plain": [
       "{'input_ids': [21820, 296, 1], 'attention_mask': [1, 1, 1]}"
      ]
     },
     "execution_count": 7,
     "metadata": {},
     "output_type": "execute_result"
    }
   ],
   "source": [
    "old_tokenizer('hello world')"
   ]
  },
  {
   "cell_type": "code",
   "execution_count": 8,
   "id": "a6c0322d",
   "metadata": {},
   "outputs": [],
   "source": [
    "def batch_iterator(batch_size=10000):\n",
    "    for i in tqdm(range(0, len(all_sents), batch_size)):\n",
    "        yield all_sents[i : i + batch_size]"
   ]
  },
  {
   "cell_type": "code",
   "execution_count": 9,
   "id": "16f3cf7b",
   "metadata": {},
   "outputs": [
    {
     "data": {
      "application/vnd.jupyter.widget-view+json": {
       "model_id": "a5f148ea330f49c182fcbf016883b5e0",
       "version_major": 2,
       "version_minor": 0
      },
      "text/plain": [
       "  0%|          | 0/300 [00:00<?, ?it/s]"
      ]
     },
     "metadata": {},
     "output_type": "display_data"
    }
   ],
   "source": [
    "tokenizer = old_tokenizer.train_new_from_iterator(text_iterator=batch_iterator(), vocab_size=32768)"
   ]
  },
  {
   "cell_type": "code",
   "execution_count": 10,
   "id": "053d53dc",
   "metadata": {},
   "outputs": [
    {
     "data": {
      "text/plain": [
       "T5TokenizerFast(name_or_path='t5-small', vocab_size=32768, model_max_length=512, is_fast=True, padding_side='right', truncation_side='right', special_tokens={'eos_token': '</s>', 'unk_token': '<unk>', 'pad_token': '<pad>', 'additional_special_tokens': ['<extra_id_0>', '<extra_id_1>', '<extra_id_2>', '<extra_id_3>', '<extra_id_4>', '<extra_id_5>', '<extra_id_6>', '<extra_id_7>', '<extra_id_8>', '<extra_id_9>', '<extra_id_10>', '<extra_id_11>', '<extra_id_12>', '<extra_id_13>', '<extra_id_14>', '<extra_id_15>', '<extra_id_16>', '<extra_id_17>', '<extra_id_18>', '<extra_id_19>', '<extra_id_20>', '<extra_id_21>', '<extra_id_22>', '<extra_id_23>', '<extra_id_24>', '<extra_id_25>', '<extra_id_26>', '<extra_id_27>', '<extra_id_28>', '<extra_id_29>', '<extra_id_30>', '<extra_id_31>', '<extra_id_32>', '<extra_id_33>', '<extra_id_34>', '<extra_id_35>', '<extra_id_36>', '<extra_id_37>', '<extra_id_38>', '<extra_id_39>', '<extra_id_40>', '<extra_id_41>', '<extra_id_42>', '<extra_id_43>', '<extra_id_44>', '<extra_id_45>', '<extra_id_46>', '<extra_id_47>', '<extra_id_48>', '<extra_id_49>', '<extra_id_50>', '<extra_id_51>', '<extra_id_52>', '<extra_id_53>', '<extra_id_54>', '<extra_id_55>', '<extra_id_56>', '<extra_id_57>', '<extra_id_58>', '<extra_id_59>', '<extra_id_60>', '<extra_id_61>', '<extra_id_62>', '<extra_id_63>', '<extra_id_64>', '<extra_id_65>', '<extra_id_66>', '<extra_id_67>', '<extra_id_68>', '<extra_id_69>', '<extra_id_70>', '<extra_id_71>', '<extra_id_72>', '<extra_id_73>', '<extra_id_74>', '<extra_id_75>', '<extra_id_76>', '<extra_id_77>', '<extra_id_78>', '<extra_id_79>', '<extra_id_80>', '<extra_id_81>', '<extra_id_82>', '<extra_id_83>', '<extra_id_84>', '<extra_id_85>', '<extra_id_86>', '<extra_id_87>', '<extra_id_88>', '<extra_id_89>', '<extra_id_90>', '<extra_id_91>', '<extra_id_92>', '<extra_id_93>', '<extra_id_94>', '<extra_id_95>', '<extra_id_96>', '<extra_id_97>', '<extra_id_98>', '<extra_id_99>']})"
      ]
     },
     "execution_count": 10,
     "metadata": {},
     "output_type": "execute_result"
    }
   ],
   "source": [
    "tokenizer"
   ]
  },
  {
   "cell_type": "code",
   "execution_count": 11,
   "id": "8c7d9349",
   "metadata": {},
   "outputs": [
    {
     "data": {
      "text/plain": [
       "{'input_ids': [103, 1395, 5918, 603, 103, 1142, 1669, 854, 959, 1], 'attention_mask': [1, 1, 1, 1, 1, 1, 1, 1, 1, 1]}"
      ]
     },
     "execution_count": 11,
     "metadata": {},
     "output_type": "execute_result"
    }
   ],
   "source": [
    "tokenizer('hello world')"
   ]
  },
  {
   "cell_type": "code",
   "execution_count": 12,
   "id": "84a5e76c",
   "metadata": {},
   "outputs": [
    {
     "data": {
      "text/plain": [
       "['▁Так',\n",
       " ',',\n",
       " '▁',\n",
       " 'например,',\n",
       " '▁спутник',\n",
       " '▁\"С',\n",
       " 'ич',\n",
       " '-3',\n",
       " '-О',\n",
       " '\"',\n",
       " '▁способен',\n",
       " '▁\"',\n",
       " 'рас',\n",
       " 'смотреть',\n",
       " '\"',\n",
       " '▁на',\n",
       " '▁земле',\n",
       " '▁во',\n",
       " '▁время',\n",
       " '▁',\n",
       " 'съемок',\n",
       " '▁объекты',\n",
       " '▁размерам',\n",
       " 'и',\n",
       " '▁в',\n",
       " '▁',\n",
       " '0,5',\n",
       " '▁метра',\n",
       " ',',\n",
       " '▁что',\n",
       " '▁позволяет',\n",
       " '▁фиксировать',\n",
       " '▁любую',\n",
       " '▁от',\n",
       " 'дельную',\n",
       " '▁единиц',\n",
       " 'у',\n",
       " '▁техники',\n",
       " '▁или',\n",
       " '▁скоплени',\n",
       " 'я',\n",
       " '▁людей',\n",
       " '.']"
      ]
     },
     "execution_count": 12,
     "metadata": {},
     "output_type": "execute_result"
    }
   ],
   "source": [
    "tokenizer.tokenize(random.choice(all_sents))"
   ]
  },
  {
   "cell_type": "code",
   "execution_count": 14,
   "id": "e77a3f26",
   "metadata": {},
   "outputs": [],
   "source": [
    "import pandas as pd"
   ]
  },
  {
   "cell_type": "code",
   "execution_count": 15,
   "id": "de831c66",
   "metadata": {},
   "outputs": [
    {
     "data": {
      "application/vnd.jupyter.widget-view+json": {
       "model_id": "6882b6aa86c74a4aa451e81f3f197546",
       "version_major": 2,
       "version_minor": 0
      },
      "text/plain": [
       "  0%|          | 0/10000 [00:00<?, ?it/s]"
      ]
     },
     "metadata": {},
     "output_type": "display_data"
    },
    {
     "data": {
      "text/plain": [
       "count    10000.000000\n",
       "mean        23.312600\n",
       "std         11.636194\n",
       "min          4.000000\n",
       "25%         14.000000\n",
       "50%         21.000000\n",
       "75%         30.000000\n",
       "max         82.000000\n",
       "dtype: float64"
      ]
     },
     "execution_count": 15,
     "metadata": {},
     "output_type": "execute_result"
    }
   ],
   "source": [
    "lens = pd.Series([len(tokenizer.tokenize(t)) for t in tqdm(random.sample(all_sents, 10000))])\n",
    "lens.describe()"
   ]
  },
  {
   "cell_type": "code",
   "execution_count": 16,
   "id": "41765c25",
   "metadata": {},
   "outputs": [
    {
     "data": {
      "text/plain": [
       "0.900    40.0\n",
       "0.990    57.0\n",
       "0.999    71.0\n",
       "dtype: float64"
      ]
     },
     "execution_count": 16,
     "metadata": {},
     "output_type": "execute_result"
    }
   ],
   "source": [
    "lens.quantile([0.9, 0.99, 0.999])"
   ]
  },
  {
   "cell_type": "markdown",
   "id": "d171a44c",
   "metadata": {},
   "source": [
    "# Initialize a model"
   ]
  },
  {
   "cell_type": "code",
   "execution_count": 17,
   "id": "199d9dd3",
   "metadata": {},
   "outputs": [],
   "source": [
    "cfg = T5Config(\n",
    "    vocab_size=len(tokenizer),\n",
    "    d_model=128,\n",
    "    num_layers=3,\n",
    "    num_heads=8,\n",
    "    d_kv=16,\n",
    "    d_ff=512,\n",
    "    #feed_forward_proj='gated-gelu',\n",
    "    decoder_start_token_id=tokenizer.pad_token_id,\n",
    ")"
   ]
  },
  {
   "cell_type": "code",
   "execution_count": 18,
   "id": "05ff321b",
   "metadata": {},
   "outputs": [
    {
     "data": {
      "text/plain": [
       "T5Config {\n",
       "  \"d_ff\": 512,\n",
       "  \"d_kv\": 16,\n",
       "  \"d_model\": 128,\n",
       "  \"decoder_start_token_id\": 0,\n",
       "  \"dense_act_fn\": \"relu\",\n",
       "  \"dropout_rate\": 0.1,\n",
       "  \"eos_token_id\": 1,\n",
       "  \"feed_forward_proj\": \"relu\",\n",
       "  \"initializer_factor\": 1.0,\n",
       "  \"is_encoder_decoder\": true,\n",
       "  \"is_gated_act\": false,\n",
       "  \"layer_norm_epsilon\": 1e-06,\n",
       "  \"model_type\": \"t5\",\n",
       "  \"num_decoder_layers\": 3,\n",
       "  \"num_heads\": 8,\n",
       "  \"num_layers\": 3,\n",
       "  \"pad_token_id\": 0,\n",
       "  \"relative_attention_max_distance\": 128,\n",
       "  \"relative_attention_num_buckets\": 32,\n",
       "  \"transformers_version\": \"4.26.1\",\n",
       "  \"use_cache\": true,\n",
       "  \"vocab_size\": 32768\n",
       "}"
      ]
     },
     "execution_count": 18,
     "metadata": {},
     "output_type": "execute_result"
    }
   ],
   "source": [
    "cfg"
   ]
  },
  {
   "cell_type": "code",
   "execution_count": 19,
   "id": "09a5e407",
   "metadata": {},
   "outputs": [],
   "source": [
    "model = T5ForConditionalGeneration(cfg)"
   ]
  },
  {
   "cell_type": "code",
   "execution_count": 20,
   "id": "8532bc1d",
   "metadata": {},
   "outputs": [
    {
     "data": {
      "text/plain": [
       "T5TokenizerFast(name_or_path='t5-small', vocab_size=32768, model_max_length=512, is_fast=True, padding_side='right', truncation_side='right', special_tokens={'eos_token': '</s>', 'unk_token': '<unk>', 'pad_token': '<pad>', 'additional_special_tokens': ['<extra_id_0>', '<extra_id_1>', '<extra_id_2>', '<extra_id_3>', '<extra_id_4>', '<extra_id_5>', '<extra_id_6>', '<extra_id_7>', '<extra_id_8>', '<extra_id_9>', '<extra_id_10>', '<extra_id_11>', '<extra_id_12>', '<extra_id_13>', '<extra_id_14>', '<extra_id_15>', '<extra_id_16>', '<extra_id_17>', '<extra_id_18>', '<extra_id_19>', '<extra_id_20>', '<extra_id_21>', '<extra_id_22>', '<extra_id_23>', '<extra_id_24>', '<extra_id_25>', '<extra_id_26>', '<extra_id_27>', '<extra_id_28>', '<extra_id_29>', '<extra_id_30>', '<extra_id_31>', '<extra_id_32>', '<extra_id_33>', '<extra_id_34>', '<extra_id_35>', '<extra_id_36>', '<extra_id_37>', '<extra_id_38>', '<extra_id_39>', '<extra_id_40>', '<extra_id_41>', '<extra_id_42>', '<extra_id_43>', '<extra_id_44>', '<extra_id_45>', '<extra_id_46>', '<extra_id_47>', '<extra_id_48>', '<extra_id_49>', '<extra_id_50>', '<extra_id_51>', '<extra_id_52>', '<extra_id_53>', '<extra_id_54>', '<extra_id_55>', '<extra_id_56>', '<extra_id_57>', '<extra_id_58>', '<extra_id_59>', '<extra_id_60>', '<extra_id_61>', '<extra_id_62>', '<extra_id_63>', '<extra_id_64>', '<extra_id_65>', '<extra_id_66>', '<extra_id_67>', '<extra_id_68>', '<extra_id_69>', '<extra_id_70>', '<extra_id_71>', '<extra_id_72>', '<extra_id_73>', '<extra_id_74>', '<extra_id_75>', '<extra_id_76>', '<extra_id_77>', '<extra_id_78>', '<extra_id_79>', '<extra_id_80>', '<extra_id_81>', '<extra_id_82>', '<extra_id_83>', '<extra_id_84>', '<extra_id_85>', '<extra_id_86>', '<extra_id_87>', '<extra_id_88>', '<extra_id_89>', '<extra_id_90>', '<extra_id_91>', '<extra_id_92>', '<extra_id_93>', '<extra_id_94>', '<extra_id_95>', '<extra_id_96>', '<extra_id_97>', '<extra_id_98>', '<extra_id_99>']})"
      ]
     },
     "execution_count": 20,
     "metadata": {},
     "output_type": "execute_result"
    }
   ],
   "source": [
    "tokenizer"
   ]
  },
  {
   "cell_type": "code",
   "execution_count": 21,
   "id": "e6032da9",
   "metadata": {},
   "outputs": [],
   "source": [
    "MODEL_SAVE_PATH = '../models/t5-tiny-rus'"
   ]
  },
  {
   "cell_type": "code",
   "execution_count": 22,
   "id": "bab7a24c",
   "metadata": {},
   "outputs": [
    {
     "data": {
      "text/plain": [
       "('../models/t5-tiny-rus\\\\tokenizer_config.json',\n",
       " '../models/t5-tiny-rus\\\\special_tokens_map.json',\n",
       " '../models/t5-tiny-rus\\\\tokenizer.json')"
      ]
     },
     "execution_count": 22,
     "metadata": {},
     "output_type": "execute_result"
    }
   ],
   "source": [
    "model.save_pretrained(MODEL_SAVE_PATH)\n",
    "tokenizer.save_pretrained(MODEL_SAVE_PATH)"
   ]
  },
  {
   "cell_type": "markdown",
   "id": "0fec3abb",
   "metadata": {},
   "source": [
    "The 128\\*3 model occupies only 22MB on disk, which is indeed extremely tiny. I hope it'll train super fast. "
   ]
  },
  {
   "cell_type": "markdown",
   "id": "27d338fe",
   "metadata": {},
   "source": [
    "# Define the training task"
   ]
  },
  {
   "cell_type": "code",
   "execution_count": 26,
   "id": "6c6f9d4e",
   "metadata": {},
   "outputs": [
    {
     "data": {
      "text/plain": [
       "'Так, путевку на черноморское побережье рассмотрели бы 23 процента респондентов.'"
      ]
     },
     "execution_count": 26,
     "metadata": {},
     "output_type": "execute_result"
    }
   ],
   "source": [
    "text = random.choice(all_sents)\n",
    "text"
   ]
  },
  {
   "cell_type": "code",
   "execution_count": 24,
   "id": "fcd4448b",
   "metadata": {},
   "outputs": [],
   "source": [
    "def fill_gap_task(text=None, min_sent_len=3, p_num_words=0.5, left_pad=0, right_pad=0, mask_token='<extra_id_0>'):\n",
    "    if text is None:\n",
    "        text = random.choice(all_sents)\n",
    "    words = text.split()\n",
    "    if len(words) < min_sent_len:\n",
    "        return fill_gap_task()\n",
    "    # to choose between all substrings uniformly, pick both ends uniformly and re-pick if the order is incorrect.\n",
    "    left_id, right_id = 1, -1\n",
    "    while left_id > right_id:\n",
    "        left_id, right_id = [random.randint(left_pad, len(words)-1-right_pad) for _ in range(2)]\n",
    "    #left_id = random.randint(left_pad, right_id)\n",
    "    if random.random() > p_num_words:\n",
    "        filler = [mask_token]\n",
    "    else:\n",
    "        filler = [mask_token.replace('0', str(right_id-left_id+1))]\n",
    "    lhs = ' '.join(words[:left_id] + filler + words[right_id+1:])\n",
    "    rhs = ' '.join(words[left_id:(right_id+1)])\n",
    "    return lhs, rhs"
   ]
  },
  {
   "cell_type": "code",
   "execution_count": 27,
   "id": "f29ab59d",
   "metadata": {},
   "outputs": [
    {
     "name": "stdout",
     "output_type": "stream",
     "text": [
      "('<extra_id_0>', 'Так, путевку на черноморское побережье рассмотрели бы 23 процента респондентов.', 181)\n",
      "('<extra_id_0> 23 процента респондентов.', 'Так, путевку на черноморское побережье рассмотрели бы', 185)\n",
      "('<extra_id_0> бы 23 процента респондентов.', 'Так, путевку на черноморское побережье рассмотрели', 165)\n",
      "('<extra_id_0> на черноморское побережье рассмотрели бы 23 процента респондентов.', 'Так, путевку', 193)\n",
      "('<extra_id_0> побережье рассмотрели бы 23 процента респондентов.', 'Так, путевку на черноморское', 210)\n",
      "('<extra_id_0> процента респондентов.', 'Так, путевку на черноморское побережье рассмотрели бы 23', 166)\n",
      "('<extra_id_0> путевку на черноморское побережье рассмотрели бы 23 процента респондентов.', 'Так,', 202)\n",
      "('<extra_id_0> рассмотрели бы 23 процента респондентов.', 'Так, путевку на черноморское побережье', 177)\n",
      "('<extra_id_0> респондентов.', 'Так, путевку на черноморское побережье рассмотрели бы 23 процента', 178)\n",
      "('<extra_id_0> черноморское побережье рассмотрели бы 23 процента респондентов.', 'Так, путевку на', 174)\n",
      "('Так, <extra_id_0>', 'путевку на черноморское побережье рассмотрели бы 23 процента респондентов.', 171)\n",
      "('Так, <extra_id_0> 23 процента респондентов.', 'путевку на черноморское побережье рассмотрели бы', 200)\n",
      "('Так, <extra_id_0> бы 23 процента респондентов.', 'путевку на черноморское побережье рассмотрели', 175)\n",
      "('Так, <extra_id_0> на черноморское побережье рассмотрели бы 23 процента респондентов.', 'путевку', 179)\n",
      "('Так, <extra_id_0> побережье рассмотрели бы 23 процента респондентов.', 'путевку на черноморское', 160)\n",
      "('Так, <extra_id_0> процента респондентов.', 'путевку на черноморское побережье рассмотрели бы 23', 162)\n",
      "('Так, <extra_id_0> рассмотрели бы 23 процента респондентов.', 'путевку на черноморское побережье', 197)\n",
      "('Так, <extra_id_0> респондентов.', 'путевку на черноморское побережье рассмотрели бы 23 процента', 193)\n",
      "('Так, <extra_id_0> черноморское побережье рассмотрели бы 23 процента респондентов.', 'путевку на', 182)\n",
      "('Так, путевку <extra_id_0>', 'на черноморское побережье рассмотрели бы 23 процента респондентов.', 197)\n",
      "('Так, путевку <extra_id_0> 23 процента респондентов.', 'на черноморское побережье рассмотрели бы', 194)\n",
      "('Так, путевку <extra_id_0> бы 23 процента респондентов.', 'на черноморское побережье рассмотрели', 170)\n",
      "('Так, путевку <extra_id_0> побережье рассмотрели бы 23 процента респондентов.', 'на черноморское', 179)\n",
      "('Так, путевку <extra_id_0> процента респондентов.', 'на черноморское побережье рассмотрели бы 23', 181)\n",
      "('Так, путевку <extra_id_0> рассмотрели бы 23 процента респондентов.', 'на черноморское побережье', 172)\n",
      "('Так, путевку <extra_id_0> респондентов.', 'на черноморское побережье рассмотрели бы 23 процента', 190)\n",
      "('Так, путевку <extra_id_0> черноморское побережье рассмотрели бы 23 процента респондентов.', 'на', 183)\n",
      "('Так, путевку на <extra_id_0>', 'черноморское побережье рассмотрели бы 23 процента респондентов.', 167)\n",
      "('Так, путевку на <extra_id_0> 23 процента респондентов.', 'черноморское побережье рассмотрели бы', 180)\n",
      "('Так, путевку на <extra_id_0> бы 23 процента респондентов.', 'черноморское побережье рассмотрели', 197)\n",
      "('Так, путевку на <extra_id_0> побережье рассмотрели бы 23 процента респондентов.', 'черноморское', 155)\n",
      "('Так, путевку на <extra_id_0> процента респондентов.', 'черноморское побережье рассмотрели бы 23', 190)\n",
      "('Так, путевку на <extra_id_0> рассмотрели бы 23 процента респондентов.', 'черноморское побережье', 193)\n",
      "('Так, путевку на <extra_id_0> респондентов.', 'черноморское побережье рассмотрели бы 23 процента', 200)\n",
      "('Так, путевку на черноморское <extra_id_0>', 'побережье рассмотрели бы 23 процента респондентов.', 168)\n",
      "('Так, путевку на черноморское <extra_id_0> 23 процента респондентов.', 'побережье рассмотрели бы', 192)\n",
      "('Так, путевку на черноморское <extra_id_0> бы 23 процента респондентов.', 'побережье рассмотрели', 184)\n",
      "('Так, путевку на черноморское <extra_id_0> процента респондентов.', 'побережье рассмотрели бы 23', 170)\n",
      "('Так, путевку на черноморское <extra_id_0> рассмотрели бы 23 процента респондентов.', 'побережье', 166)\n",
      "('Так, путевку на черноморское <extra_id_0> респондентов.', 'побережье рассмотрели бы 23 процента', 185)\n",
      "('Так, путевку на черноморское побережье <extra_id_0>', 'рассмотрели бы 23 процента респондентов.', 180)\n",
      "('Так, путевку на черноморское побережье <extra_id_0> 23 процента респондентов.', 'рассмотрели бы', 175)\n",
      "('Так, путевку на черноморское побережье <extra_id_0> бы 23 процента респондентов.', 'рассмотрели', 181)\n",
      "('Так, путевку на черноморское побережье <extra_id_0> процента респондентов.', 'рассмотрели бы 23', 166)\n",
      "('Так, путевку на черноморское побережье <extra_id_0> респондентов.', 'рассмотрели бы 23 процента', 168)\n",
      "('Так, путевку на черноморское побережье рассмотрели <extra_id_0>', 'бы 23 процента респондентов.', 188)\n",
      "('Так, путевку на черноморское побережье рассмотрели <extra_id_0> 23 процента респондентов.', 'бы', 180)\n",
      "('Так, путевку на черноморское побережье рассмотрели <extra_id_0> процента респондентов.', 'бы 23', 190)\n",
      "('Так, путевку на черноморское побережье рассмотрели <extra_id_0> респондентов.', 'бы 23 процента', 192)\n",
      "('Так, путевку на черноморское побережье рассмотрели бы 23 <extra_id_0>', 'процента респондентов.', 202)\n",
      "('Так, путевку на черноморское побережье рассмотрели бы 23 <extra_id_0> респондентов.', 'процента', 186)\n",
      "('Так, путевку на черноморское побережье рассмотрели бы 23 процента <extra_id_0>', 'респондентов.', 182)\n",
      "('Так, путевку на черноморское побережье рассмотрели бы <extra_id_0>', '23 процента респондентов.', 177)\n",
      "('Так, путевку на черноморское побережье рассмотрели бы <extra_id_0> процента респондентов.', '23', 184)\n",
      "('Так, путевку на черноморское побережье рассмотрели бы <extra_id_0> респондентов.', '23 процента', 186)\n"
     ]
    }
   ],
   "source": [
    "from collections import Counter\n",
    "\n",
    "for t in sorted([(x, y, c) for (x, y), c in Counter(fill_gap_task(text, p_num_words=0) for _ in range(10000)).most_common()]):\n",
    "    print(t)"
   ]
  },
  {
   "cell_type": "markdown",
   "id": "b66d82e2",
   "metadata": {},
   "source": [
    "# Training"
   ]
  },
  {
   "cell_type": "code",
   "execution_count": 28,
   "id": "79026a54",
   "metadata": {},
   "outputs": [],
   "source": [
    "import numpy as np\n",
    "import torch\n",
    "from tqdm.auto import tqdm, trange\n",
    "from transformers.optimization import Adafactor, AdamW\n",
    "from transformers import get_linear_schedule_with_warmup, get_constant_schedule_with_warmup\n",
    "\n",
    "import gc\n",
    "import numpy as np\n",
    "\n",
    "def cleanup():\n",
    "    gc.collect()\n",
    "    torch.cuda.empty_cache()\n",
    "    \n",
    "cleanup()"
   ]
  },
  {
   "cell_type": "code",
   "execution_count": 29,
   "id": "dd8d96f7",
   "metadata": {},
   "outputs": [],
   "source": [
    "model.cuda();"
   ]
  },
  {
   "cell_type": "code",
   "execution_count": 30,
   "id": "c9e11fc9",
   "metadata": {},
   "outputs": [],
   "source": [
    "optimizer = torch.optim.AdamW(\n",
    "    [p for p in model.parameters() if p.requires_grad],  \n",
    "    lr=1e-3,\n",
    "    weight_decay=1e-3,\n",
    ")"
   ]
  },
  {
   "cell_type": "code",
   "execution_count": 31,
   "id": "ed71a613",
   "metadata": {},
   "outputs": [],
   "source": [
    "batch_size = 16 # we can get even more, but training gets slow\n",
    "max_length = 128\n",
    "warmup_steps = 5_000\n",
    "training_steps = 500_000"
   ]
  },
  {
   "cell_type": "code",
   "execution_count": 32,
   "id": "e5e17aa2",
   "metadata": {},
   "outputs": [],
   "source": [
    "losses = []"
   ]
  },
  {
   "cell_type": "code",
   "execution_count": 33,
   "id": "393e0108",
   "metadata": {},
   "outputs": [],
   "source": [
    "scheduler = get_constant_schedule_with_warmup(optimizer, num_warmup_steps=warmup_steps)"
   ]
  },
  {
   "cell_type": "code",
   "execution_count": 34,
   "id": "baacf1f8",
   "metadata": {},
   "outputs": [],
   "source": [
    "def get_batch_pairs(batch_size, p=0.2):\n",
    "    xx, yy = [], []\n",
    "    for text in random.sample(all_sents, batch_size):\n",
    "        x, y = fill_gap_task(text, p_num_words=p)\n",
    "        xx.append(x)\n",
    "        yy.append(y)\n",
    "    return xx, yy"
   ]
  },
  {
   "cell_type": "code",
   "execution_count": 35,
   "id": "d54e88e5",
   "metadata": {},
   "outputs": [
    {
     "data": {
      "text/plain": [
       "(['Самат просто не успел бы набрать <extra_id_0>',\n",
       "  'Другое дело, что за <extra_id_9> футболистов команды за всю историю.',\n",
       "  'При <extra_id_0> сам он заранее объявил ничтожными.'],\n",
       " ['скорость от борта.',\n",
       "  'два года в «Страсбуре» я вошел в тройку лучших',\n",
       "  'этом письменные гарантии, которых добивается Путин,'])"
      ]
     },
     "execution_count": 35,
     "metadata": {},
     "output_type": "execute_result"
    }
   ],
   "source": [
    "get_batch_pairs(3)"
   ]
  },
  {
   "cell_type": "code",
   "execution_count": 36,
   "id": "221ff044",
   "metadata": {},
   "outputs": [],
   "source": [
    "# optimizer.param_groups[0]['lr'] = 1e-3  # did this at about 43k step\\s"
   ]
  },
  {
   "cell_type": "code",
   "execution_count": 204,
   "id": "2583a500",
   "metadata": {
    "scrolled": true
   },
   "outputs": [
    {
     "data": {
      "application/vnd.jupyter.widget-view+json": {
       "model_id": "5de55419c1174ba5b3ad2ef37dcc757f",
       "version_major": 2,
       "version_minor": 0
      },
      "text/plain": [
       "  0%|          | 0/281541 [00:00<?, ?it/s]"
      ]
     },
     "metadata": {},
     "output_type": "display_data"
    },
    {
     "name": "stdout",
     "output_type": "stream",
     "text": [
      "219000 5.914654289722443\n",
      "220000 5.939964764118194\n",
      "221000 5.933440552711486\n",
      "222000 5.9295474691390995\n",
      "223000 5.918973770618439\n",
      "224000 5.917738650798798\n",
      "225000 5.926275660037994\n",
      "226000 5.916566464424133\n",
      "227000 5.919402430057525\n",
      "228000 5.91241503572464\n",
      "229000 5.898568385124206\n",
      "230000 5.903127415180206\n",
      "231000 5.908620546340942\n",
      "232000 5.908520577907562\n",
      "233000 5.914320600032807\n",
      "234000 5.9057949681282045\n",
      "235000 5.897089570999145\n",
      "236000 5.90353200340271\n",
      "237000 5.923386028289795\n",
      "238000 5.906109364509582\n",
      "239000 5.896291173458099\n",
      "240000 5.902187224388123\n",
      "241000 5.904820619106292\n",
      "242000 5.897431979656219\n",
      "243000 5.905068331718445\n",
      "244000 5.897102338790893\n",
      "245000 5.899725223064423\n",
      "246000 5.884846350669861\n",
      "247000 5.881538531303406\n",
      "248000 5.887169295310974\n",
      "249000 5.890198337554931\n",
      "250000 5.879228580951691\n",
      "251000 5.878526999473571\n",
      "252000 5.873649899482727\n",
      "253000 5.880397706508637\n",
      "254000 5.883304214954376\n",
      "255000 5.8751353282928465\n",
      "256000 5.857736214160919\n",
      "257000 5.885882164955139\n",
      "258000 5.85322811460495\n",
      "259000 5.865273314476013\n",
      "260000 5.8613666152954105\n",
      "261000 5.861923513889312\n",
      "262000 5.872968235492706\n",
      "263000 5.8668539381027225\n",
      "264000 5.8368561968803405\n",
      "265000 5.848616334915161\n",
      "266000 5.864137125015259\n",
      "267000 5.863806398868561\n",
      "268000 5.859226243495941\n",
      "269000 5.851580195426941\n",
      "270000 5.854454458236694\n",
      "271000 5.842796282291412\n",
      "272000 5.8471465549468995\n",
      "273000 5.859584897518158\n",
      "274000 5.841820633888244\n",
      "275000 5.838996180534362\n",
      "276000 5.825768921375275\n",
      "277000 5.842397265911102\n",
      "278000 5.835553701400757\n",
      "279000 5.838655767917633\n",
      "280000 5.835522216796875\n",
      "281000 5.838552744865417\n",
      "282000 5.832979753017425\n",
      "283000 5.831431664466858\n",
      "284000 5.849357861995697\n",
      "285000 5.834563536643982\n",
      "286000 5.825430928707123\n",
      "287000 5.8064964609146115\n",
      "288000 5.822917610645294\n",
      "289000 5.819045536041259\n",
      "290000 5.8233402795791624\n",
      "291000 5.803952228069305\n",
      "292000 5.828118117809296\n",
      "293000 5.8110143194198605\n",
      "294000 5.822582391738892\n",
      "295000 5.795029438972473\n",
      "296000 5.805985918521881\n",
      "297000 5.80983317565918\n",
      "298000 5.7960688290596005\n",
      "299000 5.804575541496277\n",
      "300000 5.784213708400726\n",
      "301000 5.796861524105072\n",
      "302000 5.79767757987976\n",
      "303000 5.7956601643562315\n",
      "304000 5.795136016368866\n",
      "305000 5.7920014114379885\n",
      "306000 5.7801670055389405\n",
      "307000 5.7917759313583375\n",
      "308000 5.7764039115905765\n",
      "309000 5.790643084049225\n",
      "310000 5.782673586845398\n",
      "311000 5.781256229877472\n",
      "312000 5.778911035060883\n",
      "313000 5.767907568931579\n",
      "314000 5.77969260931015\n",
      "315000 5.768169777870178\n",
      "316000 5.769151560783386\n",
      "317000 5.759158264636993\n",
      "318000 5.754773342132569\n",
      "319000 5.762057002544403\n",
      "320000 5.757350114822388\n",
      "321000 5.75603614616394\n",
      "322000 5.748601078987122\n",
      "323000 5.764875764369965\n",
      "324000 5.7538270411491395\n",
      "325000 5.7301978907585145\n",
      "326000 5.752777906417847\n",
      "327000 5.745458832740784\n",
      "328000 5.746680639743805\n",
      "329000 5.742837458133698\n",
      "330000 5.747656987667083\n",
      "331000 5.753233592033387\n",
      "332000 5.743602932929993\n",
      "333000 5.7358881845474246\n",
      "334000 5.725760264396667\n",
      "335000 5.751015668392181\n",
      "336000 5.729247803688049\n",
      "337000 5.729751839160919\n",
      "338000 5.732770255565644\n",
      "339000 5.720861405372619\n",
      "340000 5.73239658498764\n",
      "341000 5.727831624984741\n",
      "342000 5.72546048116684\n",
      "343000 5.71942343378067\n",
      "344000 5.718471675395966\n",
      "345000 5.724362921237946\n",
      "346000 5.711787223815918\n",
      "347000 5.710766194343567\n",
      "348000 5.723005886554718\n",
      "349000 5.728770084381104\n",
      "350000 5.701632920265197\n",
      "351000 5.704778557300568\n",
      "352000 5.713463466644287\n",
      "353000 5.699703242301941\n",
      "354000 5.694222774505615\n",
      "355000 5.718343132019043\n",
      "356000 5.702152035713196\n",
      "357000 5.701393286705017\n",
      "358000 5.691989307880402\n",
      "359000 5.694491868495941\n",
      "360000 5.704951625347137\n",
      "361000 5.702600685119629\n",
      "362000 5.708527750492096\n",
      "363000 5.690260963916779\n",
      "364000 5.699516587734222\n",
      "365000 5.703489622116089\n",
      "366000 5.685519767284394\n",
      "367000 5.676325209140778\n",
      "368000 5.67706752872467\n",
      "369000 5.672456161499023\n",
      "370000 5.687479867458343\n",
      "371000 5.676678546428681\n",
      "372000 5.679538599014283\n",
      "373000 5.682530839443206\n",
      "374000 5.679621078968048\n",
      "375000 5.680683190822601\n",
      "376000 5.670381183624268\n",
      "377000 5.6754277935028075\n",
      "378000 5.652693004131317\n",
      "379000 5.663797351360321\n",
      "380000 5.670324128627777\n",
      "381000 5.680209309101104\n",
      "382000 5.670335282802582\n",
      "383000 5.6724831891059875\n",
      "384000 5.661927628993988\n",
      "385000 5.664055821895599\n",
      "386000 5.675814175605774\n",
      "387000 5.653238488674164\n",
      "388000 5.660681344985962\n",
      "389000 5.657979571819306\n",
      "390000 5.647664121150971\n",
      "391000 5.648772582054138\n",
      "392000 5.648425256252289\n",
      "393000 5.645848587036133\n",
      "394000 5.65392852640152\n",
      "395000 5.671399308204651\n",
      "396000 5.641740474700928\n",
      "397000 5.642492791652679\n",
      "398000 5.635148648738861\n",
      "399000 5.645267492771149\n",
      "400000 5.650085741996765\n",
      "401000 5.645693167686463\n",
      "402000 5.6479857625961305\n",
      "403000 5.637282273769379\n",
      "404000 5.650157660007477\n",
      "405000 5.651524622440338\n",
      "406000 5.644969863414764\n",
      "407000 5.61887708902359\n",
      "408000 5.635339144706726\n",
      "409000 5.630194445610046\n",
      "410000 5.618744909286499\n",
      "411000 5.635638174057007\n",
      "412000 5.6240633068084716\n",
      "413000 5.620252307891846\n",
      "414000 5.639811057567597\n",
      "415000 5.625497582912445\n",
      "416000 5.628023976325989\n",
      "417000 5.620472861289978\n",
      "418000 5.632892917156219\n",
      "419000 5.630836824893952\n",
      "420000 5.627460611820221\n",
      "421000 5.630681877613068\n",
      "422000 5.624272040843963\n",
      "423000 5.622563117980957\n",
      "424000 5.620267110347748\n",
      "425000 5.609757727146149\n",
      "426000 5.619865330696106\n",
      "427000 5.627888347625732\n",
      "428000 5.617876257419586\n",
      "429000 5.6084472680091855\n",
      "430000 5.605929442405701\n",
      "431000 5.624188549041748\n",
      "432000 5.617333409309388\n",
      "433000 5.599906104564667\n",
      "434000 5.604622287273407\n",
      "435000 5.615876540184021\n",
      "436000 5.60615418958664\n",
      "437000 5.6178871779441835\n",
      "438000 5.612557392597198\n",
      "439000 5.59996373128891\n",
      "440000 5.5984347891807555\n",
      "441000 5.604034332275391\n",
      "442000 5.603088408470154\n",
      "443000 5.597298104763031\n",
      "444000 5.601369475841522\n",
      "445000 5.59392755317688\n",
      "446000 5.597265781879425\n",
      "447000 5.601742177009583\n",
      "448000 5.594432109832764\n",
      "449000 5.58123193359375\n",
      "450000 5.5985499472618105\n",
      "451000 5.594116386890412\n",
      "452000 5.5934174394607545\n",
      "453000 5.591068548202514\n",
      "454000 5.580547453403473\n",
      "455000 5.5790508785247805\n",
      "456000 5.579558233261109\n",
      "457000 5.581706744670868\n",
      "458000 5.581951262950898\n",
      "459000 5.597278338909149\n",
      "460000 5.585673658370972\n",
      "461000 5.5727364706993106\n",
      "462000 5.589346157550811\n",
      "463000 5.569314441204071\n",
      "464000 5.5737360787391665\n",
      "465000 5.57667134141922\n",
      "466000 5.578217779636383\n",
      "467000 5.564474632740021\n",
      "468000 5.566746631145477\n",
      "469000 5.5656206631660465\n",
      "470000 5.573357275962829\n",
      "471000 5.558988030433655\n",
      "472000 5.559170444488525\n",
      "473000 5.580086099147796\n",
      "474000 5.576521868228912\n",
      "475000 5.5678984980583195\n",
      "476000 5.565140079021454\n",
      "477000 5.564712199211121\n",
      "478000 5.559438303947449\n",
      "479000 5.556234674453735\n",
      "480000 5.577981313228607\n",
      "481000 5.5597848815917965\n",
      "482000 5.574829957008362\n",
      "483000 5.549587332248688\n",
      "484000 5.559957825660706\n",
      "485000 5.545971935272217\n",
      "486000 5.549282947063446\n",
      "487000 5.547748195648193\n",
      "488000 5.556310317993164\n",
      "489000 5.545792031764984\n",
      "490000 5.5628296031951905\n",
      "491000 5.555794882297516\n",
      "492000 5.553307395458221\n",
      "493000 5.558252549171447\n",
      "494000 5.567302380084992\n",
      "495000 5.5502071595191955\n",
      "496000 5.554279589176178\n",
      "497000 5.549785839557647\n",
      "498000 5.559012433052063\n",
      "499000 5.535542325973511\n"
     ]
    }
   ],
   "source": [
    "model.train()\n",
    "\n",
    "tq = trange(len(losses), training_steps)\n",
    "for i in tq:\n",
    "    xx, yy = get_batch_pairs(batch_size)\n",
    "    try:\n",
    "        x = tokenizer(xx, return_tensors='pt', padding=True, truncation=True, max_length=max_length).to(model.device)\n",
    "        y = tokenizer(yy, return_tensors='pt', padding=True, truncation=True, max_length=max_length).to(model.device)\n",
    "        y.input_ids[y.input_ids == 0] = -100\n",
    "        \n",
    "        loss = model(**x, labels=y.input_ids).loss\n",
    "\n",
    "        loss.backward()\n",
    "        losses.append(loss.item())\n",
    "\n",
    "        torch.nn.utils.clip_grad_norm_(model.parameters(), 1.0)\n",
    "        optimizer.step()\n",
    "        optimizer.zero_grad(set_to_none=True)\n",
    "        scheduler.step()\n",
    "\n",
    "    except RuntimeError:\n",
    "        optimizer.zero_grad(set_to_none=True)\n",
    "        x, y, loss = None, None, None\n",
    "        cleanup()\n",
    "        print('error', max(len(s) for s in xx + yy))\n",
    "        continue\n",
    "\n",
    "    if i % 1000 == 0:\n",
    "        print(i, np.mean(losses[-1000:]))\n",
    "\n",
    "    if i % 10000 == 0 and i > 0:\n",
    "        model.save_pretrained(MODEL_SAVE_PATH)\n",
    "        tokenizer.save_pretrained(MODEL_SAVE_PATH)"
   ]
  },
  {
   "cell_type": "code",
   "execution_count": 205,
   "id": "467244ce",
   "metadata": {},
   "outputs": [
    {
     "name": "stdout",
     "output_type": "stream",
     "text": [
      "500000\n"
     ]
    },
    {
     "data": {
      "image/png": "[encoded data removed]",
      "text/plain": [
       "<Figure size 432x288 with 1 Axes>"
      ]
     },
     "metadata": {
      "needs_background": "light"
     },
     "output_type": "display_data"
    }
   ],
   "source": [
    "print(len(losses))\n",
    "pd.Series(losses).ewm(300).mean()[10:].plot(lw=1);"
   ]
  },
  {
   "cell_type": "code",
   "execution_count": 206,
   "id": "d618a980",
   "metadata": {},
   "outputs": [
    {
     "data": {
      "image/png": "[encoded data removed]",
      "text/plain": [
       "<Figure size 432x288 with 1 Axes>"
      ]
     },
     "metadata": {
      "needs_background": "light"
     },
     "output_type": "display_data"
    }
   ],
   "source": [
    "pd.Series(losses).ewm(100).mean()[-30000:].plot(lw=1);"
   ]
  },
  {
   "cell_type": "code",
   "execution_count": 226,
   "id": "bc408448",
   "metadata": {},
   "outputs": [
    {
     "data": {
      "text/plain": [
       "'Это вполне нормально, потому что потом эти вредные привычки тяжелым грузом ложатся на систему здравоохранения», - сказал член-корреспондент РАН.'"
      ]
     },
     "execution_count": 226,
     "metadata": {},
     "output_type": "execute_result"
    }
   ],
   "source": [
    "sent = random.choice(all_sents)\n",
    "sent"
   ]
  },
  {
   "cell_type": "code",
   "execution_count": 227,
   "id": "8ae01ed7",
   "metadata": {},
   "outputs": [
    {
     "name": "stdout",
     "output_type": "stream",
     "text": [
      "Это <extra_id_2> потому что потом эти вредные привычки тяжелым грузом ложатся на систему здравоохранения», - сказал член-корреспондент РАН.\n",
      "вполне нормально,\n"
     ]
    }
   ],
   "source": [
    "xx, yy = fill_gap_task(sent, p_num_words=0.5)\n",
    "print(xx)\n",
    "print(yy)"
   ]
  },
  {
   "cell_type": "code",
   "execution_count": 228,
   "id": "159d8b69",
   "metadata": {},
   "outputs": [
    {
     "name": "stdout",
     "output_type": "stream",
     "text": [
      "<pad> что в</s>\n",
      "<pad> о том, что</s>\n",
      "<pad> на Украине, что</s>\n",
      "<pad> о том, что</s>\n",
      "<pad> а также</s>\n"
     ]
    }
   ],
   "source": [
    "model.eval();\n",
    "\n",
    "with torch.inference_mode():\n",
    "    x = tokenizer(xx, return_tensors='pt', padding=True, truncation=True, max_length=max_length).to(model.device)\n",
    "    for _ in range(5):\n",
    "        print(tokenizer.decode(model.generate(**x, num_beams=2, do_sample=True)[0]))"
   ]
  },
  {
   "cell_type": "code",
   "execution_count": 229,
   "id": "e844d24d",
   "metadata": {},
   "outputs": [
    {
     "name": "stdout",
     "output_type": "stream",
     "text": [
      "['▁Это', '<extra_id_2>', '▁потому', '▁что', '▁потом', '▁эти', '▁', 'вредные', '▁привычк', 'и', '▁тяжелым', '▁груз', 'ом', '▁', 'ложат', 'ся', '▁на', '▁систему', '▁здравоохранения', '»,', '▁-', '▁сказал', '▁член', '-корреспондент', '▁РАН', '.']\n"
     ]
    }
   ],
   "source": [
    "print(tokenizer.tokenize(xx))"
   ]
  },
  {
   "cell_type": "markdown",
   "id": "9e2c6ab6",
   "metadata": {},
   "source": [
    "# An experiment: how far would we go with a much larger model?"
   ]
  },
  {
   "cell_type": "code",
   "execution_count": 230,
   "id": "2293099c",
   "metadata": {},
   "outputs": [],
   "source": [
    "cfg2 = T5Config(\n",
    "    vocab_size=len(tokenizer),\n",
    "    d_model=512,\n",
    "    num_layers=6,\n",
    "    num_heads=8,\n",
    "    d_kv=64,\n",
    "    d_ff=512,\n",
    "    #feed_forward_proj='gated-gelu',\n",
    "    decoder_start_token_id=tokenizer.pad_token_id,\n",
    ")"
   ]
  },
  {
   "cell_type": "code",
   "execution_count": 231,
   "id": "b88cb9f2",
   "metadata": {},
   "outputs": [],
   "source": [
    "model2 = T5ForConditionalGeneration(cfg2)"
   ]
  },
  {
   "cell_type": "code",
   "execution_count": 232,
   "id": "a09570a0",
   "metadata": {},
   "outputs": [],
   "source": [
    "MODEL_SAVE_PATH2 = '../models/t5-small-rus'"
   ]
  },
  {
   "cell_type": "code",
   "execution_count": 233,
   "id": "af2b64d1",
   "metadata": {},
   "outputs": [
    {
     "data": {
      "text/plain": [
       "('../models/t5-small-rus\\\\tokenizer_config.json',\n",
       " '../models/t5-small-rus\\\\special_tokens_map.json',\n",
       " '../models/t5-small-rus\\\\tokenizer.json')"
      ]
     },
     "execution_count": 233,
     "metadata": {},
     "output_type": "execute_result"
    }
   ],
   "source": [
    "model2.save_pretrained(MODEL_SAVE_PATH2)\n",
    "tokenizer.save_pretrained(MODEL_SAVE_PATH2)"
   ]
  },
  {
   "cell_type": "code",
   "execution_count": 234,
   "id": "b27d9d3c",
   "metadata": {},
   "outputs": [],
   "source": [
    "model2.cuda();"
   ]
  },
  {
   "cell_type": "code",
   "execution_count": null,
   "id": "27f6ee5a",
   "metadata": {},
   "outputs": [],
   "source": [
    "optimizer = torch.optim.AdamW(\n",
    "    [p for p in model.parameters() if p.requires_grad],  \n",
    "    lr=1e-3,\n",
    "    weight_decay=1e-3,\n",
    ")"
   ]
  }
 ],
 "metadata": {
  "kernelspec": {
   "display_name": "Python 3 (ipykernel)",
   "language": "python",
   "name": "python3"
  },
  "language_info": {
   "codemirror_mode": {
    "name": "ipython",
    "version": 3
   },
   "file_extension": ".py",
   "mimetype": "text/x-python",
   "name": "python",
   "nbconvert_exporter": "python",
   "pygments_lexer": "ipython3",
   "version": "3.9.6"
  }
 },
 "nbformat": 4,
 "nbformat_minor": 5
}
