{
 "cells": [
  {
   "cell_type": "markdown",
   "id": "f6785162",
   "metadata": {},
   "source": [
    "The goal of this notebook is to train to classify whether a Bashkir-Russian sentence pair is a correct translation. \n",
    "\n",
    "It tries the following configurations:\n",
    "+ Just classifier training on the whole training data => cannot go above 80% of ROC AUC (or 56% recall @ rejecting n_bad)\n",
    "+ **Training on the positive data only, with contrastive artificial negatives** \n",
    "    * **simple negatives (fully unrelated)** => AUC 75% / recall 55%. At 0.5 threshold, almost no false negatives, but only 1/3 recall. \n",
    "    * **hard negatives (distorted vs clean related)** => AUC 78% / recall 54%\n",
    "    * harder negatives (reconstructed by a LM vs clean related, in the Notebook 9) => AUC 78% / recall 54% anyway. \n",
    "    * traning on a larger corpus (AigizK/bashkir-russian-parallel-corpora) => AUC 75% / recall 51%\n",
    "- Training on the whole training data + MLM or TLM\n",
    "\n",
    "\n",
    "Heavily inspired by https://github.com/slone-nlp/myv-nmt/blob/main/dirty-code-2022/model_training/02_pretrain_sentence_encoder.ipynb"
   ]
  },
  {
   "cell_type": "code",
   "execution_count": 1,
   "id": "b059dbb5",
   "metadata": {},
   "outputs": [],
   "source": [
    "import pandas as pd\n",
    "import numpy as np\n",
    "\n",
    "import torch\n",
    "import gc\n",
    "\n",
    "def cleanup():\n",
    "    gc.collect()\n",
    "    torch.cuda.empty_cache()\n",
    "    \n",
    "cleanup()"
   ]
  },
  {
   "cell_type": "code",
   "execution_count": 16,
   "id": "fbe061c7",
   "metadata": {},
   "outputs": [],
   "source": [
    "from tqdm.auto import tqdm, trange\n",
    "from sklearn.metrics import roc_auc_score\n",
    "import random"
   ]
  },
  {
   "cell_type": "code",
   "execution_count": 3,
   "id": "67c5600b",
   "metadata": {},
   "outputs": [],
   "source": [
    "from transformers.optimization import Adafactor\n",
    "from transformers import AutoModelForSequenceClassification, AutoTokenizer\n",
    "from transformers import get_linear_schedule_with_warmup, get_constant_schedule_with_warmup"
   ]
  },
  {
   "cell_type": "code",
   "execution_count": 4,
   "id": "693856d9",
   "metadata": {},
   "outputs": [
    {
     "data": {
      "text/plain": [
       "train    104317\n",
       "test      35648\n",
       "dev       34998\n",
       "val        1743\n",
       "Name: data_split, dtype: int64"
      ]
     },
     "execution_count": 4,
     "metadata": {},
     "output_type": "execute_result"
    }
   ],
   "source": [
    "data = pd.read_csv('../data/joint-ba-ru.tsv', sep='\\t')\n",
    "\n",
    "data.data_split.value_counts()"
   ]
  },
  {
   "cell_type": "code",
   "execution_count": 5,
   "id": "8c43fd2c",
   "metadata": {},
   "outputs": [
    {
     "data": {
      "text/html": [
       "<div>\n",
       "<style scoped>\n",
       "    .dataframe tbody tr th:only-of-type {\n",
       "        vertical-align: middle;\n",
       "    }\n",
       "\n",
       "    .dataframe tbody tr th {\n",
       "        vertical-align: top;\n",
       "    }\n",
       "\n",
       "    .dataframe thead th {\n",
       "        text-align: right;\n",
       "    }\n",
       "</style>\n",
       "<table border=\"1\" class=\"dataframe\">\n",
       "  <thead>\n",
       "    <tr style=\"text-align: right;\">\n",
       "      <th></th>\n",
       "      <th>date</th>\n",
       "      <th>ba</th>\n",
       "      <th>ru</th>\n",
       "      <th>is_correct</th>\n",
       "      <th>data_split</th>\n",
       "    </tr>\n",
       "  </thead>\n",
       "  <tbody>\n",
       "    <tr>\n",
       "      <th>117513</th>\n",
       "      <td>07/01/2023 18:51:41</td>\n",
       "      <td>Поллианна мине аңлар, тип уйлайым.</td>\n",
       "      <td>Думаю, Поллианна меня поймет.</td>\n",
       "      <td>1</td>\n",
       "      <td>train</td>\n",
       "    </tr>\n",
       "    <tr>\n",
       "      <th>58730</th>\n",
       "      <td>18/07/2022 20:14:34</td>\n",
       "      <td>— Мин...</td>\n",
       "      <td>— Я...</td>\n",
       "      <td>1</td>\n",
       "      <td>train</td>\n",
       "    </tr>\n",
       "    <tr>\n",
       "      <th>14830</th>\n",
       "      <td>03/10/2021 17:31:52</td>\n",
       "      <td>Атайың мәрхүмдең ҡорҙаш дуҫы ине, шуның хаҡына...</td>\n",
       "      <td>Папа, желая направить беседу в другое русло, с...</td>\n",
       "      <td>1</td>\n",
       "      <td>train</td>\n",
       "    </tr>\n",
       "  </tbody>\n",
       "</table>\n",
       "</div>"
      ],
      "text/plain": [
       "                       date  \\\n",
       "117513  07/01/2023 18:51:41   \n",
       "58730   18/07/2022 20:14:34   \n",
       "14830   03/10/2021 17:31:52   \n",
       "\n",
       "                                                       ba  \\\n",
       "117513                 Поллианна мине аңлар, тип уйлайым.   \n",
       "58730                                            — Мин...   \n",
       "14830   Атайың мәрхүмдең ҡорҙаш дуҫы ине, шуның хаҡына...   \n",
       "\n",
       "                                                       ru  is_correct  \\\n",
       "117513                      Думаю, Поллианна меня поймет.           1   \n",
       "58730                                              — Я...           1   \n",
       "14830   Папа, желая направить беседу в другое русло, с...           1   \n",
       "\n",
       "       data_split  \n",
       "117513      train  \n",
       "58730       train  \n",
       "14830       train  "
      ]
     },
     "execution_count": 5,
     "metadata": {},
     "output_type": "execute_result"
    }
   ],
   "source": [
    "data_train = data[data.data_split=='train']\n",
    "data_val = data[data.data_split=='val'].copy()\n",
    "data_train.sample(3)"
   ]
  },
  {
   "cell_type": "markdown",
   "id": "b6b07605",
   "metadata": {},
   "source": [
    "# Loading the model"
   ]
  },
  {
   "cell_type": "code",
   "execution_count": 6,
   "id": "fb1a9789",
   "metadata": {},
   "outputs": [],
   "source": [
    "def get_pairs_batch(bs=4):\n",
    "    batch = data_train.sample(bs)\n",
    "    pp = [[row.ba, row.ru] for row in batch.itertuples()]\n",
    "    labels = [row.is_correct for row in batch.itertuples()]\n",
    "    return [list(t) for t in zip(*pp)], labels"
   ]
  },
  {
   "cell_type": "code",
   "execution_count": 12,
   "id": "80a9bd2f",
   "metadata": {},
   "outputs": [
    {
     "name": "stdout",
     "output_type": "stream",
     "text": [
      "(81268, 5) (104317, 5)\n"
     ]
    }
   ],
   "source": [
    "data_train_correct = data_train[data_train.is_correct == 1]\n",
    "print(data_train_correct.shape, data_train.shape)"
   ]
  },
  {
   "cell_type": "code",
   "execution_count": 14,
   "id": "278be395",
   "metadata": {},
   "outputs": [
    {
     "data": {
      "application/vnd.jupyter.widget-view+json": {
       "model_id": "834f8ca5d84d470dafbf60b6e7f61fb1",
       "version_major": 2,
       "version_minor": 0
      },
      "text/plain": [
       "0it [00:00, ?it/s]"
      ]
     },
     "metadata": {},
     "output_type": "display_data"
    },
    {
     "data": {
      "text/plain": [
       "81268"
      ]
     },
     "execution_count": 14,
     "metadata": {},
     "output_type": "execute_result"
    }
   ],
   "source": [
    "all_pairs = [(row.ba, row.ru) for row in tqdm(data_train_correct.itertuples())]\n",
    "len(all_pairs)"
   ]
  },
  {
   "cell_type": "code",
   "execution_count": 17,
   "id": "e23e84a8",
   "metadata": {},
   "outputs": [
    {
     "data": {
      "text/plain": [
       "[('— Шунан, әле килешеп-фәлән бөттөләрме икән?',\n",
       "  '— Уже договорились или как?'),\n",
       " ('Май башында Ырыҫмөхәммәт етәкселегендә ҡарағалпаҡтарҙың биш йөҙ кешелек ғәскәре килгәс, Алдар батыр бөтә әтрәттәре менән Сыбаркүлгә ҡарай походҡа ҡуҙғалды.',\n",
       "  'В начале мая, по прибытии Рысмухамета с пятью сотнями всадников, Алдар-батыр направился к озеру Чебаркуль.')]"
      ]
     },
     "execution_count": 17,
     "metadata": {},
     "output_type": "execute_result"
    }
   ],
   "source": [
    "random.sample(all_pairs, 2)"
   ]
  },
  {
   "cell_type": "code",
   "execution_count": 98,
   "id": "4e53745f",
   "metadata": {},
   "outputs": [],
   "source": [
    "def get_pairs_contrastive_batch(bs=4):\n",
    "    assert bs >= 4\n",
    "    batch = random.sample(all_pairs, bs // 2) # data_train_correct.sample(bs // 2)\n",
    "    pp = batch # [[row.ba, row.ru] for row in batch.itertuples()]\n",
    "    labels = [1 for row in pp]\n",
    "    for i in range(len(pp)):\n",
    "        pp.append([pp[i][0], pp[i-1][1]])\n",
    "        labels.append(0)\n",
    "    return [list(t) for t in zip(*pp)], labels"
   ]
  },
  {
   "cell_type": "code",
   "execution_count": 21,
   "id": "aec62c39",
   "metadata": {},
   "outputs": [
    {
     "data": {
      "text/plain": [
       "([['— Минең исемем Нурсалих.',\n",
       "   'Эйе, бында ҡаршы әйтеп торор урын юҡ ине.',\n",
       "   '— Минең исемем Нурсалих.',\n",
       "   'Эйе, бында ҡаршы әйтеп торор урын юҡ ине.'],\n",
       "  ['— Меня зовут Нурсалих.',\n",
       "   '– Так что и говорить не о чем.',\n",
       "   '– Так что и говорить не о чем.',\n",
       "   '— Меня зовут Нурсалих.']],\n",
       " [1, 1, 0, 0])"
      ]
     },
     "execution_count": 21,
     "metadata": {},
     "output_type": "execute_result"
    }
   ],
   "source": [
    "get_pairs_contrastive_batch()"
   ]
  },
  {
   "cell_type": "code",
   "execution_count": 22,
   "id": "f85f3ee2",
   "metadata": {},
   "outputs": [],
   "source": [
    "base_model = 'bert-base-multilingual-cased'"
   ]
  },
  {
   "cell_type": "markdown",
   "id": "cc857c94",
   "metadata": {},
   "source": [
    "# Training with easy (random) negatives"
   ]
  },
  {
   "cell_type": "markdown",
   "id": "9ef46efd",
   "metadata": {},
   "source": [
    "The quality is not very good, and the model seems to have broken on about 5k steps. \n",
    "\n",
    "Maybe, we could have avoided it by gentler learning?"
   ]
  },
  {
   "cell_type": "code",
   "execution_count": 23,
   "id": "486937b8",
   "metadata": {},
   "outputs": [],
   "source": [
    "model, loss, optimizer = None, None, None\n",
    "cleanup()"
   ]
  },
  {
   "cell_type": "code",
   "execution_count": 24,
   "id": "2b2ac388",
   "metadata": {},
   "outputs": [
    {
     "name": "stderr",
     "output_type": "stream",
     "text": [
      "Some weights of the model checkpoint at bert-base-multilingual-cased were not used when initializing BertForSequenceClassification: ['cls.predictions.bias', 'cls.seq_relationship.weight', 'cls.predictions.transform.LayerNorm.bias', 'cls.predictions.decoder.weight', 'cls.predictions.transform.dense.weight', 'cls.predictions.transform.dense.bias', 'cls.predictions.transform.LayerNorm.weight', 'cls.seq_relationship.bias']\n",
      "- This IS expected if you are initializing BertForSequenceClassification from the checkpoint of a model trained on another task or with another architecture (e.g. initializing a BertForSequenceClassification model from a BertForPreTraining model).\n",
      "- This IS NOT expected if you are initializing BertForSequenceClassification from the checkpoint of a model that you expect to be exactly identical (initializing a BertForSequenceClassification model from a BertForSequenceClassification model).\n",
      "Some weights of BertForSequenceClassification were not initialized from the model checkpoint at bert-base-multilingual-cased and are newly initialized: ['classifier.bias', 'classifier.weight']\n",
      "You should probably TRAIN this model on a down-stream task to be able to use it for predictions and inference.\n"
     ]
    }
   ],
   "source": [
    "model = AutoModelForSequenceClassification.from_pretrained(base_model).cuda();"
   ]
  },
  {
   "cell_type": "code",
   "execution_count": 25,
   "id": "0fa8448c",
   "metadata": {},
   "outputs": [],
   "source": [
    "tokenizer = AutoTokenizer.from_pretrained(base_model)"
   ]
  },
  {
   "cell_type": "code",
   "execution_count": 26,
   "id": "3444dd14",
   "metadata": {},
   "outputs": [],
   "source": [
    "for p in model.parameters():\n",
    "    p.requires_grad = False\n",
    "for p in model.classifier.parameters():\n",
    "    p.requires_grad = True"
   ]
  },
  {
   "cell_type": "code",
   "execution_count": 27,
   "id": "104f5037",
   "metadata": {},
   "outputs": [],
   "source": [
    "optimizer = Adafactor(\n",
    "    [p for p in model.parameters() if p.requires_grad], \n",
    "    scale_parameter=False, relative_step=False, lr=1e-4, clip_threshold=1.0\n",
    ")\n",
    "cleanup()"
   ]
  },
  {
   "cell_type": "code",
   "execution_count": 28,
   "id": "49e1c54a",
   "metadata": {},
   "outputs": [],
   "source": [
    "losses = []"
   ]
  },
  {
   "cell_type": "code",
   "execution_count": 29,
   "id": "365ee980",
   "metadata": {},
   "outputs": [],
   "source": [
    "head_steps = 5_000\n",
    "batch_size = 8\n",
    "report_steps = 100\n",
    "train_max_length = 256"
   ]
  },
  {
   "cell_type": "code",
   "execution_count": 30,
   "id": "832936a1",
   "metadata": {},
   "outputs": [],
   "source": [
    "loss_fn = torch.nn.CrossEntropyLoss()"
   ]
  },
  {
   "cell_type": "code",
   "execution_count": 31,
   "id": "f2af2234",
   "metadata": {},
   "outputs": [],
   "source": [
    "scheduler = get_linear_schedule_with_warmup(optimizer, num_warmup_steps=1000, num_training_steps=head_steps)"
   ]
  },
  {
   "cell_type": "code",
   "execution_count": 32,
   "id": "06424988",
   "metadata": {
    "scrolled": true
   },
   "outputs": [
    {
     "data": {
      "application/vnd.jupyter.widget-view+json": {
       "model_id": "83a9a5fde3404686823ad729b8071813",
       "version_major": 2,
       "version_minor": 0
      },
      "text/plain": [
       "  0%|          | 0/5000 [00:00<?, ?it/s]"
      ]
     },
     "metadata": {},
     "output_type": "display_data"
    },
    {
     "name": "stdout",
     "output_type": "stream",
     "text": [
      "0 0.6707775592803955\n",
      "100 0.6855318462848663\n",
      "200 0.6539425653219223\n",
      "300 0.608650472164154\n",
      "400 0.5743835741281509\n",
      "500 0.5864488744735717\n",
      "600 0.5802045673131943\n",
      "700 0.5598730745911599\n",
      "800 0.5628586730360985\n",
      "900 0.5489515851438046\n",
      "1000 0.5533304789662361\n",
      "1100 0.5690351875126362\n",
      "1200 0.5493826052546501\n",
      "1300 0.5694207447767258\n",
      "1400 0.5909578579664231\n",
      "1500 0.5570563152432442\n",
      "1600 0.5450107091665268\n",
      "1700 0.5492718011140824\n",
      "1800 0.5460870417952538\n",
      "1900 0.5334016820788383\n",
      "2000 0.5506059083342553\n",
      "2100 0.5481296946108342\n",
      "2200 0.552254139482975\n",
      "2300 0.553752056658268\n",
      "2400 0.5501548755168915\n",
      "2500 0.546850371658802\n",
      "2600 0.5252677215635777\n",
      "2700 0.5567766997218132\n",
      "2800 0.5710946917533875\n",
      "2900 0.5220868587493896\n",
      "3000 0.5195387524366378\n",
      "3100 0.5126449583470821\n",
      "3200 0.5465107473731041\n",
      "3300 0.5463499017059803\n",
      "3400 0.5433086943626404\n",
      "3500 0.5371495509147644\n",
      "3600 0.522066534459591\n",
      "3700 0.5483581019937992\n",
      "3800 0.5451789155602456\n",
      "3900 0.5240145778656006\n",
      "4000 0.5393269446492195\n",
      "4100 0.5156624250113964\n",
      "4200 0.5255717451870442\n",
      "4300 0.5341423699259757\n",
      "4400 0.5206788709759712\n",
      "4500 0.5468457880616188\n",
      "4600 0.526672238111496\n",
      "4700 0.5262576776742935\n",
      "4800 0.5537027482688427\n",
      "4900 0.528018254339695\n"
     ]
    }
   ],
   "source": [
    "model.train()\n",
    "tq = trange(len(losses), head_steps)\n",
    "for i in tq:\n",
    "    pp, pl = get_pairs_contrastive_batch(bs=batch_size)\n",
    "    try:\n",
    "        loss = loss_fn(\n",
    "            model(\n",
    "                **tokenizer(*pp, padding=True, truncation=True, max_length=train_max_length, return_tensors='pt').to(model.device)\n",
    "            ).logits.view(-1, 2),\n",
    "            torch.tensor(pl, device=model.device)\n",
    "        )\n",
    "        loss.backward()\n",
    "        losses.append(loss.item())\n",
    "        # torch.nn.utils.clip_grad_norm_(model.parameters(), 1.0)\n",
    "\n",
    "        optimizer.step()\n",
    "        optimizer.zero_grad(set_to_none=True)\n",
    "        scheduler.step()\n",
    "\n",
    "    except RuntimeError:\n",
    "        optimizer.zero_grad(set_to_none=True)\n",
    "        batch, out, embeddings, all_scores, loss = None, None, None, None, None\n",
    "        cleanup()\n",
    "        print('error', max(len(s) for s in pp[0]+pp[1]))\n",
    "        continue\n",
    "    if i % report_steps == 0:\n",
    "        print(i, np.mean(losses[-report_steps:]))"
   ]
  },
  {
   "cell_type": "markdown",
   "id": "24c9cfe3",
   "metadata": {},
   "source": [
    "The loss of 0.55 is better than random guess loss of 0.7 at equal chances => the model already knows something."
   ]
  },
  {
   "cell_type": "code",
   "execution_count": 33,
   "id": "a6991695",
   "metadata": {},
   "outputs": [
    {
     "data": {
      "image/png": "[encoded data removed]",
      "text/plain": [
       "<Figure size 432x288 with 1 Axes>"
      ]
     },
     "metadata": {
      "needs_background": "light"
     },
     "output_type": "display_data"
    }
   ],
   "source": [
    "pd.Series(losses).ewm(300).mean()[100:].plot(lw=1);"
   ]
  },
  {
   "cell_type": "code",
   "execution_count": 34,
   "id": "15b563df",
   "metadata": {},
   "outputs": [],
   "source": [
    "for p in model.parameters():\n",
    "    p.requires_grad = True"
   ]
  },
  {
   "cell_type": "code",
   "execution_count": 35,
   "id": "26e5335b",
   "metadata": {},
   "outputs": [],
   "source": [
    "optimizer = Adafactor(\n",
    "    [p for p in model.parameters() if p.requires_grad], \n",
    "    scale_parameter=False, relative_step=False, lr=1e-5, clip_threshold=1.0\n",
    ")"
   ]
  },
  {
   "cell_type": "code",
   "execution_count": 36,
   "id": "48d0bbfa",
   "metadata": {},
   "outputs": [],
   "source": [
    "loss_fn = torch.nn.CrossEntropyLoss(label_smoothing=0.01)"
   ]
  },
  {
   "cell_type": "code",
   "execution_count": 37,
   "id": "f45154de",
   "metadata": {},
   "outputs": [],
   "source": [
    "full_steps = 95_000\n",
    "batch_size = 4\n",
    "report_steps = 100\n",
    "train_max_length = 192  # 256 is preferable, but it OOMs often"
   ]
  },
  {
   "cell_type": "code",
   "execution_count": 38,
   "id": "33f81b80",
   "metadata": {},
   "outputs": [],
   "source": [
    "scheduler = get_linear_schedule_with_warmup(optimizer, num_warmup_steps=1000, num_training_steps=full_steps)"
   ]
  },
  {
   "cell_type": "code",
   "execution_count": 120,
   "id": "dc2a2576",
   "metadata": {
    "scrolled": true
   },
   "outputs": [
    {
     "data": {
      "application/vnd.jupyter.widget-view+json": {
       "model_id": "21c3d3a8685e40c29f928d8337ce23be",
       "version_major": 2,
       "version_minor": 0
      },
      "text/plain": [
       "  0%|          | 0/58628 [00:00<?, ?it/s]"
      ]
     },
     "metadata": {},
     "output_type": "display_data"
    },
    {
     "name": "stdout",
     "output_type": "stream",
     "text": [
      "41400 0.09553001534193754\n",
      "41500 0.10744834769517184\n",
      "41600 0.08931681904941798\n",
      "41700 0.07785327054560184\n",
      "41800 0.10507432989776135\n",
      "41900 0.1316724342107773\n",
      "42000 0.07045704655349255\n",
      "42100 0.059239824712276457\n",
      "42200 0.09062262330204249\n",
      "42300 0.11276377607136964\n",
      "42400 0.06039241656661034\n",
      "42500 0.09326407067477703\n",
      "42600 0.09800664685666562\n",
      "42700 0.0599598366767168\n",
      "42800 0.11673930004239082\n",
      "42900 0.08467206865549087\n",
      "43000 0.052435316145420074\n",
      "43100 0.09603407561779022\n",
      "43200 0.09403297908604145\n",
      "43300 0.05953613478690386\n",
      "43400 0.0715662020072341\n",
      "43500 0.07742147076874971\n",
      "43600 0.08967775844037533\n",
      "43700 0.06874261025339365\n",
      "43800 0.10682776041328906\n",
      "43900 0.058923424780368806\n",
      "44000 0.0755479308962822\n",
      "44100 0.07128254301846028\n",
      "44200 0.04368638943880796\n",
      "44300 0.10651268534362317\n",
      "44400 0.0827752586826682\n",
      "44500 0.08825533617287874\n",
      "44600 0.11473814029246569\n",
      "44700 0.12270539302378893\n",
      "44800 0.09063406769186258\n",
      "44900 0.08696912586688996\n",
      "45000 0.07086279232054948\n",
      "45100 0.06446096882224082\n",
      "45200 0.05086868595331907\n",
      "45300 0.0961419030278921\n",
      "45400 0.08725430399179458\n",
      "45500 0.11424156539142132\n",
      "45600 0.08012668438255786\n",
      "45700 0.06595142405480146\n",
      "45800 0.0656990360468626\n",
      "45900 0.08339577745646239\n",
      "46000 0.07755652766674757\n",
      "46100 0.10959355387836694\n",
      "46200 0.09489944882690907\n",
      "46300 0.07123654436320066\n",
      "46400 0.0665079402178526\n",
      "46500 0.10065048601478338\n",
      "46600 0.09065710566937923\n",
      "46700 0.10043962590396405\n",
      "46800 0.07470629520714284\n",
      "46900 0.09603113759309054\n",
      "47000 0.08962543778121472\n",
      "47100 0.05856773227453232\n",
      "47200 0.1474361990392208\n",
      "47300 0.14672409001737832\n",
      "47400 0.07902415573596955\n",
      "47500 0.10757986459881068\n",
      "47600 0.09531643651425839\n",
      "47700 0.0995279599353671\n",
      "47800 0.0671758683770895\n",
      "47900 0.08564129389822484\n",
      "48000 0.0577445862069726\n",
      "48100 0.07987494606524706\n",
      "48200 0.06982724279165269\n",
      "48300 0.10252339843660593\n",
      "48400 0.05963642843067646\n",
      "48500 0.08746126253157854\n",
      "48600 0.08423131231218577\n",
      "48700 0.10818185389041901\n",
      "48800 0.07023727778345347\n",
      "48900 0.0585026241838932\n",
      "49000 0.09985248908400536\n",
      "49100 0.056139183156192304\n",
      "49200 0.06151085820049047\n",
      "49300 0.0758346201851964\n",
      "49400 0.1003706468269229\n",
      "49500 0.06153160210698843\n",
      "49600 0.08356735073029994\n",
      "49700 0.09303071439266204\n",
      "49800 0.09094363819807767\n",
      "49900 0.06097954578697681\n",
      "50000 0.1043890842050314\n",
      "50100 0.08058646094053984\n",
      "50200 0.06068689756095409\n",
      "50300 0.08532704941928387\n",
      "50400 0.10665761437267066\n",
      "50500 0.09175940081477166\n",
      "50600 0.08082765258848668\n",
      "50700 0.10922260168939829\n",
      "50800 0.06432739362120628\n",
      "50900 0.07525890480726957\n",
      "51000 0.08292470835149288\n",
      "51100 0.07179958064109088\n",
      "51200 0.11277124885469675\n",
      "51300 0.11958780251443386\n",
      "51400 0.07110756773501635\n",
      "51500 0.0790236035361886\n",
      "51600 0.08833770267665386\n",
      "51700 0.11851738110184669\n",
      "51800 0.07218674097210169\n",
      "51900 0.07549878586083651\n",
      "52000 0.07851226449012756\n",
      "52100 0.08199276853352785\n",
      "52200 0.08820017106831074\n",
      "52300 0.069893217086792\n",
      "52400 0.055680477842688564\n",
      "52500 0.062183400839567186\n",
      "52600 0.09437079582363367\n",
      "52700 0.06577440071851015\n",
      "52800 0.09567969337105751\n",
      "52900 0.07693903245031834\n",
      "53000 0.050015189088881015\n",
      "53100 0.08007176969200373\n",
      "53200 0.11342576391994953\n",
      "53300 0.0712084947898984\n",
      "53400 0.13100051168352367\n",
      "53500 0.111823605671525\n",
      "53600 0.07257145013660192\n",
      "53700 0.054682824201881884\n",
      "53800 0.07880122181028128\n",
      "53900 0.09418236460536718\n",
      "54000 0.04837744131684303\n",
      "54100 0.09175937496125698\n",
      "54200 0.1269107063114643\n",
      "54300 0.059756288304924965\n",
      "54400 0.0716166701540351\n",
      "54500 0.08636094987392426\n",
      "54600 0.05533308617770672\n",
      "54700 0.09075187418609858\n",
      "54800 0.06694816831499338\n",
      "54900 0.07018779430538416\n",
      "55000 0.10924887627363206\n",
      "55100 0.06776072502136231\n",
      "55200 0.08662925396114587\n",
      "55300 0.07887917749583721\n",
      "55400 0.05378849849104881\n",
      "55500 0.06992635678499937\n",
      "55600 0.08034591369330883\n",
      "55700 0.11042353019118309\n",
      "55800 0.0995288810878992\n",
      "55900 0.09169588379561901\n",
      "56000 0.08746131293475629\n",
      "56100 0.059073411263525485\n",
      "56200 0.10953967470675707\n",
      "56300 0.05895592801272869\n",
      "56400 0.06108184583485127\n",
      "56500 0.07144879575818777\n",
      "56600 0.07615947384387255\n",
      "56700 0.08283296883106232\n",
      "56800 0.062137052863836285\n",
      "56900 0.06817847784608602\n",
      "57000 0.0859054708853364\n",
      "57100 0.08611084375530481\n",
      "57200 0.1259090255200863\n",
      "57300 0.0781943391636014\n",
      "57400 0.06813471421599387\n",
      "57500 0.09149520494043827\n",
      "57600 0.06537704344838857\n",
      "57700 0.07316813956946135\n",
      "57800 0.09288668498396874\n",
      "57900 0.10993734683841466\n",
      "58000 0.05560047835111618\n",
      "58100 0.07056707348674536\n",
      "58200 0.10120523646473885\n",
      "58300 0.05585244610905647\n",
      "58400 0.0768163039535284\n",
      "58500 0.03584442712366581\n",
      "58600 0.0907430911436677\n",
      "58700 0.09565657708793879\n",
      "58800 0.07316597506403923\n",
      "58900 0.06157090116292238\n",
      "59000 0.06155369229614735\n",
      "59100 0.05662566266953945\n",
      "59200 0.088126201890409\n",
      "59300 0.08258982762694358\n",
      "59400 0.09252733055502177\n",
      "59500 0.10624361384660005\n",
      "59600 0.1099659377709031\n",
      "59700 0.07921906225383282\n",
      "59800 0.12434347841888665\n",
      "59900 0.05139252495020628\n",
      "60000 0.08691279403865337\n",
      "60100 0.047629033885896205\n",
      "60200 0.06305294979363679\n",
      "60300 0.07644378587603569\n",
      "60400 0.05950193651020527\n",
      "60500 0.08487647332251072\n",
      "60600 0.08187053926289081\n",
      "60700 0.056833988204598423\n",
      "60800 0.0724650214239955\n",
      "60900 0.06454111609607935\n",
      "61000 0.07864309430122375\n",
      "61100 0.08374769438058138\n",
      "61200 0.08521339502185583\n",
      "61300 0.06343788951635361\n",
      "61400 0.05357913006097079\n",
      "61500 0.06697983797639609\n",
      "61600 0.09320416145026683\n",
      "61700 0.07823654960840941\n",
      "61800 0.08178594876080751\n",
      "61900 0.08979813892394305\n",
      "62000 0.08728093735873699\n",
      "62100 0.0701997521519661\n",
      "62200 0.06597584728151559\n",
      "62300 0.08400197967886924\n",
      "62400 0.05283614449203014\n",
      "62500 0.08437451232224703\n",
      "62600 0.09719666648656129\n",
      "62700 0.05982110161334276\n",
      "62800 0.0937118761613965\n",
      "62900 0.13798187114298344\n",
      "63000 0.05220906462520361\n",
      "63100 0.07666417602449656\n",
      "63200 0.13267121013253927\n",
      "63300 0.08255809132009745\n",
      "63400 0.08300544090569019\n",
      "63500 0.08226582188159227\n",
      "63600 0.05966752737760544\n",
      "63700 0.07927007451653481\n",
      "63800 0.08246878176927566\n",
      "63900 0.0832053267583251\n",
      "64000 0.04627976354211569\n",
      "64100 0.07384301524609327\n",
      "64200 0.08496717788279057\n",
      "64300 0.07724762760102749\n",
      "64400 0.07697341725230217\n",
      "64500 0.08595568045973778\n",
      "64600 0.06866122350096703\n",
      "64700 0.05869666282087564\n",
      "64800 0.07389355525374412\n",
      "64900 0.06795766349881888\n",
      "65000 0.06169780198484659\n",
      "65100 0.06701461717486382\n",
      "65200 0.11426704782992601\n",
      "65300 0.0792079672589898\n",
      "65400 0.062489912956953046\n",
      "65500 0.07443684108555317\n",
      "65600 0.10666666436940432\n",
      "65700 0.06274444937705993\n",
      "65800 0.0791768828034401\n",
      "65900 0.07248624041676521\n",
      "66000 0.11743292897939682\n",
      "66100 0.06975313749164343\n",
      "66200 0.06833977967500687\n",
      "66300 0.06564365573227406\n",
      "66400 0.10530563596636057\n",
      "66500 0.10093136541545392\n",
      "66600 0.08695888038724661\n",
      "66700 0.09063769262284041\n",
      "66800 0.0665642336383462\n",
      "66900 0.038597464002668856\n",
      "67000 0.09529188465327025\n",
      "67100 0.05233353067189455\n",
      "67200 0.07248604137450457\n",
      "67300 0.09381418239325284\n",
      "67400 0.0723800589889288\n",
      "67500 0.05674617629498244\n",
      "67600 0.08158955201506615\n",
      "67700 0.10798047672957183\n",
      "67800 0.08527913648635149\n",
      "67900 0.09365893598645926\n",
      "68000 0.07131208389997483\n",
      "68100 0.057784579209983346\n",
      "68200 0.06207775417715311\n",
      "68300 0.06635401967912913\n",
      "68400 0.09150789964944124\n",
      "68500 0.1068002475053072\n",
      "68600 0.0645450384914875\n",
      "68700 0.08948276571929455\n",
      "68800 0.07502286672592164\n",
      "68900 0.0723343900963664\n",
      "69000 0.07001253012567758\n",
      "69100 0.07730247363448144\n",
      "69200 0.08431703012436628\n",
      "69300 0.05588723979890346\n",
      "69400 0.04560569543391466\n",
      "69500 0.062470251955091954\n",
      "69600 0.044168480038642884\n",
      "69700 0.08080603457987308\n",
      "69800 0.0582499447837472\n",
      "69900 0.06102473516017198\n",
      "70000 0.07378314886242152\n",
      "70100 0.06512487381696701\n",
      "70200 0.07326393283903598\n",
      "70300 0.09122888285666704\n",
      "70400 0.06591088064014912\n",
      "70500 0.07291764952242374\n",
      "70600 0.06011125952005386\n",
      "70700 0.09403188943862915\n",
      "70800 0.07159103743731976\n",
      "70900 0.06071011036634445\n",
      "71000 0.06625816654413938\n",
      "71100 0.0991942085325718\n",
      "71200 0.05072014052420855\n",
      "71300 0.054859468452632426\n",
      "71400 0.07214820798486471\n",
      "71500 0.048198196887969974\n",
      "71600 0.04696725677698851\n",
      "71700 0.059838732406497\n",
      "71800 0.0474953855574131\n",
      "71900 0.1272992591559887\n",
      "72000 0.04920518610626459\n",
      "72100 0.07911601711064577\n",
      "72200 0.057053810618817806\n",
      "72300 0.06319009695202112\n",
      "72400 0.06904755741357803\n",
      "72500 0.0843414881452918\n",
      "72600 0.08459917113184928\n",
      "72700 0.08907938376069069\n",
      "72800 0.04370469845831394\n",
      "72900 0.07674594189971685\n",
      "73000 0.04250519622117281\n"
     ]
    },
    {
     "name": "stdout",
     "output_type": "stream",
     "text": [
      "73100 0.06428214456886053\n",
      "73200 0.05309081044048071\n",
      "73300 0.0715118495374918\n",
      "73400 0.11089366197586059\n",
      "73500 0.08396424002945423\n",
      "73600 0.06613614659756423\n",
      "73700 0.05730174589902162\n",
      "73800 0.0628534683957696\n",
      "73900 0.09278259959071875\n",
      "74000 0.06416990250349044\n",
      "74100 0.10057832024991513\n",
      "74200 0.10406017404049635\n",
      "74300 0.08763756014406682\n",
      "74400 0.06256561990827322\n",
      "74500 0.04455270573496819\n",
      "74600 0.058178429380059245\n",
      "74700 0.051317039020359514\n",
      "74800 0.08998266786336899\n",
      "74900 0.0749446377903223\n",
      "75000 0.10063505079597235\n",
      "75100 0.076199367120862\n",
      "75200 0.04561294961720705\n",
      "75300 0.060845303013920785\n",
      "75400 0.08694456323981285\n",
      "75500 0.10707788743078708\n",
      "75600 0.08381411973387003\n",
      "75700 0.10649745237082243\n",
      "75800 0.06933095056563615\n",
      "75900 0.0574299793690443\n",
      "76000 0.10082930102944374\n",
      "76100 0.05665803197771311\n",
      "76200 0.0862145684286952\n",
      "76300 0.06426511850208044\n",
      "76400 0.051309041641652585\n",
      "76500 0.06824078015983105\n",
      "76600 0.03998968355357647\n",
      "76700 0.08864893551915884\n",
      "76800 0.06985587310045957\n",
      "76900 0.054407739527523515\n",
      "77000 0.03783962551504374\n",
      "77100 0.042470943443477155\n",
      "77200 0.054547229781746864\n",
      "77300 0.09885028559714555\n",
      "77400 0.11423794783651829\n",
      "77500 0.06223739054054022\n",
      "77600 0.0975398813933134\n",
      "77700 0.043391864746809006\n",
      "77800 0.08555664017796516\n",
      "77900 0.095725620649755\n",
      "78000 0.08945583447813987\n",
      "78100 0.08836272493004799\n",
      "78200 0.07491089079529047\n",
      "78300 0.0861443617194891\n",
      "78400 0.07001695360988379\n",
      "78500 0.051773022785782816\n",
      "78600 0.08894003827124834\n",
      "78700 0.07563001681119204\n",
      "78800 0.04905004143714905\n",
      "78900 0.06909252863377333\n",
      "79000 0.05569270428270102\n",
      "79100 0.06896025706082583\n",
      "79200 0.10647414609789849\n",
      "79300 0.088116135597229\n",
      "79400 0.05922968674451113\n",
      "79500 0.05911256410181522\n",
      "79600 0.0947479123622179\n",
      "79700 0.08037669368088246\n",
      "79800 0.060460618622601034\n",
      "79900 0.09658807817846536\n",
      "80000 0.07814264580607415\n",
      "80100 0.05679680809378624\n",
      "80200 0.05982772771269083\n",
      "80300 0.07250639595091343\n",
      "80400 0.05290938660502434\n",
      "80500 0.08573763441294431\n",
      "80600 0.04372448235750198\n",
      "80700 0.04680437158793211\n",
      "80800 0.07069071665406228\n",
      "80900 0.0390755619853735\n",
      "81000 0.06753252193331719\n",
      "81100 0.05384533178061247\n",
      "81200 0.145323836915195\n",
      "81300 0.07570570271462201\n",
      "81400 0.06668047659099102\n",
      "81500 0.06083463110029697\n",
      "81600 0.10919142488390207\n",
      "81700 0.03495750725269318\n",
      "81800 0.07166601072996855\n",
      "81900 0.10548134967684746\n",
      "82000 0.06957743756473064\n",
      "82100 0.051025166139006616\n",
      "82200 0.07098026640713215\n",
      "82300 0.08110059022903443\n",
      "82400 0.05946723416447639\n",
      "82500 0.060574831366539\n",
      "82600 0.07653257206082344\n",
      "82700 0.06649082452058792\n",
      "82800 0.12372358787804842\n",
      "82900 0.040485115945339205\n",
      "83000 0.09317748550325632\n",
      "83100 0.08476891290396452\n",
      "83200 0.0743297227844596\n",
      "83300 0.06900219269096851\n",
      "83400 0.07741353567689657\n",
      "83500 0.06284755717962981\n",
      "83600 0.05169747665524483\n",
      "83700 0.08595036134123803\n",
      "83800 0.09572574958205222\n",
      "83900 0.06231158595532179\n",
      "84000 0.09379976615309715\n",
      "84100 0.04650796309113502\n",
      "84200 0.036485908776521685\n",
      "84300 0.09314374275505542\n",
      "84400 0.0665636033937335\n",
      "84500 0.0882998476177454\n",
      "84600 0.05927996046841145\n",
      "84700 0.09424994774162769\n",
      "84800 0.053919660560786724\n",
      "84900 0.07035743016749621\n",
      "85000 0.0931763656437397\n",
      "85100 0.06010169085115194\n",
      "85200 0.0887348223477602\n",
      "85300 0.08533937305212021\n",
      "85400 0.06854684945195913\n",
      "85500 0.05551156494766474\n",
      "85600 0.06862914562225342\n",
      "85700 0.06372543565928936\n",
      "85800 0.10482321571558714\n",
      "85900 0.06995852615684271\n",
      "86000 0.08264902371913195\n",
      "86100 0.05634842909872532\n",
      "86200 0.06809050533920527\n",
      "86300 0.08220545239746571\n",
      "86400 0.07929560009390116\n",
      "86500 0.07154468901455402\n",
      "86600 0.06484159383922815\n",
      "86700 0.054714476354420186\n",
      "86800 0.04706939250230789\n",
      "86900 0.08437672574073077\n",
      "87000 0.05623370058834553\n",
      "87100 0.04895529206842184\n",
      "87200 0.08612212467938661\n",
      "87300 0.06924845028668641\n",
      "87400 0.057633354663848876\n",
      "87500 0.05302971582859754\n",
      "87600 0.08784582525491715\n",
      "87700 0.07768933691084384\n",
      "87800 0.06765887420624495\n",
      "87900 0.06610446520149708\n",
      "88000 0.06691313032060861\n",
      "88100 0.06329933445900679\n",
      "88200 0.07224936746060848\n",
      "88300 0.04666908293962479\n",
      "88400 0.09298473991453647\n",
      "88500 0.09068923648446799\n",
      "88600 0.09018177572637796\n",
      "88700 0.056713282950222495\n",
      "88800 0.057323950342833996\n",
      "88900 0.05709892373532057\n",
      "89000 0.06538418207317591\n",
      "89100 0.073685517385602\n",
      "89200 0.06803674198687076\n",
      "89300 0.08299518752843142\n",
      "89400 0.07526516381651163\n",
      "89500 0.07128324195742607\n",
      "89600 0.06409897021949292\n",
      "89700 0.05949788570404053\n",
      "89800 0.05164258372038603\n",
      "89900 0.046064023189246656\n",
      "90000 0.06251462422311306\n",
      "90100 0.09991269193589687\n",
      "90200 0.04577762719243765\n",
      "90300 0.05083792954683304\n",
      "90400 0.07686056066304445\n",
      "90500 0.05461958397179842\n",
      "90600 0.10773087378591299\n",
      "90700 0.06760664027184247\n",
      "90800 0.08969054941087962\n",
      "90900 0.05846551679074764\n",
      "91000 0.0710572949796915\n",
      "91100 0.079308622777462\n",
      "91200 0.060630506612360476\n",
      "91300 0.0700492162257433\n",
      "91400 0.09048289328813552\n",
      "91500 0.05072634905576706\n",
      "91600 0.06499643355607987\n",
      "91700 0.06617188360542059\n",
      "91800 0.06517898447811604\n",
      "91900 0.05026387147605419\n",
      "92000 0.0944441693648696\n",
      "92100 0.06322924014180899\n",
      "92200 0.11400974866002798\n",
      "92300 0.06282611142843962\n",
      "92400 0.07305271491408348\n",
      "92500 0.050485237538814544\n",
      "92600 0.08179561220109463\n",
      "92700 0.0678962542116642\n",
      "92800 0.06526139244437218\n",
      "92900 0.07265402898192405\n",
      "93000 0.07045685384422541\n",
      "93100 0.06029451958835125\n",
      "93200 0.06757046323269605\n",
      "93300 0.07426112525165081\n",
      "93400 0.05391510128974915\n",
      "93500 0.05058769412338734\n",
      "93600 0.04745500665158033\n",
      "93700 0.0994500371813774\n",
      "93800 0.06423750959336758\n",
      "93900 0.054485296607017515\n",
      "94000 0.06647133070975542\n",
      "94100 0.07140328403562307\n",
      "94200 0.06373499982059001\n",
      "94300 0.04960463039577007\n",
      "94400 0.09531695473939181\n",
      "94500 0.05157685358077288\n",
      "94600 0.09666748039424419\n",
      "94700 0.0587146907299757\n",
      "94800 0.06933172941207885\n",
      "94900 0.075660115852952\n",
      "95000 0.04770209714770317\n",
      "95100 0.07027036421000958\n",
      "95200 0.06873663820326328\n",
      "95300 0.07932335190474987\n",
      "95400 0.06338581345975398\n",
      "95500 0.0780471882596612\n",
      "95600 0.05760750737041235\n",
      "95700 0.09149688199162483\n",
      "95800 0.07567004848271608\n",
      "95900 0.07730747915804387\n",
      "96000 0.06730292692780494\n",
      "96100 0.0604844281822443\n",
      "96200 0.06921306621283292\n",
      "96300 0.060074885934591295\n",
      "96400 0.11833495914936065\n",
      "96500 0.0991068211197853\n",
      "96600 0.09097792897373438\n",
      "96700 0.060948242358863355\n",
      "96800 0.06920638773590326\n",
      "96900 0.043901874981820584\n",
      "97000 0.0488141892850399\n",
      "97100 0.04943240012973547\n",
      "97200 0.041406654901802536\n",
      "97300 0.07480553641915322\n",
      "97400 0.06043490868061781\n",
      "97500 0.07853394571691752\n",
      "97600 0.09462404873222113\n",
      "97700 0.05114552613347769\n",
      "97800 0.09471118774265051\n",
      "97900 0.09241717129945755\n",
      "98000 0.08356346096843481\n",
      "98100 0.07789304215461015\n",
      "98200 0.13132702201604843\n",
      "98300 0.09446312177926303\n",
      "98400 0.06755521532148123\n",
      "98500 0.06222826570272446\n",
      "98600 0.08520110599696636\n",
      "98700 0.09950672216713428\n",
      "98800 0.11085239470005036\n",
      "98900 0.06575612328946591\n",
      "99000 0.04035957682877779\n",
      "99100 0.07640071976929903\n",
      "99200 0.034843715876340865\n",
      "99300 0.11084055222570896\n",
      "99400 0.060374590680003164\n",
      "99500 0.047510016895830634\n",
      "99600 0.06811171595007182\n",
      "99700 0.07206226896494627\n",
      "99800 0.07342762608081102\n",
      "99900 0.047885585837066175\n"
     ]
    }
   ],
   "source": [
    "model.train()\n",
    "tq = trange(len(losses), head_steps + full_steps)\n",
    "for i in tq:\n",
    "    pp, pl = get_pairs_contrastive_batch(bs=batch_size)\n",
    "    try:\n",
    "        loss = loss_fn(\n",
    "            model(\n",
    "                **tokenizer(*pp, padding=True, truncation=True, max_length=train_max_length, return_tensors='pt').to(model.device)\n",
    "            ).logits.view(-1, 2),\n",
    "            torch.tensor(pl, device=model.device)\n",
    "        )\n",
    "        loss.backward()\n",
    "        losses.append(loss.item())\n",
    "        # torch.nn.utils.clip_grad_norm_(model.parameters(), 1.0)\n",
    "\n",
    "        optimizer.step()\n",
    "        optimizer.zero_grad(set_to_none=True)\n",
    "        scheduler.step()\n",
    "\n",
    "    except RuntimeError:\n",
    "        optimizer.zero_grad(set_to_none=True)\n",
    "        batch, out, embeddings, all_scores, loss = None, None, None, None, None\n",
    "        cleanup()\n",
    "        print('error', max(len(s) for s in pp[0]+pp[1]))\n",
    "        continue\n",
    "    if i % report_steps == 0:\n",
    "        print(i, np.mean(losses[-report_steps:]))"
   ]
  },
  {
   "cell_type": "code",
   "execution_count": 121,
   "id": "c0960c33",
   "metadata": {},
   "outputs": [
    {
     "data": {
      "image/png": "[encoded data removed]",
      "text/plain": [
       "<Figure size 432x288 with 1 Axes>"
      ]
     },
     "metadata": {
      "needs_background": "light"
     },
     "output_type": "display_data"
    }
   ],
   "source": [
    "pd.Series(losses).ewm(300).mean()[100:].plot(lw=1);"
   ]
  },
  {
   "cell_type": "markdown",
   "id": "83b13680",
   "metadata": {},
   "source": [
    "With label smoothing of 1%, the lower bound for the loss is about 6%, so the model has learned all it could."
   ]
  },
  {
   "cell_type": "code",
   "execution_count": 122,
   "id": "afb47da9",
   "metadata": {},
   "outputs": [
    {
     "data": {
      "text/plain": [
       "0.056001534354847345"
      ]
     },
     "execution_count": 122,
     "metadata": {},
     "output_type": "execute_result"
    }
   ],
   "source": [
    "p = 0.01\n",
    "- (np.log(p) * p + np.log(1-p) * (1-p))"
   ]
  },
  {
   "cell_type": "code",
   "execution_count": 123,
   "id": "552b3354",
   "metadata": {},
   "outputs": [],
   "source": [
    "loss = None\n",
    "cleanup()\n",
    "model.eval();"
   ]
  },
  {
   "cell_type": "code",
   "execution_count": 124,
   "id": "60683e5f",
   "metadata": {},
   "outputs": [],
   "source": [
    "eval_bs = 8"
   ]
  },
  {
   "cell_type": "code",
   "execution_count": 125,
   "id": "672773a1",
   "metadata": {},
   "outputs": [
    {
     "data": {
      "application/vnd.jupyter.widget-view+json": {
       "model_id": "6343c1c46e6049cdadd269ef33afa73d",
       "version_major": 2,
       "version_minor": 0
      },
      "text/plain": [
       "  0%|          | 0/218 [00:00<?, ?it/s]"
      ]
     },
     "metadata": {},
     "output_type": "display_data"
    },
    {
     "name": "stdout",
     "output_type": "stream",
     "text": [
      "0.7449025481542462\n"
     ]
    }
   ],
   "source": [
    "logits = []\n",
    "for i in trange(0, data_val.shape[0], eval_bs):\n",
    "    batch = data_val.iloc[i:i+eval_bs]\n",
    "    with torch.inference_mode():\n",
    "        logits.extend(torch.softmax(model(\n",
    "            **tokenizer(batch.ba.tolist(), batch.ru.tolist(), padding=True, truncation=True, max_length=512, return_tensors='pt').to(model.device)\n",
    "        ).logits.view(-1, 2), -1)[:, 1].cpu().numpy())\n",
    "        \n",
    "logits = np.array(logits)\n",
    "print(roc_auc_score(data_val.is_correct, logits))"
   ]
  },
  {
   "cell_type": "code",
   "execution_count": 126,
   "id": "98c3805b",
   "metadata": {},
   "outputs": [
    {
     "data": {
      "image/png": "[encoded data removed]",
      "text/plain": [
       "<Figure size 432x288 with 1 Axes>"
      ]
     },
     "metadata": {
      "needs_background": "light"
     },
     "output_type": "display_data"
    }
   ],
   "source": [
    "pd.Series(np.log10(logits / (1-logits)), index=data_val.index).groupby(data_val.is_correct).plot(\n",
    "    kind='kde', bw_method=0.1,\n",
    ");"
   ]
  },
  {
   "cell_type": "code",
   "execution_count": 127,
   "id": "c0fae0ff",
   "metadata": {},
   "outputs": [
    {
     "name": "stdout",
     "output_type": "stream",
     "text": [
      "0.7779690189328744\n",
      "0.9060711\n",
      "0.9116465863453815\n"
     ]
    }
   ],
   "source": [
    "print(data_val.is_correct.mean())\n",
    "print(logits.mean())\n",
    "print((logits>0.5).mean())"
   ]
  },
  {
   "cell_type": "markdown",
   "id": "8104b551",
   "metadata": {},
   "source": [
    "By filtering, we can easily filter out about 1/2 or 2/3 of bad pairs. \n",
    "\n",
    "However, the resulting bad pairs are really difficult to detect. "
   ]
  },
  {
   "cell_type": "code",
   "execution_count": 128,
   "id": "c6f41050",
   "metadata": {},
   "outputs": [
    {
     "name": "stdout",
     "output_type": "stream",
     "text": [
      "recall@ ideal reject rate: 0.5478036175710594 th: 0.994213390678629\n"
     ]
    }
   ],
   "source": [
    "threshold = np.quantile(logits, 1-data_val.is_correct.mean())\n",
    "print('recall@ ideal reject rate:', (logits < threshold)[data_val.is_correct.values==0].mean(), 'th:', threshold)"
   ]
  },
  {
   "cell_type": "code",
   "execution_count": 129,
   "id": "b7775800",
   "metadata": {},
   "outputs": [
    {
     "data": {
      "text/html": [
       "<div>\n",
       "<style scoped>\n",
       "    .dataframe tbody tr th:only-of-type {\n",
       "        vertical-align: middle;\n",
       "    }\n",
       "\n",
       "    .dataframe tbody tr th {\n",
       "        vertical-align: top;\n",
       "    }\n",
       "\n",
       "    .dataframe thead th {\n",
       "        text-align: right;\n",
       "    }\n",
       "</style>\n",
       "<table border=\"1\" class=\"dataframe\">\n",
       "  <thead>\n",
       "    <tr style=\"text-align: right;\">\n",
       "      <th>is_correct</th>\n",
       "      <th>0</th>\n",
       "      <th>1</th>\n",
       "    </tr>\n",
       "  </thead>\n",
       "  <tbody>\n",
       "    <tr>\n",
       "      <th>accepted</th>\n",
       "      <td>275</td>\n",
       "      <td>1334</td>\n",
       "    </tr>\n",
       "    <tr>\n",
       "      <th>rejected</th>\n",
       "      <td>112</td>\n",
       "      <td>22</td>\n",
       "    </tr>\n",
       "  </tbody>\n",
       "</table>\n",
       "</div>"
      ],
      "text/plain": [
       "is_correct    0     1\n",
       "accepted    275  1334\n",
       "rejected    112    22"
      ]
     },
     "execution_count": 129,
     "metadata": {},
     "output_type": "execute_result"
    }
   ],
   "source": [
    "data_val.is_correct.groupby(['accepted' if l > 0.1 else 'rejected' for l in logits]).value_counts().unstack()"
   ]
  },
  {
   "cell_type": "code",
   "execution_count": 130,
   "id": "c24dcabe",
   "metadata": {},
   "outputs": [
    {
     "data": {
      "text/html": [
       "<div>\n",
       "<style scoped>\n",
       "    .dataframe tbody tr th:only-of-type {\n",
       "        vertical-align: middle;\n",
       "    }\n",
       "\n",
       "    .dataframe tbody tr th {\n",
       "        vertical-align: top;\n",
       "    }\n",
       "\n",
       "    .dataframe thead th {\n",
       "        text-align: right;\n",
       "    }\n",
       "</style>\n",
       "<table border=\"1\" class=\"dataframe\">\n",
       "  <thead>\n",
       "    <tr style=\"text-align: right;\">\n",
       "      <th>is_correct</th>\n",
       "      <th>0</th>\n",
       "      <th>1</th>\n",
       "    </tr>\n",
       "  </thead>\n",
       "  <tbody>\n",
       "    <tr>\n",
       "      <th>accepted</th>\n",
       "      <td>262</td>\n",
       "      <td>1327</td>\n",
       "    </tr>\n",
       "    <tr>\n",
       "      <th>rejected</th>\n",
       "      <td>125</td>\n",
       "      <td>29</td>\n",
       "    </tr>\n",
       "  </tbody>\n",
       "</table>\n",
       "</div>"
      ],
      "text/plain": [
       "is_correct    0     1\n",
       "accepted    262  1327\n",
       "rejected    125    29"
      ]
     },
     "execution_count": 130,
     "metadata": {},
     "output_type": "execute_result"
    }
   ],
   "source": [
    "data_val.is_correct.groupby(['accepted' if l > 0.5 else 'rejected' for l in logits]).value_counts().unstack()"
   ]
  },
  {
   "cell_type": "code",
   "execution_count": 131,
   "id": "258f468a",
   "metadata": {},
   "outputs": [
    {
     "data": {
      "text/html": [
       "<div>\n",
       "<style scoped>\n",
       "    .dataframe tbody tr th:only-of-type {\n",
       "        vertical-align: middle;\n",
       "    }\n",
       "\n",
       "    .dataframe tbody tr th {\n",
       "        vertical-align: top;\n",
       "    }\n",
       "\n",
       "    .dataframe thead th {\n",
       "        text-align: right;\n",
       "    }\n",
       "</style>\n",
       "<table border=\"1\" class=\"dataframe\">\n",
       "  <thead>\n",
       "    <tr style=\"text-align: right;\">\n",
       "      <th>is_correct</th>\n",
       "      <th>0</th>\n",
       "      <th>1</th>\n",
       "    </tr>\n",
       "  </thead>\n",
       "  <tbody>\n",
       "    <tr>\n",
       "      <th>accepted</th>\n",
       "      <td>249</td>\n",
       "      <td>1315</td>\n",
       "    </tr>\n",
       "    <tr>\n",
       "      <th>rejected</th>\n",
       "      <td>138</td>\n",
       "      <td>41</td>\n",
       "    </tr>\n",
       "  </tbody>\n",
       "</table>\n",
       "</div>"
      ],
      "text/plain": [
       "is_correct    0     1\n",
       "accepted    249  1315\n",
       "rejected    138    41"
      ]
     },
     "execution_count": 131,
     "metadata": {},
     "output_type": "execute_result"
    }
   ],
   "source": [
    "data_val.is_correct.groupby(['accepted' if l > 0.9 else 'rejected' for l in logits]).value_counts().unstack()"
   ]
  },
  {
   "cell_type": "code",
   "execution_count": 132,
   "id": "98651b41",
   "metadata": {},
   "outputs": [
    {
     "data": {
      "text/html": [
       "<div>\n",
       "<style scoped>\n",
       "    .dataframe tbody tr th:only-of-type {\n",
       "        vertical-align: middle;\n",
       "    }\n",
       "\n",
       "    .dataframe tbody tr th {\n",
       "        vertical-align: top;\n",
       "    }\n",
       "\n",
       "    .dataframe thead th {\n",
       "        text-align: right;\n",
       "    }\n",
       "</style>\n",
       "<table border=\"1\" class=\"dataframe\">\n",
       "  <thead>\n",
       "    <tr style=\"text-align: right;\">\n",
       "      <th>is_correct</th>\n",
       "      <th>0</th>\n",
       "      <th>1</th>\n",
       "    </tr>\n",
       "  </thead>\n",
       "  <tbody>\n",
       "    <tr>\n",
       "      <th>accepted</th>\n",
       "      <td>219</td>\n",
       "      <td>1281</td>\n",
       "    </tr>\n",
       "    <tr>\n",
       "      <th>rejected</th>\n",
       "      <td>168</td>\n",
       "      <td>75</td>\n",
       "    </tr>\n",
       "  </tbody>\n",
       "</table>\n",
       "</div>"
      ],
      "text/plain": [
       "is_correct    0     1\n",
       "accepted    219  1281\n",
       "rejected    168    75"
      ]
     },
     "execution_count": 132,
     "metadata": {},
     "output_type": "execute_result"
    }
   ],
   "source": [
    "data_val.is_correct.groupby(['accepted' if l > 0.98 else 'rejected' for l in logits]).value_counts().unstack()"
   ]
  },
  {
   "cell_type": "code",
   "execution_count": 133,
   "id": "a7c8cbac",
   "metadata": {},
   "outputs": [],
   "source": [
    "model.save_pretrained('../models/bak-ru-cross-v2-easy-negatives');"
   ]
  },
  {
   "cell_type": "markdown",
   "id": "a5bf1e9d",
   "metadata": {},
   "source": [
    "# Harder (corrupted) negatives"
   ]
  },
  {
   "cell_type": "code",
   "execution_count": 382,
   "id": "88fd8b50",
   "metadata": {},
   "outputs": [],
   "source": [
    "# borrowed from https://github.com/natasha/naeval/tree/master/naeval/segment\n",
    "\n",
    "import re\n",
    "from collections import namedtuple\n",
    "\n",
    "\n",
    "TOKEN = re.compile(r'([^\\W\\d]+|\\d+|[^\\w\\s])')\n",
    "WORD = re.compile('^[\\w\\d]+$')\n",
    "\n",
    "Substring = namedtuple('Substring', ['start', 'end', 'text'])\n",
    "\n",
    "def find_substrings(chunks, text):\n",
    "    offset = 0\n",
    "    for chunk in chunks:\n",
    "        start = text.find(chunk, offset)\n",
    "        stop = start + len(chunk)\n",
    "        yield Substring(start, stop, chunk)\n",
    "        offset = stop\n",
    "\n",
    "def re_tokenize(text):\n",
    "    chunks = TOKEN.findall(text)\n",
    "    return find_substrings(chunks, text)\n",
    "\n",
    "def is_word(text):\n",
    "    return bool(re.match(WORD, text))"
   ]
  },
  {
   "cell_type": "code",
   "execution_count": 601,
   "id": "c84c4633",
   "metadata": {},
   "outputs": [],
   "source": [
    "def insert_word(sent, word, position=None):\n",
    "    \"\"\" Cleanly insert a word randomly into a sentence\"\"\"\n",
    "    toks = list(re_tokenize(sent))\n",
    "    # before which token we'll insert the word\n",
    "    if position is None:\n",
    "        position = random.randint(0, len(toks) if is_word(toks[-1].text) else len(toks)-1)\n",
    "    if position == 0:\n",
    "        if sent[0].isupper():\n",
    "            word = word[0].upper() + word[1:]\n",
    "        return word + ' ' + sent[0].lower() + sent[1:]\n",
    "    if position == len(toks): # the last token is a word, so we just add one more\n",
    "        return sent + ' ' + word\n",
    "    next_tok = toks[position]\n",
    "    if is_word(next_tok.text) or sent[next_tok.start-1] == ' ':\n",
    "        word = word + ' '  # insert space between the added word and the next one\n",
    "    else:\n",
    "        word = ' ' + word\n",
    "    return sent[:next_tok.start] + word + sent[next_tok.start:]\n",
    "\n",
    "def remove_word(sent, position=None):\n",
    "    \"\"\" Cleanly remove a word randomly from a sentence\"\"\"\n",
    "    toks = list(re_tokenize(sent))\n",
    "    if len(toks) < 2:\n",
    "        return sent\n",
    "    if position is None:\n",
    "        position = random.randint(0, len(toks)-1)\n",
    "    \n",
    "    if position == 0:\n",
    "        res = sent[toks[1].start:]\n",
    "        if sent[0].isupper():\n",
    "            res = res[0].upper() + res[1:]\n",
    "        return res\n",
    "    if position == len(toks)-1:\n",
    "        return sent[:toks[-2].end]\n",
    "    tok = toks[position]\n",
    "    spaces_around = (sent[tok.start-1] == ' ') + (sent[tok.end] == ' ')\n",
    "    extra_space = ''\n",
    "    if spaces_around == 2 or not is_word(tok.text) and spaces_around == 1:\n",
    "        extra_space = ' '\n",
    "    return sent[:toks[position-1].end] + extra_space + sent[toks[position+1].start:]\n",
    "\n",
    "\n",
    "def replace_word(sent, word, position=None):\n",
    "    \"\"\" Cleanly replace a word randomly in a sentence\"\"\"\n",
    "    toks = list(re_tokenize(sent))\n",
    "    if len(toks) < 1:\n",
    "        return sent\n",
    "    if position is None:\n",
    "        position = random.randint(0, len(toks)-1)\n",
    "    tok = toks[position]\n",
    "    \n",
    "    if position == 0:\n",
    "        if sent[0].isupper():\n",
    "            word = word[0].upper() + word[1:]\n",
    "        res = word\n",
    "    else:\n",
    "        res = sent[:tok.start] + (' ' if sent[tok.start-1] != ' ' and not is_word(tok.text) else '') + word\n",
    "    if position < len(toks) - 1:\n",
    "        if sent[tok.end] != ' ' and not is_word(tok.text):\n",
    "            res = res + ' '\n",
    "        res = res + sent[tok.end:]\n",
    "    return res\n",
    "\n",
    "\n",
    "def swap_words(sent, position1=None, position2=None):\n",
    "    \"\"\" Cleanly replace a word randomly in a sentence\"\"\"\n",
    "    toks = list(re_tokenize(sent))\n",
    "    if len(toks) < 2:\n",
    "        return sent\n",
    "    if position1 is None:\n",
    "        position1 = random.randint(0, len(toks)-1)\n",
    "    while position2 is None or position2 == position1:\n",
    "        position2 = random.randint(0, len(toks)-1)\n",
    "    w1, w2 = toks[position1].text, toks[position2].text\n",
    "    \n",
    "    sent = replace_word(sent, w2, position1)\n",
    "    sent = replace_word(sent, w1, position2)\n",
    "    return sent\n",
    "\n",
    "\n",
    "def get_other_word(ix):\n",
    "    sent = random.choice(all_pairs)[ix]\n",
    "    return random.choice(list(re_tokenize(sent))).text\n",
    "\n",
    "\n",
    "def corrupt_sentence(sent, ix, p_edit=0.5):\n",
    "    old_sent = sent[:]\n",
    "    while sent == old_sent:\n",
    "        # insert a random word\n",
    "        if random.random() < p_edit or len(sent.split()) == 1:\n",
    "            sent = insert_word(sent, get_other_word(ix))\n",
    "        # replace a random word\n",
    "        if random.random() < p_edit and len(sent.split()) > 1:\n",
    "            sent = replace_word(sent, get_other_word(ix))\n",
    "        # remove a word\n",
    "        if random.random() < p_edit and len(sent.split()) > 1:\n",
    "            sent = remove_word(sent)\n",
    "        # swap words\n",
    "        if random.random() < p_edit and len(sent.split()) > 1:\n",
    "            sent = swap_words(sent)\n",
    "    return sent\n",
    "\n",
    "def corrupt_pair(pair):\n",
    "    \"\"\" Corrupt one (randomly chosen) sentence in a pair \"\"\"\n",
    "    pair = list(pair)\n",
    "    ix = random.choice([0, 1])\n",
    "    sent = pair[ix]\n",
    "    pair[ix] = corrupt_sentence(sent, ix)\n",
    "    return pair"
   ]
  },
  {
   "cell_type": "code",
   "execution_count": 602,
   "id": "af26f22b",
   "metadata": {},
   "outputs": [],
   "source": [
    "text = 'Казнить нельзя, помиловать (приказом короля) велено!'"
   ]
  },
  {
   "cell_type": "code",
   "execution_count": 603,
   "id": "0bb49b79",
   "metadata": {
    "scrolled": true
   },
   "outputs": [
    {
     "name": "stdout",
     "output_type": "stream",
     "text": [
      "! нельзя, помиловать (приказом короля) велено Казнить\n",
      "( нельзя, помиловать Казнить приказом короля) велено!\n",
      ") нельзя, помиловать (приказом короля Казнить велено!\n",
      ", нельзя Казнить помиловать (приказом короля) велено!\n",
      "Велено нельзя, помиловать (приказом короля) Казнить!\n",
      "Казнить !, помиловать (приказом короля) велено нельзя\n",
      "Казнить (, помиловать нельзя приказом короля) велено!\n",
      "Казнить ), помиловать (приказом короля нельзя велено!\n",
      "Казнить , нельзя помиловать (приказом короля) велено!\n",
      "Казнить велено, помиловать (приказом короля) нельзя!\n",
      "Казнить короля, помиловать (приказом нельзя) велено!\n",
      "Казнить нельзя ! помиловать (приказом короля) велено ,\n",
      "Казнить нельзя ( помиловать , приказом короля) велено!\n",
      "Казнить нельзя ) помиловать (приказом короля , велено!\n",
      "Казнить нельзя велено помиловать (приказом короля) ,!\n",
      "Казнить нельзя короля помиловать (приказом ,) велено!\n",
      "Казнить нельзя помиловать , (приказом короля) велено!\n",
      "Казнить нельзя приказом помиловать (, короля) велено!\n",
      "Казнить нельзя, ! (приказом короля) велено помиловать\n",
      "Казнить нельзя, ( помиловать приказом короля) велено!\n",
      "Казнить нельзя, ) (приказом короля помиловать велено!\n",
      "Казнить нельзя, велено (приказом короля) помиловать!\n",
      "Казнить нельзя, короля (приказом помиловать) велено!\n",
      "Казнить нельзя, помиловать ! приказом короля) велено (\n",
      "Казнить нельзя, помиловать (! короля) велено приказом\n",
      "Казнить нельзя, помиловать () короля приказом велено!\n",
      "Казнить нельзя, помиловать (велено короля) приказом!\n",
      "Казнить нельзя, помиловать (короля приказом) велено!\n",
      "Казнить нельзя, помиловать (приказом !) велено короля\n",
      "Казнить нельзя, помиловать (приказом ) короля велено!\n",
      "Казнить нельзя, помиловать (приказом велено) короля!\n",
      "Казнить нельзя, помиловать (приказом короля ! велено )\n",
      "Казнить нельзя, помиловать (приказом короля велено )!\n",
      "Казнить нельзя, помиловать (приказом короля) ! велено\n",
      "Казнить нельзя, помиловать ) приказом короля ( велено!\n",
      "Казнить нельзя, помиловать велено приказом короля) (!\n",
      "Казнить нельзя, помиловать короля приказом () велено!\n",
      "Казнить нельзя, помиловать приказом ( короля) велено!\n",
      "Казнить нельзя, приказом (помиловать короля) велено!\n",
      "Казнить помиловать, нельзя (приказом короля) велено!\n",
      "Казнить приказом, помиловать (нельзя короля) велено!\n",
      "Короля нельзя, помиловать (приказом Казнить) велено!\n",
      "Нельзя Казнить, помиловать (приказом короля) велено!\n",
      "Помиловать нельзя, Казнить (приказом короля) велено!\n",
      "Приказом нельзя, помиловать (Казнить короля) велено!\n"
     ]
    }
   ],
   "source": [
    "for s in sorted({swap_words(text) for _ in range(200)}):\n",
    "    print(s)"
   ]
  },
  {
   "cell_type": "code",
   "execution_count": 604,
   "id": "da20d368",
   "metadata": {},
   "outputs": [
    {
     "name": "stdout",
     "output_type": "stream",
     "text": [
      "Казнить конь, помиловать (приказом короля) велено!\n",
      "Казнить нельзя конь помиловать (приказом короля) велено!\n",
      "Казнить нельзя, конь (приказом короля) велено!\n",
      "Казнить нельзя, помиловать (конь короля) велено!\n",
      "Казнить нельзя, помиловать (приказом конь) велено!\n",
      "Казнить нельзя, помиловать (приказом короля конь велено!\n",
      "Казнить нельзя, помиловать (приказом короля) велено конь\n",
      "Казнить нельзя, помиловать (приказом короля) конь!\n",
      "Казнить нельзя, помиловать конь приказом короля) велено!\n",
      "Конь нельзя, помиловать (приказом короля) велено!\n"
     ]
    }
   ],
   "source": [
    "for s in sorted({replace_word(text, 'конь') for _ in range(200)}):\n",
    "    print(s)"
   ]
  },
  {
   "cell_type": "code",
   "execution_count": 605,
   "id": "38514fff",
   "metadata": {},
   "outputs": [
    {
     "name": "stdout",
     "output_type": "stream",
     "text": [
      "Казнить конь нельзя, помиловать (приказом короля) велено!\n",
      "Казнить нельзя конь, помиловать (приказом короля) велено!\n",
      "Казнить нельзя, конь помиловать (приказом короля) велено!\n",
      "Казнить нельзя, помиловать (конь приказом короля) велено!\n",
      "Казнить нельзя, помиловать (приказом конь короля) велено!\n",
      "Казнить нельзя, помиловать (приказом короля конь) велено!\n",
      "Казнить нельзя, помиловать (приказом короля) велено конь!\n",
      "Казнить нельзя, помиловать (приказом короля) конь велено!\n",
      "Казнить нельзя, помиловать конь (приказом короля) велено!\n",
      "Конь казнить нельзя, помиловать (приказом короля) велено!\n"
     ]
    }
   ],
   "source": [
    "for s in sorted({insert_word('Казнить нельзя, помиловать (приказом короля) велено!', 'конь') for _ in range(200)}):\n",
    "    print(s)"
   ]
  },
  {
   "cell_type": "code",
   "execution_count": 606,
   "id": "181c5419",
   "metadata": {},
   "outputs": [
    {
     "name": "stdout",
     "output_type": "stream",
     "text": [
      "Казнить нельзя помиловать (приказом короля) велено!\n",
      "Казнить нельзя, (приказом короля) велено!\n",
      "Казнить нельзя, помиловать (короля) велено!\n",
      "Казнить нельзя, помиловать (приказом короля велено!\n",
      "Казнить нельзя, помиловать (приказом короля) велено\n",
      "Казнить нельзя, помиловать (приказом короля)!\n",
      "Казнить нельзя, помиловать (приказом) велено!\n",
      "Казнить нельзя, помиловать приказом короля) велено!\n",
      "Казнить, помиловать (приказом короля) велено!\n",
      "Нельзя, помиловать (приказом короля) велено!\n"
     ]
    }
   ],
   "source": [
    "for s in sorted({remove_word('Казнить нельзя, помиловать (приказом короля) велено!') for _ in range(200)}):\n",
    "    print(s)"
   ]
  },
  {
   "cell_type": "code",
   "execution_count": 607,
   "id": "184fb6d6",
   "metadata": {},
   "outputs": [
    {
     "data": {
      "text/plain": [
       "[Substring(start=0, end=7, text='Казнить'),\n",
       " Substring(start=8, end=14, text='нельзя'),\n",
       " Substring(start=14, end=15, text=','),\n",
       " Substring(start=16, end=26, text='помиловать'),\n",
       " Substring(start=27, end=28, text='('),\n",
       " Substring(start=28, end=36, text='приказом'),\n",
       " Substring(start=37, end=43, text='короля'),\n",
       " Substring(start=43, end=44, text=')'),\n",
       " Substring(start=45, end=51, text='велено'),\n",
       " Substring(start=51, end=52, text='!')]"
      ]
     },
     "execution_count": 607,
     "metadata": {},
     "output_type": "execute_result"
    }
   ],
   "source": [
    "list(re_tokenize('Казнить нельзя, помиловать (приказом короля) велено!'))"
   ]
  },
  {
   "cell_type": "code",
   "execution_count": 611,
   "id": "d8d05d5f",
   "metadata": {},
   "outputs": [
    {
     "data": {
      "text/plain": [
       "('Тыштан түгел, эстән.', 'Не внешне – а изнутри, и я это почувствовала.')"
      ]
     },
     "execution_count": 611,
     "metadata": {},
     "output_type": "execute_result"
    }
   ],
   "source": [
    "pair = random.choice(all_pairs)\n",
    "pair"
   ]
  },
  {
   "cell_type": "code",
   "execution_count": 612,
   "id": "2b1d2fae",
   "metadata": {},
   "outputs": [
    {
     "data": {
      "text/plain": [
       "['Түгел Ҡасыу, . эстән', 'Не внешне – а изнутри, и я это почувствовала.']"
      ]
     },
     "execution_count": 612,
     "metadata": {},
     "output_type": "execute_result"
    }
   ],
   "source": [
    "corrupt_pair(pair)"
   ]
  },
  {
   "cell_type": "markdown",
   "id": "4f83c0d1",
   "metadata": {},
   "source": [
    "About 70% of corrupted pairs really change meaning, and about 50% of them are linguistically acceptable - which seems ok. "
   ]
  },
  {
   "cell_type": "code",
   "execution_count": 613,
   "id": "d6a45d16",
   "metadata": {},
   "outputs": [
    {
     "name": "stdout",
     "output_type": "stream",
     "text": [
      "Не внешне – а изнутри, и это вскочив почувствовала.\n",
      "Внешне Беда а изнутри, . смешном я это почувствовала и\n",
      "Не внешне – а хлеба, и я это почувствовала.\n",
      "Не внешне – изнутри, и я это почувствовала.\n",
      "Не внешне – я изнутри из и а это почувствовала.\n",
      "Не внешне – а изнутри, и я почувствовала трактор возмещен\n",
      "Не внешне – а изнутри, и целительских это почувствовала умолк\n",
      "Не внешне а изнутри, и я — это почувствовала.\n",
      "Не и махнув – а изнутри, внешне я это почувствовала.\n",
      "Не уснуть внешне – а изнутри, и я это почувствовала.\n"
     ]
    }
   ],
   "source": [
    "for _ in range(10):\n",
    "    print(corrupt_sentence(pair[1], 1))"
   ]
  },
  {
   "cell_type": "code",
   "execution_count": 614,
   "id": "b6f2c2e8",
   "metadata": {},
   "outputs": [],
   "source": [
    "def get_pairs_contrastive_batch(bs=4, p_difficult=0.5):\n",
    "    assert bs >= 4\n",
    "    batch = random.sample(all_pairs, bs // 2) # data_train_correct.sample(bs // 2)\n",
    "    pp = batch # [[row.ba, row.ru] for row in batch.itertuples()]\n",
    "    labels = [1 for row in pp]\n",
    "    if random.random() < p_difficult:\n",
    "        for i in range(len(pp)):\n",
    "            pp.append(corrupt_pair(pp[i]))\n",
    "            labels.append(0)\n",
    "    else:\n",
    "        for i in range(len(pp)):\n",
    "            pp.append([pp[i][0], pp[i-1][1]])\n",
    "            labels.append(0)\n",
    "    return [list(t) for t in zip(*pp)], labels"
   ]
  },
  {
   "cell_type": "code",
   "execution_count": 627,
   "id": "a13bf097",
   "metadata": {},
   "outputs": [
    {
     "data": {
      "text/plain": [
       "([['Ул хаттарҙы уҡырға тотондо. Тик күҙ йәштәре ирек бирмәне.',\n",
       "   'Хәйер, уны һин үҙең дә күрһәтмәйәсәкһең.',\n",
       "   'Ул хаттарҙы уҡырға тотондо. Тик күҙ Хирург ирек бирмәне.',\n",
       "   'Хәйер, уны һин үҙең дә күрһәтмәйәсәкһең.'],\n",
       "  ['Он начал читать письма и не мог удержаться от слёз.',\n",
       "   'Впрочем, ты и сам не захочешь их показывать.',\n",
       "   'Он начал читать письма и не мог удержаться от слёз.',\n",
       "   'Впрочем не ты и сам живом захочешь их показывать.']],\n",
       " [1, 1, 0, 0])"
      ]
     },
     "execution_count": 627,
     "metadata": {},
     "output_type": "execute_result"
    }
   ],
   "source": [
    "get_pairs_contrastive_batch()"
   ]
  },
  {
   "cell_type": "markdown",
   "id": "b7d1734e",
   "metadata": {},
   "source": [
    "## Train with these harder examples"
   ]
  },
  {
   "cell_type": "code",
   "execution_count": 628,
   "id": "190edc79",
   "metadata": {},
   "outputs": [],
   "source": [
    "model, loss, optimizer = None, None, None\n",
    "cleanup()"
   ]
  },
  {
   "cell_type": "code",
   "execution_count": 629,
   "id": "13830554",
   "metadata": {},
   "outputs": [
    {
     "name": "stderr",
     "output_type": "stream",
     "text": [
      "Some weights of the model checkpoint at bert-base-multilingual-cased were not used when initializing BertForSequenceClassification: ['cls.predictions.bias', 'cls.seq_relationship.weight', 'cls.predictions.transform.LayerNorm.bias', 'cls.predictions.decoder.weight', 'cls.predictions.transform.dense.weight', 'cls.predictions.transform.dense.bias', 'cls.predictions.transform.LayerNorm.weight', 'cls.seq_relationship.bias']\n",
      "- This IS expected if you are initializing BertForSequenceClassification from the checkpoint of a model trained on another task or with another architecture (e.g. initializing a BertForSequenceClassification model from a BertForPreTraining model).\n",
      "- This IS NOT expected if you are initializing BertForSequenceClassification from the checkpoint of a model that you expect to be exactly identical (initializing a BertForSequenceClassification model from a BertForSequenceClassification model).\n",
      "Some weights of BertForSequenceClassification were not initialized from the model checkpoint at bert-base-multilingual-cased and are newly initialized: ['classifier.bias', 'classifier.weight']\n",
      "You should probably TRAIN this model on a down-stream task to be able to use it for predictions and inference.\n"
     ]
    }
   ],
   "source": [
    "model = AutoModelForSequenceClassification.from_pretrained(base_model).cuda();"
   ]
  },
  {
   "cell_type": "code",
   "execution_count": 630,
   "id": "8591a3b9",
   "metadata": {},
   "outputs": [],
   "source": [
    "tokenizer = AutoTokenizer.from_pretrained(base_model)"
   ]
  },
  {
   "cell_type": "code",
   "execution_count": 631,
   "id": "4c7e2bd0",
   "metadata": {},
   "outputs": [],
   "source": [
    "for p in model.parameters():\n",
    "    p.requires_grad = False\n",
    "for p in model.classifier.parameters():\n",
    "    p.requires_grad = True"
   ]
  },
  {
   "cell_type": "code",
   "execution_count": 632,
   "id": "8a49cc36",
   "metadata": {},
   "outputs": [],
   "source": [
    "optimizer = Adafactor(\n",
    "    [p for p in model.parameters() if p.requires_grad], \n",
    "    scale_parameter=False, relative_step=False, lr=1e-4, clip_threshold=1.0\n",
    ")\n",
    "cleanup()"
   ]
  },
  {
   "cell_type": "code",
   "execution_count": 633,
   "id": "f735a998",
   "metadata": {},
   "outputs": [],
   "source": [
    "losses = []"
   ]
  },
  {
   "cell_type": "code",
   "execution_count": 634,
   "id": "f0c190ff",
   "metadata": {},
   "outputs": [],
   "source": [
    "head_steps = 5_000\n",
    "batch_size = 8\n",
    "report_steps = 100\n",
    "train_max_length = 256"
   ]
  },
  {
   "cell_type": "code",
   "execution_count": 635,
   "id": "24b08f2d",
   "metadata": {},
   "outputs": [],
   "source": [
    "loss_fn = torch.nn.CrossEntropyLoss()"
   ]
  },
  {
   "cell_type": "code",
   "execution_count": 636,
   "id": "830119ec",
   "metadata": {},
   "outputs": [],
   "source": [
    "scheduler = get_linear_schedule_with_warmup(optimizer, num_warmup_steps=1000, num_training_steps=head_steps)"
   ]
  },
  {
   "cell_type": "code",
   "execution_count": 637,
   "id": "e9e91b65",
   "metadata": {
    "scrolled": true
   },
   "outputs": [
    {
     "data": {
      "application/vnd.jupyter.widget-view+json": {
       "model_id": "65adc9b0a31d4853909ab8b850fbad6f",
       "version_major": 2,
       "version_minor": 0
      },
      "text/plain": [
       "  0%|          | 0/5000 [00:00<?, ?it/s]"
      ]
     },
     "metadata": {},
     "output_type": "display_data"
    },
    {
     "name": "stdout",
     "output_type": "stream",
     "text": [
      "0 0.7091808319091797\n",
      "100 0.7021327739953995\n",
      "200 0.6849219721555709\n",
      "300 0.6725764143466949\n",
      "400 0.6592385965585709\n",
      "500 0.6434589621424674\n",
      "600 0.623248008787632\n",
      "700 0.6458574113249779\n",
      "800 0.6473178082704544\n",
      "900 0.6262586438655853\n",
      "1000 0.6268628087639808\n",
      "1100 0.6426221686601639\n",
      "1200 0.6465109494328499\n",
      "1300 0.6250256243348121\n",
      "1400 0.6447769677639008\n",
      "1500 0.6451832228899002\n",
      "1600 0.6325877153873444\n",
      "1700 0.644515183866024\n",
      "1800 0.640305661559105\n",
      "1900 0.6440346348285675\n",
      "2000 0.6438755810260772\n",
      "2100 0.6291194620728493\n",
      "2200 0.644684390425682\n",
      "2300 0.6247145554423332\n",
      "2400 0.6364124503731727\n",
      "2500 0.6286642336845398\n",
      "2600 0.653277980685234\n",
      "2700 0.6209691914916039\n",
      "2800 0.6362006822228432\n",
      "2900 0.6265427914261817\n",
      "3000 0.6358052560687065\n",
      "3100 0.6366638672351838\n",
      "3200 0.6453710851073265\n",
      "3300 0.6271569925546646\n",
      "3400 0.6356926229596138\n",
      "3500 0.6382840302586555\n",
      "3600 0.6385248905420303\n",
      "3700 0.6345472824573517\n",
      "3800 0.6420348355174065\n",
      "3900 0.6378945446014405\n",
      "4000 0.6298359534144402\n",
      "4100 0.6475587889552117\n",
      "4200 0.6335815650224685\n",
      "4300 0.623352581858635\n",
      "4400 0.6181355357170105\n",
      "4500 0.6455942860245705\n",
      "4600 0.6318079543113708\n",
      "4700 0.6349612107872963\n",
      "4800 0.6377518135309219\n",
      "4900 0.6215312513709068\n"
     ]
    }
   ],
   "source": [
    "model.train()\n",
    "tq = trange(len(losses), head_steps)\n",
    "for i in tq:\n",
    "    pp, pl = get_pairs_contrastive_batch(bs=batch_size)\n",
    "    try:\n",
    "        loss = loss_fn(\n",
    "            model(\n",
    "                **tokenizer(*pp, padding=True, truncation=True, max_length=train_max_length, return_tensors='pt').to(model.device)\n",
    "            ).logits.view(-1, 2),\n",
    "            torch.tensor(pl, device=model.device)\n",
    "        )\n",
    "        loss.backward()\n",
    "        losses.append(loss.item())\n",
    "        # torch.nn.utils.clip_grad_norm_(model.parameters(), 1.0)\n",
    "\n",
    "        optimizer.step()\n",
    "        optimizer.zero_grad(set_to_none=True)\n",
    "        scheduler.step()\n",
    "\n",
    "    except RuntimeError:\n",
    "        optimizer.zero_grad(set_to_none=True)\n",
    "        batch, out, embeddings, all_scores, loss = None, None, None, None, None\n",
    "        cleanup()\n",
    "        print('error', max(len(s) for s in pp[0]+pp[1]))\n",
    "        continue\n",
    "    if i % report_steps == 0:\n",
    "        print(i, np.mean(losses[-report_steps:]))"
   ]
  },
  {
   "cell_type": "markdown",
   "id": "1c8fe7c8",
   "metadata": {},
   "source": [
    "With harder negatives, the loss is higher than with random ones. "
   ]
  },
  {
   "cell_type": "code",
   "execution_count": 638,
   "id": "610f3218",
   "metadata": {},
   "outputs": [
    {
     "data": {
      "image/png": "[encoded data removed]",
      "text/plain": [
       "<Figure size 432x288 with 1 Axes>"
      ]
     },
     "metadata": {
      "needs_background": "light"
     },
     "output_type": "display_data"
    }
   ],
   "source": [
    "pd.Series(losses).ewm(300).mean()[100:].plot(lw=1);"
   ]
  },
  {
   "cell_type": "code",
   "execution_count": 639,
   "id": "441618c1",
   "metadata": {},
   "outputs": [],
   "source": [
    "for p in model.parameters():\n",
    "    p.requires_grad = True"
   ]
  },
  {
   "cell_type": "code",
   "execution_count": 640,
   "id": "b329a274",
   "metadata": {},
   "outputs": [],
   "source": [
    "optimizer = Adafactor(\n",
    "    [p for p in model.parameters() if p.requires_grad], \n",
    "    scale_parameter=False, relative_step=False, lr=1e-5, clip_threshold=1.0\n",
    ")"
   ]
  },
  {
   "cell_type": "code",
   "execution_count": 641,
   "id": "4997a477",
   "metadata": {},
   "outputs": [],
   "source": [
    "loss_fn = torch.nn.CrossEntropyLoss(label_smoothing=0.01)"
   ]
  },
  {
   "cell_type": "code",
   "execution_count": 642,
   "id": "12ea6bf3",
   "metadata": {},
   "outputs": [],
   "source": [
    "full_steps = 95_000\n",
    "batch_size = 4\n",
    "report_steps = 100\n",
    "train_max_length = 192  # 256 is preferable, but it OOMs often"
   ]
  },
  {
   "cell_type": "code",
   "execution_count": 643,
   "id": "11fcfb4b",
   "metadata": {},
   "outputs": [],
   "source": [
    "scheduler = get_linear_schedule_with_warmup(optimizer, num_warmup_steps=1000, num_training_steps=full_steps)"
   ]
  },
  {
   "cell_type": "code",
   "execution_count": 680,
   "id": "dc2a2576",
   "metadata": {
    "scrolled": true
   },
   "outputs": [
    {
     "data": {
      "application/vnd.jupyter.widget-view+json": {
       "model_id": "dd00753b663c43ef8a8c74dc1e7f033c",
       "version_major": 2,
       "version_minor": 0
      },
      "text/plain": [
       "  0%|          | 0/30409 [00:00<?, ?it/s]"
      ]
     },
     "metadata": {},
     "output_type": "display_data"
    },
    {
     "name": "stdout",
     "output_type": "stream",
     "text": [
      "69600 0.24202276177704335\n",
      "69700 0.22392261754721404\n",
      "69800 0.22490376241505147\n",
      "69900 0.22546011064201593\n",
      "70000 0.18536391008645295\n",
      "70100 0.247642133384943\n",
      "70200 0.20646942660212517\n",
      "70300 0.23032736830413342\n",
      "70400 0.23659201182425021\n",
      "70500 0.25454128444194796\n",
      "70600 0.2752047723531723\n",
      "70700 0.19343646798282862\n",
      "70800 0.23389870390295983\n",
      "70900 0.29898697420954706\n",
      "71000 0.2653034630790353\n",
      "71100 0.2571105074137449\n",
      "71200 0.22587883070111275\n",
      "71300 0.2909691197052598\n",
      "71400 0.22461317840963602\n",
      "71500 0.2774054127559066\n",
      "71600 0.2522082997858524\n",
      "71700 0.26570322580635547\n",
      "71800 0.2284913221374154\n",
      "71900 0.23876978293061257\n",
      "72000 0.23269013326615096\n",
      "72100 0.24505342643707992\n",
      "72200 0.26695590499788524\n",
      "72300 0.27364269334822894\n",
      "72400 0.2628078476712108\n",
      "72500 0.2683627378568053\n",
      "72600 0.23241187393665313\n",
      "72700 0.18743824746459722\n",
      "72800 0.2544081100076437\n",
      "72900 0.25661327261477707\n",
      "73000 0.1982424844801426\n",
      "73100 0.21870930425822735\n",
      "73200 0.1790608250722289\n",
      "73300 0.2334171437844634\n",
      "73400 0.2116136836260557\n",
      "73500 0.1994026105478406\n",
      "73600 0.24789088420569896\n",
      "73700 0.2397058006376028\n",
      "73800 0.2941105480864644\n",
      "73900 0.27591644402593374\n",
      "74000 0.19756657734513283\n",
      "74100 0.2616136683896184\n",
      "74200 0.21273878935724497\n",
      "74300 0.2544773842394352\n",
      "74400 0.24865541841834785\n",
      "74500 0.2764789875224233\n",
      "74600 0.25530172549188135\n",
      "74700 0.2331497586518526\n",
      "74800 0.21986777044832706\n",
      "74900 0.28605900317430494\n",
      "75000 0.21965641375631095\n",
      "75100 0.2759394907206297\n",
      "75200 0.16213554475456476\n",
      "75300 0.20801394835114478\n",
      "75400 0.2778244565799832\n",
      "75500 0.22838665634393693\n",
      "75600 0.24051439322531223\n",
      "75700 0.2573143419623375\n",
      "75800 0.23692111779004335\n",
      "75900 0.2629969901964068\n",
      "76000 0.20643981352448462\n",
      "76100 0.24341850217431785\n",
      "76200 0.20899657655507325\n",
      "76300 0.23199939284473658\n",
      "76400 0.22312534138560294\n",
      "76500 0.1909073991328478\n",
      "76600 0.2670590768381953\n",
      "76700 0.23006559267640114\n",
      "76800 0.2385784002020955\n",
      "76900 0.24044216979295016\n",
      "77000 0.24913438741117716\n",
      "77100 0.17480275146663188\n",
      "77200 0.2234305427223444\n",
      "77300 0.212653673812747\n",
      "77400 0.2144972313195467\n",
      "77500 0.2225056442245841\n",
      "77600 0.24572374381124973\n",
      "77700 0.25543371453881264\n",
      "77800 0.29694604691118004\n",
      "77900 0.22285423900932075\n",
      "78000 0.2508446107059717\n",
      "78100 0.25996362216770647\n",
      "78200 0.1784994665160775\n",
      "78300 0.27431667674332855\n",
      "78400 0.22386326171457768\n",
      "78500 0.2474500972032547\n",
      "78600 0.24890955854207278\n",
      "78700 0.24316135101020336\n",
      "78800 0.18607177458703517\n",
      "78900 0.26299689795821907\n",
      "79000 0.22518377903848885\n",
      "79100 0.2435467542335391\n",
      "79200 0.20023447070270778\n",
      "79300 0.21071083273738622\n",
      "79400 0.21652188461273908\n",
      "79500 0.2588454344496131\n",
      "79600 0.25286579616367816\n",
      "79700 0.2550984753295779\n",
      "79800 0.21962274365127088\n",
      "79900 0.2538318258151412\n",
      "80000 0.24862268596887588\n",
      "80100 0.23952782589942218\n",
      "80200 0.230893477126956\n",
      "80300 0.24875845447182654\n",
      "80400 0.23449429139494896\n",
      "80500 0.2179080221801996\n",
      "80600 0.20664417784661054\n",
      "80700 0.23437040500342846\n",
      "80800 0.22095686301589013\n",
      "80900 0.23060246374458074\n",
      "81000 0.20662233266979457\n",
      "81100 0.2550938117876649\n",
      "81200 0.23672076147049664\n",
      "81300 0.27242302652448414\n",
      "81400 0.2312881810590625\n",
      "81500 0.2806583493202925\n",
      "81600 0.20825203496962785\n",
      "81700 0.2227781768143177\n",
      "81800 0.2644171270728111\n",
      "81900 0.2919230105727911\n",
      "82000 0.2470770764350891\n",
      "82100 0.3186118705198169\n",
      "82200 0.2450181844085455\n",
      "82300 0.23540714528411627\n",
      "82400 0.21678948227316142\n",
      "82500 0.23772018797695638\n",
      "82600 0.24025362227112054\n",
      "82700 0.28353200040757653\n",
      "82800 0.24364727396517993\n",
      "82900 0.28570037249475716\n",
      "83000 0.20987637124955655\n",
      "83100 0.2413240535929799\n",
      "83200 0.22953935142606496\n",
      "83300 0.2404257395118475\n",
      "83400 0.2839743361249566\n",
      "83500 0.20378388341516257\n",
      "83600 0.21751719366759062\n",
      "83700 0.2324340382218361\n",
      "83800 0.2447300982475281\n",
      "83900 0.2759892509505153\n",
      "84000 0.21655991852283477\n",
      "84100 0.2294763294234872\n",
      "84200 0.1955425076931715\n",
      "84300 0.20452968183904885\n",
      "84400 0.2969462428241968\n",
      "84500 0.17415815856307745\n",
      "84600 0.25257348783314226\n",
      "84700 0.23004324436187745\n",
      "84800 0.22287803642451764\n",
      "84900 0.2662973086535931\n",
      "85000 0.2536125755682588\n",
      "85100 0.21882897116243838\n",
      "85200 0.19434324000030756\n",
      "85300 0.23940569885075091\n",
      "85400 0.21976809106767178\n",
      "85500 0.18425225075334312\n",
      "85600 0.24347892813384533\n",
      "85700 0.2441892921552062\n",
      "85800 0.25384982630610464\n",
      "85900 0.2730665196478367\n",
      "86000 0.2334675733372569\n",
      "86100 0.2126668842881918\n",
      "86200 0.2786175775155425\n",
      "86300 0.22140910003334283\n",
      "86400 0.2574343341216445\n",
      "86500 0.28327934436500074\n",
      "86600 0.23736772909760476\n",
      "86700 0.25462699458003046\n",
      "86800 0.25112438123673203\n",
      "86900 0.18804954145103692\n",
      "87000 0.27565195128321646\n",
      "87100 0.24013432193547488\n",
      "87200 0.3503672995790839\n",
      "87300 0.2124320464208722\n",
      "87400 0.20228512275964022\n",
      "87500 0.30985796965658663\n",
      "87600 0.2411449522152543\n",
      "87700 0.2568033795803785\n",
      "87800 0.2587080543115735\n",
      "87900 0.23379781424999238\n",
      "88000 0.20746294129639864\n",
      "88100 0.20991469241678715\n",
      "88200 0.19281973160803317\n",
      "88300 0.278642333522439\n",
      "88400 0.23765024349093436\n",
      "88500 0.21590824373066425\n",
      "88600 0.2437433809414506\n",
      "88700 0.2156965197622776\n",
      "88800 0.2331326277181506\n",
      "88900 0.26293372474610804\n",
      "89000 0.29012201555073264\n",
      "89100 0.25296297810971735\n",
      "89200 0.30320106223225596\n",
      "89300 0.23425377763807773\n",
      "89400 0.24682452701032162\n",
      "89500 0.2555470263585448\n",
      "89600 0.19539263974875212\n",
      "89700 0.2402912103384733\n",
      "89800 0.20770674329251052\n",
      "89900 0.25679074965417387\n",
      "90000 0.2335381032153964\n",
      "90100 0.2162224145233631\n",
      "90200 0.3138694833219051\n",
      "90300 0.20985246390104295\n",
      "90400 0.2001679652184248\n",
      "90500 0.26160649336874486\n",
      "90600 0.28436533197760583\n",
      "90700 0.22914589721709488\n",
      "90800 0.24443871926516295\n",
      "90900 0.2760648657381535\n",
      "91000 0.24771970115602016\n",
      "91100 0.18616653006523848\n",
      "91200 0.24659259870648384\n",
      "91300 0.22909257028251886\n",
      "91400 0.287597831338644\n",
      "91500 0.2496637650579214\n",
      "91600 0.1774368068575859\n",
      "91700 0.22233256809413432\n",
      "91800 0.27260088052600623\n",
      "91900 0.21003334257751705\n",
      "92000 0.31001715797930957\n",
      "92100 0.24966236289590596\n",
      "92200 0.32155863851308825\n",
      "92300 0.18448976255953312\n",
      "92400 0.2934118500351906\n",
      "92500 0.2592394003644586\n",
      "92600 0.23759895481169224\n",
      "92700 0.24117340236902238\n",
      "92800 0.24687150169163943\n",
      "92900 0.2073605725541711\n",
      "93000 0.24791610963642596\n",
      "93100 0.1924894031509757\n",
      "93200 0.2410254143178463\n",
      "93300 0.33338491793721914\n",
      "93400 0.21568803116679192\n",
      "93500 0.232244552411139\n",
      "93600 0.2026810648664832\n",
      "93700 0.20277991257607936\n",
      "93800 0.24698667138814925\n",
      "93900 0.2472481705993414\n",
      "94000 0.25600486662238836\n",
      "94100 0.20946737550199032\n",
      "94200 0.25708063788712027\n",
      "94300 0.25636460855603216\n",
      "94400 0.25405973505228757\n",
      "94500 0.22914309903979302\n",
      "94600 0.23241208773106337\n",
      "94700 0.24383292574435472\n",
      "94800 0.2372468562051654\n",
      "94900 0.2569640266522765\n",
      "95000 0.24236329182982444\n",
      "95100 0.22200285237282513\n",
      "95200 0.27886145111173394\n",
      "95300 0.20852860134094953\n",
      "95400 0.28979938831180335\n",
      "95500 0.2205500688776374\n",
      "95600 0.24939286570996047\n",
      "95700 0.22835753589868546\n",
      "95800 0.28725957825779913\n",
      "95900 0.19509752862155438\n",
      "96000 0.23903015945106745\n",
      "96100 0.279806952252984\n",
      "96200 0.19167984813451766\n",
      "96300 0.22821040593087674\n",
      "96400 0.25880110677331686\n",
      "96500 0.2629858253896236\n",
      "96600 0.2429771312326193\n",
      "96700 0.2700610946491361\n",
      "96800 0.21478544000536204\n",
      "96900 0.22269042313098908\n",
      "97000 0.24075389321893453\n",
      "97100 0.22173065681010484\n",
      "97200 0.2379969546943903\n",
      "97300 0.2687829877063632\n",
      "97400 0.1935787894204259\n",
      "97500 0.20560074266046285\n",
      "97600 0.2075168835744262\n",
      "97700 0.2527574608102441\n",
      "97800 0.2321066876128316\n",
      "97900 0.2455196848511696\n",
      "98000 0.1847629925981164\n",
      "98100 0.22791974857449532\n",
      "98200 0.24028878647834062\n",
      "98300 0.25532206032425164\n",
      "98400 0.23033089898526668\n",
      "98500 0.24938067093491553\n",
      "98600 0.25242767330259086\n",
      "98700 0.18447105333209038\n",
      "98800 0.24167655453085898\n",
      "98900 0.25185449220240114\n",
      "99000 0.2584167388081551\n",
      "99100 0.2427729269489646\n",
      "99200 0.2652519841119647\n",
      "99300 0.2626178078353405\n",
      "99400 0.22232993304729462\n",
      "99500 0.27170422215014695\n",
      "99600 0.2389645917341113\n",
      "99700 0.25106676869094374\n",
      "99800 0.20531988136470317\n",
      "99900 0.25274747718125584\n"
     ]
    }
   ],
   "source": [
    "model.train()\n",
    "tq = trange(len(losses), head_steps + full_steps)\n",
    "for i in tq:\n",
    "    pp, pl = get_pairs_contrastive_batch(bs=batch_size)\n",
    "    try:\n",
    "        loss = loss_fn(\n",
    "            model(\n",
    "                **tokenizer(*pp, padding=True, truncation=True, max_length=train_max_length, return_tensors='pt').to(model.device)\n",
    "            ).logits.view(-1, 2),\n",
    "            torch.tensor(pl, device=model.device)\n",
    "        )\n",
    "        loss.backward()\n",
    "        losses.append(loss.item())\n",
    "        # torch.nn.utils.clip_grad_norm_(model.parameters(), 1.0)\n",
    "\n",
    "        optimizer.step()\n",
    "        optimizer.zero_grad(set_to_none=True)\n",
    "        scheduler.step()\n",
    "\n",
    "    except RuntimeError:\n",
    "        optimizer.zero_grad(set_to_none=True)\n",
    "        batch, out, embeddings, all_scores, loss = None, None, None, None, None\n",
    "        cleanup()\n",
    "        print('error', max(len(s) for s in pp[0]+pp[1]))\n",
    "        continue\n",
    "    if i % report_steps == 0:\n",
    "        print(i, np.mean(losses[-report_steps:]))"
   ]
  },
  {
   "cell_type": "code",
   "execution_count": 681,
   "id": "c0960c33",
   "metadata": {},
   "outputs": [
    {
     "data": {
      "image/png": "[encoded data removed]",
      "text/plain": [
       "<Figure size 432x288 with 1 Axes>"
      ]
     },
     "metadata": {
      "needs_background": "light"
     },
     "output_type": "display_data"
    }
   ],
   "source": [
    "pd.Series(losses).ewm(300).mean()[100:].plot(lw=1);"
   ]
  },
  {
   "cell_type": "markdown",
   "id": "aa3d23c6",
   "metadata": {},
   "source": [
    "???"
   ]
  },
  {
   "cell_type": "code",
   "execution_count": 682,
   "id": "552b3354",
   "metadata": {},
   "outputs": [],
   "source": [
    "loss = None\n",
    "cleanup()\n",
    "model.eval();"
   ]
  },
  {
   "cell_type": "code",
   "execution_count": 683,
   "id": "87640510",
   "metadata": {},
   "outputs": [
    {
     "name": "stdout",
     "output_type": "stream",
     "text": [
      "Sun Mar 05 00:31:11 2023       \n",
      "+-----------------------------------------------------------------------------+\n",
      "| NVIDIA-SMI 451.67       Driver Version: 451.67       CUDA Version: 11.0     |\n",
      "|-------------------------------+----------------------+----------------------+\n",
      "| GPU  Name            TCC/WDDM | Bus-Id        Disp.A | Volatile Uncorr. ECC |\n",
      "| Fan  Temp  Perf  Pwr:Usage/Cap|         Memory-Usage | GPU-Util  Compute M. |\n",
      "|===============================+======================+======================|\n",
      "|   0  GeForce GTX 1650   WDDM  | 00000000:01:00.0 Off |                  N/A |\n",
      "| N/A   77C    P0    26W /  N/A |   1917MiB /  4096MiB |      0%      Default |\n",
      "+-------------------------------+----------------------+----------------------+\n",
      "                                                                               \n",
      "+-----------------------------------------------------------------------------+\n",
      "| Processes:                                                                  |\n",
      "|  GPU   GI   CI        PID   Type   Process name                  GPU Memory |\n",
      "|        ID   ID                                                   Usage      |\n",
      "|=============================================================================|\n",
      "|    0   N/A  N/A     26372      C   ...ython\\Python39\\python.exe    N/A      |\n",
      "+-----------------------------------------------------------------------------+\n"
     ]
    }
   ],
   "source": [
    "!nvidia-smi"
   ]
  },
  {
   "cell_type": "code",
   "execution_count": 684,
   "id": "60683e5f",
   "metadata": {},
   "outputs": [],
   "source": [
    "eval_bs = 8"
   ]
  },
  {
   "cell_type": "code",
   "execution_count": 685,
   "id": "672773a1",
   "metadata": {},
   "outputs": [
    {
     "data": {
      "application/vnd.jupyter.widget-view+json": {
       "model_id": "451778561def46f497f918c885691ca0",
       "version_major": 2,
       "version_minor": 0
      },
      "text/plain": [
       "  0%|          | 0/218 [00:00<?, ?it/s]"
      ]
     },
     "metadata": {},
     "output_type": "display_data"
    },
    {
     "name": "stdout",
     "output_type": "stream",
     "text": [
      "0.7797996082108039\n"
     ]
    }
   ],
   "source": [
    "logits = []\n",
    "for i in trange(0, data_val.shape[0], eval_bs):\n",
    "    batch = data_val.iloc[i:i+eval_bs]\n",
    "    with torch.inference_mode():\n",
    "        logits.extend(torch.softmax(model(\n",
    "            **tokenizer(batch.ba.tolist(), batch.ru.tolist(), padding=True, truncation=True, max_length=512, return_tensors='pt').to(model.device)\n",
    "        ).logits.view(-1, 2), -1)[:, 1].cpu().numpy())\n",
    "        \n",
    "logits = np.array(logits)\n",
    "print(roc_auc_score(data_val.is_correct, logits))"
   ]
  },
  {
   "cell_type": "code",
   "execution_count": 686,
   "id": "b2c4bd66",
   "metadata": {},
   "outputs": [
    {
     "data": {
      "image/png": "[encoded data removed]",
      "text/plain": [
       "<Figure size 432x288 with 1 Axes>"
      ]
     },
     "metadata": {
      "needs_background": "light"
     },
     "output_type": "display_data"
    }
   ],
   "source": [
    "pd.Series(np.log10(logits / (1-logits)), index=data_val.index).groupby(data_val.is_correct).plot(\n",
    "    kind='kde', bw_method=0.1,\n",
    ");"
   ]
  },
  {
   "cell_type": "code",
   "execution_count": 687,
   "id": "c0fae0ff",
   "metadata": {},
   "outputs": [
    {
     "name": "stdout",
     "output_type": "stream",
     "text": [
      "0.7779690189328744\n",
      "0.82643497\n",
      "0.8623063683304647\n"
     ]
    }
   ],
   "source": [
    "print(data_val.is_correct.mean())\n",
    "print(logits.mean())\n",
    "print((logits>0.5).mean())"
   ]
  },
  {
   "cell_type": "markdown",
   "id": "8104b551",
   "metadata": {},
   "source": [
    "???"
   ]
  },
  {
   "cell_type": "code",
   "execution_count": 688,
   "id": "c6f41050",
   "metadata": {},
   "outputs": [
    {
     "name": "stdout",
     "output_type": "stream",
     "text": [
      "recall@ ideal reject rate: 0.5452196382428941 th: 0.8679616847259862\n"
     ]
    }
   ],
   "source": [
    "threshold = np.quantile(logits, 1-data_val.is_correct.mean())\n",
    "print('recall@ ideal reject rate:', (logits < threshold)[data_val.is_correct.values==0].mean(), 'th:', threshold)"
   ]
  },
  {
   "cell_type": "code",
   "execution_count": 689,
   "id": "b7775800",
   "metadata": {},
   "outputs": [
    {
     "data": {
      "text/html": [
       "<div>\n",
       "<style scoped>\n",
       "    .dataframe tbody tr th:only-of-type {\n",
       "        vertical-align: middle;\n",
       "    }\n",
       "\n",
       "    .dataframe tbody tr th {\n",
       "        vertical-align: top;\n",
       "    }\n",
       "\n",
       "    .dataframe thead th {\n",
       "        text-align: right;\n",
       "    }\n",
       "</style>\n",
       "<table border=\"1\" class=\"dataframe\">\n",
       "  <thead>\n",
       "    <tr style=\"text-align: right;\">\n",
       "      <th>is_correct</th>\n",
       "      <th>0</th>\n",
       "      <th>1</th>\n",
       "    </tr>\n",
       "  </thead>\n",
       "  <tbody>\n",
       "    <tr>\n",
       "      <th>accepted</th>\n",
       "      <td>257</td>\n",
       "      <td>1307</td>\n",
       "    </tr>\n",
       "    <tr>\n",
       "      <th>rejected</th>\n",
       "      <td>130</td>\n",
       "      <td>49</td>\n",
       "    </tr>\n",
       "  </tbody>\n",
       "</table>\n",
       "</div>"
      ],
      "text/plain": [
       "is_correct    0     1\n",
       "accepted    257  1307\n",
       "rejected    130    49"
      ]
     },
     "execution_count": 689,
     "metadata": {},
     "output_type": "execute_result"
    }
   ],
   "source": [
    "data_val.is_correct.groupby(['accepted' if l > 0.1 else 'rejected' for l in logits]).value_counts().unstack()"
   ]
  },
  {
   "cell_type": "code",
   "execution_count": 690,
   "id": "c24dcabe",
   "metadata": {},
   "outputs": [
    {
     "data": {
      "text/html": [
       "<div>\n",
       "<style scoped>\n",
       "    .dataframe tbody tr th:only-of-type {\n",
       "        vertical-align: middle;\n",
       "    }\n",
       "\n",
       "    .dataframe tbody tr th {\n",
       "        vertical-align: top;\n",
       "    }\n",
       "\n",
       "    .dataframe thead th {\n",
       "        text-align: right;\n",
       "    }\n",
       "</style>\n",
       "<table border=\"1\" class=\"dataframe\">\n",
       "  <thead>\n",
       "    <tr style=\"text-align: right;\">\n",
       "      <th>is_correct</th>\n",
       "      <th>0</th>\n",
       "      <th>1</th>\n",
       "    </tr>\n",
       "  </thead>\n",
       "  <tbody>\n",
       "    <tr>\n",
       "      <th>accepted</th>\n",
       "      <td>231</td>\n",
       "      <td>1272</td>\n",
       "    </tr>\n",
       "    <tr>\n",
       "      <th>rejected</th>\n",
       "      <td>156</td>\n",
       "      <td>84</td>\n",
       "    </tr>\n",
       "  </tbody>\n",
       "</table>\n",
       "</div>"
      ],
      "text/plain": [
       "is_correct    0     1\n",
       "accepted    231  1272\n",
       "rejected    156    84"
      ]
     },
     "execution_count": 690,
     "metadata": {},
     "output_type": "execute_result"
    }
   ],
   "source": [
    "data_val.is_correct.groupby(['accepted' if l > 0.5 else 'rejected' for l in logits]).value_counts().unstack()"
   ]
  },
  {
   "cell_type": "code",
   "execution_count": 691,
   "id": "258f468a",
   "metadata": {},
   "outputs": [
    {
     "data": {
      "text/html": [
       "<div>\n",
       "<style scoped>\n",
       "    .dataframe tbody tr th:only-of-type {\n",
       "        vertical-align: middle;\n",
       "    }\n",
       "\n",
       "    .dataframe tbody tr th {\n",
       "        vertical-align: top;\n",
       "    }\n",
       "\n",
       "    .dataframe thead th {\n",
       "        text-align: right;\n",
       "    }\n",
       "</style>\n",
       "<table border=\"1\" class=\"dataframe\">\n",
       "  <thead>\n",
       "    <tr style=\"text-align: right;\">\n",
       "      <th>is_correct</th>\n",
       "      <th>0</th>\n",
       "      <th>1</th>\n",
       "    </tr>\n",
       "  </thead>\n",
       "  <tbody>\n",
       "    <tr>\n",
       "      <th>accepted</th>\n",
       "      <td>163</td>\n",
       "      <td>1129</td>\n",
       "    </tr>\n",
       "    <tr>\n",
       "      <th>rejected</th>\n",
       "      <td>224</td>\n",
       "      <td>227</td>\n",
       "    </tr>\n",
       "  </tbody>\n",
       "</table>\n",
       "</div>"
      ],
      "text/plain": [
       "is_correct    0     1\n",
       "accepted    163  1129\n",
       "rejected    224   227"
      ]
     },
     "execution_count": 691,
     "metadata": {},
     "output_type": "execute_result"
    }
   ],
   "source": [
    "data_val.is_correct.groupby(['accepted' if l > 0.9 else 'rejected' for l in logits]).value_counts().unstack()"
   ]
  },
  {
   "cell_type": "code",
   "execution_count": 692,
   "id": "98651b41",
   "metadata": {},
   "outputs": [
    {
     "data": {
      "text/html": [
       "<div>\n",
       "<style scoped>\n",
       "    .dataframe tbody tr th:only-of-type {\n",
       "        vertical-align: middle;\n",
       "    }\n",
       "\n",
       "    .dataframe tbody tr th {\n",
       "        vertical-align: top;\n",
       "    }\n",
       "\n",
       "    .dataframe thead th {\n",
       "        text-align: right;\n",
       "    }\n",
       "</style>\n",
       "<table border=\"1\" class=\"dataframe\">\n",
       "  <thead>\n",
       "    <tr style=\"text-align: right;\">\n",
       "      <th>is_correct</th>\n",
       "      <th>0</th>\n",
       "      <th>1</th>\n",
       "    </tr>\n",
       "  </thead>\n",
       "  <tbody>\n",
       "    <tr>\n",
       "      <th>accepted</th>\n",
       "      <td>25</td>\n",
       "      <td>405</td>\n",
       "    </tr>\n",
       "    <tr>\n",
       "      <th>rejected</th>\n",
       "      <td>362</td>\n",
       "      <td>951</td>\n",
       "    </tr>\n",
       "  </tbody>\n",
       "</table>\n",
       "</div>"
      ],
      "text/plain": [
       "is_correct    0    1\n",
       "accepted     25  405\n",
       "rejected    362  951"
      ]
     },
     "execution_count": 692,
     "metadata": {},
     "output_type": "execute_result"
    }
   ],
   "source": [
    "data_val.is_correct.groupby(['accepted' if l > 0.98 else 'rejected' for l in logits]).value_counts().unstack()"
   ]
  },
  {
   "cell_type": "code",
   "execution_count": 693,
   "id": "4f837c6b",
   "metadata": {},
   "outputs": [],
   "source": [
    "model.save_pretrained('../models/bak-ru-cross-v3-hard-negatives');"
   ]
  },
  {
   "cell_type": "code",
   "execution_count": null,
   "id": "2868ca30",
   "metadata": {},
   "outputs": [],
   "source": []
  }
 ],
 "metadata": {
  "kernelspec": {
   "display_name": "Python 3 (ipykernel)",
   "language": "python",
   "name": "python3"
  },
  "language_info": {
   "codemirror_mode": {
    "name": "ipython",
    "version": 3
   },
   "file_extension": ".py",
   "mimetype": "text/x-python",
   "name": "python",
   "nbconvert_exporter": "python",
   "pygments_lexer": "ipython3",
   "version": "3.9.6"
  }
 },
 "nbformat": 4,
 "nbformat_minor": 5
}
