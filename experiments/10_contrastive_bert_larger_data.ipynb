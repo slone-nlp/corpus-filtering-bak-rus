{
 "cells": [
  {
   "cell_type": "code",
   "execution_count": 1,
   "id": "dec3ca18",
   "metadata": {},
   "outputs": [],
   "source": [
    "import pandas as pd\n",
    "import numpy as np\n",
    "\n",
    "import torch\n",
    "import gc\n",
    "\n",
    "def cleanup():\n",
    "    gc.collect()\n",
    "    torch.cuda.empty_cache()\n",
    "    \n",
    "cleanup()"
   ]
  },
  {
   "cell_type": "code",
   "execution_count": 2,
   "id": "bc2e2ee8",
   "metadata": {},
   "outputs": [],
   "source": [
    "from tqdm.auto import tqdm, trange\n",
    "from sklearn.metrics import roc_auc_score\n",
    "import random"
   ]
  },
  {
   "cell_type": "code",
   "execution_count": 9,
   "id": "52c9cae4",
   "metadata": {},
   "outputs": [],
   "source": [
    "from transformers.optimization import Adafactor\n",
    "from transformers import AutoModelForSequenceClassification, AutoTokenizer\n",
    "from transformers import get_linear_schedule_with_warmup, get_constant_schedule_with_warmup\n",
    "import datasets"
   ]
  },
  {
   "cell_type": "code",
   "execution_count": 4,
   "id": "d70f1ee2",
   "metadata": {},
   "outputs": [
    {
     "data": {
      "text/plain": [
       "train    104317\n",
       "test      35648\n",
       "dev       34998\n",
       "val        1743\n",
       "Name: data_split, dtype: int64"
      ]
     },
     "execution_count": 4,
     "metadata": {},
     "output_type": "execute_result"
    }
   ],
   "source": [
    "data = pd.read_csv('../data/joint-ba-ru.tsv', sep='\\t')\n",
    "\n",
    "data.data_split.value_counts()"
   ]
  },
  {
   "cell_type": "code",
   "execution_count": 5,
   "id": "d67be6be",
   "metadata": {},
   "outputs": [
    {
     "data": {
      "text/html": [
       "<div>\n",
       "<style scoped>\n",
       "    .dataframe tbody tr th:only-of-type {\n",
       "        vertical-align: middle;\n",
       "    }\n",
       "\n",
       "    .dataframe tbody tr th {\n",
       "        vertical-align: top;\n",
       "    }\n",
       "\n",
       "    .dataframe thead th {\n",
       "        text-align: right;\n",
       "    }\n",
       "</style>\n",
       "<table border=\"1\" class=\"dataframe\">\n",
       "  <thead>\n",
       "    <tr style=\"text-align: right;\">\n",
       "      <th></th>\n",
       "      <th>date</th>\n",
       "      <th>ba</th>\n",
       "      <th>ru</th>\n",
       "      <th>is_correct</th>\n",
       "      <th>data_split</th>\n",
       "    </tr>\n",
       "  </thead>\n",
       "  <tbody>\n",
       "    <tr>\n",
       "      <th>92455</th>\n",
       "      <td>19/10/2022 13:56:22</td>\n",
       "      <td>Ни эшләп ҡарарға һуң?</td>\n",
       "      <td>Что же предпринять?..</td>\n",
       "      <td>1</td>\n",
       "      <td>train</td>\n",
       "    </tr>\n",
       "    <tr>\n",
       "      <th>172483</th>\n",
       "      <td>29/01/2023 16:02:04</td>\n",
       "      <td>– Әйҙә, ул, моғайын, берәй аҡыл өйрәтер...</td>\n",
       "      <td>– Пойдем, он обязательно поможет...</td>\n",
       "      <td>0</td>\n",
       "      <td>train</td>\n",
       "    </tr>\n",
       "    <tr>\n",
       "      <th>82339</th>\n",
       "      <td>18/09/2022 19:02:54</td>\n",
       "      <td>Баҙнат итмәне.</td>\n",
       "      <td>Не посмел он.</td>\n",
       "      <td>1</td>\n",
       "      <td>train</td>\n",
       "    </tr>\n",
       "  </tbody>\n",
       "</table>\n",
       "</div>"
      ],
      "text/plain": [
       "                       date                                          ba  \\\n",
       "92455   19/10/2022 13:56:22                       Ни эшләп ҡарарға һуң?   \n",
       "172483  29/01/2023 16:02:04  – Әйҙә, ул, моғайын, берәй аҡыл өйрәтер...   \n",
       "82339   18/09/2022 19:02:54                              Баҙнат итмәне.   \n",
       "\n",
       "                                         ru  is_correct data_split  \n",
       "92455                 Что же предпринять?..           1      train  \n",
       "172483  – Пойдем, он обязательно поможет...           0      train  \n",
       "82339                         Не посмел он.           1      train  "
      ]
     },
     "execution_count": 5,
     "metadata": {},
     "output_type": "execute_result"
    }
   ],
   "source": [
    "data_train = data[data.data_split=='train']\n",
    "data_val = data[data.data_split=='val'].copy()\n",
    "data_train.sample(3)"
   ]
  },
  {
   "cell_type": "code",
   "execution_count": 10,
   "id": "328e855a",
   "metadata": {},
   "outputs": [
    {
     "data": {
      "application/vnd.jupyter.widget-view+json": {
       "model_id": "53dcfd475dbd405287c91564b9c67b9a",
       "version_major": 2,
       "version_minor": 0
      },
      "text/plain": [
       "Downloading readme:   0%|          | 0.00/775 [00:00<?, ?B/s]"
      ]
     },
     "metadata": {},
     "output_type": "display_data"
    },
    {
     "name": "stderr",
     "output_type": "stream",
     "text": [
      "Using custom data configuration AigizK--bashkir-russian-parallel-corpora-fbaef55783976247\n"
     ]
    },
    {
     "name": "stdout",
     "output_type": "stream",
     "text": [
      "Downloading and preparing dataset None/None to C:/Users/david/.cache/huggingface/datasets/AigizK___parquet/AigizK--bashkir-russian-parallel-corpora-fbaef55783976247/0.0.0/2a3b91fbd88a2c90d1dbbb32b460cf621d31bd5b05b934492fdef7d8d6f236ec...\n"
     ]
    },
    {
     "data": {
      "application/vnd.jupyter.widget-view+json": {
       "model_id": "cb78996a350b4ed9bf9f61aeb280ae5f",
       "version_major": 2,
       "version_minor": 0
      },
      "text/plain": [
       "Downloading data files:   0%|          | 0/1 [00:00<?, ?it/s]"
      ]
     },
     "metadata": {},
     "output_type": "display_data"
    },
    {
     "data": {
      "application/vnd.jupyter.widget-view+json": {
       "model_id": "715a47d1fc6d4178870c9364e7a6a799",
       "version_major": 2,
       "version_minor": 0
      },
      "text/plain": [
       "Downloading data:   0%|          | 0.00/131M [00:00<?, ?B/s]"
      ]
     },
     "metadata": {},
     "output_type": "display_data"
    },
    {
     "data": {
      "application/vnd.jupyter.widget-view+json": {
       "model_id": "a76cb5d8eb354d2197d0d028eeabd79c",
       "version_major": 2,
       "version_minor": 0
      },
      "text/plain": [
       "Extracting data files:   0%|          | 0/1 [00:00<?, ?it/s]"
      ]
     },
     "metadata": {},
     "output_type": "display_data"
    },
    {
     "data": {
      "application/vnd.jupyter.widget-view+json": {
       "model_id": "",
       "version_major": 2,
       "version_minor": 0
      },
      "text/plain": [
       "Generating train split:   0%|          | 0/710718 [00:00<?, ? examples/s]"
      ]
     },
     "metadata": {},
     "output_type": "display_data"
    },
    {
     "name": "stdout",
     "output_type": "stream",
     "text": [
      "Dataset parquet downloaded and prepared to C:/Users/david/.cache/huggingface/datasets/AigizK___parquet/AigizK--bashkir-russian-parallel-corpora-fbaef55783976247/0.0.0/2a3b91fbd88a2c90d1dbbb32b460cf621d31bd5b05b934492fdef7d8d6f236ec. Subsequent calls will reuse this data.\n"
     ]
    },
    {
     "data": {
      "application/vnd.jupyter.widget-view+json": {
       "model_id": "35143d9b4081416ba5cf8a1aaaa76769",
       "version_major": 2,
       "version_minor": 0
      },
      "text/plain": [
       "  0%|          | 0/1 [00:00<?, ?it/s]"
      ]
     },
     "metadata": {},
     "output_type": "display_data"
    }
   ],
   "source": [
    "larger_parallel = datasets.load_dataset('AigizK/bashkir-russian-parallel-corpora')"
   ]
  },
  {
   "cell_type": "code",
   "execution_count": 6,
   "id": "74c9308b",
   "metadata": {},
   "outputs": [],
   "source": [
    "base_model = 'bert-base-multilingual-cased'"
   ]
  },
  {
   "cell_type": "markdown",
   "id": "be6134ff",
   "metadata": {},
   "source": [
    "# Loading the replacers"
   ]
  },
  {
   "cell_type": "code",
   "execution_count": 11,
   "id": "f52b648e",
   "metadata": {},
   "outputs": [
    {
     "name": "stdout",
     "output_type": "stream",
     "text": [
      "(81268, 5) (104317, 5)\n"
     ]
    }
   ],
   "source": [
    "data_train_correct = data_train[data_train.is_correct == 1]\n",
    "print(data_train_correct.shape, data_train.shape)"
   ]
  },
  {
   "cell_type": "code",
   "execution_count": 66,
   "id": "2c383f6a",
   "metadata": {},
   "outputs": [
    {
     "data": {
      "application/vnd.jupyter.widget-view+json": {
       "model_id": "aa9838b30fbb48e392ce33a67f70ef6f",
       "version_major": 2,
       "version_minor": 0
      },
      "text/plain": [
       "0it [00:00, ?it/s]"
      ]
     },
     "metadata": {},
     "output_type": "display_data"
    },
    {
     "data": {
      "text/plain": [
       "81268"
      ]
     },
     "execution_count": 66,
     "metadata": {},
     "output_type": "execute_result"
    }
   ],
   "source": [
    "all_pairs = [(row.ba, row.ru) for row in tqdm(data_train_correct.itertuples()) if row.ba.strip() and row.ru.strip()]\n",
    "len(all_pairs)"
   ]
  },
  {
   "cell_type": "code",
   "execution_count": 67,
   "id": "3596a37e",
   "metadata": {},
   "outputs": [
    {
     "data": {
      "application/vnd.jupyter.widget-view+json": {
       "model_id": "818ed01b0e6a466a9612f307d682789b",
       "version_major": 2,
       "version_minor": 0
      },
      "text/plain": [
       "  0%|          | 0/710718 [00:00<?, ?it/s]"
      ]
     },
     "metadata": {},
     "output_type": "display_data"
    },
    {
     "data": {
      "text/plain": [
       "791985"
      ]
     },
     "execution_count": 67,
     "metadata": {},
     "output_type": "execute_result"
    }
   ],
   "source": [
    "for item in tqdm(larger_parallel['train']):\n",
    "    if item['ba'].strip() and item['ru'].strip():\n",
    "        all_pairs.append((item['ba'], item['ru']))\n",
    "len(all_pairs)"
   ]
  },
  {
   "cell_type": "code",
   "execution_count": 15,
   "id": "1c4e1293",
   "metadata": {},
   "outputs": [],
   "source": [
    "# borrowed from https://github.com/natasha/naeval/tree/master/naeval/segment\n",
    "\n",
    "import re\n",
    "from collections import namedtuple\n",
    "\n",
    "\n",
    "TOKEN = re.compile(r'([^\\W\\d]+|\\d+|[^\\w\\s])')\n",
    "WORD = re.compile('^[\\w\\d]+$')\n",
    "\n",
    "Substring = namedtuple('Substring', ['start', 'end', 'text'])\n",
    "\n",
    "def find_substrings(chunks, text):\n",
    "    offset = 0\n",
    "    for chunk in chunks:\n",
    "        start = text.find(chunk, offset)\n",
    "        stop = start + len(chunk)\n",
    "        yield Substring(start, stop, chunk)\n",
    "        offset = stop\n",
    "\n",
    "def re_tokenize(text):\n",
    "    chunks = TOKEN.findall(text)\n",
    "    return find_substrings(chunks, text)\n",
    "\n",
    "def is_word(text):\n",
    "    return bool(re.match(WORD, text))"
   ]
  },
  {
   "cell_type": "code",
   "execution_count": 16,
   "id": "4a7310fa",
   "metadata": {},
   "outputs": [],
   "source": [
    "def insert_word(sent, word, position=None):\n",
    "    \"\"\" Cleanly insert a word randomly into a sentence\"\"\"\n",
    "    toks = list(re_tokenize(sent))\n",
    "    # before which token we'll insert the word\n",
    "    if position is None:\n",
    "        position = random.randint(0, len(toks) if is_word(toks[-1].text) else len(toks)-1)\n",
    "    if position == 0:\n",
    "        if sent[0].isupper():\n",
    "            word = word[0].upper() + word[1:]\n",
    "        return word + ' ' + sent[0].lower() + sent[1:]\n",
    "    if position == len(toks): # the last token is a word, so we just add one more\n",
    "        return sent + ' ' + word\n",
    "    next_tok = toks[position]\n",
    "    if is_word(next_tok.text) or sent[next_tok.start-1] == ' ':\n",
    "        word = word + ' '  # insert space between the added word and the next one\n",
    "    else:\n",
    "        word = ' ' + word\n",
    "    return sent[:next_tok.start] + word + sent[next_tok.start:]\n",
    "\n",
    "def remove_word(sent, position=None):\n",
    "    \"\"\" Cleanly remove a word randomly from a sentence\"\"\"\n",
    "    toks = list(re_tokenize(sent))\n",
    "    if len(toks) < 2:\n",
    "        return sent\n",
    "    if position is None:\n",
    "        position = random.randint(0, len(toks)-1)\n",
    "    \n",
    "    if position == 0:\n",
    "        res = sent[toks[1].start:]\n",
    "        if sent[0].isupper():\n",
    "            res = res[0].upper() + res[1:]\n",
    "        return res\n",
    "    if position == len(toks)-1:\n",
    "        return sent[:toks[-2].end]\n",
    "    tok = toks[position]\n",
    "    spaces_around = (sent[tok.start-1] == ' ') + (sent[tok.end] == ' ')\n",
    "    extra_space = ''\n",
    "    if spaces_around == 2 or not is_word(tok.text) and spaces_around == 1:\n",
    "        extra_space = ' '\n",
    "    return sent[:toks[position-1].end] + extra_space + sent[toks[position+1].start:]\n",
    "\n",
    "\n",
    "def replace_word(sent, word, position=None):\n",
    "    \"\"\" Cleanly replace a word randomly in a sentence\"\"\"\n",
    "    toks = list(re_tokenize(sent))\n",
    "    if len(toks) < 1:\n",
    "        return sent\n",
    "    if position is None:\n",
    "        position = random.randint(0, len(toks)-1)\n",
    "    tok = toks[position]\n",
    "    \n",
    "    if position == 0:\n",
    "        if sent[0].isupper():\n",
    "            word = word[0].upper() + word[1:]\n",
    "        res = word\n",
    "    else:\n",
    "        res = sent[:tok.start] + (' ' if sent[tok.start-1] != ' ' and not is_word(tok.text) else '') + word\n",
    "    if position < len(toks) - 1:\n",
    "        if sent[tok.end] != ' ' and not is_word(tok.text):\n",
    "            res = res + ' '\n",
    "        res = res + sent[tok.end:]\n",
    "    return res\n",
    "\n",
    "\n",
    "def swap_words(sent, position1=None, position2=None):\n",
    "    \"\"\" Cleanly replace a word randomly in a sentence\"\"\"\n",
    "    toks = list(re_tokenize(sent))\n",
    "    if len(toks) < 2:\n",
    "        return sent\n",
    "    if position1 is None:\n",
    "        position1 = random.randint(0, len(toks)-1)\n",
    "    while position2 is None or position2 == position1:\n",
    "        position2 = random.randint(0, len(toks)-1)\n",
    "    w1, w2 = toks[position1].text, toks[position2].text\n",
    "    \n",
    "    sent = replace_word(sent, w2, position1)\n",
    "    sent = replace_word(sent, w1, position2)\n",
    "    return sent\n",
    "\n",
    "\n",
    "def get_other_word(ix):\n",
    "    sent = random.choice(all_pairs)[ix]\n",
    "    return random.choice(list(re_tokenize(sent))).text\n",
    "\n",
    "\n",
    "def corrupt_sentence(sent, ix, p_edit=0.5):\n",
    "    old_sent = sent[:]\n",
    "    while sent == old_sent:\n",
    "        # insert a random word\n",
    "        if random.random() < p_edit or len(sent.split()) == 1:\n",
    "            sent = insert_word(sent, get_other_word(ix))\n",
    "        # replace a random word\n",
    "        if random.random() < p_edit and len(sent.split()) > 1:\n",
    "            sent = replace_word(sent, get_other_word(ix))\n",
    "        # remove a word\n",
    "        if random.random() < p_edit and len(sent.split()) > 1:\n",
    "            sent = remove_word(sent)\n",
    "        # swap words\n",
    "        if random.random() < p_edit and len(sent.split()) > 1:\n",
    "            sent = swap_words(sent)\n",
    "    return sent\n",
    "\n",
    "def corrupt_pair(pair):\n",
    "    \"\"\" Corrupt one (randomly chosen) sentence in a pair \"\"\"\n",
    "    pair = list(pair)\n",
    "    ix = random.choice([0, 1])\n",
    "    sent = pair[ix]\n",
    "    pair[ix] = corrupt_sentence(sent, ix)\n",
    "    return pair"
   ]
  },
  {
   "cell_type": "code",
   "execution_count": 69,
   "id": "c5e7205d",
   "metadata": {},
   "outputs": [
    {
     "data": {
      "application/vnd.jupyter.widget-view+json": {
       "model_id": "efa070d2e90240b59b2d4f1310f586b9",
       "version_major": 2,
       "version_minor": 0
      },
      "text/plain": [
       "  0%|          | 0/791985 [00:00<?, ?it/s]"
      ]
     },
     "metadata": {},
     "output_type": "display_data"
    }
   ],
   "source": [
    "for ba, ru in tqdm(all_pairs):\n",
    "    b1 = random.choice(list(re_tokenize(ba))).text\n",
    "    b2 = random.choice(list(re_tokenize(ru))).text"
   ]
  },
  {
   "cell_type": "code",
   "execution_count": 17,
   "id": "39978d34",
   "metadata": {},
   "outputs": [
    {
     "data": {
      "text/plain": [
       "('Саралар киске сәғәт 9-ға тиклем дауам итә.',\n",
       " 'Мероприятия продлятся до 21 часов вечера.')"
      ]
     },
     "execution_count": 17,
     "metadata": {},
     "output_type": "execute_result"
    }
   ],
   "source": [
    "pair = random.choice(all_pairs)\n",
    "pair"
   ]
  },
  {
   "cell_type": "code",
   "execution_count": 18,
   "id": "30fa8fc8",
   "metadata": {},
   "outputs": [],
   "source": [
    "def get_pairs_contrastive_batch(bs=4, p_difficult=0.5):\n",
    "    assert bs >= 4\n",
    "    batch = random.sample(all_pairs, bs // 2) # data_train_correct.sample(bs // 2)\n",
    "    pp = batch # [[row.ba, row.ru] for row in batch.itertuples()]\n",
    "    labels = [1 for row in pp]\n",
    "    if random.random() < p_difficult:\n",
    "        for i in range(len(pp)):\n",
    "            pp.append(corrupt_pair(pp[i]))\n",
    "            labels.append(0)\n",
    "    else:\n",
    "        for i in range(len(pp)):\n",
    "            pp.append([pp[i][0], pp[i-1][1]])\n",
    "            labels.append(0)\n",
    "    return [list(t) for t in zip(*pp)], labels"
   ]
  },
  {
   "cell_type": "code",
   "execution_count": 30,
   "id": "36bb89a0",
   "metadata": {},
   "outputs": [
    {
     "name": "stdout",
     "output_type": "stream",
     "text": [
      "Wall time: 999 µs\n"
     ]
    },
    {
     "data": {
      "text/plain": [
       "([['Ниһайәт, дөйөм көс менән дошмандың кәрәген биреп талап, ҡыуып ебәрҙеләр...',\n",
       "   'Уны, рәйесте лә, бер кем дә күрмәйме икән ни? Выползоктың асыуы ҡабара башланы.',\n",
       "   'Йәмғиәт ҡуртымда булған приискыларҙы 1,2 млн һумға һатып ала, уларҙы тергеҙеүгә яҡынса 4 млн һум аҡса бүлә.',\n",
       "   'Ф.Ә.Мөхәмәҙиев, Ә.З.Әсфәндиәров',\n",
       "   'Ниһайәт, дөйөм көс менән дошмандың кәрәген биреп талап, алып Нефтеюганскиҙа ебәрҙеләр . .',\n",
       "   'Уны, рәйесте лә, бер кем дә күрмәйме икән ни? Выползоктың асыуы ҡабара башланы.',\n",
       "   'Йәмғиәт ҡуртымда булған приискыларҙы 1,2 млн һумға һатып ала, уларҙы тергеҙеүгә яҡынса 4 млн һум аҡса бүлә.',\n",
       "   'Ф.Ә.Мөхәмәҙиев, Ә.З.Әсфәндиәров'],\n",
       "  ['Наконец, всеобщими усилиями врага крепко отлупили и прогнали...',\n",
       "   'Неужто и его, председателя, никто не видит? – начинал злиться Выползок.',\n",
       "   'Об-во выкупило арендуемые прииски за 1,2 млн. руб., на их реконструкцию выделило около 4 млн. рублей.',\n",
       "   'А.З.Асфандияров, Ф.А.Мухамадеев',\n",
       "   'Наконец, всеобщими усилиями врага крепко отлупили и прогнали...',\n",
       "   'Неужто и его, председателя, никто не видит снижения? – начинал злиться Выползок',\n",
       "   'Участников-во выкупило арендуемые прииски за 1,2 млн. руб. на их реконструкцию выделило около 4 млн. рублей.',\n",
       "   '..З Групп Асфандияров, Ф..Мухамадеев']],\n",
       " [1, 1, 1, 1, 0, 0, 0, 0])"
      ]
     },
     "execution_count": 30,
     "metadata": {},
     "output_type": "execute_result"
    }
   ],
   "source": [
    "%%time\n",
    "\n",
    "get_pairs_contrastive_batch(8)"
   ]
  },
  {
   "cell_type": "markdown",
   "id": "80eecee6",
   "metadata": {},
   "source": [
    "# Training"
   ]
  },
  {
   "cell_type": "code",
   "execution_count": 31,
   "id": "2e763d66",
   "metadata": {},
   "outputs": [
    {
     "name": "stderr",
     "output_type": "stream",
     "text": [
      "Some weights of the model checkpoint at bert-base-multilingual-cased were not used when initializing BertForSequenceClassification: ['cls.seq_relationship.weight', 'cls.predictions.decoder.weight', 'cls.predictions.transform.LayerNorm.weight', 'cls.predictions.bias', 'cls.predictions.transform.dense.bias', 'cls.predictions.transform.LayerNorm.bias', 'cls.predictions.transform.dense.weight', 'cls.seq_relationship.bias']\n",
      "- This IS expected if you are initializing BertForSequenceClassification from the checkpoint of a model trained on another task or with another architecture (e.g. initializing a BertForSequenceClassification model from a BertForPreTraining model).\n",
      "- This IS NOT expected if you are initializing BertForSequenceClassification from the checkpoint of a model that you expect to be exactly identical (initializing a BertForSequenceClassification model from a BertForSequenceClassification model).\n",
      "Some weights of BertForSequenceClassification were not initialized from the model checkpoint at bert-base-multilingual-cased and are newly initialized: ['classifier.weight', 'classifier.bias']\n",
      "You should probably TRAIN this model on a down-stream task to be able to use it for predictions and inference.\n"
     ]
    }
   ],
   "source": [
    "model = AutoModelForSequenceClassification.from_pretrained(base_model).cuda();\n",
    "tokenizer = AutoTokenizer.from_pretrained(base_model)"
   ]
  },
  {
   "cell_type": "code",
   "execution_count": 32,
   "id": "1ed7a391",
   "metadata": {},
   "outputs": [],
   "source": [
    "for p in model.parameters():\n",
    "    p.requires_grad = False\n",
    "for p in model.classifier.parameters():\n",
    "    p.requires_grad = True"
   ]
  },
  {
   "cell_type": "code",
   "execution_count": 33,
   "id": "91d4af38",
   "metadata": {},
   "outputs": [],
   "source": [
    "optimizer = Adafactor(\n",
    "    [p for p in model.parameters() if p.requires_grad], \n",
    "    scale_parameter=False, relative_step=False, lr=1e-4, clip_threshold=1.0\n",
    ")\n",
    "cleanup()"
   ]
  },
  {
   "cell_type": "code",
   "execution_count": 34,
   "id": "018ad15b",
   "metadata": {},
   "outputs": [],
   "source": [
    "losses = []"
   ]
  },
  {
   "cell_type": "code",
   "execution_count": 35,
   "id": "c8483db6",
   "metadata": {},
   "outputs": [],
   "source": [
    "head_steps = 5_000\n",
    "batch_size = 8\n",
    "report_steps = 100\n",
    "train_max_length = 256"
   ]
  },
  {
   "cell_type": "code",
   "execution_count": 36,
   "id": "00d5d003",
   "metadata": {},
   "outputs": [],
   "source": [
    "loss_fn = torch.nn.CrossEntropyLoss()"
   ]
  },
  {
   "cell_type": "code",
   "execution_count": 37,
   "id": "37437b42",
   "metadata": {},
   "outputs": [],
   "source": [
    "scheduler = get_linear_schedule_with_warmup(optimizer, num_warmup_steps=1000, num_training_steps=head_steps)"
   ]
  },
  {
   "cell_type": "code",
   "execution_count": 47,
   "id": "ce071582",
   "metadata": {
    "scrolled": true
   },
   "outputs": [
    {
     "data": {
      "application/vnd.jupyter.widget-view+json": {
       "model_id": "ca3903add9a24d90839799a6767a2761",
       "version_major": 2,
       "version_minor": 0
      },
      "text/plain": [
       "  0%|          | 0/1675 [00:00<?, ?it/s]"
      ]
     },
     "metadata": {},
     "output_type": "display_data"
    },
    {
     "name": "stdout",
     "output_type": "stream",
     "text": [
      "3400 0.5629997463524341\n",
      "3500 0.5300789499282836\n",
      "3600 0.591562531888485\n",
      "3700 0.5655757082998752\n",
      "3800 0.5774815982580185\n",
      "3900 0.5890865369141102\n",
      "4000 0.5540728889405727\n",
      "4100 0.567785209864378\n",
      "4200 0.5381500406563282\n",
      "4300 0.569883159995079\n",
      "4400 0.5627700370550156\n",
      "4500 0.5522523668408393\n",
      "4600 0.5869616617262363\n",
      "4700 0.5838814347982406\n",
      "4800 0.5762402576208114\n",
      "4900 0.5545455200970173\n"
     ]
    }
   ],
   "source": [
    "model.train()\n",
    "tq = trange(len(losses), head_steps)\n",
    "for i in tq:\n",
    "    pp, pl = get_pairs_contrastive_batch(bs=batch_size)\n",
    "    try:\n",
    "        loss = loss_fn(\n",
    "            model(\n",
    "                **tokenizer(*pp, padding=True, truncation=True, max_length=train_max_length, return_tensors='pt').to(model.device)\n",
    "            ).logits.view(-1, 2),\n",
    "            torch.tensor(pl, device=model.device)\n",
    "        )\n",
    "        loss.backward()\n",
    "        losses.append(loss.item())\n",
    "        # torch.nn.utils.clip_grad_norm_(model.parameters(), 1.0)\n",
    "\n",
    "        optimizer.step()\n",
    "        optimizer.zero_grad(set_to_none=True)\n",
    "        scheduler.step()\n",
    "\n",
    "    except RuntimeError:\n",
    "        optimizer.zero_grad(set_to_none=True)\n",
    "        batch, out, embeddings, all_scores, loss = None, None, None, None, None\n",
    "        cleanup()\n",
    "        print('error', max(len(s) for s in pp[0]+pp[1]))\n",
    "        continue\n",
    "    if i % report_steps == 0:\n",
    "        print(i, np.mean(losses[-report_steps:]))"
   ]
  },
  {
   "cell_type": "code",
   "execution_count": 48,
   "id": "9220592c",
   "metadata": {},
   "outputs": [
    {
     "data": {
      "image/png": "[encoded data removed]",
      "text/plain": [
       "<Figure size 432x288 with 1 Axes>"
      ]
     },
     "metadata": {
      "needs_background": "light"
     },
     "output_type": "display_data"
    }
   ],
   "source": [
    "pd.Series(losses).ewm(300).mean()[100:].plot(lw=1);"
   ]
  },
  {
   "cell_type": "code",
   "execution_count": 49,
   "id": "194917eb",
   "metadata": {},
   "outputs": [],
   "source": [
    "for p in model.parameters():\n",
    "    p.requires_grad = True"
   ]
  },
  {
   "cell_type": "code",
   "execution_count": 50,
   "id": "0d126663",
   "metadata": {},
   "outputs": [],
   "source": [
    "optimizer = Adafactor(\n",
    "    [p for p in model.parameters() if p.requires_grad], \n",
    "    scale_parameter=False, relative_step=False, lr=1e-5, clip_threshold=1.0\n",
    ")"
   ]
  },
  {
   "cell_type": "code",
   "execution_count": 51,
   "id": "66b54bb5",
   "metadata": {},
   "outputs": [],
   "source": [
    "loss_fn = torch.nn.CrossEntropyLoss(label_smoothing=0.01)"
   ]
  },
  {
   "cell_type": "code",
   "execution_count": 52,
   "id": "17c15d48",
   "metadata": {},
   "outputs": [],
   "source": [
    "full_steps = 95_000\n",
    "batch_size = 4\n",
    "report_steps = 100\n",
    "train_max_length = 192  # 256 is preferable, but it OOMs often"
   ]
  },
  {
   "cell_type": "code",
   "execution_count": 53,
   "id": "cc356a41",
   "metadata": {},
   "outputs": [],
   "source": [
    "scheduler = get_linear_schedule_with_warmup(optimizer, num_warmup_steps=1000, num_training_steps=full_steps)"
   ]
  },
  {
   "cell_type": "code",
   "execution_count": 70,
   "id": "44a72c1e",
   "metadata": {
    "scrolled": true
   },
   "outputs": [
    {
     "data": {
      "application/vnd.jupyter.widget-view+json": {
       "model_id": "5878dd50782b41b39c80ded03372041c",
       "version_major": 2,
       "version_minor": 0
      },
      "text/plain": [
       "  0%|          | 0/86286 [00:00<?, ?it/s]"
      ]
     },
     "metadata": {},
     "output_type": "display_data"
    },
    {
     "name": "stdout",
     "output_type": "stream",
     "text": [
      "13800 0.2999666390195489\n",
      "13900 0.3067506008222699\n",
      "14000 0.2554459646344185\n",
      "14100 0.3581089997291565\n",
      "14200 0.21982111483812333\n",
      "14300 0.2741813230887055\n",
      "14400 0.23492953341454267\n",
      "14500 0.2694403387978673\n",
      "14600 0.28539589684456584\n",
      "14700 0.22736445885151624\n",
      "14800 0.2980279953405261\n",
      "14900 0.20467423915863037\n",
      "15000 0.31671575967222454\n",
      "15100 0.22575838316231966\n",
      "15200 0.3516950497031212\n",
      "15300 0.29477477610111236\n",
      "15400 0.28550301015377044\n",
      "15500 0.2567489616200328\n",
      "15600 0.3218000984936953\n",
      "15700 0.3177188452705741\n",
      "15800 0.22818398725241423\n",
      "15900 0.28176056925207377\n",
      "16000 0.27600312765687707\n",
      "16100 0.2886092363297939\n",
      "16200 0.2999062428623438\n",
      "16300 0.3708608642593026\n",
      "16400 0.21884393818676473\n",
      "16500 0.29623034615069627\n",
      "16600 0.29894253056496384\n",
      "16700 0.2799785567447543\n",
      "16800 0.24811633817851544\n",
      "16900 0.29133743789047\n",
      "17000 0.23235562082380057\n",
      "17100 0.25106187365949156\n",
      "17200 0.28143834192305806\n",
      "17300 0.3026966218650341\n",
      "17400 0.2837377021461725\n",
      "17500 0.24420112267136573\n",
      "17600 0.3095839034020901\n",
      "17700 0.25751148611307145\n",
      "17800 0.27599263213574887\n",
      "17900 0.26486823972314594\n",
      "18000 0.21419892244040967\n",
      "18100 0.3087668494135141\n",
      "18200 0.25208749417215587\n",
      "18300 0.2875259592011571\n",
      "18400 0.2962964753434062\n",
      "18500 0.24122731044888496\n",
      "18600 0.3233146680146456\n",
      "18700 0.30561178654432297\n",
      "18800 0.28490800961852075\n",
      "18900 0.24955078888684512\n",
      "19000 0.2727794886007905\n",
      "19100 0.21988437417894602\n",
      "19200 0.244765168055892\n",
      "19300 0.2948314230144024\n",
      "19400 0.26740011319518087\n",
      "19500 0.29124740570783614\n",
      "19600 0.30470656406134367\n",
      "19700 0.2974780310317874\n",
      "19800 0.2616694739833474\n",
      "19900 0.2926492517068982\n",
      "20000 0.2519075476750732\n",
      "20100 0.24889568530023098\n",
      "20200 0.277914375141263\n",
      "20300 0.22436249129474162\n",
      "20400 0.24543166171759367\n",
      "20500 0.34844019263982773\n",
      "20600 0.2555000165477395\n",
      "20700 0.2218027099967003\n",
      "20800 0.27274174567312004\n",
      "20900 0.26705496750772\n",
      "21000 0.2926667131856084\n",
      "21100 0.21053058370947839\n",
      "21200 0.26101362485438584\n",
      "21300 0.21194992769509555\n",
      "21400 0.24879569340497254\n",
      "21500 0.2752511451765895\n",
      "21600 0.2601322591677308\n",
      "21700 0.2691713317483664\n",
      "21800 0.26689029060304165\n",
      "21900 0.26427381094545127\n",
      "22000 0.22528010919690133\n",
      "22100 0.2732369004189968\n",
      "22200 0.23105124447494746\n",
      "22300 0.23400697235018014\n",
      "22400 0.23296992771327496\n",
      "22500 0.2773171043395996\n",
      "22600 0.28444379433989525\n",
      "22700 0.2827903412282467\n",
      "22800 0.30501216802746056\n",
      "22900 0.2727138004824519\n",
      "23000 0.2843045864999294\n",
      "23100 0.3281703105941415\n",
      "23200 0.2638925452530384\n",
      "23300 0.29340202879160643\n",
      "23400 0.27290735248476267\n",
      "23500 0.33028765823692086\n",
      "23600 0.2668407979235053\n",
      "23700 0.26615703001618385\n",
      "23800 0.2557131762057543\n",
      "23900 0.2528579317033291\n",
      "24000 0.2869082146883011\n",
      "24100 0.2915387915819883\n",
      "24200 0.30070112481713296\n",
      "24300 0.2542516855150461\n",
      "24400 0.2721938855573535\n",
      "24500 0.26048567894846203\n",
      "24600 0.2694869837164879\n",
      "24700 0.28131014451384545\n",
      "24800 0.2881309635192156\n",
      "24900 0.30746713653206825\n",
      "25000 0.2898204879462719\n",
      "25100 0.25748715583235027\n",
      "25200 0.23787060480564834\n",
      "25300 0.23791923139244317\n",
      "25400 0.24529775097966194\n",
      "25500 0.2635513411462307\n",
      "25600 0.2663885553181171\n",
      "25700 0.24069374807178975\n",
      "25800 0.24186657305806875\n",
      "25900 0.2759625382721424\n",
      "26000 0.2493273251503706\n",
      "26100 0.25803207360208036\n",
      "26200 0.21539276726543904\n",
      "26300 0.3004719102755189\n",
      "26400 0.2800886335596442\n",
      "26500 0.24842322278767826\n",
      "26600 0.2662236978113651\n",
      "26700 0.27634285867214203\n",
      "26800 0.23765342064201833\n",
      "26900 0.21012645781040193\n",
      "27000 0.271594730950892\n",
      "27100 0.2730269366130233\n",
      "27200 0.28190805956721304\n",
      "27300 0.2045815173909068\n",
      "27400 0.2842545821145177\n",
      "27500 0.24468238409608603\n",
      "27600 0.2581502790376544\n",
      "27700 0.23341147009283303\n",
      "27800 0.2585669704154134\n",
      "27900 0.27783448319882154\n",
      "28000 0.29465205695480107\n",
      "28100 0.22825384739786386\n",
      "28200 0.24342424858361483\n",
      "28300 0.25860227428376675\n",
      "28400 0.2695690588280559\n",
      "28500 0.2710015110298991\n",
      "28600 0.3195621228963137\n",
      "28700 0.26440929803997276\n",
      "28800 0.22966456077992917\n",
      "28900 0.19403992138803006\n",
      "29000 0.28271474421024323\n",
      "29100 0.26799270883202553\n",
      "29200 0.23110984437167645\n",
      "29300 0.24385009475052358\n",
      "29400 0.2300417172908783\n",
      "29500 0.24606653425842523\n",
      "29600 0.29040936335921286\n",
      "29700 0.2377119479328394\n",
      "29800 0.26258408211171624\n",
      "29900 0.20788386821746827\n",
      "30000 0.27691838454455137\n",
      "30100 0.24655346345156431\n",
      "30200 0.25591868184506894\n",
      "30300 0.2238457063958049\n",
      "30400 0.2695624164491892\n",
      "30500 0.2566092305630445\n",
      "30600 0.2281402437761426\n",
      "30700 0.2854270901530981\n",
      "30800 0.2547668044641614\n",
      "30900 0.26186161939054725\n",
      "31000 0.1903021540865302\n",
      "31100 0.2452266639471054\n",
      "31200 0.24761285457760096\n",
      "31300 0.23192645393311978\n",
      "31400 0.26566460240632295\n",
      "31500 0.24357249338179826\n",
      "31600 0.23942838486284018\n",
      "31700 0.22679691832512616\n",
      "31800 0.2044471925869584\n",
      "31900 0.3156754043698311\n",
      "32000 0.24028313059359788\n",
      "32100 0.25222688626497985\n",
      "32200 0.26405724838376043\n",
      "32300 0.25623477686196566\n",
      "32400 0.28313966054469347\n",
      "32500 0.2190946973487735\n",
      "32600 0.2623667505383491\n",
      "32700 0.27496988389641047\n",
      "32800 0.22299872886389493\n",
      "32900 0.24883949652314186\n",
      "33000 0.25515090994536876\n",
      "33100 0.27838093306869266\n",
      "33200 0.23684111054986715\n",
      "33300 0.2297328470274806\n",
      "33400 0.22612389285117387\n",
      "33500 0.31811933644115925\n",
      "33600 0.2163761629164219\n",
      "33700 0.22589929319918156\n",
      "33800 0.3161716852709651\n",
      "33900 0.3066053145006299\n",
      "34000 0.1859729928523302\n",
      "34100 0.26759458690881727\n",
      "34200 0.30919528000056745\n",
      "34300 0.27158341873437164\n",
      "34400 0.27402387876063583\n",
      "34500 0.2315730107575655\n",
      "34600 0.2777021078020334\n",
      "34700 0.24822828583419324\n",
      "34800 0.27520980045199395\n",
      "34900 0.22404212288558484\n",
      "35000 0.2810400588810444\n",
      "35100 0.2628989300504327\n",
      "35200 0.26300117284059527\n",
      "35300 0.27665377371013167\n",
      "35400 0.26389753591269255\n",
      "35500 0.23992208264768122\n",
      "35600 0.29981534656137226\n",
      "35700 0.24820879824459552\n",
      "35800 0.25053530488163234\n",
      "35900 0.3112767005339265\n",
      "36000 0.2702090452238917\n",
      "36100 0.267067908346653\n",
      "36200 0.22841037303209305\n",
      "36300 0.28532085999846457\n",
      "36400 0.22252890758216382\n",
      "36500 0.21838783945888282\n",
      "36600 0.26163777120411397\n",
      "36700 0.24397660687565803\n",
      "36800 0.24461950041353703\n",
      "36900 0.2566569433733821\n",
      "37000 0.21922678753733635\n",
      "37100 0.23769577004015446\n",
      "37200 0.24826060373336076\n",
      "37300 0.27972471579909325\n",
      "37400 0.20116039998829366\n",
      "37500 0.24378580760210752\n",
      "37600 0.23714335944503545\n",
      "37700 0.22511818677186965\n",
      "37800 0.2539584218710661\n",
      "37900 0.278361173607409\n",
      "38000 0.2258682841062546\n",
      "38100 0.2658444652706385\n",
      "38200 0.2506928390264511\n",
      "38300 0.23626719560474158\n",
      "38400 0.24470134846866132\n",
      "38500 0.15885387048125266\n",
      "38600 0.22030642740428447\n",
      "38700 0.2244544019177556\n",
      "38800 0.2651642810180783\n",
      "38900 0.2494848646596074\n",
      "39000 0.21020643830299376\n",
      "39100 0.21625658694654704\n",
      "39200 0.20645321808755399\n",
      "39300 0.2257407136261463\n",
      "39400 0.2686606854200363\n",
      "39500 0.259100877456367\n",
      "39600 0.26577733557671307\n",
      "39700 0.26268554959446194\n",
      "39800 0.2419671856611967\n",
      "39900 0.22118323523551225\n",
      "40000 0.261436535269022\n",
      "40100 0.23564225368201733\n",
      "40200 0.2285300126671791\n",
      "40300 0.2183235289156437\n",
      "40400 0.23522042885422706\n",
      "40500 0.2392892974242568\n",
      "40600 0.2741269226372242\n",
      "40700 0.22351275619119407\n",
      "40800 0.2162049603462219\n",
      "40900 0.24971605040133\n",
      "41000 0.2167870879918337\n",
      "41100 0.22539450660347937\n",
      "41200 0.23924282047897577\n",
      "41300 0.2671041497215629\n",
      "41400 0.23301432136446237\n",
      "41500 0.3546048676967621\n",
      "41600 0.2654288110882044\n",
      "41700 0.25039547715336086\n",
      "41800 0.21211351066827774\n",
      "41900 0.2859411496669054\n",
      "42000 0.24730929482728242\n",
      "42100 0.26403666127473113\n",
      "42200 0.24154608428478241\n",
      "42300 0.24082437433302403\n",
      "42400 0.22425350964069365\n",
      "42500 0.2218306202813983\n",
      "42600 0.22127688601613044\n",
      "42700 0.24049473088234663\n",
      "42800 0.2762272576987743\n",
      "42900 0.2349318275973201\n",
      "43000 0.31062986847013235\n",
      "43100 0.23611864298582078\n",
      "43200 0.21367677863687276\n",
      "43300 0.2515918587893248\n",
      "43400 0.24794141862541438\n",
      "43500 0.2820869504287839\n",
      "43600 0.2484046383202076\n",
      "43700 0.2889573632180691\n",
      "43800 0.24718605350703002\n",
      "43900 0.21365007273852826\n",
      "44000 0.25460280794650314\n",
      "44100 0.22366832878440618\n",
      "44200 0.2448998139053583\n",
      "44300 0.2967650051414967\n",
      "44400 0.2531627382338047\n",
      "44500 0.23868876747787\n",
      "44600 0.2639649581164122\n",
      "44700 0.2861174010112882\n",
      "44800 0.2812737595289946\n",
      "44900 0.29497655168175696\n",
      "45000 0.25191396549344064\n",
      "45100 0.23126656658947467\n",
      "45200 0.2608851208537817\n",
      "45300 0.22374103076756\n",
      "45400 0.24808421783149243\n",
      "45500 0.2241010645031929\n",
      "45600 0.23616389386355877\n",
      "45700 0.22473403092473745\n",
      "45800 0.2428530754521489\n",
      "45900 0.2522080321982503\n"
     ]
    },
    {
     "name": "stdout",
     "output_type": "stream",
     "text": [
      "46000 0.2190381432324648\n",
      "46100 0.24154440883547068\n",
      "46200 0.23153457447886466\n",
      "46300 0.2683115907385945\n",
      "46400 0.2544430474191904\n",
      "46500 0.22256298400461674\n",
      "46600 0.27272337563335897\n",
      "46700 0.291234345510602\n",
      "46800 0.29740139096975327\n",
      "46900 0.23419685054570435\n",
      "47000 0.21154804226011037\n",
      "47100 0.20537720173597335\n",
      "47200 0.23545758668333291\n",
      "47300 0.21972711283713578\n",
      "47400 0.2338596887513995\n",
      "47500 0.1726710234209895\n",
      "47600 0.26237269848585126\n",
      "47700 0.24540470194071531\n",
      "47800 0.241753822080791\n",
      "47900 0.24200358506292105\n",
      "48000 0.20191434536129235\n",
      "48100 0.22778935078531504\n",
      "48200 0.2783385302498937\n",
      "48300 0.2977017670869827\n",
      "48400 0.18297227684408426\n",
      "48500 0.28732610791921614\n",
      "48600 0.23943846613168718\n",
      "48700 0.26221197497099635\n",
      "48800 0.2470037828758359\n",
      "48900 0.2084696837887168\n",
      "49000 0.19675655458122493\n",
      "49100 0.23519099436700344\n",
      "49200 0.26535078302025794\n",
      "49300 0.26762461196631193\n",
      "49400 0.20816281460225583\n",
      "49500 0.2911350617930293\n",
      "49600 0.20434834018349649\n",
      "49700 0.2154044508561492\n",
      "49800 0.21028835486620664\n",
      "49900 0.25919870354235175\n",
      "50000 0.20457861993461848\n",
      "50100 0.2282923609763384\n",
      "50200 0.2672876565530896\n",
      "50300 0.22512054044753313\n",
      "50400 0.227440344132483\n",
      "50500 0.24906261172145605\n",
      "50600 0.22752825926989317\n",
      "50700 0.2706970391049981\n",
      "50800 0.21280573811382056\n",
      "50900 0.2498174721747637\n",
      "51000 0.1884309285134077\n",
      "51100 0.24587319757789372\n",
      "51200 0.25728986989706754\n",
      "51300 0.20214233491569758\n",
      "51400 0.24434491574764253\n",
      "51500 0.2150445742160082\n",
      "51600 0.24332809757441282\n",
      "51700 0.24979277998208999\n",
      "51800 0.25862236667424443\n",
      "51900 0.223305262029171\n",
      "52000 0.21188675798475742\n",
      "52100 0.24136914286762476\n",
      "52200 0.25501815903931857\n",
      "52300 0.21942676171660425\n",
      "52400 0.22634271297603845\n",
      "52500 0.23852781999856235\n",
      "52600 0.25759522687643766\n",
      "52700 0.17575342364609242\n",
      "52800 0.19457997307181357\n",
      "52900 0.2230633757635951\n",
      "53000 0.2664849664270878\n",
      "53100 0.2581329475715756\n",
      "53200 0.2729521328955889\n",
      "53300 0.22651863791048527\n",
      "53400 0.2495016859471798\n",
      "53500 0.27366816096007823\n",
      "53600 0.24998197488486767\n",
      "53700 0.2244726673141122\n",
      "53800 0.20318480476737022\n",
      "53900 0.24421469800174236\n",
      "54000 0.23906542211771012\n",
      "54100 0.21352979771792888\n",
      "54200 0.2039556812494993\n",
      "54300 0.20646365538239478\n",
      "54400 0.20965406984090806\n",
      "54500 0.21601372711360456\n",
      "54600 0.22810405123978852\n",
      "54700 0.26756359212100506\n",
      "54800 0.19097435109317304\n",
      "54900 0.2517686166241765\n",
      "55000 0.197373461201787\n",
      "55100 0.22215078324079512\n",
      "55200 0.23528591126203538\n",
      "55300 0.23490061279386282\n",
      "55400 0.23223039224743844\n",
      "55500 0.20211075745522977\n",
      "55600 0.21636763624846936\n",
      "55700 0.2457741791754961\n",
      "55800 0.20734194681048393\n",
      "55900 0.2704259195178747\n",
      "56000 0.23657242864370345\n",
      "56100 0.22431623574346304\n",
      "56200 0.26517164416611194\n",
      "56300 0.24844093829393388\n",
      "56400 0.17703736022114755\n",
      "56500 0.26534856896847486\n",
      "56600 0.23822037499397994\n",
      "56700 0.17909378860145808\n",
      "56800 0.2374437880143523\n",
      "56900 0.2740205954760313\n",
      "57000 0.3269338076561689\n",
      "57100 0.23572367884218692\n",
      "57200 0.22461951814591885\n",
      "57300 0.24757211025804282\n",
      "57400 0.1853872511163354\n",
      "57500 0.18429700132459403\n",
      "57600 0.2661339847370982\n",
      "57700 0.22103459544479848\n",
      "57800 0.18399432342499494\n",
      "57900 0.23746871389448643\n",
      "58000 0.19002244990319014\n",
      "58100 0.243714142665267\n",
      "58200 0.20687433402985334\n",
      "58300 0.22558385148644447\n",
      "58400 0.23831612586975098\n",
      "58500 0.26057668946683404\n",
      "58600 0.22255651887506248\n",
      "58700 0.19477820187807082\n",
      "58800 0.23984839759767054\n",
      "58900 0.2518785938248038\n",
      "59000 0.18906201150268317\n",
      "59100 0.25570682488381863\n",
      "59200 0.2258156991377473\n",
      "59300 0.21071698065847158\n",
      "59400 0.2411598326265812\n",
      "59500 0.24010753888636827\n",
      "59600 0.1849813476204872\n",
      "59700 0.19761370770633221\n",
      "59800 0.20454227477312087\n",
      "59900 0.26933005552738903\n",
      "60000 0.21591045059263705\n",
      "60100 0.21466580275446176\n",
      "60200 0.21164790730923413\n",
      "60300 0.21081821031868458\n",
      "60400 0.24781435631215573\n",
      "60500 0.20774058658629657\n",
      "60600 0.20894041378051043\n",
      "60700 0.21671223357319833\n",
      "60800 0.22912854559719562\n",
      "60900 0.19024642203003167\n",
      "61000 0.2050712636485696\n",
      "61100 0.21528779421001673\n",
      "61200 0.1816330812126398\n",
      "61300 0.2238342322409153\n",
      "61400 0.21597359698265792\n",
      "61500 0.20462346963584424\n",
      "61600 0.17634997226297855\n",
      "61700 0.19599624782800673\n",
      "61800 0.19930216267704964\n",
      "61900 0.1967884561792016\n",
      "62000 0.211390986405313\n",
      "62100 0.22676297273486853\n",
      "62200 0.2482372833415866\n",
      "62300 0.2808036492019892\n",
      "62400 0.23037484243512155\n",
      "62500 0.26746900897473097\n",
      "62600 0.19582384455949067\n",
      "62700 0.25112070083618165\n",
      "62800 0.24820646442472935\n",
      "62900 0.17957393240183592\n",
      "63000 0.24233791153877973\n",
      "63100 0.26496015176177024\n",
      "63200 0.2436466459184885\n",
      "63300 0.2007013489305973\n",
      "63400 0.19858117762953043\n",
      "63500 0.2710810628160834\n",
      "63600 0.18730411760509014\n",
      "63700 0.2508992379531264\n",
      "63800 0.21513688206672668\n",
      "63900 0.17739468935877084\n",
      "64000 0.2059777619317174\n",
      "64100 0.1605275871604681\n",
      "64200 0.21145143527537585\n",
      "64300 0.21910224229097366\n",
      "64400 0.2148089149966836\n",
      "64500 0.18913117568939924\n",
      "64600 0.17711240150034427\n",
      "64700 0.2342056954652071\n",
      "64800 0.17951183769851922\n",
      "64900 0.21011413276195526\n",
      "65000 0.27482287656515836\n",
      "65100 0.1848053153976798\n",
      "65200 0.18126087013632058\n",
      "65300 0.1904487294703722\n",
      "65400 0.20385935105383396\n",
      "65500 0.2278924025967717\n",
      "65600 0.20135483991354705\n",
      "65700 0.18854418270289897\n",
      "65800 0.2877683026716113\n",
      "65900 0.22751884289085866\n",
      "66000 0.20810240522027015\n",
      "66100 0.21746186025440692\n",
      "66200 0.1968145965784788\n",
      "66300 0.24666417006403207\n",
      "66400 0.2401875615864992\n",
      "66500 0.19121402576565744\n",
      "66600 0.24920736018568276\n",
      "66700 0.24904696740210056\n",
      "66800 0.19675892658531666\n",
      "66900 0.20251505613327025\n",
      "67000 0.14171414144337177\n",
      "67100 0.22541895143687726\n",
      "67200 0.20200020100921393\n",
      "67300 0.24823497343808412\n",
      "67400 0.25124820485711097\n",
      "67500 0.19003525219857692\n",
      "67600 0.21062237471342088\n",
      "67700 0.18813140142709017\n",
      "67800 0.1887127735465765\n",
      "67900 0.20779147651046515\n",
      "68000 0.20873398788273334\n",
      "68100 0.24707364961504935\n",
      "68200 0.23396320316940547\n",
      "68300 0.21973235934972762\n",
      "68400 0.2006227944418788\n",
      "68500 0.28319001868367194\n",
      "68600 0.23653710398823022\n",
      "68700 0.23840256679803132\n",
      "68800 0.20503571595996617\n",
      "68900 0.21323206547647713\n",
      "69000 0.18617389410734175\n",
      "69100 0.19361470256000757\n",
      "69200 0.2057158649712801\n",
      "69300 0.18910246919840573\n",
      "69400 0.2558345710113645\n",
      "69500 0.286250923871994\n",
      "69600 0.2044113442674279\n",
      "69700 0.16722483605146407\n",
      "69800 0.17760724287480115\n",
      "69900 0.22880613543093203\n",
      "70000 0.233530624397099\n",
      "70100 0.20585779763758183\n",
      "70200 0.2205407314375043\n",
      "70300 0.16996928643435238\n",
      "70400 0.15289754163473845\n",
      "70500 0.21054819446057083\n",
      "70600 0.1846017311513424\n",
      "70700 0.23317186944186688\n",
      "70800 0.29526617504656316\n",
      "70900 0.27024660222232344\n",
      "71000 0.25681024450808765\n",
      "71100 0.30022015154361725\n",
      "71200 0.17963794518262147\n",
      "71300 0.2241651614010334\n",
      "71400 0.213354232609272\n",
      "71500 0.2025867299363017\n",
      "71600 0.260748639665544\n",
      "71700 0.1881648477911949\n",
      "71800 0.22981197211891413\n",
      "71900 0.24854503761976957\n",
      "72000 0.2381814070418477\n",
      "72100 0.21784060191363097\n",
      "72200 0.2030549057200551\n",
      "72300 0.24290532935410739\n",
      "72400 0.1798939199373126\n",
      "72500 0.15903056923300027\n",
      "72600 0.23352371219545603\n",
      "72700 0.2696785054728389\n",
      "72800 0.23863951854407786\n",
      "72900 0.16434036791324616\n",
      "73000 0.2337695697695017\n",
      "73100 0.244287573620677\n",
      "73200 0.1934402918443084\n",
      "73300 0.19008738972246647\n",
      "73400 0.16377529229968787\n",
      "73500 0.22052421025931834\n",
      "73600 0.25220110077410934\n",
      "73700 0.2328886776790023\n",
      "73800 0.17623894568532705\n",
      "73900 0.2116541375592351\n",
      "74000 0.19038957614451646\n",
      "74100 0.22010987650603056\n",
      "74200 0.23487199023365973\n",
      "74300 0.23114519253373145\n",
      "74400 0.2051875788718462\n",
      "74500 0.2447786108776927\n",
      "74600 0.19591916050761937\n",
      "74700 0.2355630672723055\n",
      "74800 0.1867232108488679\n",
      "74900 0.19755711872130632\n",
      "75000 0.21320201463997365\n",
      "75100 0.19039858657866715\n",
      "75200 0.19745658960193396\n",
      "75300 0.2990024828910828\n",
      "75400 0.23894603665918113\n",
      "75500 0.1898519176617265\n",
      "75600 0.2696124929189682\n",
      "75700 0.1786971963196993\n",
      "75800 0.1773345121741295\n",
      "75900 0.20445808678865432\n",
      "76000 0.1996695062145591\n",
      "76100 0.2130676408484578\n",
      "76200 0.24401715267449617\n",
      "76300 0.2504101939871907\n",
      "76400 0.2605928737297654\n",
      "76500 0.26259456992149355\n",
      "76600 0.23379956915974617\n",
      "76700 0.24028806403279304\n",
      "76800 0.22291771806776522\n",
      "76900 0.2382500935718417\n",
      "77000 0.21887070879340173\n",
      "77100 0.22924144547432662\n",
      "77200 0.2370171245932579\n",
      "77300 0.20231300711631775\n",
      "77400 0.25987891796976326\n",
      "77500 0.21348925206810235\n",
      "77600 0.17626317385584117\n",
      "77700 0.18425616208463907\n",
      "77800 0.29735533859580754\n",
      "77900 0.20869550380855798\n"
     ]
    },
    {
     "name": "stdout",
     "output_type": "stream",
     "text": [
      "78000 0.23431846454739572\n",
      "78100 0.21541867777705193\n",
      "78200 0.23238142736256123\n",
      "78300 0.19073674481362105\n",
      "78400 0.24553322572261094\n",
      "78500 0.23159605279564857\n",
      "78600 0.22035422906279564\n",
      "78700 0.1870489225536585\n",
      "78800 0.24097600065171718\n",
      "78900 0.18734418254345656\n",
      "79000 0.20081325229257346\n",
      "79100 0.22437463279813527\n",
      "79200 0.2218767400830984\n",
      "79300 0.20293123807758093\n",
      "79400 0.21102264851331712\n",
      "79500 0.20675738774240016\n",
      "79600 0.23018899876624346\n",
      "79700 0.21671619832515718\n",
      "79800 0.19513485874980688\n",
      "79900 0.22999503817409278\n",
      "80000 0.21764558754861354\n",
      "80100 0.26159255038946866\n",
      "80200 0.21552474346011877\n",
      "80300 0.3105114224553108\n",
      "80400 0.18767954099923373\n",
      "80500 0.1821714160218835\n",
      "80600 0.23669410195201634\n",
      "80700 0.16672488201409577\n",
      "80800 0.20414321202784777\n",
      "80900 0.21525816015899182\n",
      "81000 0.1601765574887395\n",
      "81100 0.20824879076331854\n",
      "81200 0.18280260443687438\n",
      "81300 0.21004450291395188\n",
      "81400 0.2292099665477872\n",
      "81500 0.23206901926547288\n",
      "81600 0.20967654939740896\n",
      "81700 0.24850453235208989\n",
      "81800 0.24337827511131763\n",
      "81900 0.19767528235912324\n",
      "82000 0.22412369012832642\n",
      "82100 0.25946770183742046\n",
      "82200 0.17838240157812835\n",
      "82300 0.18927907288074494\n",
      "82400 0.2452534395083785\n",
      "82500 0.20638052627444267\n",
      "82600 0.21707838900387288\n",
      "82700 0.19573775388300418\n",
      "82800 0.2036517073959112\n",
      "82900 0.21200366206467153\n",
      "83000 0.2673382366076112\n",
      "83100 0.20918383374810218\n",
      "83200 0.19085113655775784\n",
      "83300 0.23518692206591368\n",
      "83400 0.22971759002655745\n",
      "83500 0.22399051036685705\n",
      "83600 0.1905874663963914\n",
      "83700 0.1627773855999112\n",
      "83800 0.24500486884266137\n",
      "83900 0.20842587649822236\n",
      "84000 0.2161205018311739\n",
      "84100 0.23253438796848058\n",
      "84200 0.1985159830003977\n",
      "84300 0.19974524896591903\n",
      "84400 0.1691316319257021\n",
      "84500 0.21605003878474235\n",
      "84600 0.24685797058045864\n",
      "84700 0.1799628932774067\n",
      "84800 0.18452433485537767\n",
      "84900 0.16120485208928584\n",
      "85000 0.227313328422606\n",
      "85100 0.22871218275278807\n",
      "85200 0.2274697746708989\n",
      "85300 0.17512367520481348\n",
      "85400 0.15776313230395317\n",
      "85500 0.20276670563966037\n",
      "85600 0.25343461010605095\n",
      "85700 0.21489737693220376\n",
      "85800 0.27726873639971017\n",
      "85900 0.20733657322824\n",
      "86000 0.21045736625790595\n",
      "86100 0.24822827883064746\n",
      "86200 0.20789124224334954\n",
      "86300 0.2053808218240738\n",
      "86400 0.22204933304339647\n",
      "86500 0.18865383356809617\n",
      "86600 0.1529750394821167\n",
      "86700 0.2345131416618824\n",
      "86800 0.2153770960494876\n",
      "86900 0.2005788044258952\n",
      "87000 0.23997796919196845\n",
      "87100 0.19284833028912543\n",
      "87200 0.17434574775397776\n",
      "87300 0.18212230332195758\n",
      "87400 0.18347640376538038\n",
      "87500 0.18501374635845422\n",
      "87600 0.2118348065018654\n",
      "87700 0.21785555321723224\n",
      "87800 0.22984398961067198\n",
      "87900 0.22362074609845878\n",
      "88000 0.20039070084691046\n",
      "88100 0.2087484996765852\n",
      "88200 0.24946866188198327\n",
      "88300 0.2440662245452404\n",
      "88400 0.17112206030637026\n",
      "88500 0.18419958882033824\n",
      "88600 0.21837970938533544\n",
      "88700 0.2554545580595732\n",
      "88800 0.22913837518543004\n",
      "88900 0.2820917138829827\n",
      "89000 0.21656909439712763\n",
      "89100 0.15931870963424444\n",
      "89200 0.1985685070976615\n",
      "89300 0.18437925897538662\n",
      "89400 0.22635510090738534\n",
      "89500 0.28188043512403965\n",
      "89600 0.17045197799801826\n",
      "89700 0.1896385321766138\n",
      "89800 0.20617824025452136\n",
      "89900 0.19554152198135852\n",
      "90000 0.2925996435806155\n",
      "90100 0.21505109801888467\n",
      "90200 0.2178982800990343\n",
      "90300 0.157208581417799\n",
      "90400 0.2104756074026227\n",
      "90500 0.16230757482349872\n",
      "90600 0.20850034926086664\n",
      "90700 0.1908188159018755\n",
      "90800 0.19973506320267917\n",
      "90900 0.2437312650308013\n",
      "91000 0.20966537971049548\n",
      "91100 0.17372288804501296\n",
      "91200 0.2013688799738884\n",
      "91300 0.24427218243479729\n",
      "91400 0.20208782818168403\n",
      "91500 0.19841482672840358\n",
      "91600 0.21143419291824103\n",
      "91700 0.2097250896692276\n",
      "91800 0.2103242875263095\n",
      "91900 0.21043213937431574\n",
      "92000 0.18687091439962386\n",
      "92100 0.14002155803143979\n",
      "92200 0.20039137311279773\n",
      "92300 0.19725415773689747\n",
      "92400 0.2250727265700698\n",
      "92500 0.20577510010451078\n",
      "92600 0.22918052889406682\n",
      "92700 0.19588459078222514\n",
      "92800 0.20562438171356917\n",
      "92900 0.16499720215797425\n",
      "93000 0.2014910751581192\n",
      "93100 0.23216036707162857\n",
      "93200 0.2941526838392019\n",
      "93300 0.1786780919879675\n",
      "93400 0.2117370069399476\n",
      "93500 0.1754674253612757\n",
      "93600 0.2708252553641796\n",
      "93700 0.21913952801376582\n",
      "93800 0.21118569906800985\n",
      "93900 0.21801756531000138\n",
      "94000 0.2165818314999342\n",
      "94100 0.20057631488889455\n",
      "94200 0.17832381516695023\n",
      "94300 0.2168052788078785\n",
      "94400 0.2220990477129817\n",
      "94500 0.19952010445296764\n",
      "94600 0.22891225907951593\n",
      "94700 0.15040781997144223\n",
      "94800 0.1301800076290965\n",
      "94900 0.22619226049631835\n",
      "95000 0.237699758708477\n",
      "95100 0.21248605411499738\n",
      "95200 0.19896205198019742\n",
      "95300 0.20080696411430835\n",
      "95400 0.22337472770363093\n",
      "95500 0.21286037899553775\n",
      "95600 0.20268457494676112\n",
      "95700 0.20843619748950004\n",
      "95800 0.21390851750969886\n",
      "95900 0.20580244332551956\n",
      "96000 0.1880669952556491\n",
      "96100 0.2122056806087494\n",
      "96200 0.20203686133027077\n",
      "96300 0.1929538068920374\n",
      "96400 0.21690704979002476\n",
      "96500 0.17192994430661201\n",
      "96600 0.20619105860590936\n",
      "96700 0.2037238586694002\n",
      "96800 0.19409445974975825\n",
      "96900 0.17174813587218524\n",
      "97000 0.2263937520980835\n",
      "97100 0.1757624742016196\n",
      "97200 0.264335504360497\n",
      "97300 0.20277148306369783\n",
      "97400 0.1694079551845789\n",
      "97500 0.16794338077306747\n",
      "97600 0.19454598236829043\n",
      "97700 0.269735438413918\n",
      "97800 0.15264914751052858\n",
      "97900 0.19525557063519955\n",
      "98000 0.17864565581083297\n",
      "98100 0.18897729843854905\n",
      "98200 0.2349986008182168\n",
      "98300 0.19824785362929107\n",
      "98400 0.18500056229531764\n",
      "98500 0.22009063307195903\n",
      "98600 0.21604538340121507\n",
      "98700 0.2751585842296481\n",
      "98800 0.18624475289136172\n",
      "98900 0.2281081511452794\n",
      "99000 0.21248932547867297\n",
      "99100 0.12310565985739232\n",
      "99200 0.19003149889409543\n",
      "99300 0.23703940108418464\n",
      "99400 0.23603712629526855\n",
      "99500 0.2821627186983824\n",
      "99600 0.2342051251605153\n",
      "99700 0.19166617840528488\n",
      "99800 0.18247381936758755\n",
      "99900 0.2440289058536291\n"
     ]
    }
   ],
   "source": [
    "model.train()\n",
    "tq = trange(len(losses), head_steps + full_steps)\n",
    "for i in tq:\n",
    "    pp, pl = get_pairs_contrastive_batch(bs=batch_size)\n",
    "    try:\n",
    "        loss = loss_fn(\n",
    "            model(\n",
    "                **tokenizer(*pp, padding=True, truncation=True, max_length=train_max_length, return_tensors='pt').to(model.device)\n",
    "            ).logits.view(-1, 2),\n",
    "            torch.tensor(pl, device=model.device)\n",
    "        )\n",
    "        loss.backward()\n",
    "        losses.append(loss.item())\n",
    "        # torch.nn.utils.clip_grad_norm_(model.parameters(), 1.0)\n",
    "\n",
    "        optimizer.step()\n",
    "        optimizer.zero_grad(set_to_none=True)\n",
    "        scheduler.step()\n",
    "\n",
    "    except RuntimeError:\n",
    "        optimizer.zero_grad(set_to_none=True)\n",
    "        batch, out, embeddings, all_scores, loss = None, None, None, None, None\n",
    "        cleanup()\n",
    "        print('error', max(len(s) for s in pp[0]+pp[1]))\n",
    "        continue\n",
    "    if i % report_steps == 0:\n",
    "        print(i, np.mean(losses[-report_steps:]))"
   ]
  },
  {
   "cell_type": "code",
   "execution_count": 71,
   "id": "9ae7705e",
   "metadata": {},
   "outputs": [
    {
     "data": {
      "image/png": "[encoded data removed]",
      "text/plain": [
       "<Figure size 432x288 with 1 Axes>"
      ]
     },
     "metadata": {
      "needs_background": "light"
     },
     "output_type": "display_data"
    }
   ],
   "source": [
    "pd.Series(losses).ewm(300).mean()[100:].plot(lw=1);"
   ]
  },
  {
   "cell_type": "code",
   "execution_count": 72,
   "id": "ea11fe7d",
   "metadata": {},
   "outputs": [],
   "source": [
    "loss = None\n",
    "cleanup()\n",
    "model.eval();"
   ]
  },
  {
   "cell_type": "code",
   "execution_count": 73,
   "id": "ced40c28",
   "metadata": {},
   "outputs": [],
   "source": [
    "eval_bs = 8"
   ]
  },
  {
   "cell_type": "code",
   "execution_count": 74,
   "id": "05207c03",
   "metadata": {},
   "outputs": [
    {
     "data": {
      "application/vnd.jupyter.widget-view+json": {
       "model_id": "fbf79fa071cf40f5ba7cdbb32cfe267f",
       "version_major": 2,
       "version_minor": 0
      },
      "text/plain": [
       "  0%|          | 0/218 [00:00<?, ?it/s]"
      ]
     },
     "metadata": {},
     "output_type": "display_data"
    },
    {
     "name": "stdout",
     "output_type": "stream",
     "text": [
      "0.7548173301929219\n",
      "recall@ ideal reject rate: 0.5064599483204134 th: 0.9034699008715131\n"
     ]
    }
   ],
   "source": [
    "logits = []\n",
    "for i in trange(0, data_val.shape[0], eval_bs):\n",
    "    batch = data_val.iloc[i:i+eval_bs]\n",
    "    with torch.inference_mode():\n",
    "        logits.extend(torch.softmax(model(\n",
    "            **tokenizer(batch.ba.tolist(), batch.ru.tolist(), padding=True, truncation=True, max_length=512, return_tensors='pt').to(model.device)\n",
    "        ).logits.view(-1, 2), -1)[:, 1].cpu().numpy())\n",
    "        \n",
    "logits = np.array(logits)\n",
    "print(roc_auc_score(data_val.is_correct, logits))\n",
    "\n",
    "threshold = np.quantile(logits, 1-data_val.is_correct.mean())\n",
    "print('recall@ ideal reject rate:', (logits < threshold)[data_val.is_correct.values==0].mean(), 'th:', threshold)"
   ]
  },
  {
   "cell_type": "code",
   "execution_count": 75,
   "id": "79e29bf4",
   "metadata": {},
   "outputs": [
    {
     "data": {
      "image/png": "[encoded data removed]",
      "text/plain": [
       "<Figure size 432x288 with 1 Axes>"
      ]
     },
     "metadata": {
      "needs_background": "light"
     },
     "output_type": "display_data"
    }
   ],
   "source": [
    "pd.Series(np.log10(logits / (1-logits)), index=data_val.index).groupby(data_val.is_correct).plot(\n",
    "    kind='kde', bw_method=0.1,\n",
    ");"
   ]
  },
  {
   "cell_type": "code",
   "execution_count": 76,
   "id": "63adc097",
   "metadata": {},
   "outputs": [
    {
     "name": "stdout",
     "output_type": "stream",
     "text": [
      "0.7779690189328744\n",
      "0.86219895\n",
      "0.8955823293172691\n"
     ]
    }
   ],
   "source": [
    "print(data_val.is_correct.mean())\n",
    "print(logits.mean())\n",
    "print((logits>0.5).mean())"
   ]
  },
  {
   "cell_type": "code",
   "execution_count": 77,
   "id": "5b44e45e",
   "metadata": {},
   "outputs": [],
   "source": [
    "model.save_pretrained('../models/bak-ru-cross-v3-hard-negatives-more-data');"
   ]
  },
  {
   "cell_type": "markdown",
   "id": "ef2b254b",
   "metadata": {},
   "source": [
    "# Now try fine-tuning it on good contrastive pairs and supervised pairs"
   ]
  },
  {
   "cell_type": "code",
   "execution_count": 78,
   "id": "d1d8519a",
   "metadata": {},
   "outputs": [
    {
     "data": {
      "application/vnd.jupyter.widget-view+json": {
       "model_id": "2a6abe271e3c43949818a9f4651e1295",
       "version_major": 2,
       "version_minor": 0
      },
      "text/plain": [
       "0it [00:00, ?it/s]"
      ]
     },
     "metadata": {},
     "output_type": "display_data"
    },
    {
     "name": "stdout",
     "output_type": "stream",
     "text": [
      "81268\n"
     ]
    }
   ],
   "source": [
    "all_pairs_clean = [(row.ba, row.ru) for row in tqdm(data_train_correct.itertuples()) if row.ba.strip() and row.ru.strip()]\n",
    "print(len(all_pairs_clean))"
   ]
  },
  {
   "cell_type": "code",
   "execution_count": 80,
   "id": "a9a1a298",
   "metadata": {},
   "outputs": [
    {
     "data": {
      "application/vnd.jupyter.widget-view+json": {
       "model_id": "24499f0467d64a0e8abe2432b534b883",
       "version_major": 2,
       "version_minor": 0
      },
      "text/plain": [
       "0it [00:00, ?it/s]"
      ]
     },
     "metadata": {},
     "output_type": "display_data"
    },
    {
     "name": "stdout",
     "output_type": "stream",
     "text": [
      "23049\n"
     ]
    }
   ],
   "source": [
    "all_pairs_negative = [\n",
    "    (row.ba, row.ru) for row in tqdm(data_train[data_train.is_correct == 0].itertuples()) \n",
    "    if row.ba.strip() and row.ru.strip()\n",
    "]\n",
    "print(len(all_pairs_negative))"
   ]
  },
  {
   "cell_type": "code",
   "execution_count": 81,
   "id": "e8e36a93",
   "metadata": {},
   "outputs": [
    {
     "data": {
      "text/plain": [
       "([['— Ни һөйләйһең, полковник әфәнде! – тип атаһын тыйҙы Салауат.',\n",
       "   '– Йә Талип ағай асыуланыр. Кер инде.',\n",
       "   '— Ни һөйләйһең, полковник әфәнде! – тип атаһын , Салауат.',\n",
       "   'Йә Талип ағай асыуланыр. Кер инде.'],\n",
       "  ['— Что говоришь, господин полковник! – одёрнул отца Салават.',\n",
       "   '— Заходи, заходи, – шептал Шайнур, – а то Талип-агай рассердится и увезет нас обратно.',\n",
       "   '— Что говоришь, господин полковник! – одёрнул отца Салават.',\n",
       "   '— Заходи, заходи, – шептал Шайнур, – а то Талип-агай рассердится и увезет нас обратно.']],\n",
       " [1, 1, 0, 0])"
      ]
     },
     "execution_count": 81,
     "metadata": {},
     "output_type": "execute_result"
    }
   ],
   "source": [
    "def get_pairs_contrastive_batch_clean(bs=4, p_difficult=0.5):\n",
    "    assert bs >= 4\n",
    "    batch = random.sample(all_pairs_clean, bs // 2) # data_train_correct.sample(bs // 2)\n",
    "    pp = batch # [[row.ba, row.ru] for row in batch.itertuples()]\n",
    "    labels = [1 for row in pp]\n",
    "    if random.random() < p_difficult:\n",
    "        for i in range(len(pp)):\n",
    "            pp.append(corrupt_pair(pp[i]))\n",
    "            labels.append(0)\n",
    "    else:\n",
    "        for i in range(len(pp)):\n",
    "            pp.append([pp[i][0], pp[i-1][1]])\n",
    "            labels.append(0)\n",
    "    return [list(t) for t in zip(*pp)], labels\n",
    "\n",
    "get_pairs_contrastive_batch_clean(4)"
   ]
  },
  {
   "cell_type": "code",
   "execution_count": 86,
   "id": "5e34400d",
   "metadata": {},
   "outputs": [
    {
     "data": {
      "text/plain": [
       "([['— Рәхим итегеҙ, ҡауҙы әфәнделәр!',\n",
       "   'Бөтә донъяға гонаһ еҫе таралған...',\n",
       "   'Яҡын-тирәлә берәй утрау эшләп булмаймы?',\n",
       "   'Маугли ҙа әле Килмешәктәрҙең һунар оранын таныны.'],\n",
       "  ['—\\xa0Добро пожаловать, господа аисты!',\n",
       "   'Запах греха витает в воздухе...',\n",
       "   'Нужно было превратить их хотя бы в рыбок или же найти какой-нибудь маленький остров!',\n",
       "   'А в Холодных Логовищах обезьяны совсем не думали о друзьях Маугли.']],\n",
       " [1, 1, 0, 0])"
      ]
     },
     "execution_count": 86,
     "metadata": {},
     "output_type": "execute_result"
    }
   ],
   "source": [
    "def get_pairs_supervised(bs=4):\n",
    "    assert bs >= 2\n",
    "    n = bs // 2\n",
    "    batch = random.sample(all_pairs_clean, n) + random.sample(all_pairs_negative, n) \n",
    "    labels = [1] * n + [0] * n\n",
    "    return [list(t) for t in zip(*batch)], labels\n",
    "\n",
    "get_pairs_supervised(4)"
   ]
  },
  {
   "cell_type": "code",
   "execution_count": 89,
   "id": "48cd654f",
   "metadata": {},
   "outputs": [],
   "source": [
    "num_steps_ft = 100_000"
   ]
  },
  {
   "cell_type": "code",
   "execution_count": 90,
   "id": "7885de14",
   "metadata": {},
   "outputs": [],
   "source": [
    "scheduler = get_linear_schedule_with_warmup(optimizer, num_warmup_steps=1000, num_training_steps=num_steps_ft)"
   ]
  },
  {
   "cell_type": "code",
   "execution_count": 102,
   "id": "e1e35fb6",
   "metadata": {
    "scrolled": true
   },
   "outputs": [
    {
     "data": {
      "application/vnd.jupyter.widget-view+json": {
       "model_id": "390216f135d84299ba6e14cdbea0d85c",
       "version_major": 2,
       "version_minor": 0
      },
      "text/plain": [
       "  0%|          | 0/71549 [00:00<?, ?it/s]"
      ]
     },
     "metadata": {},
     "output_type": "display_data"
    },
    {
     "name": "stdout",
     "output_type": "stream",
     "text": [
      "128500 0.413550798073411\n",
      "128600 0.4086610646173358\n",
      "128700 0.3565846848115325\n",
      "128800 0.3826054961234331\n",
      "128900 0.37838233400136234\n",
      "129000 0.3823591290414333\n",
      "129100 0.4035013103485107\n",
      "129200 0.43911800228059295\n",
      "129300 0.3713655375316739\n",
      "129400 0.3500403562560678\n",
      "129500 0.4198010884970427\n",
      "129600 0.3712359907850623\n",
      "129700 0.3834714811295271\n",
      "129800 0.390147400200367\n",
      "129900 0.3736515212804079\n",
      "130000 0.36021926045417785\n",
      "130100 0.3744198841229081\n",
      "130200 0.4273472697287798\n",
      "130300 0.3677969542145729\n",
      "130400 0.422290059402585\n",
      "130500 0.35081029623746873\n",
      "130600 0.4468515295535326\n",
      "130700 0.37141371436417103\n",
      "130800 0.3813903482630849\n",
      "130900 0.3879286191612482\n",
      "131000 0.4080714610591531\n",
      "131100 0.4171334572136402\n",
      "131200 0.4176134442538023\n",
      "131300 0.41888610064983367\n",
      "131400 0.380898998491466\n",
      "131500 0.39527855705469844\n",
      "131600 0.36784020125865935\n",
      "131700 0.3797440133243799\n",
      "131800 0.39958377309143545\n",
      "131900 0.356621430106461\n",
      "132000 0.3978363942354918\n",
      "132100 0.3937832522392273\n",
      "132200 0.39243042036890985\n",
      "132300 0.3406450420245528\n",
      "132400 0.42407117638736963\n",
      "132500 0.3685434535518289\n",
      "132600 0.35975544184446334\n",
      "132700 0.44778572358191016\n",
      "132800 0.35287408731877806\n",
      "132900 0.3899257012829185\n",
      "133000 0.39949784982949493\n",
      "133100 0.38931761257350445\n",
      "133200 0.39391130961477755\n",
      "133300 0.3089073946326971\n",
      "133400 0.3775470354408026\n",
      "133500 0.37097929880023\n",
      "133600 0.384855595305562\n",
      "133700 0.3923643847927451\n",
      "133800 0.40582385696470735\n",
      "133900 0.40704427909106017\n",
      "134000 0.39871300023049117\n",
      "134100 0.4439548136293888\n",
      "134200 0.4270278638601303\n",
      "134300 0.36057746335864066\n",
      "134400 0.38142603129148483\n",
      "134500 0.3309331553801894\n",
      "134600 0.35827570881694554\n",
      "134700 0.37025170668959617\n",
      "134800 0.35975603442639115\n",
      "134900 0.41454520016908647\n",
      "135000 0.40568389326334\n",
      "135100 0.4296034852415323\n",
      "135200 0.3883898999541998\n",
      "135300 0.3601502390950918\n",
      "135400 0.37524433828890325\n",
      "135500 0.35785346940159796\n",
      "135600 0.3849114993959665\n",
      "135700 0.40235812447965147\n",
      "135800 0.3514788027107716\n",
      "135900 0.3705156407132745\n",
      "136000 0.393255798779428\n",
      "136100 0.34323335405439137\n",
      "136200 0.39269896037876606\n",
      "136300 0.4186773829162121\n",
      "136400 0.42199671011418105\n",
      "136500 0.3665767518803477\n",
      "136600 0.4100210755318403\n",
      "136700 0.38351103782653806\n",
      "136800 0.3847674060612917\n",
      "136900 0.36486766815185545\n",
      "137000 0.368634490147233\n",
      "137100 0.4295195250958204\n",
      "137200 0.3376927049085498\n",
      "137300 0.4207149536535144\n",
      "137400 0.4032325252145529\n",
      "137500 0.3724249343201518\n",
      "137600 0.35246637001633646\n",
      "137700 0.45080999538302424\n",
      "137800 0.37320326946675775\n",
      "137900 0.33223079558461904\n",
      "138000 0.3867017755657434\n",
      "138100 0.38106747206300495\n",
      "138200 0.32570930022746325\n",
      "138300 0.30057705771178006\n",
      "138400 0.4289326934888959\n",
      "138500 0.36357893601059915\n",
      "138600 0.37962081424891947\n",
      "138700 0.3331291640922427\n",
      "138800 0.31712081786245105\n",
      "138900 0.39468197274953126\n",
      "139000 0.38256956420838834\n",
      "139100 0.3498939115926623\n",
      "139200 0.3704767464473844\n",
      "139300 0.35979918513447046\n",
      "139400 0.3737769803404808\n",
      "139500 0.37555350925773384\n",
      "139600 0.35972333122044803\n",
      "139700 0.38292077023535964\n",
      "139800 0.3508053630962968\n",
      "139900 0.3712042667716742\n",
      "140000 0.34883970484137533\n",
      "140100 0.4036960044503212\n",
      "140200 0.37597686152905224\n",
      "140300 0.36070535335689785\n",
      "140400 0.4406250819191337\n",
      "140500 0.4273932310938835\n",
      "140600 0.36452430799603464\n",
      "140700 0.379765881486237\n",
      "140800 0.38107897274196145\n",
      "140900 0.40635996375232936\n",
      "141000 0.3861907920241356\n",
      "141100 0.3737353295087814\n",
      "141200 0.30752612967044113\n",
      "141300 0.3308496320620179\n",
      "141400 0.3796211224794388\n",
      "141500 0.3842509875819087\n",
      "141600 0.33872296642512084\n",
      "141700 0.4143845199048519\n",
      "141800 0.3944660111516714\n",
      "141900 0.43774887830019\n",
      "142000 0.3347277684882283\n",
      "142100 0.3882876946032047\n",
      "142200 0.3518122360482812\n",
      "142300 0.3893304071575403\n",
      "142400 0.34721295557916165\n",
      "142500 0.4044014237076044\n",
      "142600 0.3096326379477978\n",
      "142700 0.3773997385054827\n",
      "142800 0.37806069932878017\n",
      "142900 0.36821848172694444\n",
      "143000 0.40665118671953676\n",
      "143100 0.3719751916453242\n",
      "143200 0.44060688830912115\n",
      "143300 0.3814478157833219\n",
      "143400 0.371860803514719\n",
      "143500 0.35317273281514644\n",
      "143600 0.32121009774506093\n",
      "143700 0.36323506727814675\n",
      "143800 0.36574346367269756\n",
      "143900 0.3499119272455573\n",
      "144000 0.3687396077439189\n",
      "144100 0.290348717905581\n",
      "144200 0.4126623134315014\n",
      "144300 0.3906502462178469\n",
      "144400 0.4064031413570046\n",
      "144500 0.42312289245426654\n",
      "144600 0.4230452669784427\n",
      "144700 0.3813248416036367\n",
      "144800 0.36946173511445524\n",
      "144900 0.42206682089716197\n",
      "145000 0.4168670354783535\n",
      "145100 0.37869758635759354\n",
      "145200 0.37270409494638446\n",
      "145300 0.39178243491798637\n",
      "145400 0.32586328234523537\n",
      "145500 0.3650289820879698\n",
      "145600 0.3419514149427414\n",
      "145700 0.39549550909548997\n",
      "145800 0.3418484416231513\n",
      "145900 0.3503482422605157\n",
      "146000 0.37438111647963523\n",
      "146100 0.34168175756931307\n",
      "146200 0.3435925639793277\n",
      "146300 0.3149372598901391\n",
      "146400 0.33083422027528286\n",
      "146500 0.38648040473461154\n",
      "146600 0.35418658398091796\n",
      "146700 0.33550198812037707\n",
      "146800 0.3786838501319289\n",
      "146900 0.38024730697274206\n",
      "147000 0.3659532119706273\n",
      "147100 0.3131742481142282\n",
      "147200 0.365244226641953\n",
      "147300 0.413438169285655\n",
      "147400 0.3472978449240327\n",
      "147500 0.3754790118336678\n",
      "147600 0.37057566285133364\n",
      "147700 0.4068048794195056\n",
      "147800 0.36812276173382996\n",
      "147900 0.3180259725451469\n",
      "148000 0.3386951869726181\n",
      "148100 0.3313225622102618\n",
      "148200 0.3419665768370032\n",
      "148300 0.3519101312384009\n",
      "148400 0.35783357452601194\n",
      "148500 0.34943850088864564\n",
      "148600 0.3562993385642767\n",
      "148700 0.35872837908565997\n",
      "148800 0.3648069729283452\n",
      "148900 0.32886100098490717\n",
      "149000 0.3527843644469976\n",
      "149100 0.31887044839560985\n",
      "149200 0.3429277776926756\n",
      "149300 0.31680739477276804\n",
      "149400 0.3299949252605438\n",
      "149500 0.3279845002666116\n",
      "149600 0.36936276994645595\n",
      "149700 0.37958523590117693\n",
      "149800 0.3762283668667078\n",
      "149900 0.3545404219999909\n",
      "150000 0.38336628038436177\n",
      "150100 0.34749042481184006\n",
      "150200 0.4241224230080843\n",
      "150300 0.40531705737113954\n",
      "150400 0.3796677403524518\n",
      "150500 0.34932156626135114\n",
      "150600 0.38501122541725635\n",
      "150700 0.34122921027243136\n",
      "150800 0.320283044539392\n",
      "150900 0.3577837008610368\n",
      "151000 0.38937741905450823\n",
      "151100 0.34525361597537996\n",
      "151200 0.4190606988966465\n",
      "151300 0.37492074005305764\n",
      "151400 0.35989059560000897\n",
      "151500 0.3589977269992232\n",
      "151600 0.3355429370701313\n",
      "151700 0.3221506920084357\n",
      "151800 0.3799702212586999\n",
      "151900 0.3356139722466469\n",
      "152000 0.3277707539871335\n",
      "152100 0.34386819444596767\n",
      "152200 0.3414113153889775\n",
      "152300 0.3537191046774387\n",
      "152400 0.39815246358513834\n",
      "152500 0.37593290835618975\n",
      "152600 0.3220994032174349\n",
      "152700 0.3528863765671849\n",
      "152800 0.32205013681203126\n",
      "152900 0.3581122288480401\n",
      "153000 0.29364933144301175\n",
      "153100 0.33196117147803306\n",
      "153200 0.34058614395558834\n",
      "153300 0.3452266138792038\n",
      "153400 0.3715433227270842\n",
      "153500 0.3457750828936696\n",
      "153600 0.351493449062109\n",
      "153700 0.30022643513977526\n",
      "153800 0.3291875171661377\n",
      "153900 0.38851372204720974\n",
      "154000 0.32037758588790893\n",
      "154100 0.3457460284978151\n",
      "154200 0.3234095128253102\n",
      "154300 0.31216730300337076\n",
      "154400 0.41519738618284463\n",
      "154500 0.3729772549122572\n",
      "154600 0.3807620660588145\n",
      "154700 0.3912325708568096\n",
      "154800 0.3943529115244746\n",
      "154900 0.38122734807431696\n",
      "155000 0.32078013073652983\n",
      "155100 0.377993565313518\n",
      "155200 0.33864840649068356\n",
      "155300 0.34599487371742726\n",
      "155400 0.326278887167573\n",
      "155500 0.3319956953823566\n",
      "155600 0.30083057537674907\n",
      "155700 0.31864676289260385\n",
      "155800 0.348892398737371\n",
      "155900 0.3398752757906914\n",
      "156000 0.3986142200231552\n",
      "156100 0.3411519944295287\n",
      "156200 0.36364954002201555\n",
      "156300 0.40277900561690333\n",
      "156400 0.32440108053386213\n",
      "156500 0.374955281727016\n",
      "156600 0.3192302657663822\n",
      "156700 0.41314973555505274\n",
      "156800 0.3372235494107008\n",
      "156900 0.31778099335730076\n",
      "157000 0.36844188027083874\n",
      "157100 0.35530071455985307\n",
      "157200 0.3513804329559207\n",
      "157300 0.3110870352387428\n",
      "157400 0.3264712717011571\n",
      "157500 0.3519330741092563\n",
      "157600 0.3680888215824962\n",
      "157700 0.3756243023276329\n",
      "157800 0.3484666660800576\n",
      "157900 0.3550731660053134\n",
      "158000 0.3662471918389201\n",
      "158100 0.32753183495253324\n",
      "158200 0.32708517849445345\n",
      "158300 0.34022637248039245\n",
      "158400 0.3310415963456035\n",
      "158500 0.3468077477440238\n",
      "158600 0.3555392304807901\n",
      "158700 0.39357543643563986\n",
      "158800 0.35680926151573655\n",
      "158900 0.3586006173864007\n",
      "159000 0.36345620423555375\n",
      "159100 0.3365448288619518\n",
      "159200 0.3406949667260051\n",
      "159300 0.31305107109248637\n",
      "159400 0.3707320426404476\n",
      "159500 0.2980740974470973\n"
     ]
    },
    {
     "name": "stdout",
     "output_type": "stream",
     "text": [
      "159600 0.32066663194447753\n",
      "159700 0.3494140526652336\n",
      "159800 0.32934807244688274\n",
      "159900 0.36215618561953306\n",
      "160000 0.33814264997839927\n",
      "160100 0.34815095625817777\n",
      "160200 0.3623432820290327\n",
      "160300 0.3043517290428281\n",
      "160400 0.35071555629372597\n",
      "160500 0.2798612667247653\n",
      "160600 0.31204832781106234\n",
      "160700 0.3699964202195406\n",
      "160800 0.34420716755092146\n",
      "160900 0.35140744369477034\n",
      "161000 0.3422988820821047\n",
      "161100 0.34849497135728597\n",
      "161200 0.3355735364928842\n",
      "161300 0.3228693897649646\n",
      "161400 0.30957883402705194\n",
      "161500 0.34673410933464766\n",
      "161600 0.32163928605616093\n",
      "161700 0.30674223955720664\n",
      "161800 0.35546616293489935\n",
      "161900 0.2736093765497208\n",
      "162000 0.3599823607131839\n",
      "162100 0.30173672646284105\n",
      "162200 0.32222363736480475\n",
      "162300 0.3816238109767437\n",
      "162400 0.33459247309714557\n",
      "162500 0.3413175392150879\n",
      "162600 0.355279777944088\n",
      "162700 0.31922212831676006\n",
      "162800 0.2722106788679957\n",
      "162900 0.3527018324658275\n",
      "163000 0.32918909046798944\n",
      "163100 0.35487194154411555\n",
      "163200 0.3046755776926875\n",
      "163300 0.281106723099947\n",
      "163400 0.29183267906308175\n",
      "163500 0.29791969422250986\n",
      "163600 0.3333695977553725\n",
      "163700 0.3412750245630741\n",
      "163800 0.2910893476754427\n",
      "163900 0.32026549328118564\n",
      "164000 0.35529716324061156\n",
      "164100 0.32733972158283\n",
      "164200 0.36071947012096645\n",
      "164300 0.2910044277086854\n",
      "164400 0.3054441460222006\n",
      "164500 0.32202609404921534\n",
      "164600 0.3898528504744172\n",
      "164700 0.3384296007081866\n",
      "164800 0.29525524120777846\n",
      "164900 0.3446849527209997\n",
      "165000 0.33474843136966226\n",
      "165100 0.33085825461894275\n",
      "165200 0.32919918071478604\n",
      "165300 0.3195262521505356\n",
      "165400 0.3282409661635757\n",
      "165500 0.3550924450159073\n",
      "165600 0.35426669355481866\n",
      "165700 0.3325038776919246\n",
      "165800 0.31059835370630023\n",
      "165900 0.3495964588969946\n",
      "166000 0.32289881985634566\n",
      "166100 0.32775259610265495\n",
      "166200 0.33451574575155973\n",
      "166300 0.3773390739038587\n",
      "166400 0.29700336679816247\n",
      "166500 0.36712712328881025\n",
      "166600 0.37251598712056877\n",
      "166700 0.3290546220541\n",
      "166800 0.3755379461497068\n",
      "166900 0.31653054513037204\n",
      "167000 0.2837171430513263\n",
      "167100 0.35514571581035853\n",
      "167200 0.3412927866354585\n",
      "167300 0.31584962602704764\n",
      "167400 0.3218907172605395\n",
      "167500 0.2908053456991911\n",
      "167600 0.34916264649480583\n",
      "167700 0.3612250517308712\n",
      "167800 0.32651113882660865\n",
      "167900 0.3451374902576208\n",
      "168000 0.3395376739650965\n",
      "168100 0.36478169444948433\n",
      "168200 0.30208819806575776\n",
      "168300 0.30849044017493726\n",
      "168400 0.3598896048590541\n",
      "168500 0.35942010026425125\n",
      "168600 0.3201532292366028\n",
      "168700 0.3149111780524254\n",
      "168800 0.2785115070641041\n",
      "168900 0.3419460016489029\n",
      "169000 0.38638791304081677\n",
      "169100 0.3214859024062753\n",
      "169200 0.3067548469081521\n",
      "169300 0.3132017829269171\n",
      "169400 0.3324065427482128\n",
      "169500 0.2955564906448126\n",
      "169600 0.3203369331359863\n",
      "169700 0.33595195345580575\n",
      "169800 0.2869362944364548\n",
      "169900 0.35662249781191346\n",
      "170000 0.3535309486463666\n",
      "170100 0.35267246440052985\n",
      "170200 0.34662055283784865\n",
      "170300 0.36879763290286066\n",
      "170400 0.2563080282509327\n",
      "170500 0.33174281653016807\n",
      "170600 0.2792810943350196\n",
      "170700 0.31765604589134455\n",
      "170800 0.28818427488207815\n",
      "170900 0.30554667685180903\n",
      "171000 0.3320506841689348\n",
      "171100 0.3022171276807785\n",
      "171200 0.3337424905970693\n",
      "171300 0.3441809155791998\n",
      "171400 0.3031526266783476\n",
      "171500 0.28776490341871974\n",
      "171600 0.2645593836903572\n",
      "171700 0.3255204832181334\n",
      "171800 0.3663455618917942\n",
      "171900 0.3821383386477828\n",
      "172000 0.38269766367971897\n",
      "172100 0.32599154140800235\n",
      "172200 0.2902043598890305\n",
      "172300 0.29172693692147733\n",
      "172400 0.28185620047152043\n",
      "172500 0.29668568551540375\n",
      "172600 0.30390208393335344\n",
      "172700 0.3518167416751385\n",
      "172800 0.3651235296204686\n",
      "172900 0.349773589707911\n",
      "173000 0.27810521066188815\n",
      "173100 0.3407065573707223\n",
      "173200 0.3056456335633993\n",
      "173300 0.34768767256289723\n",
      "173400 0.2575229110568762\n",
      "173500 0.2587325580045581\n",
      "173600 0.32175563253462314\n",
      "173700 0.3517358673363924\n",
      "173800 0.27423193883150815\n",
      "173900 0.28198158748447893\n",
      "174000 0.2843467851355672\n",
      "174100 0.3314382716268301\n",
      "174200 0.29054934173822405\n",
      "174300 0.2985489260032773\n",
      "174400 0.35145358853042125\n",
      "174500 0.3114866168424487\n",
      "174600 0.31831309404224156\n",
      "174700 0.32688065208494665\n",
      "174800 0.3082657515630126\n",
      "174900 0.3096887793391943\n",
      "175000 0.31034226071089505\n",
      "175100 0.3298053673282266\n",
      "175200 0.30082248616963625\n",
      "175300 0.3328338443860412\n",
      "175400 0.3279610461369157\n",
      "175500 0.3278936715051532\n",
      "175600 0.3337616793066263\n",
      "175700 0.3730202648788691\n",
      "175800 0.30095692597329615\n",
      "175900 0.29615213856101036\n",
      "176000 0.3119739807024598\n",
      "176100 0.31412806890904904\n",
      "176200 0.3564492917060852\n",
      "176300 0.32066744290292265\n",
      "176400 0.3723614316806197\n",
      "176500 0.32007626686245205\n",
      "176600 0.3176500016450882\n",
      "176700 0.3117461010068655\n",
      "176800 0.2657467696815729\n",
      "176900 0.305131567902863\n",
      "177000 0.33155289337038996\n",
      "177100 0.299788063056767\n",
      "177200 0.2906392378360033\n",
      "177300 0.27377879168838265\n",
      "177400 0.3476419389620423\n",
      "177500 0.3100591315701604\n",
      "177600 0.36898333951830864\n",
      "177700 0.3130040549114346\n",
      "177800 0.28275577262043955\n",
      "177900 0.36029220968484876\n",
      "178000 0.3087012065574527\n",
      "178100 0.3363282538577914\n",
      "178200 0.28239899534732105\n",
      "178300 0.2916662149503827\n",
      "178400 0.3201545773819089\n",
      "178500 0.23145216032862664\n",
      "178600 0.34472522597759964\n",
      "178700 0.32155720360577106\n",
      "178800 0.3452461314946413\n",
      "178900 0.30392085283994674\n",
      "179000 0.3511162296310067\n",
      "179100 0.3448685922473669\n",
      "179200 0.29254006665199994\n",
      "179300 0.3676179354637861\n",
      "179400 0.3313636975735426\n",
      "179500 0.29095958087593315\n",
      "179600 0.31005006276071073\n",
      "179700 0.3662408515438437\n",
      "179800 0.34773899741470815\n",
      "179900 0.26919565998017786\n",
      "180000 0.29891885951161384\n",
      "180100 0.32495125379413364\n",
      "180200 0.28034055795520546\n",
      "180300 0.2980092914029956\n",
      "180400 0.3648998822644353\n",
      "180500 0.2801063584536314\n",
      "180600 0.28763316851109266\n",
      "180700 0.3531336896121502\n",
      "180800 0.3323922513797879\n",
      "180900 0.34749205358326435\n",
      "181000 0.29811740763485434\n",
      "181100 0.3445083036273718\n",
      "181200 0.30802066933363675\n",
      "181300 0.2989529960975051\n",
      "181400 0.31676756471395495\n",
      "181500 0.2721940062940121\n",
      "181600 0.3835128163173795\n",
      "181700 0.3320126875862479\n",
      "181800 0.27529227040708065\n",
      "181900 0.3296871045604348\n",
      "182000 0.3172711913660169\n",
      "182100 0.2946667317301035\n",
      "182200 0.3106559221073985\n",
      "182300 0.32977643352001906\n",
      "182400 0.29831012304872273\n",
      "182500 0.3018510054051876\n",
      "182600 0.3375797350332141\n",
      "182700 0.30965702392160893\n",
      "182800 0.2718672942370176\n",
      "182900 0.27018052093684675\n",
      "183000 0.3142123768851161\n",
      "183100 0.3202670181170106\n",
      "183200 0.348013330437243\n",
      "183300 0.31787887047976254\n",
      "183400 0.2792254316434264\n",
      "183500 0.2978107562288642\n",
      "183600 0.32285294398665426\n",
      "183700 0.3092258348688483\n",
      "183800 0.32964026972651483\n",
      "183900 0.2752914474904537\n",
      "184000 0.2936715979874134\n",
      "184100 0.3875987036153674\n",
      "184200 0.3399112145602703\n",
      "184300 0.3155772254243493\n",
      "184400 0.29053123492747546\n",
      "184500 0.32810491673648357\n",
      "184600 0.36763803344219925\n",
      "184700 0.3501707898080349\n",
      "184800 0.3448158360272646\n",
      "184900 0.2957010146602988\n",
      "185000 0.2397506011277437\n",
      "185100 0.29181432258337736\n",
      "185200 0.22113911040127276\n",
      "185300 0.32064841080456974\n",
      "185400 0.33274224553257226\n",
      "185500 0.28003962691873313\n",
      "185600 0.3371907107159495\n",
      "185700 0.333011112511158\n",
      "185800 0.3195857986807823\n",
      "185900 0.33078864842653277\n",
      "186000 0.2811167363077402\n",
      "186100 0.35267708368599415\n",
      "186200 0.3469783822447062\n",
      "186300 0.2956181214377284\n",
      "186400 0.2948118391633034\n",
      "186500 0.285531939342618\n",
      "186600 0.3331362271681428\n",
      "186700 0.2490234489738941\n",
      "186800 0.3073219164088368\n",
      "186900 0.335024371817708\n",
      "187000 0.3373306045681238\n",
      "187100 0.32235607601702215\n",
      "187200 0.24178574852645396\n",
      "187300 0.32125020075589417\n",
      "187400 0.35896497577428815\n",
      "187500 0.2908077471703291\n",
      "187600 0.33085782509297135\n",
      "187700 0.32732388030737636\n",
      "187800 0.3314368158206344\n",
      "187900 0.2891394974291325\n",
      "188000 0.30276808232069014\n",
      "188100 0.34726898569613696\n",
      "188200 0.31964987780898807\n",
      "188300 0.2951476799324155\n",
      "188400 0.28588967110961677\n",
      "188500 0.37252168867737057\n",
      "188600 0.3137208565697074\n",
      "188700 0.294847069978714\n",
      "188800 0.2893462974578142\n",
      "188900 0.2947837430983782\n",
      "189000 0.27419703267514706\n",
      "189100 0.3253805179521441\n",
      "189200 0.2864099693670869\n",
      "189300 0.27404595222324135\n",
      "189400 0.3221261847391725\n",
      "189500 0.27713531769812105\n",
      "189600 0.2523650017380714\n",
      "189700 0.2944220346584916\n",
      "189800 0.3341547877714038\n",
      "189900 0.3406322952732444\n",
      "190000 0.33362435065209867\n",
      "190100 0.2559774123504758\n",
      "190200 0.3323386124894023\n",
      "190300 0.30068343684077264\n",
      "190400 0.31434799179434775\n",
      "190500 0.31564359944313763\n",
      "190600 0.3132394291460514\n"
     ]
    },
    {
     "name": "stdout",
     "output_type": "stream",
     "text": [
      "190700 0.2556107959896326\n",
      "190800 0.35394951175898315\n",
      "190900 0.269064349681139\n",
      "191000 0.3232373370975256\n",
      "191100 0.3279097397625446\n",
      "191200 0.26082949195057153\n",
      "191300 0.31614232882857324\n",
      "191400 0.3168607936799526\n",
      "191500 0.30533621944487094\n",
      "191600 0.26703944135457275\n",
      "191700 0.297683994397521\n",
      "191800 0.29392521440982816\n",
      "191900 0.2810602343454957\n",
      "192000 0.300135129801929\n",
      "192100 0.31747577507048846\n",
      "192200 0.3127363257110119\n",
      "192300 0.3252664064988494\n",
      "192400 0.3726004028320313\n",
      "192500 0.26576968472450974\n",
      "192600 0.2554500812292099\n",
      "192700 0.2833774722367525\n",
      "192800 0.31554061379283666\n",
      "192900 0.3188395153731108\n",
      "193000 0.2749532230198383\n",
      "193100 0.3150227966159582\n",
      "193200 0.2931044702604413\n",
      "193300 0.28232031371444466\n",
      "193400 0.29536435775458814\n",
      "193500 0.37874441280961035\n",
      "193600 0.229811778254807\n",
      "193700 0.24724834740161897\n",
      "193800 0.2874182945489883\n",
      "193900 0.31728171646595\n",
      "194000 0.31548875745385885\n",
      "194100 0.3139895904809237\n",
      "194200 0.2926964485272765\n",
      "194300 0.2893932917714119\n",
      "194400 0.33671334233134986\n",
      "194500 0.335786998718977\n",
      "194600 0.28529814500361683\n",
      "194700 0.26293382931500675\n",
      "194800 0.2749371985718608\n",
      "194900 0.3052856855839491\n",
      "195000 0.2834018927067518\n",
      "195100 0.3215857786312699\n",
      "195200 0.3171872790902853\n",
      "195300 0.30020279917865994\n",
      "195400 0.332909897826612\n",
      "195500 0.3514983983710408\n",
      "195600 0.2993071100115776\n",
      "195700 0.2865378100052476\n",
      "195800 0.30092249661684034\n",
      "195900 0.2889134881645441\n",
      "196000 0.28602232910692693\n",
      "196100 0.3045284591242671\n",
      "196200 0.22258850645273923\n",
      "196300 0.3010517105087638\n",
      "196400 0.35385697457939386\n",
      "196500 0.3352048660814762\n",
      "196600 0.328512628339231\n",
      "196700 0.20384441532194614\n",
      "196800 0.3397996224835515\n",
      "196900 0.2866094195097685\n",
      "197000 0.269546984359622\n",
      "197100 0.3230832011625171\n",
      "197200 0.32061067763715984\n",
      "197300 0.24298607222735882\n",
      "197400 0.36521991562098266\n",
      "197500 0.3631810118257999\n",
      "197600 0.30427776478230956\n",
      "197700 0.3582956138253212\n",
      "197800 0.33763222090899947\n",
      "197900 0.25982322439551353\n",
      "198000 0.3743549465760589\n",
      "198100 0.28361891709268094\n",
      "198200 0.2663910936564207\n",
      "198300 0.2369984705746174\n",
      "198400 0.34708776596933605\n",
      "198500 0.3430277762562037\n",
      "198600 0.3433072715997696\n",
      "198700 0.31873244237154724\n",
      "198800 0.32087154138833285\n",
      "198900 0.28055997341871264\n",
      "199000 0.30317400220781565\n",
      "199100 0.28368844646960495\n",
      "199200 0.30681747786700725\n",
      "199300 0.33509152073413134\n",
      "199400 0.2819679958000779\n",
      "199500 0.26820066101849077\n",
      "199600 0.28262647476047276\n",
      "199700 0.3312158295512199\n",
      "199800 0.266636461019516\n",
      "199900 0.26475799452513454\n"
     ]
    }
   ],
   "source": [
    "model.train()\n",
    "tq = trange(len(losses), head_steps + full_steps + num_steps_ft)\n",
    "for i in tq:\n",
    "    pp, pl = get_pairs_contrastive_batch_clean(bs=batch_size) if i % 2 == 0 else get_pairs_supervised(bs=batch_size)\n",
    "    try:\n",
    "        loss = loss_fn(\n",
    "            model(\n",
    "                **tokenizer(*pp, padding=True, truncation=True, max_length=train_max_length, return_tensors='pt').to(model.device)\n",
    "            ).logits.view(-1, 2),\n",
    "            torch.tensor(pl, device=model.device)\n",
    "        )\n",
    "        loss.backward()\n",
    "        losses.append(loss.item())\n",
    "        # torch.nn.utils.clip_grad_norm_(model.parameters(), 1.0)\n",
    "\n",
    "        optimizer.step()\n",
    "        optimizer.zero_grad(set_to_none=True)\n",
    "        scheduler.step()\n",
    "\n",
    "    except RuntimeError:\n",
    "        optimizer.zero_grad(set_to_none=True)\n",
    "        batch, out, embeddings, all_scores, loss = None, None, None, None, None\n",
    "        cleanup()\n",
    "        print('error', max(len(s) for s in pp[0]+pp[1]))\n",
    "        continue\n",
    "    if i % report_steps == 0:\n",
    "        print(i, np.mean(losses[-report_steps:]))"
   ]
  },
  {
   "cell_type": "code",
   "execution_count": 103,
   "id": "60e6d512",
   "metadata": {},
   "outputs": [
    {
     "data": {
      "image/png": "[encoded data removed]",
      "text/plain": [
       "<Figure size 432x288 with 1 Axes>"
      ]
     },
     "metadata": {
      "needs_background": "light"
     },
     "output_type": "display_data"
    }
   ],
   "source": [
    "pd.Series(losses).ewm(300).mean()[100:].plot(lw=1);"
   ]
  },
  {
   "cell_type": "code",
   "execution_count": 104,
   "id": "b7eac230",
   "metadata": {},
   "outputs": [],
   "source": [
    "loss = None\n",
    "cleanup()\n",
    "model.eval();"
   ]
  },
  {
   "cell_type": "code",
   "execution_count": 105,
   "id": "18050466",
   "metadata": {},
   "outputs": [
    {
     "data": {
      "application/vnd.jupyter.widget-view+json": {
       "model_id": "ae0e79e34bfc48838b2103aa158e9089",
       "version_major": 2,
       "version_minor": 0
      },
      "text/plain": [
       "  0%|          | 0/218 [00:00<?, ?it/s]"
      ]
     },
     "metadata": {},
     "output_type": "display_data"
    },
    {
     "name": "stdout",
     "output_type": "stream",
     "text": [
      "0.8291391308987522\n",
      "recall@ ideal reject rate: 0.5968992248062015 th: 0.39926911103130397\n"
     ]
    }
   ],
   "source": [
    "logits = []\n",
    "for i in trange(0, data_val.shape[0], eval_bs):\n",
    "    batch = data_val.iloc[i:i+eval_bs]\n",
    "    with torch.inference_mode():\n",
    "        logits.extend(torch.softmax(model(\n",
    "            **tokenizer(batch.ba.tolist(), batch.ru.tolist(), padding=True, truncation=True, max_length=512, return_tensors='pt').to(model.device)\n",
    "        ).logits.view(-1, 2), -1)[:, 1].cpu().numpy())\n",
    "        \n",
    "logits = np.array(logits)\n",
    "print(roc_auc_score(data_val.is_correct, logits))\n",
    "\n",
    "threshold = np.quantile(logits, 1-data_val.is_correct.mean())\n",
    "print('recall@ ideal reject rate:', (logits < threshold)[data_val.is_correct.values==0].mean(), 'th:', threshold)"
   ]
  },
  {
   "cell_type": "code",
   "execution_count": 106,
   "id": "1729c936",
   "metadata": {},
   "outputs": [
    {
     "data": {
      "image/png": "[encoded data removed]",
      "text/plain": [
       "<Figure size 432x288 with 1 Axes>"
      ]
     },
     "metadata": {
      "needs_background": "light"
     },
     "output_type": "display_data"
    }
   ],
   "source": [
    "pd.Series(np.log10(logits / (1-logits)), index=data_val.index).groupby(data_val.is_correct).plot(\n",
    "    kind='kde', bw_method=0.1,\n",
    ");"
   ]
  },
  {
   "cell_type": "code",
   "execution_count": 107,
   "id": "05d1c1c8",
   "metadata": {},
   "outputs": [
    {
     "name": "stdout",
     "output_type": "stream",
     "text": [
      "0.7779690189328744\n",
      "0.7123162\n",
      "0.7550200803212851\n"
     ]
    }
   ],
   "source": [
    "print(data_val.is_correct.mean())\n",
    "print(logits.mean())\n",
    "print((logits>0.5).mean())"
   ]
  },
  {
   "cell_type": "code",
   "execution_count": 108,
   "id": "56e95d49",
   "metadata": {},
   "outputs": [],
   "source": [
    "model.save_pretrained('../models/bak-ru-combined');"
   ]
  },
  {
   "cell_type": "code",
   "execution_count": 161,
   "id": "06125299",
   "metadata": {},
   "outputs": [],
   "source": [
    "tokenizer.save_pretrained('../models/bak-ru-combined');"
   ]
  },
  {
   "cell_type": "markdown",
   "id": "3eabf6fe",
   "metadata": {},
   "source": [
    "# Combined score from this model and LaBSE"
   ]
  },
  {
   "cell_type": "code",
   "execution_count": 109,
   "id": "e01efe6e",
   "metadata": {},
   "outputs": [],
   "source": [
    "from transformers import BertForPreTraining, BertTokenizer, BertTokenizerFast, BertConfig, AutoModel, AutoTokenizer\n",
    "# from transformers import AlbertTokenizerFast, AlbertConfig, AlbertForPreTraining"
   ]
  },
  {
   "cell_type": "code",
   "execution_count": 110,
   "id": "b0193ff4",
   "metadata": {},
   "outputs": [],
   "source": [
    "labse_ba_path = '../models/LaBSE-distilled-bak'\n",
    "labse_ru_path = 'cointegrated/LaBSE-en-ru'"
   ]
  },
  {
   "cell_type": "code",
   "execution_count": 112,
   "id": "5a684634",
   "metadata": {},
   "outputs": [
    {
     "name": "stderr",
     "output_type": "stream",
     "text": [
      "Some weights of the model checkpoint at ../models/LaBSE-distilled-bak were not used when initializing BertModel: ['cls.seq_relationship.weight', 'cls.predictions.decoder.weight', 'cls.predictions.transform.LayerNorm.weight', 'cls.predictions.bias', 'cls.predictions.transform.dense.bias', 'cls.predictions.transform.LayerNorm.bias', 'cls.predictions.transform.dense.weight', 'cls.predictions.decoder.bias', 'cls.seq_relationship.bias']\n",
      "- This IS expected if you are initializing BertModel from the checkpoint of a model trained on another task or with another architecture (e.g. initializing a BertForSequenceClassification model from a BertForPreTraining model).\n",
      "- This IS NOT expected if you are initializing BertModel from the checkpoint of a model that you expect to be exactly identical (initializing a BertForSequenceClassification model from a BertForSequenceClassification model).\n"
     ]
    }
   ],
   "source": [
    "labse_ba_tokenizer = AutoTokenizer.from_pretrained(labse_ba_path)\n",
    "labse_ba_model = AutoModel.from_pretrained(labse_ba_path).cuda()"
   ]
  },
  {
   "cell_type": "code",
   "execution_count": 111,
   "id": "9abdd029",
   "metadata": {
    "scrolled": true
   },
   "outputs": [
    {
     "data": {
      "application/vnd.jupyter.widget-view+json": {
       "model_id": "61d08ceabfa24191ab129127671e4bc7",
       "version_major": 2,
       "version_minor": 0
      },
      "text/plain": [
       "Downloading:   0%|          | 0.00/49.0 [00:00<?, ?B/s]"
      ]
     },
     "metadata": {},
     "output_type": "display_data"
    },
    {
     "name": "stderr",
     "output_type": "stream",
     "text": [
      "c:\\users\\david\\appdata\\local\\programs\\python\\python39\\lib\\site-packages\\huggingface_hub\\file_download.py:127: UserWarning: `huggingface_hub` cache-system uses symlinks by default to efficiently store duplicated files but your machine does not support them in C:\\Users\\david\\.cache\\huggingface\\hub. Caching files will still work but in a degraded version that might require more space on your disk. This warning can be disabled by setting the `HF_HUB_DISABLE_SYMLINKS_WARNING` environment variable. For more details, see https://huggingface.co/docs/huggingface_hub/how-to-cache#limitations.\n",
      "To support symlinks on Windows, you either need to activate Developer Mode or to run Python as an administrator. In order to see activate developer mode, see this article: https://docs.microsoft.com/en-us/windows/apps/get-started/enable-your-device-for-development\n",
      "  warnings.warn(message)\n"
     ]
    },
    {
     "data": {
      "application/vnd.jupyter.widget-view+json": {
       "model_id": "7965b5fa149d46cea100433793fad5ff",
       "version_major": 2,
       "version_minor": 0
      },
      "text/plain": [
       "Downloading:   0%|          | 0.00/806 [00:00<?, ?B/s]"
      ]
     },
     "metadata": {},
     "output_type": "display_data"
    },
    {
     "data": {
      "application/vnd.jupyter.widget-view+json": {
       "model_id": "1b14f5a45a3a43e4ab3236f35af1c15f",
       "version_major": 2,
       "version_minor": 0
      },
      "text/plain": [
       "Downloading:   0%|          | 0.00/521k [00:00<?, ?B/s]"
      ]
     },
     "metadata": {},
     "output_type": "display_data"
    },
    {
     "data": {
      "application/vnd.jupyter.widget-view+json": {
       "model_id": "ffe5626f890a408e9d5b3e12e7a97b5c",
       "version_major": 2,
       "version_minor": 0
      },
      "text/plain": [
       "Downloading:   0%|          | 0.00/112 [00:00<?, ?B/s]"
      ]
     },
     "metadata": {},
     "output_type": "display_data"
    },
    {
     "data": {
      "application/vnd.jupyter.widget-view+json": {
       "model_id": "2b0ea9638e874129823bde4e46f67549",
       "version_major": 2,
       "version_minor": 0
      },
      "text/plain": [
       "Downloading:   0%|          | 0.00/516M [00:00<?, ?B/s]"
      ]
     },
     "metadata": {},
     "output_type": "display_data"
    },
    {
     "name": "stderr",
     "output_type": "stream",
     "text": [
      "Some weights of the model checkpoint at cointegrated/LaBSE-en-ru were not used when initializing BertModel: ['cls.seq_relationship.weight', 'cls.predictions.decoder.weight', 'cls.predictions.bias', 'cls.predictions.transform.LayerNorm.weight', 'cls.predictions.transform.dense.bias', 'cls.predictions.transform.LayerNorm.bias', 'cls.predictions.transform.dense.weight', 'cls.predictions.decoder.bias', 'cls.seq_relationship.bias']\n",
      "- This IS expected if you are initializing BertModel from the checkpoint of a model trained on another task or with another architecture (e.g. initializing a BertForSequenceClassification model from a BertForPreTraining model).\n",
      "- This IS NOT expected if you are initializing BertModel from the checkpoint of a model that you expect to be exactly identical (initializing a BertForSequenceClassification model from a BertForSequenceClassification model).\n"
     ]
    }
   ],
   "source": [
    "labse_ru_tokenizer = AutoTokenizer.from_pretrained(labse_ru_path)\n",
    "labse_ru_model = AutoModel.from_pretrained(labse_ru_path).cuda()"
   ]
  },
  {
   "cell_type": "code",
   "execution_count": 113,
   "id": "054cc75b",
   "metadata": {},
   "outputs": [],
   "source": [
    "def embed(text, model, tokenizer, max_length=512):\n",
    "    b = tokenizer(text, return_tensors='pt', padding=True, truncation=True, max_length=max_length)\n",
    "    with torch.inference_mode():\n",
    "        return torch.nn.functional.normalize(model(**b.to(model.device)).pooler_output).cpu().numpy()"
   ]
  },
  {
   "cell_type": "code",
   "execution_count": 115,
   "id": "de59d1d1",
   "metadata": {},
   "outputs": [
    {
     "data": {
      "application/vnd.jupyter.widget-view+json": {
       "model_id": "66c5e3fee63f4692826ee38e3763669d",
       "version_major": 2,
       "version_minor": 0
      },
      "text/plain": [
       "  0%|          | 0/1743 [00:00<?, ?it/s]"
      ]
     },
     "metadata": {},
     "output_type": "display_data"
    },
    {
     "data": {
      "application/vnd.jupyter.widget-view+json": {
       "model_id": "5aee9065f12f43a5855204f3baf2cb34",
       "version_major": 2,
       "version_minor": 0
      },
      "text/plain": [
       "  0%|          | 0/1743 [00:00<?, ?it/s]"
      ]
     },
     "metadata": {},
     "output_type": "display_data"
    }
   ],
   "source": [
    "embs_val_ru = np.concatenate([embed(t, labse_ru_model, labse_ru_tokenizer) for t in tqdm(data_val.ru)])\n",
    "embs_val_ba = np.concatenate([embed(t, labse_ba_model, labse_ba_tokenizer) for t in tqdm(data_val.ba)])"
   ]
  },
  {
   "cell_type": "code",
   "execution_count": 118,
   "id": "005836e1",
   "metadata": {},
   "outputs": [],
   "source": [
    "cos_val = (embs_val_ru * embs_val_ba).sum(1)"
   ]
  },
  {
   "cell_type": "code",
   "execution_count": 143,
   "id": "7209f3c7",
   "metadata": {},
   "outputs": [
    {
     "data": {
      "text/plain": [
       "0    AxesSubplot(0.125,0.125;0.775x0.755)\n",
       "1    AxesSubplot(0.125,0.125;0.775x0.755)\n",
       "dtype: object"
      ]
     },
     "execution_count": 143,
     "metadata": {},
     "output_type": "execute_result"
    },
    {
     "data": {
      "image/png": "[encoded data removed]",
      "text/plain": [
       "<Figure size 432x288 with 1 Axes>"
      ]
     },
     "metadata": {
      "needs_background": "light"
     },
     "output_type": "display_data"
    }
   ],
   "source": [
    "pd.Series(cos_val).groupby(data_val.is_correct.values).plot(kind='kde')"
   ]
  },
  {
   "cell_type": "code",
   "execution_count": 137,
   "id": "5792b367",
   "metadata": {},
   "outputs": [
    {
     "name": "stdout",
     "output_type": "stream",
     "text": [
      "[[6.19982792]] [-1.45385366]\n"
     ]
    }
   ],
   "source": [
    "from sklearn.linear_model import LogisticRegression\n",
    "from sklearn.model_selection import cross_val_score\n",
    "\n",
    "lr = LogisticRegression().fit(cos_val[:, np.newaxis], data_val.is_correct)\n",
    "print(lr.coef_, lr.intercept_)\n",
    "cos_logit = cos_val"
   ]
  },
  {
   "cell_type": "code",
   "execution_count": 145,
   "id": "26b0e047",
   "metadata": {},
   "outputs": [
    {
     "name": "stdout",
     "output_type": "stream",
     "text": [
      "0.8139864811044537\n",
      "0.8253044112388588\n",
      "0.842896041987099\n",
      "0.8451706558039312\n"
     ]
    }
   ],
   "source": [
    "print(cross_val_score(LogisticRegression(), cos_val[:, np.newaxis], data_val.is_correct, scoring='roc_auc').mean())\n",
    "print(cross_val_score(LogisticRegression(), logits[:, np.newaxis], data_val.is_correct, scoring='roc_auc').mean())\n",
    "\n",
    "print(cross_val_score(LogisticRegression(), np.stack([cos_val, logits]).T, data_val.is_correct, scoring='roc_auc').mean())\n",
    "print(cross_val_score(LogisticRegression(), np.stack([cos_val, np.log(logits/(1-logits))]).T, data_val.is_correct, scoring='roc_auc').mean())"
   ]
  },
  {
   "cell_type": "code",
   "execution_count": 146,
   "id": "75416067",
   "metadata": {},
   "outputs": [
    {
     "name": "stdout",
     "output_type": "stream",
     "text": [
      "[[3.32790495 0.36929735]] [-0.42277911]\n"
     ]
    }
   ],
   "source": [
    "lr = LogisticRegression().fit(np.stack([cos_val, np.log(logits/(1-logits))]).T, data_val.is_correct)\n",
    "print(lr.coef_, lr.intercept_)"
   ]
  },
  {
   "cell_type": "code",
   "execution_count": 160,
   "id": "511f9f92",
   "metadata": {},
   "outputs": [
    {
     "data": {
      "text/plain": [
       "9.011450864437155"
      ]
     },
     "execution_count": 160,
     "metadata": {},
     "output_type": "execute_result"
    }
   ],
   "source": [
    "lr.coef_[0, 0] / lr.coef_[0, 1]"
   ]
  },
  {
   "cell_type": "markdown",
   "id": "c041404e",
   "metadata": {},
   "source": [
    "# Evaluate on the test part!"
   ]
  },
  {
   "cell_type": "code",
   "execution_count": 147,
   "id": "d4b4d6a2",
   "metadata": {},
   "outputs": [
    {
     "name": "stdout",
     "output_type": "stream",
     "text": [
      "(35648, 5)\n"
     ]
    }
   ],
   "source": [
    "data_test= data[data.data_split=='test']\n",
    "print(data_test.shape)"
   ]
  },
  {
   "cell_type": "code",
   "execution_count": 149,
   "id": "aaed7b5b",
   "metadata": {},
   "outputs": [
    {
     "data": {
      "application/vnd.jupyter.widget-view+json": {
       "model_id": "c45f5d41463647b587cf4bd5ccc8b68f",
       "version_major": 2,
       "version_minor": 0
      },
      "text/plain": [
       "  0%|          | 0/35648 [00:00<?, ?it/s]"
      ]
     },
     "metadata": {},
     "output_type": "display_data"
    },
    {
     "data": {
      "application/vnd.jupyter.widget-view+json": {
       "model_id": "1269b7ecc2ec42819fd95926496da77d",
       "version_major": 2,
       "version_minor": 0
      },
      "text/plain": [
       "  0%|          | 0/35648 [00:00<?, ?it/s]"
      ]
     },
     "metadata": {},
     "output_type": "display_data"
    }
   ],
   "source": [
    "embs_test_ru = np.concatenate([embed(t, labse_ru_model, labse_ru_tokenizer) for t in tqdm(data_test.ru)])\n",
    "embs_test_ba = np.concatenate([embed(t, labse_ba_model, labse_ba_tokenizer) for t in tqdm(data_test.ba)])"
   ]
  },
  {
   "cell_type": "code",
   "execution_count": 150,
   "id": "b1796bc0",
   "metadata": {},
   "outputs": [],
   "source": [
    "cos_test = (embs_test_ru * embs_test_ba).sum(1)"
   ]
  },
  {
   "cell_type": "code",
   "execution_count": 151,
   "id": "05f59e41",
   "metadata": {},
   "outputs": [
    {
     "data": {
      "application/vnd.jupyter.widget-view+json": {
       "model_id": "68c58db3a38a4d4da6dafe55abdb6056",
       "version_major": 2,
       "version_minor": 0
      },
      "text/plain": [
       "  0%|          | 0/4456 [00:00<?, ?it/s]"
      ]
     },
     "metadata": {},
     "output_type": "display_data"
    }
   ],
   "source": [
    "model.eval();\n",
    "\n",
    "test_proba = []\n",
    "for i in trange(0, data_test.shape[0], eval_bs):\n",
    "    batch = data_test.iloc[i:i+eval_bs]\n",
    "    with torch.inference_mode():\n",
    "        test_proba.extend(torch.softmax(model(\n",
    "            **tokenizer(batch.ba.tolist(), batch.ru.tolist(), padding=True, truncation=True, max_length=512, return_tensors='pt').to(model.device)\n",
    "        ).logits.view(-1, 2), -1)[:, 1].cpu().numpy())\n",
    "        \n",
    "test_proba = pd.Series(test_proba, index=data_test.index)"
   ]
  },
  {
   "cell_type": "code",
   "execution_count": 152,
   "id": "0b4fe496",
   "metadata": {},
   "outputs": [],
   "source": [
    "test_logits = np.log(test_proba/(1-test_proba))"
   ]
  },
  {
   "cell_type": "code",
   "execution_count": 154,
   "id": "a2b0c9cf",
   "metadata": {},
   "outputs": [
    {
     "name": "stdout",
     "output_type": "stream",
     "text": [
      "LaBSE\n",
      "AUC: 0.8054295153146105\n",
      "recall@ ideal reject rate: 0.5724102825146348 th: 0.37793938291745677\n",
      "Cross-encoder\n",
      "AUC: 0.8219140760554539\n",
      "recall@ ideal reject rate: 0.597480274879104 th: 0.4621652300357551\n",
      "Combo\n",
      "AUC: 0.8341760999555716\n",
      "recall@ ideal reject rate: 0.6184779842199033 th: 0.699792500919\n"
     ]
    }
   ],
   "source": [
    "def print_eval(pred, fact):\n",
    "    print('AUC:', roc_auc_score(fact, pred))\n",
    "    threshold = np.quantile(pred, 1-fact.mean())\n",
    "    print('recall@ ideal reject rate:', (pred < threshold)[fact.values==0].mean(), 'th:', threshold)\n",
    "\n",
    "print('LaBSE')\n",
    "print_eval(cos_test, data_test.is_correct)\n",
    "\n",
    "print('Cross-encoder')\n",
    "print_eval(test_proba, data_test.is_correct)\n",
    "\n",
    "print('Combo')\n",
    "print_eval(lr.predict_proba(np.stack([cos_test, test_logits]).T)[:, 1], data_test.is_correct)"
   ]
  },
  {
   "cell_type": "code",
   "execution_count": 155,
   "id": "d4f7ad22",
   "metadata": {},
   "outputs": [],
   "source": [
    "combo_proba = pd.Series(lr.predict_proba(np.stack([cos_test, test_logits]).T)[:, 1], index=data_test.index)"
   ]
  },
  {
   "cell_type": "code",
   "execution_count": 159,
   "id": "90fd9804",
   "metadata": {},
   "outputs": [
    {
     "data": {
      "image/png": "[encoded data removed]",
      "text/plain": [
       "<Figure size 432x288 with 1 Axes>"
      ]
     },
     "metadata": {
      "needs_background": "light"
     },
     "output_type": "display_data"
    }
   ],
   "source": [
    "combo_proba.groupby(data_test.is_correct).plot(kind='kde');"
   ]
  },
  {
   "cell_type": "code",
   "execution_count": 158,
   "id": "87d50b76",
   "metadata": {},
   "outputs": [
    {
     "data": {
      "image/png": "[encoded data removed]",
      "text/plain": [
       "<Figure size 432x288 with 1 Axes>"
      ]
     },
     "metadata": {
      "needs_background": "light"
     },
     "output_type": "display_data"
    }
   ],
   "source": [
    "np.log(combo_proba/(1-combo_proba)).groupby(data_test.is_correct).plot(kind='kde');"
   ]
  },
  {
   "cell_type": "code",
   "execution_count": 163,
   "id": "e000fca2",
   "metadata": {},
   "outputs": [
    {
     "name": "stderr",
     "output_type": "stream",
     "text": [
      "C:\\Users\\david\\AppData\\Local\\Temp/ipykernel_11792/753289719.py:1: SettingWithCopyWarning: \n",
      "A value is trying to be set on a copy of a slice from a DataFrame.\n",
      "Try using .loc[row_indexer,col_indexer] = value instead\n",
      "\n",
      "See the caveats in the documentation: https://pandas.pydata.org/pandas-docs/stable/user_guide/indexing.html#returning-a-view-versus-a-copy\n",
      "  data_test['score_labse'] = cos_test\n",
      "C:\\Users\\david\\AppData\\Local\\Temp/ipykernel_11792/753289719.py:2: SettingWithCopyWarning: \n",
      "A value is trying to be set on a copy of a slice from a DataFrame.\n",
      "Try using .loc[row_indexer,col_indexer] = value instead\n",
      "\n",
      "See the caveats in the documentation: https://pandas.pydata.org/pandas-docs/stable/user_guide/indexing.html#returning-a-view-versus-a-copy\n",
      "  data_test['score_clf'] = test_proba\n",
      "C:\\Users\\david\\AppData\\Local\\Temp/ipykernel_11792/753289719.py:3: SettingWithCopyWarning: \n",
      "A value is trying to be set on a copy of a slice from a DataFrame.\n",
      "Try using .loc[row_indexer,col_indexer] = value instead\n",
      "\n",
      "See the caveats in the documentation: https://pandas.pydata.org/pandas-docs/stable/user_guide/indexing.html#returning-a-view-versus-a-copy\n",
      "  data_test['score_combo'] = combo_proba\n"
     ]
    }
   ],
   "source": [
    "\n",
    "data_test['score_labse'] = cos_test\n",
    "data_test['score_clf'] = test_proba\n",
    "data_test['score_combo'] = combo_proba"
   ]
  },
  {
   "cell_type": "code",
   "execution_count": 166,
   "id": "5e8696e3",
   "metadata": {},
   "outputs": [],
   "source": [
    "data_test.index.name = 'index'"
   ]
  },
  {
   "cell_type": "code",
   "execution_count": 167,
   "id": "3bfbf3d5",
   "metadata": {},
   "outputs": [],
   "source": [
    "data_test.to_csv('../data/test_scored.tsv', sep='\\t')"
   ]
  },
  {
   "cell_type": "code",
   "execution_count": 169,
   "id": "2245f048",
   "metadata": {},
   "outputs": [
    {
     "data": {
      "text/html": [
       "<div>\n",
       "<style scoped>\n",
       "    .dataframe tbody tr th:only-of-type {\n",
       "        vertical-align: middle;\n",
       "    }\n",
       "\n",
       "    .dataframe tbody tr th {\n",
       "        vertical-align: top;\n",
       "    }\n",
       "\n",
       "    .dataframe thead th {\n",
       "        text-align: right;\n",
       "    }\n",
       "</style>\n",
       "<table border=\"1\" class=\"dataframe\">\n",
       "  <thead>\n",
       "    <tr style=\"text-align: right;\">\n",
       "      <th></th>\n",
       "      <th>date</th>\n",
       "      <th>ba</th>\n",
       "      <th>ru</th>\n",
       "      <th>is_correct</th>\n",
       "      <th>data_split</th>\n",
       "      <th>score_labse</th>\n",
       "      <th>score_clf</th>\n",
       "      <th>score_combo</th>\n",
       "    </tr>\n",
       "    <tr>\n",
       "      <th>index</th>\n",
       "      <th></th>\n",
       "      <th></th>\n",
       "      <th></th>\n",
       "      <th></th>\n",
       "      <th></th>\n",
       "      <th></th>\n",
       "      <th></th>\n",
       "      <th></th>\n",
       "    </tr>\n",
       "  </thead>\n",
       "  <tbody>\n",
       "    <tr>\n",
       "      <th>28586</th>\n",
       "      <td>21/10/2021 11:40:16</td>\n",
       "      <td>Үҙегеҙ күрҙегеҙ, был алышыбыҙ буталсығыраҡ кил...</td>\n",
       "      <td>Вы сами видели: сражение получилось беспорядоч...</td>\n",
       "      <td>1</td>\n",
       "      <td>test</td>\n",
       "      <td>0.387819</td>\n",
       "      <td>0.943069</td>\n",
       "      <td>0.870408</td>\n",
       "    </tr>\n",
       "    <tr>\n",
       "      <th>35772</th>\n",
       "      <td>09/11/2021 09:43:06</td>\n",
       "      <td>Уның тураһында ни уйларҙар һәм ул һуңынан үҙе ...</td>\n",
       "      <td>Что о нем подумают и что он потом будет думать...</td>\n",
       "      <td>1</td>\n",
       "      <td>test</td>\n",
       "      <td>0.590361</td>\n",
       "      <td>0.950431</td>\n",
       "      <td>0.932932</td>\n",
       "    </tr>\n",
       "    <tr>\n",
       "      <th>41491</th>\n",
       "      <td>08/05/2022 11:39:28</td>\n",
       "      <td>Мин, бөйөк государь, анператор Петр Федорович,...</td>\n",
       "      <td>Я, великий государь, анператор Петр Федорович,...</td>\n",
       "      <td>1</td>\n",
       "      <td>test</td>\n",
       "      <td>0.576549</td>\n",
       "      <td>0.937227</td>\n",
       "      <td>0.923740</td>\n",
       "    </tr>\n",
       "    <tr>\n",
       "      <th>151368</th>\n",
       "      <td>22/06/2022 10:52:55</td>\n",
       "      <td>«Уйлап ҡарармын».</td>\n",
       "      <td>— Ладно, подумаю, ежели не поздно.</td>\n",
       "      <td>0</td>\n",
       "      <td>test</td>\n",
       "      <td>0.233996</td>\n",
       "      <td>0.111575</td>\n",
       "      <td>0.398849</td>\n",
       "    </tr>\n",
       "    <tr>\n",
       "      <th>143696</th>\n",
       "      <td>16/10/2021 14:37:55</td>\n",
       "      <td>Тәүге төндә таң алдынан ғына серемгә китте Алд...</td>\n",
       "      <td>Этой ночью Алдар заснул лишь перед самым рассв...</td>\n",
       "      <td>0</td>\n",
       "      <td>test</td>\n",
       "      <td>0.417571</td>\n",
       "      <td>0.052418</td>\n",
       "      <td>0.474490</td>\n",
       "    </tr>\n",
       "  </tbody>\n",
       "</table>\n",
       "</div>"
      ],
      "text/plain": [
       "                       date  \\\n",
       "index                         \n",
       "28586   21/10/2021 11:40:16   \n",
       "35772   09/11/2021 09:43:06   \n",
       "41491   08/05/2022 11:39:28   \n",
       "151368  22/06/2022 10:52:55   \n",
       "143696  16/10/2021 14:37:55   \n",
       "\n",
       "                                                       ba  \\\n",
       "index                                                       \n",
       "28586   Үҙегеҙ күрҙегеҙ, был алышыбыҙ буталсығыраҡ кил...   \n",
       "35772   Уның тураһында ни уйларҙар һәм ул һуңынан үҙе ...   \n",
       "41491   Мин, бөйөк государь, анператор Петр Федорович,...   \n",
       "151368                                  «Уйлап ҡарармын».   \n",
       "143696  Тәүге төндә таң алдынан ғына серемгә китте Алд...   \n",
       "\n",
       "                                                       ru  is_correct  \\\n",
       "index                                                                   \n",
       "28586   Вы сами видели: сражение получилось беспорядоч...           1   \n",
       "35772   Что о нем подумают и что он потом будет думать...           1   \n",
       "41491   Я, великий государь, анператор Петр Федорович,...           1   \n",
       "151368                 — Ладно, подумаю, ежели не поздно.           0   \n",
       "143696  Этой ночью Алдар заснул лишь перед самым рассв...           0   \n",
       "\n",
       "       data_split  score_labse  score_clf  score_combo  \n",
       "index                                                   \n",
       "28586        test     0.387819   0.943069     0.870408  \n",
       "35772        test     0.590361   0.950431     0.932932  \n",
       "41491        test     0.576549   0.937227     0.923740  \n",
       "151368       test     0.233996   0.111575     0.398849  \n",
       "143696       test     0.417571   0.052418     0.474490  "
      ]
     },
     "execution_count": 169,
     "metadata": {},
     "output_type": "execute_result"
    }
   ],
   "source": [
    "data_test.sample(5)"
   ]
  },
  {
   "cell_type": "code",
   "execution_count": null,
   "id": "81fb7fd1",
   "metadata": {},
   "outputs": [],
   "source": []
  }
 ],
 "metadata": {
  "kernelspec": {
   "display_name": "Python 3 (ipykernel)",
   "language": "python",
   "name": "python3"
  },
  "language_info": {
   "codemirror_mode": {
    "name": "ipython",
    "version": 3
   },
   "file_extension": ".py",
   "mimetype": "text/x-python",
   "name": "python",
   "nbconvert_exporter": "python",
   "pygments_lexer": "ipython3",
   "version": "3.9.6"
  }
 },
 "nbformat": 4,
 "nbformat_minor": 5
}
