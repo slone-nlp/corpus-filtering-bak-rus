{
 "cells": [
  {
   "cell_type": "markdown",
   "id": "6366578a",
   "metadata": {},
   "source": [
    "# Load data"
   ]
  },
  {
   "cell_type": "code",
   "execution_count": 1,
   "id": "6c5e5afa",
   "metadata": {},
   "outputs": [],
   "source": [
    "import pandas as pd"
   ]
  },
  {
   "cell_type": "code",
   "execution_count": 2,
   "id": "1ec84323",
   "metadata": {},
   "outputs": [],
   "source": [
    "from tqdm.auto import tqdm, trange\n",
    "import random"
   ]
  },
  {
   "cell_type": "code",
   "execution_count": 3,
   "id": "f5b1871f",
   "metadata": {},
   "outputs": [],
   "source": [
    "labelled_data = pd.read_csv('../data/joint-ba-ru.tsv', sep='\\t')"
   ]
  },
  {
   "cell_type": "code",
   "execution_count": 4,
   "id": "44d5bedf",
   "metadata": {},
   "outputs": [
    {
     "name": "stdout",
     "output_type": "stream",
     "text": [
      "157105\n"
     ]
    }
   ],
   "source": [
    "labelled_sents = set(labelled_data.ba)\n",
    "print(len(labelled_sents))"
   ]
  },
  {
   "cell_type": "code",
   "execution_count": 5,
   "id": "c11405a7",
   "metadata": {},
   "outputs": [
    {
     "data": {
      "application/vnd.jupyter.widget-view+json": {
       "model_id": "8a32722cc6254e1c9687d0bb65d13ddc",
       "version_major": 2,
       "version_minor": 0
      },
      "text/plain": [
       "0it [00:00, ?it/s]"
      ]
     },
     "metadata": {},
     "output_type": "display_data"
    }
   ],
   "source": [
    "all_sents = []\n",
    "with open('../../bashkort-spellchecker/data/clean_bk_sents.txt', 'r') as f:\n",
    "    for line in tqdm(f):\n",
    "        text = line.strip()\n",
    "        if text not in labelled_sents:\n",
    "            all_sents.append(text)"
   ]
  },
  {
   "cell_type": "code",
   "execution_count": 416,
   "id": "9913b5cb",
   "metadata": {},
   "outputs": [
    {
     "name": "stdout",
     "output_type": "stream",
     "text": [
      "1602235\n"
     ]
    }
   ],
   "source": [
    "print(len(all_sents))"
   ]
  },
  {
   "cell_type": "markdown",
   "id": "1a0248a9",
   "metadata": {},
   "source": [
    "# Create a tokenizer"
   ]
  },
  {
   "cell_type": "code",
   "execution_count": 59,
   "id": "a9d6fca0",
   "metadata": {},
   "outputs": [],
   "source": [
    "# I don't like BART tokenizer, because it is byte-level\n",
    "# I don't like T5 tokenizer, because it uses crazy tokens\n",
    "# from transformers import BartTokenizerFast, BartForConditionalGeneration, BartConfig\n",
    "from transformers import T5TokenizerFast, T5ForConditionalGeneration, T5Config"
   ]
  },
  {
   "cell_type": "code",
   "execution_count": 62,
   "id": "8790858a",
   "metadata": {},
   "outputs": [],
   "source": [
    "old_tokenizer = T5TokenizerFast.from_pretrained('t5-small', model_max_length=512)"
   ]
  },
  {
   "cell_type": "code",
   "execution_count": 63,
   "id": "1b897dda",
   "metadata": {},
   "outputs": [
    {
     "data": {
      "text/plain": [
       "{'input_ids': [21820, 296, 1], 'attention_mask': [1, 1, 1]}"
      ]
     },
     "execution_count": 63,
     "metadata": {},
     "output_type": "execute_result"
    }
   ],
   "source": [
    "old_tokenizer('hello world')"
   ]
  },
  {
   "cell_type": "code",
   "execution_count": 64,
   "id": "a6c0322d",
   "metadata": {},
   "outputs": [],
   "source": [
    "def batch_iterator(batch_size=10000):\n",
    "    for i in tqdm(range(0, len(all_sents), batch_size)):\n",
    "        yield all_sents[i : i + batch_size]"
   ]
  },
  {
   "cell_type": "code",
   "execution_count": 65,
   "id": "16f3cf7b",
   "metadata": {},
   "outputs": [
    {
     "data": {
      "application/vnd.jupyter.widget-view+json": {
       "model_id": "af19a1fb048941ce8911b8ff85f937ae",
       "version_major": 2,
       "version_minor": 0
      },
      "text/plain": [
       "  0%|          | 0/161 [00:00<?, ?it/s]"
      ]
     },
     "metadata": {},
     "output_type": "display_data"
    }
   ],
   "source": [
    "tokenizer = old_tokenizer.train_new_from_iterator(text_iterator=batch_iterator(), vocab_size=32768)"
   ]
  },
  {
   "cell_type": "code",
   "execution_count": 66,
   "id": "053d53dc",
   "metadata": {},
   "outputs": [
    {
     "data": {
      "text/plain": [
       "T5TokenizerFast(name_or_path='t5-small', vocab_size=32768, model_max_length=512, is_fast=True, padding_side='right', truncation_side='right', special_tokens={'eos_token': '</s>', 'unk_token': '<unk>', 'pad_token': '<pad>', 'additional_special_tokens': ['<extra_id_0>', '<extra_id_1>', '<extra_id_2>', '<extra_id_3>', '<extra_id_4>', '<extra_id_5>', '<extra_id_6>', '<extra_id_7>', '<extra_id_8>', '<extra_id_9>', '<extra_id_10>', '<extra_id_11>', '<extra_id_12>', '<extra_id_13>', '<extra_id_14>', '<extra_id_15>', '<extra_id_16>', '<extra_id_17>', '<extra_id_18>', '<extra_id_19>', '<extra_id_20>', '<extra_id_21>', '<extra_id_22>', '<extra_id_23>', '<extra_id_24>', '<extra_id_25>', '<extra_id_26>', '<extra_id_27>', '<extra_id_28>', '<extra_id_29>', '<extra_id_30>', '<extra_id_31>', '<extra_id_32>', '<extra_id_33>', '<extra_id_34>', '<extra_id_35>', '<extra_id_36>', '<extra_id_37>', '<extra_id_38>', '<extra_id_39>', '<extra_id_40>', '<extra_id_41>', '<extra_id_42>', '<extra_id_43>', '<extra_id_44>', '<extra_id_45>', '<extra_id_46>', '<extra_id_47>', '<extra_id_48>', '<extra_id_49>', '<extra_id_50>', '<extra_id_51>', '<extra_id_52>', '<extra_id_53>', '<extra_id_54>', '<extra_id_55>', '<extra_id_56>', '<extra_id_57>', '<extra_id_58>', '<extra_id_59>', '<extra_id_60>', '<extra_id_61>', '<extra_id_62>', '<extra_id_63>', '<extra_id_64>', '<extra_id_65>', '<extra_id_66>', '<extra_id_67>', '<extra_id_68>', '<extra_id_69>', '<extra_id_70>', '<extra_id_71>', '<extra_id_72>', '<extra_id_73>', '<extra_id_74>', '<extra_id_75>', '<extra_id_76>', '<extra_id_77>', '<extra_id_78>', '<extra_id_79>', '<extra_id_80>', '<extra_id_81>', '<extra_id_82>', '<extra_id_83>', '<extra_id_84>', '<extra_id_85>', '<extra_id_86>', '<extra_id_87>', '<extra_id_88>', '<extra_id_89>', '<extra_id_90>', '<extra_id_91>', '<extra_id_92>', '<extra_id_93>', '<extra_id_94>', '<extra_id_95>', '<extra_id_96>', '<extra_id_97>', '<extra_id_98>', '<extra_id_99>']})"
      ]
     },
     "execution_count": 66,
     "metadata": {},
     "output_type": "execute_result"
    }
   ],
   "source": [
    "tokenizer"
   ]
  },
  {
   "cell_type": "code",
   "execution_count": 67,
   "id": "8c7d9349",
   "metadata": {},
   "outputs": [
    {
     "data": {
      "text/plain": [
       "{'input_ids': [5484, 19686, 5285, 2533, 12673, 14711, 5285, 4606, 1], 'attention_mask': [1, 1, 1, 1, 1, 1, 1, 1, 1]}"
      ]
     },
     "execution_count": 67,
     "metadata": {},
     "output_type": "execute_result"
    }
   ],
   "source": [
    "tokenizer('hello world')"
   ]
  },
  {
   "cell_type": "code",
   "execution_count": 68,
   "id": "84a5e76c",
   "metadata": {},
   "outputs": [
    {
     "data": {
      "text/plain": [
       "['▁Шағирә',\n",
       " 'не',\n",
       " '▁балалары',\n",
       " ',',\n",
       " '▁туғандары',\n",
       " '▁һәм',\n",
       " '▁ауылдаштары',\n",
       " '▁ла',\n",
       " '▁ҡотланы',\n",
       " '.']"
      ]
     },
     "execution_count": 68,
     "metadata": {},
     "output_type": "execute_result"
    }
   ],
   "source": [
    "tokenizer.tokenize(random.choice(all_sents))"
   ]
  },
  {
   "cell_type": "code",
   "execution_count": 135,
   "id": "de831c66",
   "metadata": {},
   "outputs": [
    {
     "data": {
      "application/vnd.jupyter.widget-view+json": {
       "model_id": "67e116fd0f4c4fc981998c5178c75146",
       "version_major": 2,
       "version_minor": 0
      },
      "text/plain": [
       "  0%|          | 0/10000 [00:00<?, ?it/s]"
      ]
     },
     "metadata": {},
     "output_type": "display_data"
    },
    {
     "data": {
      "text/plain": [
       "count    10000.000000\n",
       "mean        18.311200\n",
       "std         12.438136\n",
       "min          2.000000\n",
       "25%         10.000000\n",
       "50%         15.000000\n",
       "75%         23.000000\n",
       "max        207.000000\n",
       "dtype: float64"
      ]
     },
     "execution_count": 135,
     "metadata": {},
     "output_type": "execute_result"
    }
   ],
   "source": [
    "lens = pd.Series([len(tokenizer.tokenize(t)) for t in tqdm(random.sample(all_sents, 10000))])\n",
    "lens.describe()"
   ]
  },
  {
   "cell_type": "code",
   "execution_count": 136,
   "id": "41765c25",
   "metadata": {},
   "outputs": [
    {
     "data": {
      "text/plain": [
       "0.900     32.000\n",
       "0.990     62.000\n",
       "0.999    113.001\n",
       "dtype: float64"
      ]
     },
     "execution_count": 136,
     "metadata": {},
     "output_type": "execute_result"
    }
   ],
   "source": [
    "lens.quantile([0.9, 0.99, 0.999])"
   ]
  },
  {
   "cell_type": "markdown",
   "id": "d171a44c",
   "metadata": {},
   "source": [
    "# Initialize a model"
   ]
  },
  {
   "cell_type": "code",
   "execution_count": 278,
   "id": "199d9dd3",
   "metadata": {},
   "outputs": [],
   "source": [
    "cfg = T5Config(\n",
    "    vocab_size=len(tokenizer),\n",
    "    d_model=128,\n",
    "    num_layers=3,\n",
    "    num_heads=8,\n",
    "    d_kv=16,\n",
    "    d_ff=512,\n",
    "    #feed_forward_proj='gated-gelu',\n",
    "    decoder_start_token_id=tokenizer.pad_token_id,\n",
    ")"
   ]
  },
  {
   "cell_type": "code",
   "execution_count": 279,
   "id": "05ff321b",
   "metadata": {},
   "outputs": [
    {
     "data": {
      "text/plain": [
       "T5Config {\n",
       "  \"d_ff\": 512,\n",
       "  \"d_kv\": 16,\n",
       "  \"d_model\": 128,\n",
       "  \"decoder_start_token_id\": 0,\n",
       "  \"dense_act_fn\": \"relu\",\n",
       "  \"dropout_rate\": 0.1,\n",
       "  \"eos_token_id\": 1,\n",
       "  \"feed_forward_proj\": \"relu\",\n",
       "  \"initializer_factor\": 1.0,\n",
       "  \"is_encoder_decoder\": true,\n",
       "  \"is_gated_act\": false,\n",
       "  \"layer_norm_epsilon\": 1e-06,\n",
       "  \"model_type\": \"t5\",\n",
       "  \"num_decoder_layers\": 3,\n",
       "  \"num_heads\": 8,\n",
       "  \"num_layers\": 3,\n",
       "  \"pad_token_id\": 0,\n",
       "  \"relative_attention_max_distance\": 128,\n",
       "  \"relative_attention_num_buckets\": 32,\n",
       "  \"transformers_version\": \"4.26.1\",\n",
       "  \"use_cache\": true,\n",
       "  \"vocab_size\": 32768\n",
       "}"
      ]
     },
     "execution_count": 279,
     "metadata": {},
     "output_type": "execute_result"
    }
   ],
   "source": [
    "cfg"
   ]
  },
  {
   "cell_type": "code",
   "execution_count": 280,
   "id": "09a5e407",
   "metadata": {},
   "outputs": [],
   "source": [
    "model = T5ForConditionalGeneration(cfg)"
   ]
  },
  {
   "cell_type": "code",
   "execution_count": 281,
   "id": "8532bc1d",
   "metadata": {},
   "outputs": [
    {
     "data": {
      "text/plain": [
       "T5TokenizerFast(name_or_path='t5-small', vocab_size=32768, model_max_length=512, is_fast=True, padding_side='right', truncation_side='right', special_tokens={'eos_token': '</s>', 'unk_token': '<unk>', 'pad_token': '<pad>', 'additional_special_tokens': ['<extra_id_0>', '<extra_id_1>', '<extra_id_2>', '<extra_id_3>', '<extra_id_4>', '<extra_id_5>', '<extra_id_6>', '<extra_id_7>', '<extra_id_8>', '<extra_id_9>', '<extra_id_10>', '<extra_id_11>', '<extra_id_12>', '<extra_id_13>', '<extra_id_14>', '<extra_id_15>', '<extra_id_16>', '<extra_id_17>', '<extra_id_18>', '<extra_id_19>', '<extra_id_20>', '<extra_id_21>', '<extra_id_22>', '<extra_id_23>', '<extra_id_24>', '<extra_id_25>', '<extra_id_26>', '<extra_id_27>', '<extra_id_28>', '<extra_id_29>', '<extra_id_30>', '<extra_id_31>', '<extra_id_32>', '<extra_id_33>', '<extra_id_34>', '<extra_id_35>', '<extra_id_36>', '<extra_id_37>', '<extra_id_38>', '<extra_id_39>', '<extra_id_40>', '<extra_id_41>', '<extra_id_42>', '<extra_id_43>', '<extra_id_44>', '<extra_id_45>', '<extra_id_46>', '<extra_id_47>', '<extra_id_48>', '<extra_id_49>', '<extra_id_50>', '<extra_id_51>', '<extra_id_52>', '<extra_id_53>', '<extra_id_54>', '<extra_id_55>', '<extra_id_56>', '<extra_id_57>', '<extra_id_58>', '<extra_id_59>', '<extra_id_60>', '<extra_id_61>', '<extra_id_62>', '<extra_id_63>', '<extra_id_64>', '<extra_id_65>', '<extra_id_66>', '<extra_id_67>', '<extra_id_68>', '<extra_id_69>', '<extra_id_70>', '<extra_id_71>', '<extra_id_72>', '<extra_id_73>', '<extra_id_74>', '<extra_id_75>', '<extra_id_76>', '<extra_id_77>', '<extra_id_78>', '<extra_id_79>', '<extra_id_80>', '<extra_id_81>', '<extra_id_82>', '<extra_id_83>', '<extra_id_84>', '<extra_id_85>', '<extra_id_86>', '<extra_id_87>', '<extra_id_88>', '<extra_id_89>', '<extra_id_90>', '<extra_id_91>', '<extra_id_92>', '<extra_id_93>', '<extra_id_94>', '<extra_id_95>', '<extra_id_96>', '<extra_id_97>', '<extra_id_98>', '<extra_id_99>']})"
      ]
     },
     "execution_count": 281,
     "metadata": {},
     "output_type": "execute_result"
    }
   ],
   "source": [
    "tokenizer"
   ]
  },
  {
   "cell_type": "code",
   "execution_count": 282,
   "id": "e6032da9",
   "metadata": {},
   "outputs": [],
   "source": [
    "MODEL_SAVE_PATH = '../models/t5-tiny-bak'"
   ]
  },
  {
   "cell_type": "code",
   "execution_count": 283,
   "id": "bab7a24c",
   "metadata": {},
   "outputs": [
    {
     "data": {
      "text/plain": [
       "('../models/t5-tiny-bak\\\\tokenizer_config.json',\n",
       " '../models/t5-tiny-bak\\\\special_tokens_map.json',\n",
       " '../models/t5-tiny-bak\\\\tokenizer.json')"
      ]
     },
     "execution_count": 283,
     "metadata": {},
     "output_type": "execute_result"
    }
   ],
   "source": [
    "model.save_pretrained(MODEL_SAVE_PATH)\n",
    "tokenizer.save_pretrained(MODEL_SAVE_PATH)"
   ]
  },
  {
   "cell_type": "markdown",
   "id": "0fec3abb",
   "metadata": {},
   "source": [
    "The 128\\*3 model occupies only 22MB on disk, which is indeed extremely tiny. I hope it'll train super fast. "
   ]
  },
  {
   "cell_type": "markdown",
   "id": "27d338fe",
   "metadata": {},
   "source": [
    "# Define the training task"
   ]
  },
  {
   "cell_type": "code",
   "execution_count": 150,
   "id": "6c6f9d4e",
   "metadata": {},
   "outputs": [
    {
     "data": {
      "text/plain": [
       "'Мал көсө менән йәшәлә, балаларға ла ярҙам итәбеҙ, ҡыҙыбыҙҙы башлы-күҙле итергә кәрәк әле”, – ти улар.'"
      ]
     },
     "execution_count": 150,
     "metadata": {},
     "output_type": "execute_result"
    }
   ],
   "source": [
    "sent = random.choice(all_sents)\n",
    "sent"
   ]
  },
  {
   "cell_type": "code",
   "execution_count": 274,
   "id": "fcd4448b",
   "metadata": {},
   "outputs": [],
   "source": [
    "def fill_gap_task(text=None, min_sent_len=3, p_num_words=0.5, left_pad=0, right_pad=0, mask_token='<extra_id_0>'):\n",
    "    if text is None:\n",
    "        text = random.choice(all_sents)\n",
    "    words = text.split()\n",
    "    if len(words) < min_sent_len:\n",
    "        return fill_gap_task()\n",
    "    # to choose between all substrings uniformly, pick both ends uniformly and re-pick if the order is incorrect.\n",
    "    left_id, right_id = 1, -1\n",
    "    while left_id > right_id:\n",
    "        left_id, right_id = [random.randint(left_pad, len(words)-1-right_pad) for _ in range(2)]\n",
    "    #left_id = random.randint(left_pad, right_id)\n",
    "    if random.random() > p_num_words:\n",
    "        filler = [mask_token]\n",
    "    else:\n",
    "        filler = [mask_token.replace('0', str(right_id-left_id+1))]\n",
    "    lhs = ' '.join(words[:left_id] + filler + words[right_id+1:])\n",
    "    rhs = ' '.join(words[left_id:(right_id+1)])\n",
    "    return lhs, rhs"
   ]
  },
  {
   "cell_type": "code",
   "execution_count": 275,
   "id": "f29ab59d",
   "metadata": {},
   "outputs": [
    {
     "name": "stdout",
     "output_type": "stream",
     "text": [
      "('<extra_id_0>', 'Быйылдан башлап аҡсалата премияның күләме лә арттырылды.', 361)\n",
      "('<extra_id_0> арттырылды.', 'Быйылдан башлап аҡсалата премияның күләме лә', 372)\n",
      "('<extra_id_0> аҡсалата премияның күләме лә арттырылды.', 'Быйылдан башлап', 381)\n",
      "('<extra_id_0> башлап аҡсалата премияның күләме лә арттырылды.', 'Быйылдан', 359)\n",
      "('<extra_id_0> күләме лә арттырылды.', 'Быйылдан башлап аҡсалата премияның', 378)\n",
      "('<extra_id_0> лә арттырылды.', 'Быйылдан башлап аҡсалата премияның күләме', 344)\n",
      "('<extra_id_0> премияның күләме лә арттырылды.', 'Быйылдан башлап аҡсалата', 360)\n",
      "('Быйылдан <extra_id_0>', 'башлап аҡсалата премияның күләме лә арттырылды.', 345)\n",
      "('Быйылдан <extra_id_0> арттырылды.', 'башлап аҡсалата премияның күләме лә', 384)\n",
      "('Быйылдан <extra_id_0> аҡсалата премияның күләме лә арттырылды.', 'башлап', 334)\n",
      "('Быйылдан <extra_id_0> күләме лә арттырылды.', 'башлап аҡсалата премияның', 331)\n",
      "('Быйылдан <extra_id_0> лә арттырылды.', 'башлап аҡсалата премияның күләме', 357)\n",
      "('Быйылдан <extra_id_0> премияның күләме лә арттырылды.', 'башлап аҡсалата', 377)\n",
      "('Быйылдан башлап <extra_id_0>', 'аҡсалата премияның күләме лә арттырылды.', 363)\n",
      "('Быйылдан башлап <extra_id_0> арттырылды.', 'аҡсалата премияның күләме лә', 354)\n",
      "('Быйылдан башлап <extra_id_0> күләме лә арттырылды.', 'аҡсалата премияның', 369)\n",
      "('Быйылдан башлап <extra_id_0> лә арттырылды.', 'аҡсалата премияның күләме', 347)\n",
      "('Быйылдан башлап <extra_id_0> премияның күләме лә арттырылды.', 'аҡсалата', 312)\n",
      "('Быйылдан башлап аҡсалата <extra_id_0>', 'премияның күләме лә арттырылды.', 334)\n",
      "('Быйылдан башлап аҡсалата <extra_id_0> арттырылды.', 'премияның күләме лә', 354)\n",
      "('Быйылдан башлап аҡсалата <extra_id_0> күләме лә арттырылды.', 'премияның', 360)\n",
      "('Быйылдан башлап аҡсалата <extra_id_0> лә арттырылды.', 'премияның күләме', 331)\n",
      "('Быйылдан башлап аҡсалата премияның <extra_id_0>', 'күләме лә арттырылды.', 363)\n",
      "('Быйылдан башлап аҡсалата премияның <extra_id_0> арттырылды.', 'күләме лә', 384)\n",
      "('Быйылдан башлап аҡсалата премияның <extra_id_0> лә арттырылды.', 'күләме', 335)\n",
      "('Быйылдан башлап аҡсалата премияның күләме <extra_id_0>', 'лә арттырылды.', 383)\n",
      "('Быйылдан башлап аҡсалата премияның күләме <extra_id_0> арттырылды.', 'лә', 379)\n",
      "('Быйылдан башлап аҡсалата премияның күләме лә <extra_id_0>', 'арттырылды.', 349)\n"
     ]
    }
   ],
   "source": [
    "from collections import Counter\n",
    "\n",
    "for t in sorted([(x, y, c) for (x, y), c in Counter(fill_gap_task(text, p_num_words=0) for _ in range(10000)).most_common()]):\n",
    "    print(t)"
   ]
  },
  {
   "cell_type": "markdown",
   "id": "b66d82e2",
   "metadata": {},
   "source": [
    "# Training"
   ]
  },
  {
   "cell_type": "code",
   "execution_count": 284,
   "id": "79026a54",
   "metadata": {},
   "outputs": [],
   "source": [
    "import numpy as np\n",
    "import torch\n",
    "from tqdm.auto import tqdm, trange\n",
    "from transformers.optimization import Adafactor, AdamW\n",
    "from transformers import get_linear_schedule_with_warmup, get_constant_schedule_with_warmup\n",
    "\n",
    "import gc\n",
    "import numpy as np\n",
    "\n",
    "def cleanup():\n",
    "    gc.collect()\n",
    "    torch.cuda.empty_cache()\n",
    "    \n",
    "cleanup()"
   ]
  },
  {
   "cell_type": "code",
   "execution_count": 285,
   "id": "dd8d96f7",
   "metadata": {},
   "outputs": [],
   "source": [
    "model.cuda();"
   ]
  },
  {
   "cell_type": "code",
   "execution_count": 286,
   "id": "c9e11fc9",
   "metadata": {},
   "outputs": [],
   "source": [
    "optimizer = torch.optim.AdamW(\n",
    "    [p for p in model.parameters() if p.requires_grad],  \n",
    "    lr=1e-3,\n",
    "    weight_decay=1e-3,\n",
    ")"
   ]
  },
  {
   "cell_type": "code",
   "execution_count": 287,
   "id": "ed71a613",
   "metadata": {},
   "outputs": [],
   "source": [
    "batch_size = 16 # we can get even more, but training gets slow\n",
    "max_length = 128\n",
    "warmup_steps = 5_000\n",
    "training_steps = 500_000"
   ]
  },
  {
   "cell_type": "code",
   "execution_count": 288,
   "id": "e5e17aa2",
   "metadata": {},
   "outputs": [],
   "source": [
    "losses = []"
   ]
  },
  {
   "cell_type": "code",
   "execution_count": 289,
   "id": "393e0108",
   "metadata": {},
   "outputs": [],
   "source": [
    "scheduler = get_constant_schedule_with_warmup(optimizer, num_warmup_steps=warmup_steps)"
   ]
  },
  {
   "cell_type": "code",
   "execution_count": 290,
   "id": "baacf1f8",
   "metadata": {},
   "outputs": [],
   "source": [
    "def get_batch_pairs(batch_size, p=0.2):\n",
    "    xx, yy = [], []\n",
    "    for text in random.sample(all_sents, batch_size):\n",
    "        x, y = fill_gap_task(text, p_num_words=p)\n",
    "        xx.append(x)\n",
    "        yy.append(y)\n",
    "    return xx, yy"
   ]
  },
  {
   "cell_type": "code",
   "execution_count": 291,
   "id": "d54e88e5",
   "metadata": {},
   "outputs": [
    {
     "data": {
      "text/plain": [
       "(['Шулай <extra_id_0> райондаштарым, яҡын дуҫтарым килгәйне.',\n",
       "  '– Алла Нур булғас, әҙәме НУР өсөн <extra_id_0> сыға.',\n",
       "  'Йәй шифалы ҡымыҙ етештереп, малсылыҡта һәм үҫемлекселектә тир түккәндәргә <extra_id_0>'],\n",
       " ['уҡ мине яҡларға', 'ғүмер итә килеп', 'бирелә икән.'])"
      ]
     },
     "execution_count": 291,
     "metadata": {},
     "output_type": "execute_result"
    }
   ],
   "source": [
    "get_batch_pairs(3)"
   ]
  },
  {
   "cell_type": "code",
   "execution_count": 294,
   "id": "221ff044",
   "metadata": {},
   "outputs": [],
   "source": [
    "# optimizer.param_groups[0]['lr'] = 1e-3  # did this at about 43k step\\s"
   ]
  },
  {
   "cell_type": "code",
   "execution_count": 417,
   "id": "2583a500",
   "metadata": {
    "scrolled": true
   },
   "outputs": [
    {
     "data": {
      "application/vnd.jupyter.widget-view+json": {
       "model_id": "3e46dc242b4f4c57905ad09dadd864c8",
       "version_major": 2,
       "version_minor": 0
      },
      "text/plain": [
       "  0%|          | 0/437518 [00:00<?, ?it/s]"
      ]
     },
     "metadata": {},
     "output_type": "display_data"
    },
    {
     "name": "stdout",
     "output_type": "stream",
     "text": [
      "63000 6.959281994819641\n",
      "64000 6.951398554325103\n",
      "65000 6.943892464160919\n",
      "66000 6.960300998210907\n",
      "67000 6.9240744976997375\n",
      "68000 6.927171308517456\n",
      "69000 6.932513535022736\n",
      "70000 6.928753815174103\n",
      "71000 6.921089878559113\n",
      "72000 6.914636201858521\n",
      "73000 6.894003620147705\n",
      "74000 6.8857825021743775\n",
      "75000 6.887303085327148\n",
      "76000 6.8901493144035335\n",
      "77000 6.866729349613189\n",
      "78000 6.858011415958405\n",
      "79000 6.8641417489051815\n",
      "80000 6.868861122131348\n",
      "81000 6.854151022911072\n",
      "82000 6.835255885124207\n",
      "83000 6.836852757453919\n",
      "84000 6.821563381671906\n",
      "85000 6.822126307964325\n",
      "86000 6.83025892496109\n",
      "87000 6.823637741565705\n",
      "88000 6.801308063983917\n",
      "89000 6.8094111852645876\n",
      "90000 6.807211497306824\n",
      "91000 6.8039093708992\n",
      "92000 6.79197604894638\n",
      "93000 6.794765630722046\n",
      "94000 6.767387438774109\n",
      "95000 6.764155313968659\n",
      "96000 6.766629619598389\n",
      "97000 6.77432412147522\n",
      "98000 6.76506593465805\n",
      "99000 6.7677820496559145\n",
      "100000 6.762892932415008\n",
      "101000 6.754883618354797\n",
      "102000 6.7525999331474305\n",
      "103000 6.745949672222137\n",
      "104000 6.73144036769867\n",
      "105000 6.727088098526001\n",
      "106000 6.725919596672058\n",
      "107000 6.731212007522583\n",
      "108000 6.727105030059814\n",
      "109000 6.710879072189331\n",
      "110000 6.715322932243347\n",
      "111000 6.69768342590332\n",
      "112000 6.703295858860016\n",
      "113000 6.689731015205384\n",
      "114000 6.703219341754913\n",
      "115000 6.693342015743256\n",
      "116000 6.66323398733139\n",
      "117000 6.681626455307007\n",
      "118000 6.680438811302185\n",
      "119000 6.679594638347626\n",
      "120000 6.649544486522674\n",
      "121000 6.6556101622581485\n",
      "122000 6.642120082855224\n",
      "123000 6.638208488464356\n",
      "124000 6.643384828090667\n",
      "125000 6.651281081676483\n",
      "126000 6.635745221138\n",
      "127000 6.638439566612243\n",
      "128000 6.632868371009827\n",
      "129000 6.6375142827034\n",
      "130000 6.621684472084046\n",
      "131000 6.62730658197403\n",
      "132000 6.628804430961609\n",
      "133000 6.610520024299621\n",
      "134000 6.636753177642822\n",
      "135000 6.601650996208191\n",
      "136000 6.595176007270813\n",
      "137000 6.588402803897858\n",
      "138000 6.6006638350486755\n",
      "139000 6.584614451408386\n",
      "140000 6.59048974943161\n",
      "141000 6.590098635673523\n",
      "142000 6.5725967154502865\n",
      "143000 6.575189960479737\n",
      "144000 6.5604618501663206\n",
      "145000 6.578228216648101\n",
      "146000 6.575546695232392\n",
      "147000 6.559932393074035\n",
      "148000 6.558315902233124\n",
      "149000 6.559837279319763\n",
      "150000 6.56642519569397\n",
      "151000 6.54795272397995\n",
      "152000 6.566409159660339\n",
      "153000 6.54009157371521\n",
      "154000 6.549838571071625\n",
      "155000 6.559333187580108\n",
      "156000 6.544570528030396\n",
      "157000 6.53154958486557\n",
      "158000 6.530683554172516\n",
      "159000 6.532161012649536\n",
      "160000 6.536206097126007\n",
      "161000 6.5350862603187565\n",
      "162000 6.530012218475342\n",
      "163000 6.520684546470642\n",
      "164000 6.521528656005859\n",
      "165000 6.512276437759399\n",
      "166000 6.489714896202087\n",
      "167000 6.513991493225098\n",
      "168000 6.519127312660217\n",
      "169000 6.498778994560242\n",
      "170000 6.48318203830719\n",
      "171000 6.483592938423157\n",
      "172000 6.488429024219513\n",
      "173000 6.502953154563904\n",
      "174000 6.487544920444488\n",
      "175000 6.491756927013397\n",
      "176000 6.483796169757843\n",
      "177000 6.486385840415955\n",
      "178000 6.487942400932312\n",
      "179000 6.460419564723969\n",
      "180000 6.482656064510345\n",
      "181000 6.480591835021973\n",
      "182000 6.478455558776855\n",
      "183000 6.468757538795471\n",
      "184000 6.4513048753738405\n",
      "185000 6.474104870796204\n",
      "186000 6.454240318775177\n",
      "187000 6.450957200527191\n",
      "188000 6.44472502040863\n",
      "189000 6.4435501141548155\n",
      "190000 6.457384355068207\n",
      "191000 6.448114176750183\n",
      "192000 6.435692349433899\n",
      "193000 6.443046639919281\n",
      "194000 6.434662868499756\n",
      "195000 6.435104690074921\n",
      "196000 6.4209276738166805\n",
      "197000 6.424544061183929\n",
      "198000 6.44171168756485\n",
      "199000 6.431837425231934\n",
      "200000 6.420960855484009\n",
      "201000 6.407818555355072\n",
      "202000 6.409730513095855\n",
      "203000 6.405191383361816\n",
      "204000 6.3915520753860475\n",
      "205000 6.4061891131401065\n",
      "206000 6.390105163097382\n",
      "207000 6.39699520778656\n",
      "208000 6.413589778423309\n",
      "209000 6.395355870723725\n",
      "210000 6.390128735542297\n",
      "211000 6.411276743888855\n",
      "212000 6.39175415802002\n",
      "213000 6.404762236118317\n",
      "214000 6.383408346652985\n",
      "215000 6.360502088069916\n",
      "216000 6.378832211017609\n",
      "217000 6.3875056715011596\n",
      "218000 6.374721827030182\n",
      "219000 6.383032907485962\n",
      "220000 6.381087400436401\n",
      "221000 6.370558177947998\n",
      "222000 6.380295107841492\n",
      "223000 6.3702813234329225\n",
      "224000 6.366355832099915\n",
      "225000 6.372602172374726\n",
      "226000 6.351419162273407\n",
      "227000 6.366938377380371\n",
      "228000 6.3501471376419065\n",
      "229000 6.36374417924881\n",
      "230000 6.346175822734833\n",
      "231000 6.350334610939026\n",
      "232000 6.356992696285248\n",
      "233000 6.33781668138504\n",
      "234000 6.338427679538727\n",
      "235000 6.3552259001731874\n",
      "236000 6.338613738059998\n",
      "237000 6.335533635616303\n",
      "238000 6.343900424957275\n",
      "239000 6.327494410037994\n",
      "240000 6.336484093666076\n",
      "241000 6.350875052452087\n",
      "242000 6.334732056617737\n",
      "243000 6.35060757637024\n",
      "244000 6.333641571044922\n",
      "245000 6.332977974891663\n",
      "246000 6.337327138900757\n",
      "247000 6.3154146590232845\n",
      "248000 6.331469524383545\n",
      "249000 6.313431173324585\n",
      "250000 6.303703634262085\n",
      "251000 6.327123840332031\n",
      "252000 6.316838153362275\n",
      "253000 6.300601709842682\n",
      "254000 6.310810958862304\n",
      "255000 6.314262940406799\n",
      "256000 6.300133609294892\n",
      "257000 6.29817090845108\n",
      "258000 6.298478298664093\n",
      "259000 6.284524820327759\n",
      "260000 6.293630392074585\n",
      "261000 6.296508305072784\n",
      "262000 6.286602785587311\n",
      "263000 6.29993726682663\n",
      "264000 6.2999695186614995\n",
      "265000 6.280264886856079\n",
      "266000 6.29443662071228\n",
      "267000 6.2883383626937865\n",
      "268000 6.279742399692536\n",
      "269000 6.271048671245575\n",
      "270000 6.28387992143631\n",
      "271000 6.293837955474854\n",
      "272000 6.268291962146759\n",
      "273000 6.291715268611908\n",
      "274000 6.276571685314178\n",
      "275000 6.2650755567550656\n",
      "276000 6.273941930294037\n",
      "277000 6.267181543827057\n",
      "278000 6.268789359569549\n",
      "279000 6.2764197793006895\n",
      "280000 6.284344695568085\n",
      "281000 6.27005438375473\n",
      "282000 6.262252229690552\n",
      "283000 6.257311995983124\n",
      "284000 6.25678732919693\n",
      "285000 6.257762066841125\n",
      "286000 6.261385028362274\n",
      "287000 6.25263258600235\n",
      "288000 6.259498659610748\n",
      "289000 6.251441017627716\n",
      "290000 6.252949594974518\n",
      "291000 6.249496985912323\n",
      "292000 6.265765538215637\n",
      "293000 6.2472004542350765\n",
      "294000 6.253646380901337\n",
      "295000 6.23531529712677\n",
      "296000 6.23901521730423\n",
      "297000 6.236757071495056\n",
      "298000 6.244594779014587\n",
      "299000 6.252896330833435\n",
      "300000 6.232635164260865\n",
      "301000 6.241377663135529\n",
      "302000 6.24465104675293\n",
      "303000 6.247598655223847\n",
      "304000 6.2425542659759525\n",
      "305000 6.242855578899383\n",
      "306000 6.234585282325745\n",
      "307000 6.221077749729156\n",
      "308000 6.229455669403076\n",
      "309000 6.228371538639069\n",
      "310000 6.229952476978302\n",
      "311000 6.227137068271637\n",
      "312000 6.217406838893891\n",
      "313000 6.2162598638534545\n",
      "314000 6.237308955192566\n",
      "315000 6.2228773865699765\n",
      "316000 6.206646432876587\n",
      "317000 6.226884983539581\n",
      "318000 6.214304358959198\n",
      "319000 6.187395238399506\n",
      "320000 6.208305297851562\n",
      "321000 6.209517974853515\n",
      "322000 6.211549557209015\n",
      "323000 6.201325487136841\n",
      "324000 6.235443286895752\n",
      "325000 6.192796672821045\n",
      "326000 6.20963063621521\n",
      "327000 6.209992939949036\n",
      "328000 6.201616858959198\n",
      "329000 6.191846871852875\n",
      "330000 6.183000086307525\n",
      "331000 6.195727854728699\n",
      "332000 6.191727268218994\n",
      "333000 6.185778668880463\n",
      "334000 6.210176854133606\n",
      "335000 6.194698431015015\n",
      "336000 6.198555530071259\n",
      "337000 6.180688841819763\n",
      "338000 6.193591676712036\n",
      "339000 6.2102750582695005\n",
      "340000 6.190269255638123\n",
      "341000 6.184367873668671\n",
      "342000 6.175607696056366\n",
      "343000 6.185543190479279\n",
      "344000 6.183858683586121\n",
      "345000 6.200445233821869\n",
      "346000 6.189147407054901\n",
      "347000 6.185095316410065\n",
      "348000 6.200710762500763\n",
      "349000 6.171806114673615\n",
      "350000 6.174929176330567\n",
      "351000 6.184610425949097\n",
      "352000 6.168747595787048\n",
      "353000 6.166192389965057\n",
      "354000 6.168540089607239\n",
      "355000 6.176438196182251\n",
      "356000 6.190793202877044\n",
      "357000 6.164276673316955\n",
      "358000 6.169232629776001\n",
      "359000 6.174170608520508\n",
      "360000 6.168445495605469\n",
      "361000 6.15889433002472\n",
      "362000 6.165399559497834\n",
      "363000 6.173603035449982\n",
      "364000 6.146940217971801\n",
      "365000 6.1384160275459285\n",
      "366000 6.160232204914093\n",
      "367000 6.1560935397148135\n",
      "368000 6.135275311470032\n",
      "369000 6.142694118499755\n",
      "370000 6.148394030094146\n",
      "371000 6.147908352375031\n",
      "372000 6.151192692279816\n",
      "373000 6.128646649360657\n",
      "374000 6.134194036006927\n",
      "375000 6.1477507596015935\n",
      "376000 6.159774954319\n",
      "377000 6.160279493808746\n",
      "378000 6.138020153999329\n",
      "379000 6.154484795093536\n",
      "380000 6.146027478694916\n",
      "381000 6.143112382411957\n",
      "382000 6.153883008480072\n",
      "383000 6.126563016414642\n",
      "384000 6.139420154094696\n",
      "385000 6.132736987113953\n",
      "386000 6.134203902244568\n",
      "387000 6.142357070922851\n",
      "388000 6.136001987457275\n",
      "389000 6.1195387334823605\n",
      "390000 6.12708963060379\n",
      "391000 6.12801718711853\n",
      "392000 6.126435532093048\n"
     ]
    },
    {
     "name": "stdout",
     "output_type": "stream",
     "text": [
      "393000 6.149262020111084\n",
      "394000 6.135114513874054\n",
      "395000 6.1352773342132565\n",
      "396000 6.131356385707855\n",
      "397000 6.1178068060874935\n",
      "398000 6.137139006614685\n",
      "399000 6.114109637737275\n",
      "400000 6.128445288658142\n",
      "401000 6.1261354594230655\n",
      "402000 6.12002006483078\n",
      "403000 6.130353409767151\n",
      "404000 6.135635453224182\n",
      "405000 6.117773378849029\n",
      "406000 6.115149351119995\n",
      "407000 6.096954602718354\n",
      "408000 6.092412299156189\n",
      "409000 6.1176024699211125\n",
      "410000 6.111249444007874\n",
      "411000 6.110969156742096\n",
      "412000 6.116384305000305\n",
      "413000 6.096874368667603\n",
      "414000 6.089506293296814\n",
      "415000 6.10833524942398\n",
      "416000 6.10795981502533\n",
      "417000 6.098536083221435\n",
      "418000 6.11706853055954\n",
      "419000 6.089099063873291\n",
      "420000 6.11169998550415\n",
      "421000 6.093432714939118\n",
      "422000 6.112754197120666\n",
      "423000 6.088556210517884\n",
      "424000 6.111444560527802\n",
      "425000 6.106921851634979\n",
      "426000 6.109640857219696\n",
      "427000 6.096381187438965\n",
      "428000 6.109571672439575\n",
      "429000 6.084823582649231\n",
      "430000 6.115287340164184\n",
      "431000 6.097207271575928\n",
      "432000 6.08801659822464\n",
      "433000 6.088077425479889\n",
      "434000 6.08644927072525\n",
      "435000 6.089404589653015\n",
      "436000 6.075839773654938\n",
      "437000 6.075352959632873\n",
      "438000 6.087023852825165\n",
      "439000 6.087919542312622\n",
      "440000 6.08102118396759\n",
      "441000 6.086026973247528\n",
      "442000 6.078687408447266\n",
      "443000 6.080759786605835\n",
      "444000 6.074739354133606\n",
      "445000 6.056898932933807\n",
      "446000 6.076920029163361\n",
      "447000 6.061105842590332\n",
      "448000 6.074190557003021\n",
      "449000 6.075627228736877\n",
      "450000 6.069316007614136\n",
      "451000 6.069998140335083\n",
      "452000 6.0619648694992065\n",
      "453000 6.057643982887268\n",
      "454000 6.06256989145279\n",
      "455000 6.071075080394745\n",
      "456000 6.059846499443054\n",
      "457000 6.057340594291687\n",
      "458000 6.052376956939697\n",
      "459000 6.07005094575882\n",
      "460000 6.055506912708283\n",
      "461000 6.056875333309174\n",
      "462000 6.046187884807587\n",
      "463000 6.047507612705231\n",
      "464000 6.043544532299042\n",
      "465000 6.046763291835785\n",
      "466000 6.049572296142578\n",
      "467000 6.057830804347992\n",
      "468000 6.039889305591584\n",
      "469000 6.034778377532959\n",
      "470000 6.037079775810242\n",
      "471000 6.035830827236175\n",
      "472000 6.04280006313324\n",
      "473000 6.051352789402008\n",
      "474000 6.044468451023102\n",
      "475000 6.027512934684753\n",
      "476000 6.029665490150451\n",
      "477000 6.0333450756073\n",
      "478000 6.035493537425995\n",
      "479000 6.0240936608314515\n",
      "480000 6.020607149600982\n",
      "481000 6.035953289985657\n",
      "482000 6.0348228058815\n",
      "483000 6.023130147457123\n",
      "484000 6.027119297504425\n",
      "485000 6.00349518108368\n",
      "486000 6.0303383722305295\n",
      "487000 6.004563949584961\n",
      "488000 6.019260852336884\n",
      "489000 6.0217409467697145\n",
      "490000 6.015152749061585\n",
      "491000 6.010142719268798\n",
      "492000 6.022602955341339\n",
      "493000 6.0074516568183896\n",
      "494000 6.0035835552215575\n",
      "495000 6.008515702247619\n",
      "496000 6.005362249851227\n",
      "497000 6.004062659263611\n",
      "498000 6.010435022354126\n",
      "499000 6.0149839148521425\n"
     ]
    }
   ],
   "source": [
    "model.train()\n",
    "\n",
    "tq = trange(len(losses), training_steps)\n",
    "for i in tq:\n",
    "    xx, yy = get_batch_pairs(batch_size)\n",
    "    try:\n",
    "        x = tokenizer(xx, return_tensors='pt', padding=True, truncation=True, max_length=max_length).to(model.device)\n",
    "        y = tokenizer(yy, return_tensors='pt', padding=True, truncation=True, max_length=max_length).to(model.device)\n",
    "        y.input_ids[y.input_ids == 0] = -100\n",
    "        \n",
    "        loss = model(**x, labels=y.input_ids).loss\n",
    "\n",
    "        loss.backward()\n",
    "        losses.append(loss.item())\n",
    "\n",
    "        torch.nn.utils.clip_grad_norm_(model.parameters(), 1.0)\n",
    "        optimizer.step()\n",
    "        optimizer.zero_grad(set_to_none=True)\n",
    "        scheduler.step()\n",
    "\n",
    "    except RuntimeError:\n",
    "        optimizer.zero_grad(set_to_none=True)\n",
    "        x, y, loss = None, None, None\n",
    "        cleanup()\n",
    "        print('error', max(len(s) for s in xx + yy))\n",
    "        continue\n",
    "\n",
    "    if i % 1000 == 0:\n",
    "        print(i, np.mean(losses[-1000:]))\n",
    "\n",
    "    if i % 10000 == 0 and i > 0:\n",
    "        model.save_pretrained(MODEL_SAVE_PATH)\n",
    "        tokenizer.save_pretrained(MODEL_SAVE_PATH)"
   ]
  },
  {
   "cell_type": "code",
   "execution_count": 418,
   "id": "467244ce",
   "metadata": {},
   "outputs": [
    {
     "name": "stdout",
     "output_type": "stream",
     "text": [
      "500000\n"
     ]
    },
    {
     "data": {
      "image/png": "[encoded data removed]",
      "text/plain": [
       "<Figure size 432x288 with 1 Axes>"
      ]
     },
     "metadata": {
      "needs_background": "light"
     },
     "output_type": "display_data"
    }
   ],
   "source": [
    "print(len(losses))\n",
    "pd.Series(losses).ewm(300).mean()[10:].plot(lw=1);"
   ]
  },
  {
   "cell_type": "code",
   "execution_count": 419,
   "id": "d618a980",
   "metadata": {},
   "outputs": [
    {
     "data": {
      "image/png": "[encoded data removed]",
      "text/plain": [
       "<Figure size 432x288 with 1 Axes>"
      ]
     },
     "metadata": {
      "needs_background": "light"
     },
     "output_type": "display_data"
    }
   ],
   "source": [
    "pd.Series(losses).ewm(100).mean()[-30000:].plot(lw=1);"
   ]
  },
  {
   "cell_type": "code",
   "execution_count": 429,
   "id": "bc408448",
   "metadata": {},
   "outputs": [
    {
     "data": {
      "text/plain": [
       "'Яңы исемдәр, яңы әҙәрҙәр, яңы ҡараш һәм яңы талаптар…'"
      ]
     },
     "execution_count": 429,
     "metadata": {},
     "output_type": "execute_result"
    }
   ],
   "source": [
    "sent = random.choice(all_sents)\n",
    "sent"
   ]
  },
  {
   "cell_type": "code",
   "execution_count": 430,
   "id": "8ae01ed7",
   "metadata": {},
   "outputs": [
    {
     "name": "stdout",
     "output_type": "stream",
     "text": [
      "Яңы исемдәр, яңы әҙәрҙәр, яңы ҡараш һәм яңы <extra_id_0>\n",
      "талаптар…\n"
     ]
    }
   ],
   "source": [
    "xx, yy = fill_gap_task(sent, p_num_words=0.5)\n",
    "print(xx)\n",
    "print(yy)"
   ]
  },
  {
   "cell_type": "code",
   "execution_count": 431,
   "id": "159d8b69",
   "metadata": {},
   "outputs": [
    {
     "name": "stdout",
     "output_type": "stream",
     "text": [
      "<pad> менән генә бергә нәҡ шундай уҡ ҙур рәхмәт ҡабул итә.</s>\n",
      "<pad> уҡ ваҡытта ла, улар.</s>\n",
      "<pad> өсөн.</s>\n",
      "<pad> бер аҙ булһа, – тине ул.</s>\n",
      "<pad> ғына түгел, ә мин үҙем дә...</s>\n"
     ]
    }
   ],
   "source": [
    "model.train();\n",
    "\n",
    "with torch.inference_mode():\n",
    "    x = tokenizer(xx, return_tensors='pt', padding=True, truncation=True, max_length=max_length).to(model.device)\n",
    "    for _ in range(5):\n",
    "        print(tokenizer.decode(model.generate(**x, num_beams=2, do_sample=True)[0]))"
   ]
  },
  {
   "cell_type": "code",
   "execution_count": 398,
   "id": "e844d24d",
   "metadata": {},
   "outputs": [
    {
     "name": "stdout",
     "output_type": "stream",
     "text": [
      "['<extra_id_9>']\n"
     ]
    }
   ],
   "source": [
    "print(tokenizer.tokenize(xx))"
   ]
  },
  {
   "cell_type": "code",
   "execution_count": null,
   "id": "b2de6148",
   "metadata": {},
   "outputs": [],
   "source": []
  }
 ],
 "metadata": {
  "kernelspec": {
   "display_name": "Python 3 (ipykernel)",
   "language": "python",
   "name": "python3"
  },
  "language_info": {
   "codemirror_mode": {
    "name": "ipython",
    "version": 3
   },
   "file_extension": ".py",
   "mimetype": "text/x-python",
   "name": "python",
   "nbconvert_exporter": "python",
   "pygments_lexer": "ipython3",
   "version": "3.9.6"
  }
 },
 "nbformat": 4,
 "nbformat_minor": 5
}
