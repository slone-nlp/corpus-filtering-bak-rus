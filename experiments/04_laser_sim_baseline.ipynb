{
 "cells": [
  {
   "cell_type": "markdown",
   "id": "e1298c23",
   "metadata": {},
   "source": [
    "This notebook tries to apply LASER sentence embeddings (as the only known sentence embeddings for Bashkir) to validation data and see how their cosine similarity correlates with human labels:\n",
    "\n",
    "* ROC AUC of 75%\n",
    "* Recall @ idealistic of 48%\n",
    "\n",
    "Which means: LASER sucks for this languag pair (at least, without margin scores). "
   ]
  },
  {
   "cell_type": "markdown",
   "id": "1cb1a185",
   "metadata": {},
   "source": [
    "# 1. Learn to run LASER2/3 embeddings"
   ]
  },
  {
   "cell_type": "markdown",
   "id": "b890bdcd",
   "metadata": {},
   "source": [
    "https://github.com/facebookresearch/LASER"
   ]
  },
  {
   "cell_type": "markdown",
   "id": "32ef30e2",
   "metadata": {},
   "source": [
    "```\n",
    "wget --trust-server-names -q https://tinyurl.com/nllblaser2\n",
    "wget --trust-server-names -q https://dl.fbaipublicfiles.com/nllb/laser/laser2.spm\n",
    "wget --trust-server-names -q https://dl.fbaipublicfiles.com/nllb/laser/laser2.cvocab\n",
    "wget --trust-server-names -q https://dl.fbaipublicfiles.com/nllb/laser/laser3-bak_Cyrl.v1.pt\n",
    "wget --trust-server-names -q https://dl.fbaipublicfiles.com/nllb/laser/laser3-bak_Cyrl.v1.spm\n",
    "wget --trust-server-names -q https://dl.fbaipublicfiles.com/nllb/laser/laser3-bak_Cyrl.v1.cvocab\n",
    "```"
   ]
  },
  {
   "cell_type": "markdown",
   "id": "81bca759",
   "metadata": {},
   "source": [
    "`pip install fairseq==0.12.1` (it throws an error `No such file or directory: 'fairseq\\\\version.txt'`, but this is fine)"
   ]
  },
  {
   "cell_type": "markdown",
   "id": "f021df78",
   "metadata": {},
   "source": [
    "```\n",
    "python3 ${LASER}/source/embed.py \\\n",
    "    --input     ${infile}        \\\n",
    "    --encoder   ${model_file}    \\\n",
    "    --spm-model $spm             \\\n",
    "    --output    ${outfile}       \\\n",
    "    --verbose\n",
    "```"
   ]
  },
  {
   "cell_type": "code",
   "execution_count": 2,
   "id": "13d6a915",
   "metadata": {},
   "outputs": [],
   "source": [
    "LASER_CODE_DIR = 'C:/Users/david/YandexDisk/code/NLP/LASER'\n",
    "LASER_MODELS_DIR = 'C:/Users/david/Documents/nlp/laser3'"
   ]
  },
  {
   "cell_type": "code",
   "execution_count": 3,
   "id": "011b9b14",
   "metadata": {},
   "outputs": [],
   "source": [
    "import os\n",
    "import sys"
   ]
  },
  {
   "cell_type": "code",
   "execution_count": 4,
   "id": "3cebc9bb",
   "metadata": {},
   "outputs": [],
   "source": [
    "def add_sys_path(p):\n",
    "    p = os.path.abspath(p)\n",
    "    assert os.path.exists(p)\n",
    "    if p not in sys.path:\n",
    "        sys.path.append(p)\n",
    "\n",
    "add_sys_path(LASER_CODE_DIR + '/source')"
   ]
  },
  {
   "cell_type": "code",
   "execution_count": 14,
   "id": "d75604de",
   "metadata": {},
   "outputs": [],
   "source": [
    "USE_CUDA = True\n",
    "# os.environ['CUDA_VISIBLE_DEVICES'] = '' \n",
    "# because my CUDA is currently used by another process, but LASER still tries to use it under the hood"
   ]
  },
  {
   "cell_type": "code",
   "execution_count": 8,
   "id": "bd14c91f",
   "metadata": {},
   "outputs": [],
   "source": [
    "os.environ['LASER'] = LASER_CODE_DIR"
   ]
  },
  {
   "cell_type": "code",
   "execution_count": 9,
   "id": "1afc6386",
   "metadata": {},
   "outputs": [],
   "source": [
    "from embed import LaserTransformerEncoder, load_model"
   ]
  },
  {
   "cell_type": "code",
   "execution_count": 15,
   "id": "ec24d5a1",
   "metadata": {},
   "outputs": [],
   "source": [
    "encoder_ru = load_model(\n",
    "    LASER_MODELS_DIR + '/laser2.pt', \n",
    "    LASER_MODELS_DIR + '/laser2.spm', \n",
    "    LASER_MODELS_DIR + '/laser2.cvocab',\n",
    "    cpu=not USE_CUDA,\n",
    ")"
   ]
  },
  {
   "cell_type": "code",
   "execution_count": 11,
   "id": "376369fe",
   "metadata": {},
   "outputs": [],
   "source": [
    "import sentencepiece as spm"
   ]
  },
  {
   "cell_type": "code",
   "execution_count": 12,
   "id": "99afb9f1",
   "metadata": {},
   "outputs": [
    {
     "data": {
      "text/plain": [
       "True"
      ]
     },
     "execution_count": 12,
     "metadata": {},
     "output_type": "execute_result"
    }
   ],
   "source": [
    "ru_tokenizer = spm.SentencePieceProcessor()\n",
    "ru_tokenizer.Load(LASER_MODELS_DIR + '/laser2.spm')"
   ]
  },
  {
   "cell_type": "code",
   "execution_count": 16,
   "id": "f94cd915",
   "metadata": {},
   "outputs": [],
   "source": [
    "encoder_ba = load_model(\n",
    "    LASER_MODELS_DIR + '/laser3-bak_Cyrl.v1.pt', \n",
    "    LASER_MODELS_DIR + '/laser3-bak_Cyrl.v1.spm', \n",
    "    LASER_MODELS_DIR + '/laser3-bak_Cyrl.v1.cvocab',\n",
    "    cpu=not USE_CUDA,\n",
    ")"
   ]
  },
  {
   "cell_type": "code",
   "execution_count": 17,
   "id": "aa7f6189",
   "metadata": {},
   "outputs": [
    {
     "data": {
      "text/plain": [
       "True"
      ]
     },
     "execution_count": 17,
     "metadata": {},
     "output_type": "execute_result"
    }
   ],
   "source": [
    "ba_tokenizer = spm.SentencePieceProcessor()\n",
    "ba_tokenizer.Load(LASER_MODELS_DIR + '/laser3-bak_Cyrl.v1.spm')"
   ]
  },
  {
   "cell_type": "code",
   "execution_count": 18,
   "id": "f03af554",
   "metadata": {},
   "outputs": [],
   "source": [
    "import torch\n",
    "\n",
    "def embed(texts, model, tokenizer, normalize=True):\n",
    "    texts_tok = [\n",
    "        ' '.join(tokenizer.encode_as_pieces(text))\n",
    "        for text in texts\n",
    "    ]\n",
    "    with torch.inference_mode():\n",
    "        emb = model.encode_sentences(texts_tok)\n",
    "    if normalize:\n",
    "        emb = emb / (emb**2).sum(1, keepdims=True) ** 0.5\n",
    "    return emb"
   ]
  },
  {
   "cell_type": "code",
   "execution_count": 19,
   "id": "90bc1b7e",
   "metadata": {},
   "outputs": [],
   "source": [
    "ru_sents = ['привет мир!', 'привет, как дела?', 'Мама мыла раму']\n",
    "en_sents = ['Hello world!', 'Hi, how are you?', 'Mom was washing the frame']\n",
    "ba_sents = ['сәләм тыныслыҡ!', 'сәләм, хәлдәр нисек?', 'Әсәй рамаҙан айы']"
   ]
  },
  {
   "cell_type": "code",
   "execution_count": 20,
   "id": "82bf3c9a",
   "metadata": {},
   "outputs": [
    {
     "name": "stdout",
     "output_type": "stream",
     "text": [
      "Wall time: 653 ms\n"
     ]
    }
   ],
   "source": [
    "%%time\n",
    "\n",
    "b_ru = embed(ru_sents, encoder_ru, ru_tokenizer)\n",
    "b_en = embed(en_sents, encoder_ru, ru_tokenizer)"
   ]
  },
  {
   "cell_type": "code",
   "execution_count": 21,
   "id": "54a94700",
   "metadata": {},
   "outputs": [
    {
     "name": "stdout",
     "output_type": "stream",
     "text": [
      "Wall time: 62 ms\n"
     ]
    }
   ],
   "source": [
    "%%time\n",
    "\n",
    "b_ba = embed(ba_sents, encoder_ba, ba_tokenizer)"
   ]
  },
  {
   "cell_type": "code",
   "execution_count": 22,
   "id": "49f4305a",
   "metadata": {},
   "outputs": [
    {
     "data": {
      "text/plain": [
       "array([[0.9999999 , 0.61413217, 0.30851567],\n",
       "       [0.61413217, 0.9999998 , 0.18842392],\n",
       "       [0.30851567, 0.18842392, 1.        ]], dtype=float32)"
      ]
     },
     "execution_count": 22,
     "metadata": {},
     "output_type": "execute_result"
    }
   ],
   "source": [
    "b_ru.dot(b_ru.T)"
   ]
  },
  {
   "cell_type": "code",
   "execution_count": 23,
   "id": "1719a312",
   "metadata": {},
   "outputs": [
    {
     "data": {
      "text/plain": [
       "array([[0.9999998 , 0.4742821 , 0.45774847],\n",
       "       [0.4742821 , 1.0000002 , 0.3486231 ],\n",
       "       [0.45774847, 0.3486231 , 1.0000002 ]], dtype=float32)"
      ]
     },
     "execution_count": 23,
     "metadata": {},
     "output_type": "execute_result"
    }
   ],
   "source": [
    "b_en.dot(b_en.T)"
   ]
  },
  {
   "cell_type": "code",
   "execution_count": 24,
   "id": "3b6c015d",
   "metadata": {},
   "outputs": [
    {
     "data": {
      "text/plain": [
       "array([[1.        , 0.69312984, 0.57237107],\n",
       "       [0.69312984, 1.0000002 , 0.47327137],\n",
       "       [0.57237107, 0.47327137, 0.99999994]], dtype=float32)"
      ]
     },
     "execution_count": 24,
     "metadata": {},
     "output_type": "execute_result"
    }
   ],
   "source": [
    "b_ba.dot(b_ba.T)"
   ]
  },
  {
   "cell_type": "code",
   "execution_count": 25,
   "id": "f9b84f1c",
   "metadata": {},
   "outputs": [
    {
     "data": {
      "text/plain": [
       "array([[0.67852473, 0.5353525 , 0.35045487],\n",
       "       [0.38505852, 0.85188586, 0.2831773 ],\n",
       "       [0.41675484, 0.2647286 , 0.5990878 ]], dtype=float32)"
      ]
     },
     "execution_count": 25,
     "metadata": {},
     "output_type": "execute_result"
    }
   ],
   "source": [
    "b_ru.dot(b_en.T)"
   ]
  },
  {
   "cell_type": "code",
   "execution_count": 26,
   "id": "91144acd",
   "metadata": {},
   "outputs": [
    {
     "data": {
      "text/plain": [
       "array([[0.86894596, 0.67894846, 0.4593694 ],\n",
       "       [0.59563744, 0.880685  , 0.321436  ],\n",
       "       [0.37378195, 0.30603027, 0.73403156]], dtype=float32)"
      ]
     },
     "execution_count": 26,
     "metadata": {},
     "output_type": "execute_result"
    }
   ],
   "source": [
    "b_ru.dot(b_ba.T)"
   ]
  },
  {
   "cell_type": "markdown",
   "id": "90af45bf",
   "metadata": {},
   "source": [
    "# 2. Use it for evaluation"
   ]
  },
  {
   "cell_type": "code",
   "execution_count": 41,
   "id": "31192e17",
   "metadata": {},
   "outputs": [],
   "source": [
    "import pandas as pd\n",
    "import numpy as np\n",
    "from tqdm.auto import tqdm, trange\n",
    "from sklearn.metrics import roc_auc_score"
   ]
  },
  {
   "cell_type": "code",
   "execution_count": 29,
   "id": "581f1765",
   "metadata": {},
   "outputs": [
    {
     "data": {
      "text/plain": [
       "train    104317\n",
       "test      35648\n",
       "dev       34998\n",
       "val        1743\n",
       "Name: data_split, dtype: int64"
      ]
     },
     "execution_count": 29,
     "metadata": {},
     "output_type": "execute_result"
    }
   ],
   "source": [
    "data = pd.read_csv('../data/joint-ba-ru.tsv', sep='\\t')\n",
    "\n",
    "data.data_split.value_counts()"
   ]
  },
  {
   "cell_type": "code",
   "execution_count": 30,
   "id": "57afefe1",
   "metadata": {},
   "outputs": [],
   "source": [
    "data_val = data[data.data_split=='val'].copy()"
   ]
  },
  {
   "cell_type": "code",
   "execution_count": 32,
   "id": "310ab5b5",
   "metadata": {},
   "outputs": [
    {
     "data": {
      "text/html": [
       "<div>\n",
       "<style scoped>\n",
       "    .dataframe tbody tr th:only-of-type {\n",
       "        vertical-align: middle;\n",
       "    }\n",
       "\n",
       "    .dataframe tbody tr th {\n",
       "        vertical-align: top;\n",
       "    }\n",
       "\n",
       "    .dataframe thead th {\n",
       "        text-align: right;\n",
       "    }\n",
       "</style>\n",
       "<table border=\"1\" class=\"dataframe\">\n",
       "  <thead>\n",
       "    <tr style=\"text-align: right;\">\n",
       "      <th></th>\n",
       "      <th>date</th>\n",
       "      <th>ba</th>\n",
       "      <th>ru</th>\n",
       "      <th>is_correct</th>\n",
       "      <th>data_split</th>\n",
       "    </tr>\n",
       "  </thead>\n",
       "  <tbody>\n",
       "    <tr>\n",
       "      <th>139448</th>\n",
       "      <td>29/09/2021 10:13:40</td>\n",
       "      <td>Әммә ул йорт күптән юҡ инде.</td>\n",
       "      <td>Только нет той избы давным-давно – сестра отчи...</td>\n",
       "      <td>0</td>\n",
       "      <td>val</td>\n",
       "    </tr>\n",
       "    <tr>\n",
       "      <th>43537</th>\n",
       "      <td>17/05/2022 07:47:03</td>\n",
       "      <td>Ул бер һүҙҙе лә ысҡындырмаҫҡа тырышып тыңлай.</td>\n",
       "      <td>Он слушал, стараясь не пропустить ни слова.</td>\n",
       "      <td>1</td>\n",
       "      <td>val</td>\n",
       "    </tr>\n",
       "    <tr>\n",
       "      <th>40660</th>\n",
       "      <td>05/05/2022 18:15:01</td>\n",
       "      <td>Бурыл ат ҡалҡынып торҙо тороуын, ләкин алғы уң...</td>\n",
       "      <td>Чалая поднялась, однако на переднюю правую ног...</td>\n",
       "      <td>1</td>\n",
       "      <td>val</td>\n",
       "    </tr>\n",
       "  </tbody>\n",
       "</table>\n",
       "</div>"
      ],
      "text/plain": [
       "                       date  \\\n",
       "139448  29/09/2021 10:13:40   \n",
       "43537   17/05/2022 07:47:03   \n",
       "40660   05/05/2022 18:15:01   \n",
       "\n",
       "                                                       ba  \\\n",
       "139448                       Әммә ул йорт күптән юҡ инде.   \n",
       "43537       Ул бер һүҙҙе лә ысҡындырмаҫҡа тырышып тыңлай.   \n",
       "40660   Бурыл ат ҡалҡынып торҙо тороуын, ләкин алғы уң...   \n",
       "\n",
       "                                                       ru  is_correct  \\\n",
       "139448  Только нет той избы давным-давно – сестра отчи...           0   \n",
       "43537         Он слушал, стараясь не пропустить ни слова.           1   \n",
       "40660   Чалая поднялась, однако на переднюю правую ног...           1   \n",
       "\n",
       "       data_split  \n",
       "139448        val  \n",
       "43537         val  \n",
       "40660         val  "
      ]
     },
     "execution_count": 32,
     "metadata": {},
     "output_type": "execute_result"
    }
   ],
   "source": [
    "data_val.sample(3)"
   ]
  },
  {
   "cell_type": "code",
   "execution_count": 37,
   "id": "a7d2e5b0",
   "metadata": {},
   "outputs": [
    {
     "data": {
      "application/vnd.jupyter.widget-view+json": {
       "model_id": "48cc35a977544dce9c968247553422bb",
       "version_major": 2,
       "version_minor": 0
      },
      "text/plain": [
       "  0%|          | 0/1743 [00:00<?, ?it/s]"
      ]
     },
     "metadata": {},
     "output_type": "display_data"
    }
   ],
   "source": [
    "embs_ba = np.concatenate([embed([t], encoder_ba, ba_tokenizer) for t in tqdm(data_val.ba)])"
   ]
  },
  {
   "cell_type": "code",
   "execution_count": 39,
   "id": "7ccca51d",
   "metadata": {},
   "outputs": [
    {
     "data": {
      "application/vnd.jupyter.widget-view+json": {
       "model_id": "baf9a1fb86d342f68f65c5b2dba5da52",
       "version_major": 2,
       "version_minor": 0
      },
      "text/plain": [
       "  0%|          | 0/1743 [00:00<?, ?it/s]"
      ]
     },
     "metadata": {},
     "output_type": "display_data"
    }
   ],
   "source": [
    "embs_ru = np.concatenate([embed([t], encoder_ru, ru_tokenizer) for t in tqdm(data_val.ru)])"
   ]
  },
  {
   "cell_type": "code",
   "execution_count": 40,
   "id": "214f1eeb",
   "metadata": {},
   "outputs": [
    {
     "data": {
      "text/plain": [
       "(1743,)"
      ]
     },
     "execution_count": 40,
     "metadata": {},
     "output_type": "execute_result"
    }
   ],
   "source": [
    "scores = (embs_ba * embs_ru).sum(1)\n",
    "scores.shape"
   ]
  },
  {
   "cell_type": "code",
   "execution_count": 42,
   "id": "149067df",
   "metadata": {},
   "outputs": [
    {
     "data": {
      "image/png": "[encoded data removed]",
      "text/plain": [
       "<Figure size 432x288 with 1 Axes>"
      ]
     },
     "metadata": {
      "needs_background": "light"
     },
     "output_type": "display_data"
    }
   ],
   "source": [
    "pd.Series(scores, index=data_val.index).groupby(data_val.is_correct).plot(\n",
    "    kind='kde', bw_method=0.1,\n",
    ");"
   ]
  },
  {
   "cell_type": "code",
   "execution_count": 43,
   "id": "26d2566f",
   "metadata": {},
   "outputs": [
    {
     "name": "stdout",
     "output_type": "stream",
     "text": [
      "0.748492678725237\n"
     ]
    }
   ],
   "source": [
    "print(roc_auc_score(data_val.is_correct, scores))"
   ]
  },
  {
   "cell_type": "code",
   "execution_count": 44,
   "id": "fd956907",
   "metadata": {},
   "outputs": [
    {
     "name": "stdout",
     "output_type": "stream",
     "text": [
      "recall@ ideal reject rate: 0.48320413436692505 th: 0.627199889870806\n"
     ]
    }
   ],
   "source": [
    "threshold = np.quantile(scores, 1-data_val.is_correct.mean())\n",
    "print('recall@ ideal reject rate:', (scores < threshold)[data_val.is_correct.values==0].mean(), 'th:', threshold)"
   ]
  }
 ],
 "metadata": {
  "kernelspec": {
   "display_name": "Python 3 (ipykernel)",
   "language": "python",
   "name": "python3"
  },
  "language_info": {
   "codemirror_mode": {
    "name": "ipython",
    "version": 3
   },
   "file_extension": ".py",
   "mimetype": "text/x-python",
   "name": "python",
   "nbconvert_exporter": "python",
   "pygments_lexer": "ipython3",
   "version": "3.9.6"
  }
 },
 "nbformat": 4,
 "nbformat_minor": 5
}
