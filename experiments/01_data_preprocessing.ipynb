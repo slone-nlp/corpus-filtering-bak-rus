{
 "cells": [
  {
   "cell_type": "code",
   "execution_count": 33,
   "id": "e654f321",
   "metadata": {},
   "outputs": [],
   "source": [
    "import pandas as pd\n",
    "import csv\n",
    "import random"
   ]
  },
  {
   "cell_type": "code",
   "execution_count": 24,
   "id": "891feb84",
   "metadata": {
    "scrolled": true
   },
   "outputs": [
    {
     "name": "stdout",
     "output_type": "stream",
     "text": [
      "(39139, 3)\n"
     ]
    },
    {
     "name": "stderr",
     "output_type": "stream",
     "text": [
      "b'Skipping line 30302: expected 3 fields, saw 5\\n'\n"
     ]
    }
   ],
   "source": [
    "df_bad = pd.read_csv('../data/bad-25-02-2023-11-08-18.ba-ru.tsv', sep='\\t', quoting=csv.QUOTE_NONE, error_bad_lines=False)\n",
    "print(df_bad.shape)"
   ]
  },
  {
   "cell_type": "code",
   "execution_count": 26,
   "id": "d9ec7e3c",
   "metadata": {},
   "outputs": [
    {
     "data": {
      "text/html": [
       "<div>\n",
       "<style scoped>\n",
       "    .dataframe tbody tr th:only-of-type {\n",
       "        vertical-align: middle;\n",
       "    }\n",
       "\n",
       "    .dataframe tbody tr th {\n",
       "        vertical-align: top;\n",
       "    }\n",
       "\n",
       "    .dataframe thead th {\n",
       "        text-align: right;\n",
       "    }\n",
       "</style>\n",
       "<table border=\"1\" class=\"dataframe\">\n",
       "  <thead>\n",
       "    <tr style=\"text-align: right;\">\n",
       "      <th></th>\n",
       "      <th>Дата</th>\n",
       "      <th>Башҡортса</th>\n",
       "      <th>Русса</th>\n",
       "    </tr>\n",
       "  </thead>\n",
       "  <tbody>\n",
       "    <tr>\n",
       "      <th>10975</th>\n",
       "      <td>22/12/2021 19:29:10</td>\n",
       "      <td>Был һуғышта ла башҡорттар батша фарманы килеү ...</td>\n",
       "      <td>Всадники Сибирского и Ногайского юлов, а также...</td>\n",
       "    </tr>\n",
       "    <tr>\n",
       "      <th>21399</th>\n",
       "      <td>01/10/2022 13:25:54</td>\n",
       "      <td>Ауыл йәштәренең башлығы!..</td>\n",
       "      <td>Руководишь молодежью аула!..</td>\n",
       "    </tr>\n",
       "    <tr>\n",
       "      <th>9842</th>\n",
       "      <td>24/11/2021 12:54:22</td>\n",
       "      <td>— Урман батыр, һинән дә эш сыҡманы, батыр һүҙе...</td>\n",
       "      <td>— Урман-батыр, и ты зря носишь имя батыра.</td>\n",
       "    </tr>\n",
       "    <tr>\n",
       "      <th>27445</th>\n",
       "      <td>26/11/2022 19:29:22</td>\n",
       "      <td>— Ярай, ағай кеше, ғәйепләштән булмаһын, беҙ к...</td>\n",
       "      <td>Потом откашлялся и, ни слова не говоря, пошел ...</td>\n",
       "    </tr>\n",
       "    <tr>\n",
       "      <th>27785</th>\n",
       "      <td>29/11/2022 17:53:13</td>\n",
       "      <td>Хәтирәне ҡайыш сыбыртҡы менән ярырға тотондо, ...</td>\n",
       "      <td>Подоспевший Уелдан взбесился от ярости.</td>\n",
       "    </tr>\n",
       "    <tr>\n",
       "      <th>9196</th>\n",
       "      <td>20/11/2021 16:16:58</td>\n",
       "      <td>Кескәйҙәр, бәҙрәфкә барырға шөрләгәс, аҫтына е...</td>\n",
       "      <td>Следовало опять поиск начинать, опять на хвост...</td>\n",
       "    </tr>\n",
       "    <tr>\n",
       "      <th>26796</th>\n",
       "      <td>21/11/2022 10:17:25</td>\n",
       "      <td>— Сөнки Ихтиандр ауырый.</td>\n",
       "      <td>— Потому что Ихтиандр болен.</td>\n",
       "    </tr>\n",
       "    <tr>\n",
       "      <th>35891</th>\n",
       "      <td>05/02/2023 03:49:45</td>\n",
       "      <td>йырланы,</td>\n",
       "      <td>И не смей отпираться</td>\n",
       "    </tr>\n",
       "    <tr>\n",
       "      <th>27562</th>\n",
       "      <td>27/11/2022 20:21:13</td>\n",
       "      <td>— Бына бит!</td>\n",
       "      <td>А говорите.</td>\n",
       "    </tr>\n",
       "    <tr>\n",
       "      <th>33960</th>\n",
       "      <td>23/01/2023 22:17:16</td>\n",
       "      <td>Ә ирең ни эш бөтөрә әле?</td>\n",
       "      <td>Но что это он делает?</td>\n",
       "    </tr>\n",
       "  </tbody>\n",
       "</table>\n",
       "</div>"
      ],
      "text/plain": [
       "                      Дата                                          Башҡортса  \\\n",
       "10975  22/12/2021 19:29:10  Был һуғышта ла башҡорттар батша фарманы килеү ...   \n",
       "21399  01/10/2022 13:25:54                         Ауыл йәштәренең башлығы!..   \n",
       "9842   24/11/2021 12:54:22  — Урман батыр, һинән дә эш сыҡманы, батыр һүҙе...   \n",
       "27445  26/11/2022 19:29:22  — Ярай, ағай кеше, ғәйепләштән булмаһын, беҙ к...   \n",
       "27785  29/11/2022 17:53:13  Хәтирәне ҡайыш сыбыртҡы менән ярырға тотондо, ...   \n",
       "9196   20/11/2021 16:16:58  Кескәйҙәр, бәҙрәфкә барырға шөрләгәс, аҫтына е...   \n",
       "26796  21/11/2022 10:17:25                           — Сөнки Ихтиандр ауырый.   \n",
       "35891  05/02/2023 03:49:45                                           йырланы,   \n",
       "27562  27/11/2022 20:21:13                                        — Бына бит!   \n",
       "33960  23/01/2023 22:17:16                           Ә ирең ни эш бөтөрә әле?   \n",
       "\n",
       "                                                   Русса  \n",
       "10975  Всадники Сибирского и Ногайского юлов, а также...  \n",
       "21399                       Руководишь молодежью аула!..  \n",
       "9842          — Урман-батыр, и ты зря носишь имя батыра.  \n",
       "27445  Потом откашлялся и, ни слова не говоря, пошел ...  \n",
       "27785            Подоспевший Уелдан взбесился от ярости.  \n",
       "9196   Следовало опять поиск начинать, опять на хвост...  \n",
       "26796                       — Потому что Ихтиандр болен.  \n",
       "35891                               И не смей отпираться  \n",
       "27562                                        А говорите.  \n",
       "33960                              Но что это он делает?  "
      ]
     },
     "execution_count": 26,
     "metadata": {},
     "output_type": "execute_result"
    }
   ],
   "source": [
    "df_bad.sample(10)"
   ]
  },
  {
   "cell_type": "code",
   "execution_count": 27,
   "id": "d9acff16",
   "metadata": {
    "scrolled": true
   },
   "outputs": [
    {
     "name": "stderr",
     "output_type": "stream",
     "text": [
      "b'Skipping line 94580: expected 3 fields, saw 4\\nSkipping line 119068: expected 3 fields, saw 4\\n'\n"
     ]
    },
    {
     "name": "stdout",
     "output_type": "stream",
     "text": [
      "(137603, 3)\n"
     ]
    }
   ],
   "source": [
    "df_good = pd.read_csv('../data/25-02-2023-11-07-57.ba-ru.tsv', sep='\\t', quoting=csv.QUOTE_NONE, error_bad_lines=False)\n",
    "print(df_good.shape)"
   ]
  },
  {
   "cell_type": "code",
   "execution_count": 28,
   "id": "515cc534",
   "metadata": {},
   "outputs": [
    {
     "data": {
      "text/html": [
       "<div>\n",
       "<style scoped>\n",
       "    .dataframe tbody tr th:only-of-type {\n",
       "        vertical-align: middle;\n",
       "    }\n",
       "\n",
       "    .dataframe tbody tr th {\n",
       "        vertical-align: top;\n",
       "    }\n",
       "\n",
       "    .dataframe thead th {\n",
       "        text-align: right;\n",
       "    }\n",
       "</style>\n",
       "<table border=\"1\" class=\"dataframe\">\n",
       "  <thead>\n",
       "    <tr style=\"text-align: right;\">\n",
       "      <th></th>\n",
       "      <th>Дата</th>\n",
       "      <th>Башҡортса</th>\n",
       "      <th>Русса</th>\n",
       "    </tr>\n",
       "  </thead>\n",
       "  <tbody>\n",
       "    <tr>\n",
       "      <th>77986</th>\n",
       "      <td>06/09/2022 17:30:10</td>\n",
       "      <td>Ҡайҙан белгән икән?</td>\n",
       "      <td>Откуда он мог узнать об этом, если не от самой...</td>\n",
       "    </tr>\n",
       "    <tr>\n",
       "      <th>95080</th>\n",
       "      <td>25/10/2022 21:05:30</td>\n",
       "      <td>Оҙаҡламай тағы юлға сығасаҡ.</td>\n",
       "      <td>Скоро опять выйдет в путь.</td>\n",
       "    </tr>\n",
       "    <tr>\n",
       "      <th>42373</th>\n",
       "      <td>15/05/2022 12:01:08</td>\n",
       "      <td>Шул саҡта «кәләш» уға телен күрһәтте.</td>\n",
       "      <td>«Невеста» ему показала при этом язык.</td>\n",
       "    </tr>\n",
       "    <tr>\n",
       "      <th>50289</th>\n",
       "      <td>26/05/2022 09:09:08</td>\n",
       "      <td>Ҡасандыр монголға яраҡлашҡан кеүек, улар яңы х...</td>\n",
       "      <td>Вскоре они приспособились к новому хозяину, ка...</td>\n",
       "    </tr>\n",
       "    <tr>\n",
       "      <th>64556</th>\n",
       "      <td>02/08/2022 10:20:16</td>\n",
       "      <td>Стәрле юлынан.</td>\n",
       "      <td>По стерлитамакской дороге.</td>\n",
       "    </tr>\n",
       "    <tr>\n",
       "      <th>108728</th>\n",
       "      <td>04/12/2022 19:18:17</td>\n",
       "      <td>Ә малға күпме фураж ҡалды!</td>\n",
       "      <td>А сколько фуража для скота осталось!</td>\n",
       "    </tr>\n",
       "    <tr>\n",
       "      <th>99916</th>\n",
       "      <td>06/11/2022 18:49:11</td>\n",
       "      <td>Ниңә генә шул Куликов менән Кругловты тыңланым.</td>\n",
       "      <td>Зачем же я послушался этих Куликовых и Круглов...</td>\n",
       "    </tr>\n",
       "    <tr>\n",
       "      <th>29274</th>\n",
       "      <td>25/10/2021 18:05:47</td>\n",
       "      <td>Ҡарағалпаҡтарға киткән илселәр айҙан артыҡ йөр...</td>\n",
       "      <td>Посольство вернулось спустя месяц с лишним. Хо...</td>\n",
       "    </tr>\n",
       "    <tr>\n",
       "      <th>131504</th>\n",
       "      <td>11/02/2023 05:10:40</td>\n",
       "      <td>Ихтиандр өҫкә йөҙөп сыға.</td>\n",
       "      <td>Ихтиандр всплывает.</td>\n",
       "    </tr>\n",
       "    <tr>\n",
       "      <th>106230</th>\n",
       "      <td>27/11/2022 20:25:50</td>\n",
       "      <td>Ул мәрхүмә менән бер үҙе.</td>\n",
       "      <td>Он здесь один с убитой.</td>\n",
       "    </tr>\n",
       "  </tbody>\n",
       "</table>\n",
       "</div>"
      ],
      "text/plain": [
       "                       Дата  \\\n",
       "77986   06/09/2022 17:30:10   \n",
       "95080   25/10/2022 21:05:30   \n",
       "42373   15/05/2022 12:01:08   \n",
       "50289   26/05/2022 09:09:08   \n",
       "64556   02/08/2022 10:20:16   \n",
       "108728  04/12/2022 19:18:17   \n",
       "99916   06/11/2022 18:49:11   \n",
       "29274   25/10/2021 18:05:47   \n",
       "131504  11/02/2023 05:10:40   \n",
       "106230  27/11/2022 20:25:50   \n",
       "\n",
       "                                                Башҡортса  \\\n",
       "77986                                 Ҡайҙан белгән икән?   \n",
       "95080                        Оҙаҡламай тағы юлға сығасаҡ.   \n",
       "42373               Шул саҡта «кәләш» уға телен күрһәтте.   \n",
       "50289   Ҡасандыр монголға яраҡлашҡан кеүек, улар яңы х...   \n",
       "64556                                      Стәрле юлынан.   \n",
       "108728                         Ә малға күпме фураж ҡалды!   \n",
       "99916     Ниңә генә шул Куликов менән Кругловты тыңланым.   \n",
       "29274   Ҡарағалпаҡтарға киткән илселәр айҙан артыҡ йөр...   \n",
       "131504                          Ихтиандр өҫкә йөҙөп сыға.   \n",
       "106230                          Ул мәрхүмә менән бер үҙе.   \n",
       "\n",
       "                                                    Русса  \n",
       "77986   Откуда он мог узнать об этом, если не от самой...  \n",
       "95080                          Скоро опять выйдет в путь.  \n",
       "42373               «Невеста» ему показала при этом язык.  \n",
       "50289   Вскоре они приспособились к новому хозяину, ка...  \n",
       "64556                          По стерлитамакской дороге.  \n",
       "108728               А сколько фуража для скота осталось!  \n",
       "99916   Зачем же я послушался этих Куликовых и Круглов...  \n",
       "29274   Посольство вернулось спустя месяц с лишним. Хо...  \n",
       "131504                                Ихтиандр всплывает.  \n",
       "106230                            Он здесь один с убитой.  "
      ]
     },
     "execution_count": 28,
     "metadata": {},
     "output_type": "execute_result"
    }
   ],
   "source": [
    "df_good.sample(10)"
   ]
  },
  {
   "cell_type": "code",
   "execution_count": 29,
   "id": "b8614c22",
   "metadata": {},
   "outputs": [],
   "source": [
    "df_bad['is_correct'] = 0\n",
    "df_good['is_correct'] = 1"
   ]
  },
  {
   "cell_type": "code",
   "execution_count": 49,
   "id": "e32b9014",
   "metadata": {},
   "outputs": [],
   "source": [
    "joint = pd.concat([df_good, df_bad], ignore_index=True).dropna()\n",
    "joint.columns = ['date', 'ba', 'ru', 'is_correct']"
   ]
  },
  {
   "cell_type": "code",
   "execution_count": 50,
   "id": "fed87125",
   "metadata": {},
   "outputs": [
    {
     "data": {
      "text/plain": [
       "date          0\n",
       "ba            0\n",
       "ru            0\n",
       "is_correct    0\n",
       "dtype: int64"
      ]
     },
     "execution_count": 50,
     "metadata": {},
     "output_type": "execute_result"
    }
   ],
   "source": [
    "joint.isnull().sum()"
   ]
  },
  {
   "cell_type": "code",
   "execution_count": 51,
   "id": "42e259b7",
   "metadata": {
    "scrolled": true
   },
   "outputs": [
    {
     "data": {
      "text/html": [
       "<div>\n",
       "<style scoped>\n",
       "    .dataframe tbody tr th:only-of-type {\n",
       "        vertical-align: middle;\n",
       "    }\n",
       "\n",
       "    .dataframe tbody tr th {\n",
       "        vertical-align: top;\n",
       "    }\n",
       "\n",
       "    .dataframe thead th {\n",
       "        text-align: right;\n",
       "    }\n",
       "</style>\n",
       "<table border=\"1\" class=\"dataframe\">\n",
       "  <thead>\n",
       "    <tr style=\"text-align: right;\">\n",
       "      <th></th>\n",
       "      <th>date</th>\n",
       "      <th>ba</th>\n",
       "      <th>ru</th>\n",
       "      <th>is_correct</th>\n",
       "    </tr>\n",
       "  </thead>\n",
       "  <tbody>\n",
       "    <tr>\n",
       "      <th>123362</th>\n",
       "      <td>23/01/2023 17:09:43</td>\n",
       "      <td>Йә саҡырмағандарҙыр, йә саҡырылып та бармағандыр.</td>\n",
       "      <td>Может, не звали, а может, звали, да сам не пошел.</td>\n",
       "      <td>1</td>\n",
       "    </tr>\n",
       "    <tr>\n",
       "      <th>92691</th>\n",
       "      <td>20/10/2022 07:06:44</td>\n",
       "      <td>Меҫкен Мастино үлерлек хәлгә етеп һыуһаны!</td>\n",
       "      <td>Бедному Мастино так хотелось пить!</td>\n",
       "      <td>1</td>\n",
       "    </tr>\n",
       "    <tr>\n",
       "      <th>123770</th>\n",
       "      <td>24/01/2023 02:50:40</td>\n",
       "      <td>Зәңгәр будка артына Шәйнур ышыҡланды.</td>\n",
       "      <td>Скрылся за зеленой будкой Шайнур.</td>\n",
       "      <td>1</td>\n",
       "    </tr>\n",
       "    <tr>\n",
       "      <th>149546</th>\n",
       "      <td>10/03/2022 09:44:38</td>\n",
       "      <td>Ил яҡшылары тиһәләр ҙә, араларында төрлөһө бар.</td>\n",
       "      <td>Впрочем, всякие люди были собраны.</td>\n",
       "      <td>0</td>\n",
       "    </tr>\n",
       "    <tr>\n",
       "      <th>90247</th>\n",
       "      <td>16/10/2022 16:03:04</td>\n",
       "      <td>Кинәт тирә-яҡты яңғыратып ротмистр Кондратьев:</td>\n",
       "      <td>Неожиданно округу потряс громкий голос ротмист...</td>\n",
       "      <td>1</td>\n",
       "    </tr>\n",
       "    <tr>\n",
       "      <th>134969</th>\n",
       "      <td>19/02/2023 16:23:27</td>\n",
       "      <td>Төлкөсура ябай ғына итеп яуап бирҙе:</td>\n",
       "      <td>Тулькусура ответил бесхитростно-просто, как о ...</td>\n",
       "      <td>1</td>\n",
       "    </tr>\n",
       "    <tr>\n",
       "      <th>109442</th>\n",
       "      <td>08/12/2022 10:34:44</td>\n",
       "      <td>Ихтиандр юҡ ине.</td>\n",
       "      <td>Ихтиандра не было.</td>\n",
       "      <td>1</td>\n",
       "    </tr>\n",
       "    <tr>\n",
       "      <th>82225</th>\n",
       "      <td>18/09/2022 18:32:22</td>\n",
       "      <td>Йылҡыларҙы төнгөлөктә көтөү уның сираты ине.</td>\n",
       "      <td>Как раз пришел его черед ночной пастьбы.</td>\n",
       "      <td>1</td>\n",
       "    </tr>\n",
       "    <tr>\n",
       "      <th>56722</th>\n",
       "      <td>11/07/2022 18:14:55</td>\n",
       "      <td>Кискә табан өс танк менән немецтар йәнә уларға...</td>\n",
       "      <td>Под прикрытием трех танков к вечеру немцы снов...</td>\n",
       "      <td>1</td>\n",
       "    </tr>\n",
       "    <tr>\n",
       "      <th>66883</th>\n",
       "      <td>08/08/2022 03:46:27</td>\n",
       "      <td>Белобородов:</td>\n",
       "      <td>Белобородов:</td>\n",
       "      <td>1</td>\n",
       "    </tr>\n",
       "  </tbody>\n",
       "</table>\n",
       "</div>"
      ],
      "text/plain": [
       "                       date  \\\n",
       "123362  23/01/2023 17:09:43   \n",
       "92691   20/10/2022 07:06:44   \n",
       "123770  24/01/2023 02:50:40   \n",
       "149546  10/03/2022 09:44:38   \n",
       "90247   16/10/2022 16:03:04   \n",
       "134969  19/02/2023 16:23:27   \n",
       "109442  08/12/2022 10:34:44   \n",
       "82225   18/09/2022 18:32:22   \n",
       "56722   11/07/2022 18:14:55   \n",
       "66883   08/08/2022 03:46:27   \n",
       "\n",
       "                                                       ba  \\\n",
       "123362  Йә саҡырмағандарҙыр, йә саҡырылып та бармағандыр.   \n",
       "92691          Меҫкен Мастино үлерлек хәлгә етеп һыуһаны!   \n",
       "123770              Зәңгәр будка артына Шәйнур ышыҡланды.   \n",
       "149546    Ил яҡшылары тиһәләр ҙә, араларында төрлөһө бар.   \n",
       "90247      Кинәт тирә-яҡты яңғыратып ротмистр Кондратьев:   \n",
       "134969               Төлкөсура ябай ғына итеп яуап бирҙе:   \n",
       "109442                                   Ихтиандр юҡ ине.   \n",
       "82225        Йылҡыларҙы төнгөлөктә көтөү уның сираты ине.   \n",
       "56722   Кискә табан өс танк менән немецтар йәнә уларға...   \n",
       "66883                                        Белобородов:   \n",
       "\n",
       "                                                       ru  is_correct  \n",
       "123362  Может, не звали, а может, звали, да сам не пошел.           1  \n",
       "92691                  Бедному Мастино так хотелось пить!           1  \n",
       "123770                  Скрылся за зеленой будкой Шайнур.           1  \n",
       "149546                 Впрочем, всякие люди были собраны.           0  \n",
       "90247   Неожиданно округу потряс громкий голос ротмист...           1  \n",
       "134969  Тулькусура ответил бесхитростно-просто, как о ...           1  \n",
       "109442                                 Ихтиандра не было.           1  \n",
       "82225            Как раз пришел его черед ночной пастьбы.           1  \n",
       "56722   Под прикрытием трех танков к вечеру немцы снов...           1  \n",
       "66883                                        Белобородов:           1  "
      ]
     },
     "execution_count": 51,
     "metadata": {},
     "output_type": "execute_result"
    }
   ],
   "source": [
    "joint.sample(10)"
   ]
  },
  {
   "cell_type": "code",
   "execution_count": 52,
   "id": "65505659",
   "metadata": {},
   "outputs": [
    {
     "data": {
      "text/plain": [
       "1    137602\n",
       "0     39104\n",
       "Name: is_correct, dtype: int64"
      ]
     },
     "execution_count": 52,
     "metadata": {},
     "output_type": "execute_result"
    }
   ],
   "source": [
    "joint.is_correct.value_counts()"
   ]
  },
  {
   "cell_type": "code",
   "execution_count": 53,
   "id": "624b1f61",
   "metadata": {},
   "outputs": [
    {
     "data": {
      "text/plain": [
       "1767.06"
      ]
     },
     "execution_count": 53,
     "metadata": {},
     "output_type": "execute_result"
    }
   ],
   "source": [
    "joint.shape[0] * 0.01"
   ]
  },
  {
   "cell_type": "code",
   "execution_count": 54,
   "id": "82babdab",
   "metadata": {},
   "outputs": [
    {
     "data": {
      "text/plain": [
       "train    104317\n",
       "test      35648\n",
       "dev       34998\n",
       "val        1743\n",
       "Name: data_split, dtype: int64"
      ]
     },
     "execution_count": 54,
     "metadata": {},
     "output_type": "execute_result"
    }
   ],
   "source": [
    "random.seed(1)\n",
    "\n",
    "def get_split():\n",
    "    return random.choices(\n",
    "        ['train', 'val', 'dev', 'test'],\n",
    "        [0.59, 0.01, 0.2, 0.2],\n",
    "    )[0]\n",
    "\n",
    "\n",
    "joint['data_split'] = [get_split() for _ in range(joint.shape[0])]\n",
    "\n",
    "joint.data_split.value_counts()"
   ]
  },
  {
   "cell_type": "code",
   "execution_count": 57,
   "id": "f0989d1f",
   "metadata": {},
   "outputs": [
    {
     "data": {
      "text/html": [
       "<div>\n",
       "<style scoped>\n",
       "    .dataframe tbody tr th:only-of-type {\n",
       "        vertical-align: middle;\n",
       "    }\n",
       "\n",
       "    .dataframe tbody tr th {\n",
       "        vertical-align: top;\n",
       "    }\n",
       "\n",
       "    .dataframe thead th {\n",
       "        text-align: right;\n",
       "    }\n",
       "</style>\n",
       "<table border=\"1\" class=\"dataframe\">\n",
       "  <thead>\n",
       "    <tr style=\"text-align: right;\">\n",
       "      <th>is_correct</th>\n",
       "      <th>0</th>\n",
       "      <th>1</th>\n",
       "    </tr>\n",
       "    <tr>\n",
       "      <th>data_split</th>\n",
       "      <th></th>\n",
       "      <th></th>\n",
       "    </tr>\n",
       "  </thead>\n",
       "  <tbody>\n",
       "    <tr>\n",
       "      <th>dev</th>\n",
       "      <td>7810</td>\n",
       "      <td>27188</td>\n",
       "    </tr>\n",
       "    <tr>\n",
       "      <th>test</th>\n",
       "      <td>7858</td>\n",
       "      <td>27790</td>\n",
       "    </tr>\n",
       "    <tr>\n",
       "      <th>train</th>\n",
       "      <td>23049</td>\n",
       "      <td>81268</td>\n",
       "    </tr>\n",
       "    <tr>\n",
       "      <th>val</th>\n",
       "      <td>387</td>\n",
       "      <td>1356</td>\n",
       "    </tr>\n",
       "  </tbody>\n",
       "</table>\n",
       "</div>"
      ],
      "text/plain": [
       "is_correct      0      1\n",
       "data_split              \n",
       "dev          7810  27188\n",
       "test         7858  27790\n",
       "train       23049  81268\n",
       "val           387   1356"
      ]
     },
     "execution_count": 57,
     "metadata": {},
     "output_type": "execute_result"
    }
   ],
   "source": [
    "joint.groupby(['data_split', 'is_correct']).ru.count().unstack()"
   ]
  },
  {
   "cell_type": "code",
   "execution_count": 59,
   "id": "47a34d24",
   "metadata": {},
   "outputs": [],
   "source": [
    "joint.to_csv('../data/joint-ba-ru.tsv', sep='\\t', index=None)"
   ]
  },
  {
   "cell_type": "code",
   "execution_count": 61,
   "id": "1aa3e51b",
   "metadata": {},
   "outputs": [
    {
     "data": {
      "text/plain": [
       "0.778705873032042"
      ]
     },
     "execution_count": 61,
     "metadata": {},
     "output_type": "execute_result"
    }
   ],
   "source": [
    "p = joint.is_correct.mean()\n",
    "p"
   ]
  },
  {
   "cell_type": "code",
   "execution_count": 63,
   "id": "1c01734d",
   "metadata": {},
   "outputs": [],
   "source": [
    "import numpy as np"
   ]
  },
  {
   "cell_type": "code",
   "execution_count": 64,
   "id": "0e5c25da",
   "metadata": {},
   "outputs": [
    {
     "data": {
      "text/plain": [
       "-0.5285410214145415"
      ]
     },
     "execution_count": 64,
     "metadata": {},
     "output_type": "execute_result"
    }
   ],
   "source": [
    "p * np.log(p) + (1-p) * np.log(1-p)"
   ]
  },
  {
   "cell_type": "code",
   "execution_count": 66,
   "id": "8ed24385",
   "metadata": {},
   "outputs": [
    {
     "data": {
      "text/plain": [
       "-0.6931471805599453"
      ]
     },
     "execution_count": 66,
     "metadata": {},
     "output_type": "execute_result"
    }
   ],
   "source": [
    "p = 0.5\n",
    "p * np.log(p) + (1-p) * np.log(1-p)"
   ]
  },
  {
   "cell_type": "code",
   "execution_count": 65,
   "id": "76ed9dfd",
   "metadata": {},
   "outputs": [
    {
     "data": {
      "text/plain": [
       "(1743, 5)"
      ]
     },
     "execution_count": 65,
     "metadata": {},
     "output_type": "execute_result"
    }
   ],
   "source": [
    "data_val = joint[joint.data_split=='val']\n",
    "data_val.shape"
   ]
  },
  {
   "cell_type": "markdown",
   "id": "af505e9a",
   "metadata": {},
   "source": [
    "# A larger corpus"
   ]
  },
  {
   "cell_type": "code",
   "execution_count": 68,
   "id": "7a6b6ea9",
   "metadata": {},
   "outputs": [],
   "source": [
    "import datasets"
   ]
  },
  {
   "cell_type": "code",
   "execution_count": 69,
   "id": "53d20a84",
   "metadata": {},
   "outputs": [
    {
     "data": {
      "application/vnd.jupyter.widget-view+json": {
       "model_id": "27a9df585c8845a4ae08b9e10f4a7c5c",
       "version_major": 2,
       "version_minor": 0
      },
      "text/plain": [
       "Downloading readme:   0%|          | 0.00/775 [00:00<?, ?B/s]"
      ]
     },
     "metadata": {},
     "output_type": "display_data"
    },
    {
     "name": "stderr",
     "output_type": "stream",
     "text": [
      "Using custom data configuration AigizK--bashkir-russian-parallel-corpora-4908f7b0980c2b94\n"
     ]
    },
    {
     "name": "stdout",
     "output_type": "stream",
     "text": [
      "Downloading and preparing dataset None/None to C:/Users/david/.cache/huggingface/datasets/AigizK___parquet/AigizK--bashkir-russian-parallel-corpora-4908f7b0980c2b94/0.0.0/2a3b91fbd88a2c90d1dbbb32b460cf621d31bd5b05b934492fdef7d8d6f236ec...\n"
     ]
    },
    {
     "data": {
      "application/vnd.jupyter.widget-view+json": {
       "model_id": "f5ac9d8742024710bf39eecb23d28c78",
       "version_major": 2,
       "version_minor": 0
      },
      "text/plain": [
       "Downloading data files:   0%|          | 0/1 [00:00<?, ?it/s]"
      ]
     },
     "metadata": {},
     "output_type": "display_data"
    },
    {
     "data": {
      "application/vnd.jupyter.widget-view+json": {
       "model_id": "9eb33818c497473a9c797836e40ac921",
       "version_major": 2,
       "version_minor": 0
      },
      "text/plain": [
       "Downloading data:   0%|          | 0.00/130M [00:00<?, ?B/s]"
      ]
     },
     "metadata": {},
     "output_type": "display_data"
    },
    {
     "data": {
      "application/vnd.jupyter.widget-view+json": {
       "model_id": "9c21957f0ca745bc92bec251bdb5d59d",
       "version_major": 2,
       "version_minor": 0
      },
      "text/plain": [
       "Extracting data files:   0%|          | 0/1 [00:00<?, ?it/s]"
      ]
     },
     "metadata": {},
     "output_type": "display_data"
    },
    {
     "data": {
      "application/vnd.jupyter.widget-view+json": {
       "model_id": "",
       "version_major": 2,
       "version_minor": 0
      },
      "text/plain": [
       "Generating train split:   0%|          | 0/702100 [00:00<?, ? examples/s]"
      ]
     },
     "metadata": {},
     "output_type": "display_data"
    },
    {
     "name": "stdout",
     "output_type": "stream",
     "text": [
      "Dataset parquet downloaded and prepared to C:/Users/david/.cache/huggingface/datasets/AigizK___parquet/AigizK--bashkir-russian-parallel-corpora-4908f7b0980c2b94/0.0.0/2a3b91fbd88a2c90d1dbbb32b460cf621d31bd5b05b934492fdef7d8d6f236ec. Subsequent calls will reuse this data.\n"
     ]
    },
    {
     "data": {
      "application/vnd.jupyter.widget-view+json": {
       "model_id": "a19b9c31dc0949b3aeee9124913f085c",
       "version_major": 2,
       "version_minor": 0
      },
      "text/plain": [
       "  0%|          | 0/1 [00:00<?, ?it/s]"
      ]
     },
     "metadata": {},
     "output_type": "display_data"
    }
   ],
   "source": [
    "larger = datasets.load_dataset('AigizK/bashkir-russian-parallel-corpora')"
   ]
  },
  {
   "cell_type": "code",
   "execution_count": 70,
   "id": "05428b6c",
   "metadata": {},
   "outputs": [
    {
     "data": {
      "text/plain": [
       "DatasetDict({\n",
       "    train: Dataset({\n",
       "        features: ['ba', 'ru', 'corpus'],\n",
       "        num_rows: 702100\n",
       "    })\n",
       "})"
      ]
     },
     "execution_count": 70,
     "metadata": {},
     "output_type": "execute_result"
    }
   ],
   "source": [
    "larger"
   ]
  },
  {
   "cell_type": "code",
   "execution_count": 74,
   "id": "de618f2d",
   "metadata": {},
   "outputs": [],
   "source": [
    "from collections import Counter"
   ]
  },
  {
   "cell_type": "code",
   "execution_count": 75,
   "id": "087e206a",
   "metadata": {},
   "outputs": [
    {
     "data": {
      "text/plain": [
       "[('https://www.bashinform.ru/', 351120),\n",
       " ('bashkir encyclopedia', 132605),\n",
       " ('https://t.me/bashkort_translate_bot', 121226),\n",
       " ('tmx corpus', 56082),\n",
       " ('bashinform', 38506),\n",
       " ('little prince', 1564),\n",
       " ('1000 sentences', 997)]"
      ]
     },
     "execution_count": 75,
     "metadata": {},
     "output_type": "execute_result"
    }
   ],
   "source": [
    "Counter(larger['train']['corpus']).most_common()"
   ]
  },
  {
   "cell_type": "code",
   "execution_count": 107,
   "id": "dde0fde0",
   "metadata": {},
   "outputs": [
    {
     "data": {
      "text/plain": [
       "{'ba': '14 июль кисендә Өфөнөң мәғлүмәт-диспетчер үҙәгенә Романовка ҡасабаһында урынлашҡан карьерҙа бер кеше һыуға батҡан тигән хәбәр килгән.',\n",
       " 'ru': 'В информационно-диспетчерский центр Уфы вечером 14 июля поступила информация о том, что в карьере, расположенном в поселке Романовка, утонул человек.',\n",
       " 'corpus': 'bashinform'}"
      ]
     },
     "execution_count": 107,
     "metadata": {},
     "output_type": "execute_result"
    }
   ],
   "source": [
    "random.choice(larger['train'])"
   ]
  },
  {
   "cell_type": "code",
   "execution_count": 113,
   "id": "7eb774e1",
   "metadata": {},
   "outputs": [
    {
     "data": {
      "text/plain": [
       "{'ba': 'Римға үтеп кереп, «Россо руссо»ны эҙләп табырғамы?',\n",
       " 'ru': 'Попытаться кружными путями проскочить в Рим и разыскать Россо Руссо?',\n",
       " 'corpus': 'https://t.me/bashkort_translate_bot'}"
      ]
     },
     "execution_count": 113,
     "metadata": {},
     "output_type": "execute_result"
    }
   ],
   "source": [
    "random.choice(larger['train'])"
   ]
  }
 ],
 "metadata": {
  "kernelspec": {
   "display_name": "Python 3 (ipykernel)",
   "language": "python",
   "name": "python3"
  },
  "language_info": {
   "codemirror_mode": {
    "name": "ipython",
    "version": 3
   },
   "file_extension": ".py",
   "mimetype": "text/x-python",
   "name": "python",
   "nbconvert_exporter": "python",
   "pygments_lexer": "ipython3",
   "version": "3.9.6"
  }
 },
 "nbformat": 4,
 "nbformat_minor": 5
}
