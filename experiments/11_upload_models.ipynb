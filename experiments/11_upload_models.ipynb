{
 "cells": [
  {
   "cell_type": "markdown",
   "id": "5a745607",
   "metadata": {},
   "source": [
    "# LaBSE"
   ]
  },
  {
   "cell_type": "code",
   "execution_count": 1,
   "id": "83f248c2",
   "metadata": {},
   "outputs": [],
   "source": [
    "from transformers import BertForPreTraining, BertTokenizer, BertTokenizerFast, BertConfig, AutoModel, AutoTokenizer"
   ]
  },
  {
   "cell_type": "code",
   "execution_count": 2,
   "id": "0345cb84",
   "metadata": {},
   "outputs": [],
   "source": [
    "labse_ba_path = '../models/LaBSE-distilled-bak'"
   ]
  },
  {
   "cell_type": "code",
   "execution_count": 4,
   "id": "0b5be347",
   "metadata": {},
   "outputs": [],
   "source": [
    "labse_ba_tokenizer = AutoTokenizer.from_pretrained(labse_ba_path)\n",
    "labse_ba_model = BertForPreTraining.from_pretrained(labse_ba_path)"
   ]
  },
  {
   "cell_type": "code",
   "execution_count": 7,
   "id": "b086528b",
   "metadata": {},
   "outputs": [],
   "source": [
    "push_name = 'slone/LaBSE-shallow-distilled-bak'"
   ]
  },
  {
   "cell_type": "code",
   "execution_count": 8,
   "id": "16bc0469",
   "metadata": {},
   "outputs": [
    {
     "data": {
      "text/plain": [
       "CommitInfo(commit_url='https://huggingface.co/slone/LaBSE-shallow-distilled-bak/commit/4b7f595e35039bd602ceb91642ddd103c7ba7066', commit_message='Upload BertForPreTraining', commit_description='', oid='4b7f595e35039bd602ceb91642ddd103c7ba7066', pr_url=None, pr_revision=None, pr_num=None)"
      ]
     },
     "execution_count": 8,
     "metadata": {},
     "output_type": "execute_result"
    }
   ],
   "source": [
    "labse_ba_model.push_to_hub(push_name)"
   ]
  },
  {
   "cell_type": "code",
   "execution_count": 9,
   "id": "67dcc949",
   "metadata": {},
   "outputs": [
    {
     "data": {
      "text/plain": [
       "CommitInfo(commit_url='https://huggingface.co/slone/LaBSE-shallow-distilled-bak/commit/eb467572b9c33613cdc9e8c6a6d559eace23749b', commit_message='Upload tokenizer', commit_description='', oid='eb467572b9c33613cdc9e8c6a6d559eace23749b', pr_url=None, pr_revision=None, pr_num=None)"
      ]
     },
     "execution_count": 9,
     "metadata": {},
     "output_type": "execute_result"
    }
   ],
   "source": [
    "labse_ba_tokenizer.push_to_hub(push_name)"
   ]
  },
  {
   "cell_type": "markdown",
   "id": "dc7f0318",
   "metadata": {},
   "source": [
    "# Classifier"
   ]
  },
  {
   "cell_type": "code",
   "execution_count": 3,
   "id": "12ce7c63",
   "metadata": {},
   "outputs": [],
   "source": [
    "from transformers import AutoModelForSequenceClassification, AutoTokenizer"
   ]
  },
  {
   "cell_type": "code",
   "execution_count": 4,
   "id": "e998d8c9",
   "metadata": {},
   "outputs": [],
   "source": [
    "clf_path = '../models/bak-ru-combined'"
   ]
  },
  {
   "cell_type": "code",
   "execution_count": 5,
   "id": "765b61b4",
   "metadata": {},
   "outputs": [],
   "source": [
    "model = AutoModelForSequenceClassification.from_pretrained(clf_path)"
   ]
  },
  {
   "cell_type": "code",
   "execution_count": 6,
   "id": "94cf6cb6",
   "metadata": {},
   "outputs": [],
   "source": [
    "\n",
    "tokenizer = AutoTokenizer.from_pretrained(clf_path)"
   ]
  },
  {
   "cell_type": "code",
   "execution_count": 7,
   "id": "a47f5743",
   "metadata": {},
   "outputs": [],
   "source": [
    "push_name = 'slone/bert-base-multilingual-cased-bak-rus-similarity'"
   ]
  },
  {
   "cell_type": "code",
   "execution_count": 8,
   "id": "e5ed46d8",
   "metadata": {},
   "outputs": [
    {
     "data": {
      "text/plain": [
       "CommitInfo(commit_url='https://huggingface.co/slone/bert-base-multilingual-cased-bak-rus-similarity/commit/9ab919dcb7ddb3fa1d142426ace7ff23374db675', commit_message='Upload BertForSequenceClassification', commit_description='', oid='9ab919dcb7ddb3fa1d142426ace7ff23374db675', pr_url=None, pr_revision=None, pr_num=None)"
      ]
     },
     "execution_count": 8,
     "metadata": {},
     "output_type": "execute_result"
    }
   ],
   "source": [
    "model.push_to_hub(push_name)"
   ]
  },
  {
   "cell_type": "code",
   "execution_count": 9,
   "id": "10cb796c",
   "metadata": {},
   "outputs": [
    {
     "data": {
      "text/plain": [
       "CommitInfo(commit_url='https://huggingface.co/slone/bert-base-multilingual-cased-bak-rus-similarity/commit/46bd8a23a62e7d034e8fb4cf683d6e9868cd56eb', commit_message='Upload tokenizer', commit_description='', oid='46bd8a23a62e7d034e8fb4cf683d6e9868cd56eb', pr_url=None, pr_revision=None, pr_num=None)"
      ]
     },
     "execution_count": 9,
     "metadata": {},
     "output_type": "execute_result"
    }
   ],
   "source": [
    "tokenizer.push_to_hub(push_name)"
   ]
  },
  {
   "cell_type": "markdown",
   "id": "fe39205a",
   "metadata": {},
   "source": [
    "# Test it"
   ]
  },
  {
   "cell_type": "code",
   "execution_count": 1,
   "id": "b3c79abf",
   "metadata": {
    "scrolled": true
   },
   "outputs": [
    {
     "data": {
      "application/vnd.jupyter.widget-view+json": {
       "model_id": "f346862131ef46b0bd16b92f78f7f49f",
       "version_major": 2,
       "version_minor": 0
      },
      "text/plain": [
       "Downloading:   0%|          | 0.00/643 [00:00<?, ?B/s]"
      ]
     },
     "metadata": {},
     "output_type": "display_data"
    },
    {
     "name": "stderr",
     "output_type": "stream",
     "text": [
      "c:\\users\\david\\appdata\\local\\programs\\python\\python39\\lib\\site-packages\\huggingface_hub\\file_download.py:127: UserWarning: `huggingface_hub` cache-system uses symlinks by default to efficiently store duplicated files but your machine does not support them in C:\\Users\\david\\.cache\\huggingface\\hub. Caching files will still work but in a degraded version that might require more space on your disk. This warning can be disabled by setting the `HF_HUB_DISABLE_SYMLINKS_WARNING` environment variable. For more details, see https://huggingface.co/docs/huggingface_hub/how-to-cache#limitations.\n",
      "To support symlinks on Windows, you either need to activate Developer Mode or to run Python as an administrator. In order to see activate developer mode, see this article: https://docs.microsoft.com/en-us/windows/apps/get-started/enable-your-device-for-development\n",
      "  warnings.warn(message)\n"
     ]
    },
    {
     "data": {
      "application/vnd.jupyter.widget-view+json": {
       "model_id": "892e347f7ee3404e9a4306f2398ed374",
       "version_major": 2,
       "version_minor": 0
      },
      "text/plain": [
       "Downloading:   0%|          | 0.00/169M [00:00<?, ?B/s]"
      ]
     },
     "metadata": {},
     "output_type": "display_data"
    },
    {
     "name": "stderr",
     "output_type": "stream",
     "text": [
      "Some weights of the model checkpoint at slone/LaBSE-shallow-distilled-bak were not used when initializing BertModel: ['cls.predictions.transform.LayerNorm.weight', 'cls.predictions.decoder.weight', 'cls.predictions.bias', 'cls.seq_relationship.bias', 'cls.predictions.transform.dense.bias', 'cls.predictions.decoder.bias', 'cls.predictions.transform.dense.weight', 'cls.predictions.transform.LayerNorm.bias', 'cls.seq_relationship.weight']\n",
      "- This IS expected if you are initializing BertModel from the checkpoint of a model trained on another task or with another architecture (e.g. initializing a BertForSequenceClassification model from a BertForPreTraining model).\n",
      "- This IS NOT expected if you are initializing BertModel from the checkpoint of a model that you expect to be exactly identical (initializing a BertForSequenceClassification model from a BertForSequenceClassification model).\n"
     ]
    },
    {
     "data": {
      "application/vnd.jupyter.widget-view+json": {
       "model_id": "dd743ef978fd4a4ba568773808d1de8a",
       "version_major": 2,
       "version_minor": 0
      },
      "text/plain": [
       "Downloading:   0%|          | 0.00/362 [00:00<?, ?B/s]"
      ]
     },
     "metadata": {},
     "output_type": "display_data"
    },
    {
     "data": {
      "application/vnd.jupyter.widget-view+json": {
       "model_id": "1c74a8f4f71f4b8797932cd13da02635",
       "version_major": 2,
       "version_minor": 0
      },
      "text/plain": [
       "Downloading:   0%|          | 0.00/444k [00:00<?, ?B/s]"
      ]
     },
     "metadata": {},
     "output_type": "display_data"
    },
    {
     "data": {
      "application/vnd.jupyter.widget-view+json": {
       "model_id": "534cbb8df6784bdf88d3cd0c01dba18a",
       "version_major": 2,
       "version_minor": 0
      },
      "text/plain": [
       "Downloading:   0%|          | 0.00/960k [00:00<?, ?B/s]"
      ]
     },
     "metadata": {},
     "output_type": "display_data"
    },
    {
     "data": {
      "application/vnd.jupyter.widget-view+json": {
       "model_id": "98abebf488634a018236d8ba02fe1948",
       "version_major": 2,
       "version_minor": 0
      },
      "text/plain": [
       "Downloading:   0%|          | 0.00/125 [00:00<?, ?B/s]"
      ]
     },
     "metadata": {},
     "output_type": "display_data"
    }
   ],
   "source": [
    "import torch\n",
    "from transformers import AutoModel, AutoTokenizer\n",
    "model = AutoModel.from_pretrained('slone/LaBSE-shallow-distilled-bak')\n",
    "tokenizer = AutoTokenizer.from_pretrained('slone/LaBSE-shallow-distilled-bak')\n",
    "\n",
    "def embed(texts, max_length=512):\n",
    "    b = tokenizer(texts, return_tensors='pt', padding=True, truncation=True, max_length=max_length)\n",
    "    with torch.inference_mode():\n",
    "        return torch.nn.functional.normalize(model(**b.to(model.device)).pooler_output).cpu().numpy()"
   ]
  },
  {
   "cell_type": "code",
   "execution_count": 4,
   "id": "125b558a",
   "metadata": {},
   "outputs": [],
   "source": [
    "embeddings = embed(['Сәләм, ғаләм!', 'Хәйерле көн, тыныслыҡ.', 'Бөгөн йома.'])"
   ]
  },
  {
   "cell_type": "code",
   "execution_count": 8,
   "id": "eec96b31",
   "metadata": {},
   "outputs": [
    {
     "name": "stdout",
     "output_type": "stream",
     "text": [
      "(3, 768)\n",
      "[[1.   0.56 0.18]\n",
      " [0.56 1.   0.32]\n",
      " [0.18 0.32 1.  ]]\n"
     ]
    }
   ],
   "source": [
    "print(embeddings.shape)\n",
    "print(embeddings.dot(embeddings.T).round(2))"
   ]
  },
  {
   "cell_type": "code",
   "execution_count": 10,
   "id": "46e06822",
   "metadata": {
    "scrolled": false
   },
   "outputs": [
    {
     "data": {
      "application/vnd.jupyter.widget-view+json": {
       "model_id": "405ce0c4bdad4b368e1b23172a53d629",
       "version_major": 2,
       "version_minor": 0
      },
      "text/plain": [
       "Downloading:   0%|          | 0.00/843 [00:00<?, ?B/s]"
      ]
     },
     "metadata": {},
     "output_type": "display_data"
    },
    {
     "name": "stderr",
     "output_type": "stream",
     "text": [
      "c:\\users\\david\\appdata\\local\\programs\\python\\python39\\lib\\site-packages\\huggingface_hub\\file_download.py:127: UserWarning: `huggingface_hub` cache-system uses symlinks by default to efficiently store duplicated files but your machine does not support them in C:\\Users\\david\\.cache\\huggingface\\hub. Caching files will still work but in a degraded version that might require more space on your disk. This warning can be disabled by setting the `HF_HUB_DISABLE_SYMLINKS_WARNING` environment variable. For more details, see https://huggingface.co/docs/huggingface_hub/how-to-cache#limitations.\n",
      "To support symlinks on Windows, you either need to activate Developer Mode or to run Python as an administrator. In order to see activate developer mode, see this article: https://docs.microsoft.com/en-us/windows/apps/get-started/enable-your-device-for-development\n",
      "  warnings.warn(message)\n"
     ]
    },
    {
     "data": {
      "application/vnd.jupyter.widget-view+json": {
       "model_id": "7864da2bc4d646988c94be8f8d13870b",
       "version_major": 2,
       "version_minor": 0
      },
      "text/plain": [
       "Downloading:   0%|          | 0.00/711M [00:00<?, ?B/s]"
      ]
     },
     "metadata": {},
     "output_type": "display_data"
    },
    {
     "data": {
      "application/vnd.jupyter.widget-view+json": {
       "model_id": "d35215f3194f43e3adde196d4208607f",
       "version_major": 2,
       "version_minor": 0
      },
      "text/plain": [
       "Downloading:   0%|          | 0.00/357 [00:00<?, ?B/s]"
      ]
     },
     "metadata": {},
     "output_type": "display_data"
    },
    {
     "data": {
      "application/vnd.jupyter.widget-view+json": {
       "model_id": "0edfe1a38b6e4443bcdda3115538c373",
       "version_major": 2,
       "version_minor": 0
      },
      "text/plain": [
       "Downloading:   0%|          | 0.00/996k [00:00<?, ?B/s]"
      ]
     },
     "metadata": {},
     "output_type": "display_data"
    },
    {
     "data": {
      "application/vnd.jupyter.widget-view+json": {
       "model_id": "9186083ab9b14e2e92125e3f0399ecb3",
       "version_major": 2,
       "version_minor": 0
      },
      "text/plain": [
       "Downloading:   0%|          | 0.00/2.92M [00:00<?, ?B/s]"
      ]
     },
     "metadata": {},
     "output_type": "display_data"
    },
    {
     "data": {
      "application/vnd.jupyter.widget-view+json": {
       "model_id": "0922648da6664735bcf4636bcb0b6bca",
       "version_major": 2,
       "version_minor": 0
      },
      "text/plain": [
       "Downloading:   0%|          | 0.00/125 [00:00<?, ?B/s]"
      ]
     },
     "metadata": {},
     "output_type": "display_data"
    }
   ],
   "source": [
    "from transformers import AutoModelForSequenceClassification, AutoTokenizer\n",
    "path = 'slone/bert-base-multilingual-cased-bak-rus-similarity'\n",
    "model = AutoModelForSequenceClassification.from_pretrained(path)\n",
    "tokenizer = AutoTokenizer.from_pretrained(path)"
   ]
  },
  {
   "cell_type": "markdown",
   "id": "9aa5d7eb",
   "metadata": {},
   "source": [
    "# Test another"
   ]
  },
  {
   "cell_type": "code",
   "execution_count": 1,
   "id": "88a74b7b",
   "metadata": {},
   "outputs": [],
   "source": [
    "from transformers import AutoTokenizer, AutoModelForSequenceClassification\n",
    "import torch\n",
    "\n",
    "clf_name = 'slone/bert-base-multilingual-cased-bak-rus-similarity'\n",
    "clf = AutoModelForSequenceClassification.from_pretrained(clf_name)\n",
    "clf_tokenizer = AutoTokenizer.from_pretrained(clf_name)\n",
    "\n",
    "def classify(texts_ba, texts_ru):\n",
    "    with torch.inference_mode():\n",
    "        batch = clf_tokenizer(texts_ba, texts_ru, padding=True, truncation=True, max_length=512, return_tensors='pt').to(clf.device)\n",
    "        return torch.softmax(clf(**batch).logits.view(-1, 2), -1)[:, 1].cpu().numpy()"
   ]
  },
  {
   "cell_type": "code",
   "execution_count": 7,
   "id": "c90de2dc",
   "metadata": {},
   "outputs": [
    {
     "name": "stdout",
     "output_type": "stream",
     "text": [
      "[0.96345973 0.02213471]\n"
     ]
    }
   ],
   "source": [
    "print(classify(['Сәләм, ғаләм!', 'Хәйерле көн, тыныслыҡ.'], ['Привет, мир!', 'Мама мыла раму.']))"
   ]
  },
  {
   "cell_type": "code",
   "execution_count": 6,
   "id": "e7c4f6c6",
   "metadata": {},
   "outputs": [
    {
     "name": "stdout",
     "output_type": "stream",
     "text": [
      "[0.96345973 0.9459178  0.00889423]\n"
     ]
    }
   ],
   "source": [
    "print(classify(\n",
    "    ['Сәләм, ғаләм!', 'Сәләм, ғаләм!', 'Сәләм, ғаләм!',], \n",
    "    ['Привет, мир!', 'Прощай, вселенная!', 'Мама мыла раму.']\n",
    "))"
   ]
  },
  {
   "cell_type": "code",
   "execution_count": null,
   "id": "25e9debb",
   "metadata": {},
   "outputs": [],
   "source": []
  }
 ],
 "metadata": {
  "kernelspec": {
   "display_name": "Python 3 (ipykernel)",
   "language": "python",
   "name": "python3"
  },
  "language_info": {
   "codemirror_mode": {
    "name": "ipython",
    "version": 3
   },
   "file_extension": ".py",
   "mimetype": "text/x-python",
   "name": "python",
   "nbconvert_exporter": "python",
   "pygments_lexer": "ipython3",
   "version": "3.9.6"
  }
 },
 "nbformat": 4,
 "nbformat_minor": 5
}
